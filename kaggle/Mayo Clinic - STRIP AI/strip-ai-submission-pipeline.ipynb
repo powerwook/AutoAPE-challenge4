{
 "cells": [
  {
   "cell_type": "code",
   "execution_count": 1,
   "id": "46b21016",
   "metadata": {
    "execution": {
     "iopub.execute_input": "2022-09-10T11:14:50.255310Z",
     "iopub.status.busy": "2022-09-10T11:14:50.254141Z",
     "iopub.status.idle": "2022-09-10T11:14:50.266423Z",
     "shell.execute_reply": "2022-09-10T11:14:50.265466Z"
    },
    "papermill": {
     "duration": 0.03367,
     "end_time": "2022-09-10T11:14:50.271935",
     "exception": false,
     "start_time": "2022-09-10T11:14:50.238265",
     "status": "completed"
    },
    "tags": []
   },
   "outputs": [],
   "source": [
    "import sys\n",
    "sys.path.append('../input/strip-ai-seam-carving/seam-carving')"
   ]
  },
  {
   "cell_type": "code",
   "execution_count": 2,
   "id": "43976112",
   "metadata": {
    "_cell_guid": "b1076dfc-b9ad-4769-8c92-a6c4dae69d19",
    "_uuid": "8f2839f25d086af736a60e9eeb907d3b93b6e0e5",
    "execution": {
     "iopub.execute_input": "2022-09-10T11:14:50.292213Z",
     "iopub.status.busy": "2022-09-10T11:14:50.291927Z",
     "iopub.status.idle": "2022-09-10T11:14:54.752866Z",
     "shell.execute_reply": "2022-09-10T11:14:54.751861Z"
    },
    "papermill": {
     "duration": 4.472432,
     "end_time": "2022-09-10T11:14:54.755961",
     "exception": false,
     "start_time": "2022-09-10T11:14:50.283529",
     "status": "completed"
    },
    "tags": []
   },
   "outputs": [],
   "source": [
    "import os, random, gc\n",
    "import seaborn as sns\n",
    "import numpy as np \n",
    "import pandas as pd \n",
    "import torch\n",
    "import torch.nn as nn # neural network module\n",
    "import torch.nn.functional as F # neural network module에서 자주 사용되는 함수\n",
    "import torchvision\n",
    "import cv2, math, shutil # OpenCV => cv2\n",
    "import albumentations as Albu\n",
    "import rasterio\n",
    "import seam_carving\n",
    "import skimage\n",
    "from skimage.io.manage_plugins import call_plugin\n",
    "from skimage.color import rgb2hed, hed2rgb\n",
    "from skimage.exposure import rescale_intensity\n",
    "\n",
    "import matplotlib.pyplot as plt\n",
    "from rasterio.enums import Resampling\n",
    "from rasterio.transform import Affine\n",
    "from torchvision import models\n",
    "from torchvision import transforms\n",
    "from albumentations.pytorch import ToTensorV2  \n",
    "from sklearn.model_selection import train_test_split\n",
    "from torch.utils.data import Dataset, DataLoader\n",
    "from sklearn.metrics import roc_auc_score\n",
    "from tqdm.notebook import tqdm\n",
    "%matplotlib inline"
   ]
  },
  {
   "cell_type": "code",
   "execution_count": 3,
   "id": "ba4d28e4",
   "metadata": {
    "execution": {
     "iopub.execute_input": "2022-09-10T11:14:54.769796Z",
     "iopub.status.busy": "2022-09-10T11:14:54.769023Z",
     "iopub.status.idle": "2022-09-10T11:14:54.789259Z",
     "shell.execute_reply": "2022-09-10T11:14:54.788337Z"
    },
    "papermill": {
     "duration": 0.029326,
     "end_time": "2022-09-10T11:14:54.791613",
     "exception": false,
     "start_time": "2022-09-10T11:14:54.762287",
     "status": "completed"
    },
    "tags": []
   },
   "outputs": [],
   "source": [
    "# Step 1.1 Test, Submission Path Setting\n",
    "data_path = '../input/mayo-clinic-strip-ai/'\n",
    "test = pd.read_csv(data_path + 'test.csv')\n",
    "submission = pd.read_csv(data_path + 'sample_submission.csv')\n",
    "submission_efficient = pd.read_csv(data_path + 'sample_submission.csv')\n",
    "submission_vit = pd.read_csv(data_path + 'sample_submission.csv')"
   ]
  },
  {
   "cell_type": "code",
   "execution_count": 4,
   "id": "95c7ff09",
   "metadata": {
    "execution": {
     "iopub.execute_input": "2022-09-10T11:14:54.806193Z",
     "iopub.status.busy": "2022-09-10T11:14:54.805444Z",
     "iopub.status.idle": "2022-09-10T11:14:54.815090Z",
     "shell.execute_reply": "2022-09-10T11:14:54.814207Z"
    },
    "papermill": {
     "duration": 0.020013,
     "end_time": "2022-09-10T11:14:54.817350",
     "exception": false,
     "start_time": "2022-09-10T11:14:54.797337",
     "status": "completed"
    },
    "tags": []
   },
   "outputs": [],
   "source": [
    "# Step 1.1.1 Seed Fasten\n",
    "seed = 50\n",
    "os.environ['PYTHONHASHSEED'] = str(seed) # python 난수 고정 => 환경변수 접근, 고정 시드 넘버 할당\n",
    "random.seed(seed) # random module 난수 고정\n",
    "np.random.seed(seed) # numpy module 난수 고정\n",
    "torch.manual_seed(seed)\n",
    "\n",
    "torch.manual_seed(seed) # 파이토치 CPU 난수 생성기 => 시드 고정 \n",
    "torch.cuda.manual_seed(seed) # 파이토치 GPU 난수 생성기 => 시드 고정\n",
    "torch.cuda.manual_seed_all(seed) # 파이토치 멀티 코어_GPU 난수 생성기 => 시드 고정\n",
    "\n",
    "torch.backends.cudnn.deterministic = True # 확정적 연산 사용\n",
    "torch.backends.cudnn.benchmark = False # benchmark function 해제\n",
    "torch.backends.cudnn.enabled = False # cudnn 사용 해제"
   ]
  },
  {
   "cell_type": "code",
   "execution_count": 5,
   "id": "8ac707ec",
   "metadata": {
    "execution": {
     "iopub.execute_input": "2022-09-10T11:14:54.829678Z",
     "iopub.status.busy": "2022-09-10T11:14:54.829416Z",
     "iopub.status.idle": "2022-09-10T11:14:54.900866Z",
     "shell.execute_reply": "2022-09-10T11:14:54.899900Z"
    },
    "papermill": {
     "duration": 0.080108,
     "end_time": "2022-09-10T11:14:54.902937",
     "exception": false,
     "start_time": "2022-09-10T11:14:54.822829",
     "status": "completed"
    },
    "tags": []
   },
   "outputs": [
    {
     "data": {
      "text/plain": [
       "device(type='cuda')"
      ]
     },
     "execution_count": 5,
     "metadata": {},
     "output_type": "execute_result"
    }
   ],
   "source": [
    "# Step 1.2.1 Device setting => GPU\n",
    "device = torch.device('cuda' if torch.cuda.is_available() else 'cpu')\n",
    "device"
   ]
  },
  {
   "cell_type": "code",
   "execution_count": 6,
   "id": "a9cdc969",
   "metadata": {
    "execution": {
     "iopub.execute_input": "2022-09-10T11:14:54.915667Z",
     "iopub.status.busy": "2022-09-10T11:14:54.915239Z",
     "iopub.status.idle": "2022-09-10T11:14:54.921260Z",
     "shell.execute_reply": "2022-09-10T11:14:54.920294Z"
    },
    "papermill": {
     "duration": 0.014589,
     "end_time": "2022-09-10T11:14:54.923392",
     "exception": false,
     "start_time": "2022-09-10T11:14:54.908803",
     "status": "completed"
    },
    "tags": []
   },
   "outputs": [],
   "source": [
    "dir_path = './test'\n",
    "os.mkdir(dir_path)"
   ]
  },
  {
   "cell_type": "code",
   "execution_count": 7,
   "id": "63ba7650",
   "metadata": {
    "execution": {
     "iopub.execute_input": "2022-09-10T11:14:54.937122Z",
     "iopub.status.busy": "2022-09-10T11:14:54.936306Z",
     "iopub.status.idle": "2022-09-10T11:18:58.920600Z",
     "shell.execute_reply": "2022-09-10T11:18:58.919623Z"
    },
    "papermill": {
     "duration": 243.993765,
     "end_time": "2022-09-10T11:18:58.923134",
     "exception": false,
     "start_time": "2022-09-10T11:14:54.929369",
     "status": "completed"
    },
    "tags": []
   },
   "outputs": [
    {
     "data": {
      "application/vnd.jupyter.widget-view+json": {
       "model_id": "1139c6ad0fc24ce8a8384856274e5256",
       "version_major": 2,
       "version_minor": 0
      },
      "text/plain": [
       "  0%|          | 0/4 [00:00<?, ?it/s]"
      ]
     },
     "metadata": {},
     "output_type": "display_data"
    },
    {
     "name": "stderr",
     "output_type": "stream",
     "text": [
      "/opt/conda/lib/python3.7/site-packages/rasterio/__init__.py:220: NotGeoreferencedWarning: Dataset has no geotransform, gcps, or rpcs. The identity matrix be returned.\n",
      "  s = DatasetReader(path, driver=driver, sharing=sharing, **kwargs)\n"
     ]
    },
    {
     "name": "stdout",
     "output_type": "stream",
     "text": [
      "(512, 512, 3)\n",
      "(512, 512, 3)\n",
      "(512, 512, 3)\n",
      "(512, 512, 3)\n"
     ]
    }
   ],
   "source": [
    "# Demo Test Data Set Convert (Tiff to Png)\n",
    "image_scalar = 1024\n",
    "seam_carving.carve.MAX_MEAN_ENERGY = 10.0\n",
    "# fig, axes = plt.subplots(2, 2, figsize=(7, 6), sharex=True, sharey=True)\n",
    "# ax = axes.ravel()\n",
    "for i in tqdm(range(test.shape[0])):\n",
    "    # Remove Background White Space\n",
    "        img_id = test.iloc[i].image_id\n",
    "        img_path = f'../input/mayo-clinic-strip-ai/test/{img_id}.tif'\n",
    "\n",
    "        image = rasterio.open(img_path)\n",
    "        image = image.read(out_shape=(image.count, int(image_scalar), int(image_scalar)),\n",
    "                                 resampling=Resampling.bilinear).transpose(1,2,0)\n",
    "        image_h, image_w, _ = image.shape\n",
    "        image = seam_carving.resize(image, (image_w-512, image_h-512),\n",
    "                                        energy_mode='backward',\n",
    "                                        order=('width-first'),\n",
    "                                        keep_mask=None)\n",
    "    # Apply Stain Color Normalization => Using Skimage\n",
    "        ihc_hed = rgb2hed(image)\n",
    "        null = np.zeros_like(ihc_hed[:, :, 0])\n",
    "        h = rescale_intensity(ihc_hed[:, :, 0], out_range=(0, 1),\n",
    "                      in_range=(0, np.percentile(ihc_hed[:, :, 0], 99)))\n",
    "        d = rescale_intensity(ihc_hed[:, :, 2], out_range=(0, 1),\n",
    "                      in_range=(0, np.percentile(ihc_hed[:, :, 2], 99)))\n",
    "        # Cast the two channels into an RGB image, as the blue and green channels\n",
    "        # respectively\n",
    "        image = np.dstack((null, d, h))#.transpose(2,0,1).astype(np.uint16)\n",
    "        print(image.shape)\n",
    "#         fig = plt.figure()\n",
    "#         axis = plt.subplot(1, 1, 1, sharex=ax[0], sharey=ax[0])\n",
    "#         axis.imshow(image)\n",
    "#         axis.set_title('Stain-separated image (rescaled)')\n",
    "#         axis.axis('off')\n",
    "#         plt.show()\n",
    "#         with rasterio.open(f'./test/{img_id}.png', 'w', driver='png', height = image.shape[1], # driver => jpeg, png, gtiff\n",
    "#                        width = image.shape[2], dtype = image.dtype, count=3) as images: # count => Image Channel 개수 (RGB의 경우 3개)\n",
    "#             images.write(image)\n",
    "\n",
    "        skimage.io.imsave(f'./test/{img_id}.png', image)\n",
    "        del image\n",
    "        gc.collect()\n",
    "        \n",
    "        \n",
    "\n",
    "#         if img_id == '006388_0':\n",
    "#             target_image = image\n",
    "#             image = image.transpose(2,0,1)\n",
    "#             with rasterio.open(f'./test/{img_id}.png', 'w', driver='png', height = image.shape[1], # driver => jpeg, png, gtiff\n",
    "#                            width = image.shape[2], dtype = image.dtype, count=3) as images: # count => Image Channel 개수 (RGB의 경우 3개)\n",
    "#                 images.write(image)\n",
    "\n",
    "#             continue\n",
    "        \n",
    "#         else:\n",
    "#             target_img = staintools.LuminosityStandardizer.standardize(target_image)\n",
    "#             transform_img = staintools.LuminosityStandardizer.standardize(image)\n",
    "\n",
    "#             normalizer = staintools.StainNormalizer(method='vahadane')\n",
    "#             target_img_n = normalizer.fit(target_img)\n",
    "#             transform_img_n = normalizer.transform(transform_img)\n",
    "#             image = transform_img_n.transpose(2,0,1)\n",
    "#             with rasterio.open(f'./test/{img_id}.png', 'w', driver='png', height = image.shape[1], # driver => jpeg, png, gtiff\n",
    "#                        width = image.shape[2], dtype = image.dtype, count=3) as images: # count => Image Channel 개수 (RGB의 경우 3개)\n",
    "#                 images.write(image)\n",
    "\n",
    "#             del image\n",
    "#             gc.collect()"
   ]
  },
  {
   "cell_type": "code",
   "execution_count": 8,
   "id": "4a24471e",
   "metadata": {
    "execution": {
     "iopub.execute_input": "2022-09-10T11:18:58.936516Z",
     "iopub.status.busy": "2022-09-10T11:18:58.935764Z",
     "iopub.status.idle": "2022-09-10T11:18:58.943764Z",
     "shell.execute_reply": "2022-09-10T11:18:58.942748Z"
    },
    "papermill": {
     "duration": 0.016644,
     "end_time": "2022-09-10T11:18:58.945919",
     "exception": false,
     "start_time": "2022-09-10T11:18:58.929275",
     "status": "completed"
    },
    "tags": []
   },
   "outputs": [],
   "source": [
    "# Step 1.2.2 Definition Data Set Class\n",
    "class ImageDataset(Dataset):\n",
    "    def __init__(self, df, img_dir='./', transform=None, is_test=True):\n",
    "        super().__init__()\n",
    "        self.df = df\n",
    "        self.img_dir = img_dir\n",
    "        self.transform = transform\n",
    "        self.is_test = is_test\n",
    "        \n",
    "    def __len__(self):\n",
    "        return len(self.df)\n",
    "    \n",
    "    def __getitem__(self, idx):\n",
    "    \n",
    "        if self.is_test:\n",
    "            img_id = self.df.iloc[idx, 0] \n",
    "            img_path = f'{self.img_dir}/{img_id}.png'\n",
    "            \n",
    "            image = rasterio.open(img_path)\n",
    "            image = image.read(resampling=Resampling.bilinear).transpose(1,2,0)\n",
    "            patient_ids = self.df.iloc[idx, 2]\n",
    "            \n",
    "            if self.transform is not None:\n",
    "              image = self.transform(image=image)['image']\n",
    "            \n",
    "            return image, patient_ids "
   ]
  },
  {
   "cell_type": "code",
   "execution_count": 9,
   "id": "5632a10a",
   "metadata": {
    "execution": {
     "iopub.execute_input": "2022-09-10T11:18:58.958227Z",
     "iopub.status.busy": "2022-09-10T11:18:58.957759Z",
     "iopub.status.idle": "2022-09-10T11:18:58.962493Z",
     "shell.execute_reply": "2022-09-10T11:18:58.961565Z"
    },
    "papermill": {
     "duration": 0.013278,
     "end_time": "2022-09-10T11:18:58.964681",
     "exception": false,
     "start_time": "2022-09-10T11:18:58.951403",
     "status": "completed"
    },
    "tags": []
   },
   "outputs": [],
   "source": [
    "# Step 1.3 Test Transform\n",
    "transform_test = Albu.Compose([Albu.Normalize(mean=[0.485, 0.456, 0.406], \n",
    "                                              std=[0.229, 0.224, 0.225]),\n",
    "                               ToTensorV2()])"
   ]
  },
  {
   "cell_type": "code",
   "execution_count": 10,
   "id": "3e8c07d9",
   "metadata": {
    "execution": {
     "iopub.execute_input": "2022-09-10T11:18:58.977121Z",
     "iopub.status.busy": "2022-09-10T11:18:58.976858Z",
     "iopub.status.idle": "2022-09-10T11:18:58.981363Z",
     "shell.execute_reply": "2022-09-10T11:18:58.980418Z"
    },
    "papermill": {
     "duration": 0.012925,
     "end_time": "2022-09-10T11:18:58.983418",
     "exception": false,
     "start_time": "2022-09-10T11:18:58.970493",
     "status": "completed"
    },
    "tags": []
   },
   "outputs": [],
   "source": [
    "# 1.4 Test Data Set\n",
    "img_dir = './test'\n",
    "dataset_test = ImageDataset(test, img_dir=img_dir, transform=transform_test)"
   ]
  },
  {
   "cell_type": "code",
   "execution_count": 11,
   "id": "4b15103d",
   "metadata": {
    "execution": {
     "iopub.execute_input": "2022-09-10T11:18:58.995637Z",
     "iopub.status.busy": "2022-09-10T11:18:58.995377Z",
     "iopub.status.idle": "2022-09-10T11:18:59.000830Z",
     "shell.execute_reply": "2022-09-10T11:18:58.999879Z"
    },
    "papermill": {
     "duration": 0.013617,
     "end_time": "2022-09-10T11:18:59.002728",
     "exception": false,
     "start_time": "2022-09-10T11:18:58.989111",
     "status": "completed"
    },
    "tags": []
   },
   "outputs": [],
   "source": [
    "# Step 1.5 Data Loader Definition \n",
    "def seed_worker(worker_id):\n",
    "    worker_seed = torch.initial_seed() %2**32\n",
    "    np.random.seed(worker_seed)\n",
    "    random.seed(worker_seed)\n",
    "\n",
    "g = torch.Generator()\n",
    "g.manual_seed(0)\n",
    "\n",
    "batch_size = 1\n",
    "loader_test = DataLoader(dataset_test, batch_size=batch_size, shuffle=False, \n",
    "                         worker_init_fn=seed_worker, generator=g, num_workers=1)"
   ]
  },
  {
   "cell_type": "code",
   "execution_count": 12,
   "id": "73fb8052",
   "metadata": {
    "execution": {
     "iopub.execute_input": "2022-09-10T11:18:59.015699Z",
     "iopub.status.busy": "2022-09-10T11:18:59.015269Z",
     "iopub.status.idle": "2022-09-10T11:19:01.960550Z",
     "shell.execute_reply": "2022-09-10T11:19:01.959536Z"
    },
    "papermill": {
     "duration": 2.954367,
     "end_time": "2022-09-10T11:19:01.963189",
     "exception": false,
     "start_time": "2022-09-10T11:18:59.008822",
     "status": "completed"
    },
    "tags": []
   },
   "outputs": [
    {
     "name": "stdout",
     "output_type": "stream",
     "text": [
      "Linear(in_features=1280, out_features=2, bias=True)\n"
     ]
    }
   ],
   "source": [
    "# Step 1.6 Pretrained Model => Efficient Net-B5\n",
    "# 앙상블 추후 적용 => 모델 리스트화\n",
    "model = []\n",
    "\n",
    "# Efficient-Net\n",
    "efficient_net = models.efficientnet_b0()\n",
    "efficient_net.classifier = nn.Linear(1280,2)\n",
    "efficient_net.load_state_dict(torch.load('../input/strip-ai-train-parameters/new_efficient_model_state_dict.pth'))\n",
    "print(efficient_net.classifier)\n",
    "\n",
    "efficient_net = efficient_net.to(device)\n",
    "model.append(efficient_net)"
   ]
  },
  {
   "cell_type": "code",
   "execution_count": 13,
   "id": "3ff5760b",
   "metadata": {
    "execution": {
     "iopub.execute_input": "2022-09-10T11:19:01.977622Z",
     "iopub.status.busy": "2022-09-10T11:19:01.976686Z",
     "iopub.status.idle": "2022-09-10T11:19:01.981200Z",
     "shell.execute_reply": "2022-09-10T11:19:01.980291Z"
    },
    "papermill": {
     "duration": 0.013308,
     "end_time": "2022-09-10T11:19:01.983107",
     "exception": false,
     "start_time": "2022-09-10T11:19:01.969799",
     "status": "completed"
    },
    "tags": []
   },
   "outputs": [],
   "source": [
    "# regnet_x = models.regnet_x_8gf()\n",
    "# regnet_x.fc = nn.Linear(1920,2)\n",
    "# regnet_x.load_state_dict(torch.load('../input/strip-ai-regnet-train-1k-png/model_state_dict.pth'))\n",
    "# print(regnet_x.fc)\n",
    "\n",
    "# regnet_x = regnet_x.to(device)\n",
    "# model.append(regnet_x)"
   ]
  },
  {
   "cell_type": "code",
   "execution_count": 14,
   "id": "51967bed",
   "metadata": {
    "execution": {
     "iopub.execute_input": "2022-09-10T11:19:01.995671Z",
     "iopub.status.busy": "2022-09-10T11:19:01.995390Z",
     "iopub.status.idle": "2022-09-10T11:19:18.116238Z",
     "shell.execute_reply": "2022-09-10T11:19:18.115166Z"
    },
    "papermill": {
     "duration": 16.13001,
     "end_time": "2022-09-10T11:19:18.118607",
     "exception": false,
     "start_time": "2022-09-10T11:19:01.988597",
     "status": "completed"
    },
    "tags": []
   },
   "outputs": [],
   "source": [
    "vit = models.vit_l_16(image_size=512)\n",
    "vit.heads = nn.Linear(1024,2)\n",
    "vit.load_state_dict(torch.load('../input/strip-ai-vit-train-parameter/vit_model_state_dict.pth'))\n",
    "\n",
    "vit = vit.to(device)\n",
    "model.append(vit)\n",
    "# i want to test Vision Transformer model but, computing powers that i have are limited.... "
   ]
  },
  {
   "cell_type": "code",
   "execution_count": 15,
   "id": "224d4e0d",
   "metadata": {
    "execution": {
     "iopub.execute_input": "2022-09-10T11:19:18.132851Z",
     "iopub.status.busy": "2022-09-10T11:19:18.131147Z",
     "iopub.status.idle": "2022-09-10T11:19:18.138181Z",
     "shell.execute_reply": "2022-09-10T11:19:18.137248Z"
    },
    "papermill": {
     "duration": 0.015765,
     "end_time": "2022-09-10T11:19:18.140424",
     "exception": false,
     "start_time": "2022-09-10T11:19:18.124659",
     "status": "completed"
    },
    "tags": []
   },
   "outputs": [],
   "source": [
    "# Step 1.7 Predict Function Definition\n",
    "def predict(model, loader_test): \n",
    "    ids = []\n",
    "    model.eval()\n",
    "    preds_part = []\n",
    "    \n",
    "    with torch.no_grad():\n",
    "        for images, patient_ids in loader_test:\n",
    "            images = images.to(device) #, dtype=torch.float32)\n",
    "            outputs = model(images)\n",
    "            \n",
    "            ids.append(patient_ids[0]) # Pytorch Broadcasting => patient_ids 차원 추가, 그래서 ('patient_id',) <= 출력 형태가 저런 모습이었다. \n",
    "            preds_part.append(torch.softmax(outputs.cpu(), dim=1).squeeze().numpy())\n",
    "            \n",
    "    return np.array(preds_part), ids"
   ]
  },
  {
   "cell_type": "code",
   "execution_count": 16,
   "id": "a14541ce",
   "metadata": {
    "execution": {
     "iopub.execute_input": "2022-09-10T11:19:18.152772Z",
     "iopub.status.busy": "2022-09-10T11:19:18.152475Z",
     "iopub.status.idle": "2022-09-10T11:19:19.316742Z",
     "shell.execute_reply": "2022-09-10T11:19:19.315567Z"
    },
    "papermill": {
     "duration": 1.173092,
     "end_time": "2022-09-10T11:19:19.319266",
     "exception": false,
     "start_time": "2022-09-10T11:19:18.146174",
     "status": "completed"
    },
    "tags": []
   },
   "outputs": [],
   "source": [
    "# Step 3.8.6 Submission\n",
    "preds, ids = predict(model[0], loader_test)\n",
    "result_table_efficient = pd.DataFrame({'patient_id' : ids, \"CE\" : preds[:,0], \"LAA\" : preds[:,1]})\n",
    "result_table_efficient = result_table_efficient.groupby(\"patient_id\").mean()"
   ]
  },
  {
   "cell_type": "code",
   "execution_count": 17,
   "id": "0673b89d",
   "metadata": {
    "execution": {
     "iopub.execute_input": "2022-09-10T11:19:19.332793Z",
     "iopub.status.busy": "2022-09-10T11:19:19.332353Z",
     "iopub.status.idle": "2022-09-10T11:19:19.347471Z",
     "shell.execute_reply": "2022-09-10T11:19:19.346627Z"
    },
    "papermill": {
     "duration": 0.024312,
     "end_time": "2022-09-10T11:19:19.349454",
     "exception": false,
     "start_time": "2022-09-10T11:19:19.325142",
     "status": "completed"
    },
    "tags": []
   },
   "outputs": [
    {
     "data": {
      "text/html": [
       "<div>\n",
       "<style scoped>\n",
       "    .dataframe tbody tr th:only-of-type {\n",
       "        vertical-align: middle;\n",
       "    }\n",
       "\n",
       "    .dataframe tbody tr th {\n",
       "        vertical-align: top;\n",
       "    }\n",
       "\n",
       "    .dataframe thead th {\n",
       "        text-align: right;\n",
       "    }\n",
       "</style>\n",
       "<table border=\"1\" class=\"dataframe\">\n",
       "  <thead>\n",
       "    <tr style=\"text-align: right;\">\n",
       "      <th></th>\n",
       "      <th>CE</th>\n",
       "      <th>LAA</th>\n",
       "    </tr>\n",
       "    <tr>\n",
       "      <th>patient_id</th>\n",
       "      <th></th>\n",
       "      <th></th>\n",
       "    </tr>\n",
       "  </thead>\n",
       "  <tbody>\n",
       "    <tr>\n",
       "      <th>006388</th>\n",
       "      <td>0.817273</td>\n",
       "      <td>0.182727</td>\n",
       "    </tr>\n",
       "    <tr>\n",
       "      <th>008e5c</th>\n",
       "      <td>0.885027</td>\n",
       "      <td>0.114973</td>\n",
       "    </tr>\n",
       "    <tr>\n",
       "      <th>00c058</th>\n",
       "      <td>0.485383</td>\n",
       "      <td>0.514617</td>\n",
       "    </tr>\n",
       "    <tr>\n",
       "      <th>01adc5</th>\n",
       "      <td>0.736614</td>\n",
       "      <td>0.263386</td>\n",
       "    </tr>\n",
       "  </tbody>\n",
       "</table>\n",
       "</div>"
      ],
      "text/plain": [
       "                  CE       LAA\n",
       "patient_id                    \n",
       "006388      0.817273  0.182727\n",
       "008e5c      0.885027  0.114973\n",
       "00c058      0.485383  0.514617\n",
       "01adc5      0.736614  0.263386"
      ]
     },
     "execution_count": 17,
     "metadata": {},
     "output_type": "execute_result"
    }
   ],
   "source": [
    "result_table_efficient"
   ]
  },
  {
   "cell_type": "code",
   "execution_count": 18,
   "id": "fe2efa27",
   "metadata": {
    "execution": {
     "iopub.execute_input": "2022-09-10T11:19:19.362422Z",
     "iopub.status.busy": "2022-09-10T11:19:19.362133Z",
     "iopub.status.idle": "2022-09-10T11:19:19.372841Z",
     "shell.execute_reply": "2022-09-10T11:19:19.371858Z"
    },
    "papermill": {
     "duration": 0.019229,
     "end_time": "2022-09-10T11:19:19.374829",
     "exception": false,
     "start_time": "2022-09-10T11:19:19.355600",
     "status": "completed"
    },
    "tags": []
   },
   "outputs": [
    {
     "data": {
      "text/html": [
       "<div>\n",
       "<style scoped>\n",
       "    .dataframe tbody tr th:only-of-type {\n",
       "        vertical-align: middle;\n",
       "    }\n",
       "\n",
       "    .dataframe tbody tr th {\n",
       "        vertical-align: top;\n",
       "    }\n",
       "\n",
       "    .dataframe thead th {\n",
       "        text-align: right;\n",
       "    }\n",
       "</style>\n",
       "<table border=\"1\" class=\"dataframe\">\n",
       "  <thead>\n",
       "    <tr style=\"text-align: right;\">\n",
       "      <th></th>\n",
       "      <th>patient_id</th>\n",
       "      <th>CE</th>\n",
       "      <th>LAA</th>\n",
       "    </tr>\n",
       "  </thead>\n",
       "  <tbody>\n",
       "    <tr>\n",
       "      <th>0</th>\n",
       "      <td>006388</td>\n",
       "      <td>0.817273</td>\n",
       "      <td>0.182727</td>\n",
       "    </tr>\n",
       "    <tr>\n",
       "      <th>1</th>\n",
       "      <td>008e5c</td>\n",
       "      <td>0.885027</td>\n",
       "      <td>0.114973</td>\n",
       "    </tr>\n",
       "    <tr>\n",
       "      <th>2</th>\n",
       "      <td>00c058</td>\n",
       "      <td>0.485383</td>\n",
       "      <td>0.514617</td>\n",
       "    </tr>\n",
       "    <tr>\n",
       "      <th>3</th>\n",
       "      <td>01adc5</td>\n",
       "      <td>0.736614</td>\n",
       "      <td>0.263386</td>\n",
       "    </tr>\n",
       "  </tbody>\n",
       "</table>\n",
       "</div>"
      ],
      "text/plain": [
       "  patient_id        CE       LAA\n",
       "0     006388  0.817273  0.182727\n",
       "1     008e5c  0.885027  0.114973\n",
       "2     00c058  0.485383  0.514617\n",
       "3     01adc5  0.736614  0.263386"
      ]
     },
     "execution_count": 18,
     "metadata": {},
     "output_type": "execute_result"
    }
   ],
   "source": [
    "submission_efficient.CE = result_table_efficient.CE.to_list()\n",
    "submission_efficient.LAA = result_table_efficient.LAA.to_list()\n",
    "\n",
    "#submission_efficient[['patient_id', 'CE', 'LAA']].round(6).to_csv('submission.csv', index=False)\n",
    "submission_efficient"
   ]
  },
  {
   "cell_type": "code",
   "execution_count": 19,
   "id": "e3c629fa",
   "metadata": {
    "execution": {
     "iopub.execute_input": "2022-09-10T11:19:19.388121Z",
     "iopub.status.busy": "2022-09-10T11:19:19.387858Z",
     "iopub.status.idle": "2022-09-10T11:19:20.120275Z",
     "shell.execute_reply": "2022-09-10T11:19:20.119086Z"
    },
    "papermill": {
     "duration": 0.742376,
     "end_time": "2022-09-10T11:19:20.123016",
     "exception": false,
     "start_time": "2022-09-10T11:19:19.380640",
     "status": "completed"
    },
    "tags": []
   },
   "outputs": [
    {
     "name": "stderr",
     "output_type": "stream",
     "text": [
      "/opt/conda/lib/python3.7/site-packages/rasterio/__init__.py:220: NotGeoreferencedWarning: Dataset has no geotransform, gcps, or rpcs. The identity matrix be returned.\n",
      "  s = DatasetReader(path, driver=driver, sharing=sharing, **kwargs)\n"
     ]
    }
   ],
   "source": [
    "preds, ids = predict(model[1], loader_test)\n",
    "result_table_vit = pd.DataFrame({'patient_id' : ids, 'CE' : preds[:,0], 'LAA' : preds[:,1]})\n",
    "result_table_vit = result_table_vit.groupby(\"patient_id\").mean()"
   ]
  },
  {
   "cell_type": "code",
   "execution_count": 20,
   "id": "7aaf6445",
   "metadata": {
    "execution": {
     "iopub.execute_input": "2022-09-10T11:19:20.136845Z",
     "iopub.status.busy": "2022-09-10T11:19:20.136492Z",
     "iopub.status.idle": "2022-09-10T11:19:20.146633Z",
     "shell.execute_reply": "2022-09-10T11:19:20.145761Z"
    },
    "papermill": {
     "duration": 0.019381,
     "end_time": "2022-09-10T11:19:20.148652",
     "exception": false,
     "start_time": "2022-09-10T11:19:20.129271",
     "status": "completed"
    },
    "tags": []
   },
   "outputs": [
    {
     "data": {
      "text/html": [
       "<div>\n",
       "<style scoped>\n",
       "    .dataframe tbody tr th:only-of-type {\n",
       "        vertical-align: middle;\n",
       "    }\n",
       "\n",
       "    .dataframe tbody tr th {\n",
       "        vertical-align: top;\n",
       "    }\n",
       "\n",
       "    .dataframe thead th {\n",
       "        text-align: right;\n",
       "    }\n",
       "</style>\n",
       "<table border=\"1\" class=\"dataframe\">\n",
       "  <thead>\n",
       "    <tr style=\"text-align: right;\">\n",
       "      <th></th>\n",
       "      <th>CE</th>\n",
       "      <th>LAA</th>\n",
       "    </tr>\n",
       "    <tr>\n",
       "      <th>patient_id</th>\n",
       "      <th></th>\n",
       "      <th></th>\n",
       "    </tr>\n",
       "  </thead>\n",
       "  <tbody>\n",
       "    <tr>\n",
       "      <th>006388</th>\n",
       "      <td>0.267623</td>\n",
       "      <td>0.732377</td>\n",
       "    </tr>\n",
       "    <tr>\n",
       "      <th>008e5c</th>\n",
       "      <td>0.270028</td>\n",
       "      <td>0.729972</td>\n",
       "    </tr>\n",
       "    <tr>\n",
       "      <th>00c058</th>\n",
       "      <td>0.285510</td>\n",
       "      <td>0.714490</td>\n",
       "    </tr>\n",
       "    <tr>\n",
       "      <th>01adc5</th>\n",
       "      <td>0.294902</td>\n",
       "      <td>0.705098</td>\n",
       "    </tr>\n",
       "  </tbody>\n",
       "</table>\n",
       "</div>"
      ],
      "text/plain": [
       "                  CE       LAA\n",
       "patient_id                    \n",
       "006388      0.267623  0.732377\n",
       "008e5c      0.270028  0.729972\n",
       "00c058      0.285510  0.714490\n",
       "01adc5      0.294902  0.705098"
      ]
     },
     "execution_count": 20,
     "metadata": {},
     "output_type": "execute_result"
    }
   ],
   "source": [
    "result_table_vit"
   ]
  },
  {
   "cell_type": "code",
   "execution_count": 21,
   "id": "27b99bf2",
   "metadata": {
    "execution": {
     "iopub.execute_input": "2022-09-10T11:19:20.162105Z",
     "iopub.status.busy": "2022-09-10T11:19:20.161558Z",
     "iopub.status.idle": "2022-09-10T11:19:20.172366Z",
     "shell.execute_reply": "2022-09-10T11:19:20.171414Z"
    },
    "papermill": {
     "duration": 0.019797,
     "end_time": "2022-09-10T11:19:20.174436",
     "exception": false,
     "start_time": "2022-09-10T11:19:20.154639",
     "status": "completed"
    },
    "tags": []
   },
   "outputs": [
    {
     "data": {
      "text/html": [
       "<div>\n",
       "<style scoped>\n",
       "    .dataframe tbody tr th:only-of-type {\n",
       "        vertical-align: middle;\n",
       "    }\n",
       "\n",
       "    .dataframe tbody tr th {\n",
       "        vertical-align: top;\n",
       "    }\n",
       "\n",
       "    .dataframe thead th {\n",
       "        text-align: right;\n",
       "    }\n",
       "</style>\n",
       "<table border=\"1\" class=\"dataframe\">\n",
       "  <thead>\n",
       "    <tr style=\"text-align: right;\">\n",
       "      <th></th>\n",
       "      <th>patient_id</th>\n",
       "      <th>CE</th>\n",
       "      <th>LAA</th>\n",
       "    </tr>\n",
       "  </thead>\n",
       "  <tbody>\n",
       "    <tr>\n",
       "      <th>0</th>\n",
       "      <td>006388</td>\n",
       "      <td>0.267623</td>\n",
       "      <td>0.732377</td>\n",
       "    </tr>\n",
       "    <tr>\n",
       "      <th>1</th>\n",
       "      <td>008e5c</td>\n",
       "      <td>0.270028</td>\n",
       "      <td>0.729972</td>\n",
       "    </tr>\n",
       "    <tr>\n",
       "      <th>2</th>\n",
       "      <td>00c058</td>\n",
       "      <td>0.285510</td>\n",
       "      <td>0.714490</td>\n",
       "    </tr>\n",
       "    <tr>\n",
       "      <th>3</th>\n",
       "      <td>01adc5</td>\n",
       "      <td>0.294902</td>\n",
       "      <td>0.705098</td>\n",
       "    </tr>\n",
       "  </tbody>\n",
       "</table>\n",
       "</div>"
      ],
      "text/plain": [
       "  patient_id        CE       LAA\n",
       "0     006388  0.267623  0.732377\n",
       "1     008e5c  0.270028  0.729972\n",
       "2     00c058  0.285510  0.714490\n",
       "3     01adc5  0.294902  0.705098"
      ]
     },
     "execution_count": 21,
     "metadata": {},
     "output_type": "execute_result"
    }
   ],
   "source": [
    "submission_vit.CE = result_table_vit.CE.to_list()\n",
    "submission_vit.LAA = result_table_vit.LAA.to_list()\n",
    "submission_vit"
   ]
  },
  {
   "cell_type": "code",
   "execution_count": 22,
   "id": "78710537",
   "metadata": {
    "execution": {
     "iopub.execute_input": "2022-09-10T11:19:20.187975Z",
     "iopub.status.busy": "2022-09-10T11:19:20.187687Z",
     "iopub.status.idle": "2022-09-10T11:19:20.206861Z",
     "shell.execute_reply": "2022-09-10T11:19:20.204307Z"
    },
    "papermill": {
     "duration": 0.031441,
     "end_time": "2022-09-10T11:19:20.211976",
     "exception": false,
     "start_time": "2022-09-10T11:19:20.180535",
     "status": "completed"
    },
    "tags": []
   },
   "outputs": [
    {
     "data": {
      "text/html": [
       "<div>\n",
       "<style scoped>\n",
       "    .dataframe tbody tr th:only-of-type {\n",
       "        vertical-align: middle;\n",
       "    }\n",
       "\n",
       "    .dataframe tbody tr th {\n",
       "        vertical-align: top;\n",
       "    }\n",
       "\n",
       "    .dataframe thead th {\n",
       "        text-align: right;\n",
       "    }\n",
       "</style>\n",
       "<table border=\"1\" class=\"dataframe\">\n",
       "  <thead>\n",
       "    <tr style=\"text-align: right;\">\n",
       "      <th></th>\n",
       "      <th>patient_id</th>\n",
       "      <th>CE</th>\n",
       "      <th>LAA</th>\n",
       "    </tr>\n",
       "  </thead>\n",
       "  <tbody>\n",
       "    <tr>\n",
       "      <th>0</th>\n",
       "      <td>006388</td>\n",
       "      <td>0.542448</td>\n",
       "      <td>0.457552</td>\n",
       "    </tr>\n",
       "    <tr>\n",
       "      <th>1</th>\n",
       "      <td>008e5c</td>\n",
       "      <td>0.577528</td>\n",
       "      <td>0.422472</td>\n",
       "    </tr>\n",
       "    <tr>\n",
       "      <th>2</th>\n",
       "      <td>00c058</td>\n",
       "      <td>0.385446</td>\n",
       "      <td>0.614554</td>\n",
       "    </tr>\n",
       "    <tr>\n",
       "      <th>3</th>\n",
       "      <td>01adc5</td>\n",
       "      <td>0.515758</td>\n",
       "      <td>0.484242</td>\n",
       "    </tr>\n",
       "  </tbody>\n",
       "</table>\n",
       "</div>"
      ],
      "text/plain": [
       "  patient_id        CE       LAA\n",
       "0     006388  0.542448  0.457552\n",
       "1     008e5c  0.577528  0.422472\n",
       "2     00c058  0.385446  0.614554\n",
       "3     01adc5  0.515758  0.484242"
      ]
     },
     "execution_count": 22,
     "metadata": {},
     "output_type": "execute_result"
    }
   ],
   "source": [
    "submission.CE = (submission_efficient.CE + submission_vit.CE) / 2\n",
    "submission.LAA = (submission_efficient.LAA + submission_vit.LAA) / 2\n",
    "\n",
    "submission[['patient_id', 'CE', 'LAA']].round(6).to_csv('submission.csv', index=False) # CE, LAA만 괄호에 넣었더니 patient_id이 사라진 상태로 CSV 파일이 저장된 경우....\n",
    "submission"
   ]
  },
  {
   "cell_type": "code",
   "execution_count": 23,
   "id": "6c83c4e6",
   "metadata": {
    "execution": {
     "iopub.execute_input": "2022-09-10T11:19:20.237499Z",
     "iopub.status.busy": "2022-09-10T11:19:20.237171Z",
     "iopub.status.idle": "2022-09-10T11:19:21.262274Z",
     "shell.execute_reply": "2022-09-10T11:19:21.261068Z"
    },
    "papermill": {
     "duration": 1.040115,
     "end_time": "2022-09-10T11:19:21.264656",
     "exception": false,
     "start_time": "2022-09-10T11:19:20.224541",
     "status": "completed"
    },
    "scrolled": true,
    "tags": []
   },
   "outputs": [
    {
     "name": "stdout",
     "output_type": "stream",
     "text": [
      "patient_id,CE,LAA\r\n",
      "006388,0.542448,0.457552\r\n",
      "008e5c,0.577528,0.422472\r\n",
      "00c058,0.385446,0.614554\r\n",
      "01adc5,0.515758,0.484242\r\n"
     ]
    }
   ],
   "source": [
    "!head submission.csv"
   ]
  },
  {
   "cell_type": "code",
   "execution_count": null,
   "id": "6e74967d",
   "metadata": {
    "papermill": {
     "duration": 0.006176,
     "end_time": "2022-09-10T11:19:21.277660",
     "exception": false,
     "start_time": "2022-09-10T11:19:21.271484",
     "status": "completed"
    },
    "tags": []
   },
   "outputs": [],
   "source": []
  }
 ],
 "metadata": {
  "kernelspec": {
   "display_name": "Python 3",
   "language": "python",
   "name": "python3"
  },
  "language_info": {
   "codemirror_mode": {
    "name": "ipython",
    "version": 3
   },
   "file_extension": ".py",
   "mimetype": "text/x-python",
   "name": "python",
   "nbconvert_exporter": "python",
   "pygments_lexer": "ipython3",
   "version": "3.7.12"
  },
  "papermill": {
   "default_parameters": {},
   "duration": 280.085192,
   "end_time": "2022-09-10T11:19:22.707556",
   "environment_variables": {},
   "exception": null,
   "input_path": "__notebook__.ipynb",
   "output_path": "__notebook__.ipynb",
   "parameters": {},
   "start_time": "2022-09-10T11:14:42.622364",
   "version": "2.3.4"
  },
  "widgets": {
   "application/vnd.jupyter.widget-state+json": {
    "state": {
     "1139c6ad0fc24ce8a8384856274e5256": {
      "model_module": "@jupyter-widgets/controls",
      "model_module_version": "1.5.0",
      "model_name": "HBoxModel",
      "state": {
       "_dom_classes": [],
       "_model_module": "@jupyter-widgets/controls",
       "_model_module_version": "1.5.0",
       "_model_name": "HBoxModel",
       "_view_count": null,
       "_view_module": "@jupyter-widgets/controls",
       "_view_module_version": "1.5.0",
       "_view_name": "HBoxView",
       "box_style": "",
       "children": [
        "IPY_MODEL_33052f2e019043dd91689ff6a8bd0929",
        "IPY_MODEL_d80d7dbd45e24cc2a050f4528b6a4141",
        "IPY_MODEL_cc965339445541269811a0129b201169"
       ],
       "layout": "IPY_MODEL_9d268afae0314b5490abfb08ee5ff735"
      }
     },
     "33052f2e019043dd91689ff6a8bd0929": {
      "model_module": "@jupyter-widgets/controls",
      "model_module_version": "1.5.0",
      "model_name": "HTMLModel",
      "state": {
       "_dom_classes": [],
       "_model_module": "@jupyter-widgets/controls",
       "_model_module_version": "1.5.0",
       "_model_name": "HTMLModel",
       "_view_count": null,
       "_view_module": "@jupyter-widgets/controls",
       "_view_module_version": "1.5.0",
       "_view_name": "HTMLView",
       "description": "",
       "description_tooltip": null,
       "layout": "IPY_MODEL_3b0e577ecc6b4d4b9844367ed94857b1",
       "placeholder": "​",
       "style": "IPY_MODEL_4e7fc7107fdb43bbab67a7cdb71a1327",
       "value": "100%"
      }
     },
     "3b0e577ecc6b4d4b9844367ed94857b1": {
      "model_module": "@jupyter-widgets/base",
      "model_module_version": "1.2.0",
      "model_name": "LayoutModel",
      "state": {
       "_model_module": "@jupyter-widgets/base",
       "_model_module_version": "1.2.0",
       "_model_name": "LayoutModel",
       "_view_count": null,
       "_view_module": "@jupyter-widgets/base",
       "_view_module_version": "1.2.0",
       "_view_name": "LayoutView",
       "align_content": null,
       "align_items": null,
       "align_self": null,
       "border": null,
       "bottom": null,
       "display": null,
       "flex": null,
       "flex_flow": null,
       "grid_area": null,
       "grid_auto_columns": null,
       "grid_auto_flow": null,
       "grid_auto_rows": null,
       "grid_column": null,
       "grid_gap": null,
       "grid_row": null,
       "grid_template_areas": null,
       "grid_template_columns": null,
       "grid_template_rows": null,
       "height": null,
       "justify_content": null,
       "justify_items": null,
       "left": null,
       "margin": null,
       "max_height": null,
       "max_width": null,
       "min_height": null,
       "min_width": null,
       "object_fit": null,
       "object_position": null,
       "order": null,
       "overflow": null,
       "overflow_x": null,
       "overflow_y": null,
       "padding": null,
       "right": null,
       "top": null,
       "visibility": null,
       "width": null
      }
     },
     "4e7fc7107fdb43bbab67a7cdb71a1327": {
      "model_module": "@jupyter-widgets/controls",
      "model_module_version": "1.5.0",
      "model_name": "DescriptionStyleModel",
      "state": {
       "_model_module": "@jupyter-widgets/controls",
       "_model_module_version": "1.5.0",
       "_model_name": "DescriptionStyleModel",
       "_view_count": null,
       "_view_module": "@jupyter-widgets/base",
       "_view_module_version": "1.2.0",
       "_view_name": "StyleView",
       "description_width": ""
      }
     },
     "91bdd93975cc4a21964292be1906a49c": {
      "model_module": "@jupyter-widgets/controls",
      "model_module_version": "1.5.0",
      "model_name": "ProgressStyleModel",
      "state": {
       "_model_module": "@jupyter-widgets/controls",
       "_model_module_version": "1.5.0",
       "_model_name": "ProgressStyleModel",
       "_view_count": null,
       "_view_module": "@jupyter-widgets/base",
       "_view_module_version": "1.2.0",
       "_view_name": "StyleView",
       "bar_color": null,
       "description_width": ""
      }
     },
     "9d268afae0314b5490abfb08ee5ff735": {
      "model_module": "@jupyter-widgets/base",
      "model_module_version": "1.2.0",
      "model_name": "LayoutModel",
      "state": {
       "_model_module": "@jupyter-widgets/base",
       "_model_module_version": "1.2.0",
       "_model_name": "LayoutModel",
       "_view_count": null,
       "_view_module": "@jupyter-widgets/base",
       "_view_module_version": "1.2.0",
       "_view_name": "LayoutView",
       "align_content": null,
       "align_items": null,
       "align_self": null,
       "border": null,
       "bottom": null,
       "display": null,
       "flex": null,
       "flex_flow": null,
       "grid_area": null,
       "grid_auto_columns": null,
       "grid_auto_flow": null,
       "grid_auto_rows": null,
       "grid_column": null,
       "grid_gap": null,
       "grid_row": null,
       "grid_template_areas": null,
       "grid_template_columns": null,
       "grid_template_rows": null,
       "height": null,
       "justify_content": null,
       "justify_items": null,
       "left": null,
       "margin": null,
       "max_height": null,
       "max_width": null,
       "min_height": null,
       "min_width": null,
       "object_fit": null,
       "object_position": null,
       "order": null,
       "overflow": null,
       "overflow_x": null,
       "overflow_y": null,
       "padding": null,
       "right": null,
       "top": null,
       "visibility": null,
       "width": null
      }
     },
     "c3fbb7fea6b34bc5b2418514bc5a716e": {
      "model_module": "@jupyter-widgets/controls",
      "model_module_version": "1.5.0",
      "model_name": "DescriptionStyleModel",
      "state": {
       "_model_module": "@jupyter-widgets/controls",
       "_model_module_version": "1.5.0",
       "_model_name": "DescriptionStyleModel",
       "_view_count": null,
       "_view_module": "@jupyter-widgets/base",
       "_view_module_version": "1.2.0",
       "_view_name": "StyleView",
       "description_width": ""
      }
     },
     "cc965339445541269811a0129b201169": {
      "model_module": "@jupyter-widgets/controls",
      "model_module_version": "1.5.0",
      "model_name": "HTMLModel",
      "state": {
       "_dom_classes": [],
       "_model_module": "@jupyter-widgets/controls",
       "_model_module_version": "1.5.0",
       "_model_name": "HTMLModel",
       "_view_count": null,
       "_view_module": "@jupyter-widgets/controls",
       "_view_module_version": "1.5.0",
       "_view_name": "HTMLView",
       "description": "",
       "description_tooltip": null,
       "layout": "IPY_MODEL_e2eeb409386b4868adc71406a2c4c551",
       "placeholder": "​",
       "style": "IPY_MODEL_c3fbb7fea6b34bc5b2418514bc5a716e",
       "value": " 4/4 [04:03&lt;00:00, 60.15s/it]"
      }
     },
     "d80d7dbd45e24cc2a050f4528b6a4141": {
      "model_module": "@jupyter-widgets/controls",
      "model_module_version": "1.5.0",
      "model_name": "FloatProgressModel",
      "state": {
       "_dom_classes": [],
       "_model_module": "@jupyter-widgets/controls",
       "_model_module_version": "1.5.0",
       "_model_name": "FloatProgressModel",
       "_view_count": null,
       "_view_module": "@jupyter-widgets/controls",
       "_view_module_version": "1.5.0",
       "_view_name": "ProgressView",
       "bar_style": "success",
       "description": "",
       "description_tooltip": null,
       "layout": "IPY_MODEL_e54d6ef224c4457c85ab50b2fe832885",
       "max": 4.0,
       "min": 0.0,
       "orientation": "horizontal",
       "style": "IPY_MODEL_91bdd93975cc4a21964292be1906a49c",
       "value": 4.0
      }
     },
     "e2eeb409386b4868adc71406a2c4c551": {
      "model_module": "@jupyter-widgets/base",
      "model_module_version": "1.2.0",
      "model_name": "LayoutModel",
      "state": {
       "_model_module": "@jupyter-widgets/base",
       "_model_module_version": "1.2.0",
       "_model_name": "LayoutModel",
       "_view_count": null,
       "_view_module": "@jupyter-widgets/base",
       "_view_module_version": "1.2.0",
       "_view_name": "LayoutView",
       "align_content": null,
       "align_items": null,
       "align_self": null,
       "border": null,
       "bottom": null,
       "display": null,
       "flex": null,
       "flex_flow": null,
       "grid_area": null,
       "grid_auto_columns": null,
       "grid_auto_flow": null,
       "grid_auto_rows": null,
       "grid_column": null,
       "grid_gap": null,
       "grid_row": null,
       "grid_template_areas": null,
       "grid_template_columns": null,
       "grid_template_rows": null,
       "height": null,
       "justify_content": null,
       "justify_items": null,
       "left": null,
       "margin": null,
       "max_height": null,
       "max_width": null,
       "min_height": null,
       "min_width": null,
       "object_fit": null,
       "object_position": null,
       "order": null,
       "overflow": null,
       "overflow_x": null,
       "overflow_y": null,
       "padding": null,
       "right": null,
       "top": null,
       "visibility": null,
       "width": null
      }
     },
     "e54d6ef224c4457c85ab50b2fe832885": {
      "model_module": "@jupyter-widgets/base",
      "model_module_version": "1.2.0",
      "model_name": "LayoutModel",
      "state": {
       "_model_module": "@jupyter-widgets/base",
       "_model_module_version": "1.2.0",
       "_model_name": "LayoutModel",
       "_view_count": null,
       "_view_module": "@jupyter-widgets/base",
       "_view_module_version": "1.2.0",
       "_view_name": "LayoutView",
       "align_content": null,
       "align_items": null,
       "align_self": null,
       "border": null,
       "bottom": null,
       "display": null,
       "flex": null,
       "flex_flow": null,
       "grid_area": null,
       "grid_auto_columns": null,
       "grid_auto_flow": null,
       "grid_auto_rows": null,
       "grid_column": null,
       "grid_gap": null,
       "grid_row": null,
       "grid_template_areas": null,
       "grid_template_columns": null,
       "grid_template_rows": null,
       "height": null,
       "justify_content": null,
       "justify_items": null,
       "left": null,
       "margin": null,
       "max_height": null,
       "max_width": null,
       "min_height": null,
       "min_width": null,
       "object_fit": null,
       "object_position": null,
       "order": null,
       "overflow": null,
       "overflow_x": null,
       "overflow_y": null,
       "padding": null,
       "right": null,
       "top": null,
       "visibility": null,
       "width": null
      }
     }
    },
    "version_major": 2,
    "version_minor": 0
   }
  }
 },
 "nbformat": 4,
 "nbformat_minor": 5
}
