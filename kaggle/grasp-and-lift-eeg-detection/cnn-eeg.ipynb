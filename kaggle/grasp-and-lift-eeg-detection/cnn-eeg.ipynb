{
 "cells": [
  {
   "cell_type": "code",
   "execution_count": 1,
   "id": "shared-kansas",
   "metadata": {
    "_cell_guid": "b1076dfc-b9ad-4769-8c92-a6c4dae69d19",
    "_uuid": "8f2839f25d086af736a60e9eeb907d3b93b6e0e5",
    "execution": {
     "iopub.execute_input": "2023-06-22T06:44:46.889760Z",
     "iopub.status.busy": "2023-06-22T06:44:46.888996Z",
     "iopub.status.idle": "2023-06-22T06:44:49.365671Z",
     "shell.execute_reply": "2023-06-22T06:44:49.364458Z",
     "shell.execute_reply.started": "2023-06-22T05:50:34.201627Z"
    },
    "papermill": {
     "duration": 2.509502,
     "end_time": "2023-06-22T06:44:49.365872",
     "exception": false,
     "start_time": "2023-06-22T06:44:46.856370",
     "status": "completed"
    },
    "tags": []
   },
   "outputs": [],
   "source": [
    "import numpy as np\n",
    "from zipfile import ZipFile\n",
    "import matplotlib.pyplot as plt\n",
    "import os\n",
    "import pandas as pd\n",
    "import torch\n",
    "from torch.utils.data import DataLoader, Dataset\n",
    "import torch.nn as nn\n",
    "import torch.optim as optim\n",
    "import random\n",
    "import torch.nn.functional as F\n",
    "import argparse\n",
    "from sklearn import metrics\n",
    "from tqdm.notebook import tqdm\n",
    "import gc\n",
    "import shutil "
   ]
  },
  {
   "cell_type": "code",
   "execution_count": 2,
   "id": "still-right",
   "metadata": {
    "execution": {
     "iopub.execute_input": "2023-06-22T06:44:49.441872Z",
     "iopub.status.busy": "2023-06-22T06:44:49.440448Z",
     "iopub.status.idle": "2023-06-22T06:45:25.818017Z",
     "shell.execute_reply": "2023-06-22T06:45:25.818561Z",
     "shell.execute_reply.started": "2023-06-22T05:50:36.449779Z"
    },
    "papermill": {
     "duration": 36.423451,
     "end_time": "2023-06-22T06:45:25.818745",
     "exception": false,
     "start_time": "2023-06-22T06:44:49.395294",
     "status": "completed"
    },
    "tags": []
   },
   "outputs": [
    {
     "name": "stdout",
     "output_type": "stream",
     "text": [
      "CPU times: user 23.9 s, sys: 3.97 s, total: 27.8 s\n",
      "Wall time: 36.3 s\n"
     ]
    }
   ],
   "source": [
    "%%time\n",
    "FILE_PATH = '../input/grasp-and-lift-eeg-detection'\n",
    "list_dir = os.listdir(FILE_PATH)\n",
    "\n",
    "for zipfile in list_dir:\n",
    "    with ZipFile(os.path.join(FILE_PATH, zipfile), 'r') as z:\n",
    "        z.extractall()"
   ]
  },
  {
   "cell_type": "code",
   "execution_count": 3,
   "id": "opponent-attraction",
   "metadata": {
    "execution": {
     "iopub.execute_input": "2023-06-22T06:45:25.873574Z",
     "iopub.status.busy": "2023-06-22T06:45:25.872672Z",
     "iopub.status.idle": "2023-06-22T06:45:25.874985Z",
     "shell.execute_reply": "2023-06-22T06:45:25.875433Z",
     "shell.execute_reply.started": "2023-06-22T05:51:11.912417Z"
    },
    "papermill": {
     "duration": 0.0312,
     "end_time": "2023-06-22T06:45:25.875587",
     "exception": false,
     "start_time": "2023-06-22T06:45:25.844387",
     "status": "completed"
    },
    "tags": []
   },
   "outputs": [],
   "source": [
    "labels = ['HandStart', 'FirstDigitTouch', 'BothStartLoadPhase', 'LiftOff',\n",
    "       'Replace', 'BothReleased']"
   ]
  },
  {
   "cell_type": "code",
   "execution_count": 4,
   "id": "narrow-superintendent",
   "metadata": {
    "execution": {
     "iopub.execute_input": "2023-06-22T06:45:25.934048Z",
     "iopub.status.busy": "2023-06-22T06:45:25.933277Z",
     "iopub.status.idle": "2023-06-22T06:45:26.005592Z",
     "shell.execute_reply": "2023-06-22T06:45:26.006521Z",
     "shell.execute_reply.started": "2023-06-22T05:51:11.919878Z"
    },
    "papermill": {
     "duration": 0.106831,
     "end_time": "2023-06-22T06:45:26.006696",
     "exception": false,
     "start_time": "2023-06-22T06:45:25.899865",
     "status": "completed"
    },
    "tags": []
   },
   "outputs": [
    {
     "name": "stdout",
     "output_type": "stream",
     "text": [
      "cuda:0\n"
     ]
    }
   ],
   "source": [
    "torch.manual_seed(2021)\n",
    "np.random.seed(2021)\n",
    "device = 'cuda:0' if torch.cuda.is_available() else 'cpu'\n",
    "\n",
    "parser = argparse.ArgumentParser()\n",
    "parser.add_argument(\"--n_epochs\", type=int, default=1, help=\"number of epochs of training\")\n",
    "parser.add_argument(\"--batch_size\", type=int, default=1024, help=\"size of the batches\")\n",
    "parser.add_argument(\"--lr\", type=float, default=0.005, help=\"adam's learning rate\")\n",
    "parser.add_argument(\"--b1\", type=float, default=0.5, help=\"adam: decay of first order momentum of gradient\")\n",
    "parser.add_argument(\"--b2\", type=float, default=0.99, help=\"adam: decay of first order momentum of gradient\")\n",
    "parser.add_argument(\"--n_cpu\", type=int, default=4, help=\"number of cpu threads to use during batch generation\")\n",
    "parser.add_argument(\"--in_len\", type=int, default=2**10, help=\"length of the input fed to neural net\")\n",
    "parser.add_argument(\"--in_channels\", type=int, default=32, help=\"number of signal channels\")\n",
    "parser.add_argument(\"--out_channels\", type=int, default=6, help=\"number of classes\")\n",
    "parser.add_argument(\"--chunk\", type=int, default=1000, help=\"length of splited chunks\")\n",
    "opt, unknown = parser.parse_known_args()\n",
    "print(device)"
   ]
  },
  {
   "cell_type": "code",
   "execution_count": 5,
   "id": "statutory-amino",
   "metadata": {
    "execution": {
     "iopub.execute_input": "2023-06-22T06:45:26.063366Z",
     "iopub.status.busy": "2023-06-22T06:45:26.062784Z",
     "iopub.status.idle": "2023-06-22T06:46:45.195294Z",
     "shell.execute_reply": "2023-06-22T06:46:45.192955Z",
     "shell.execute_reply.started": "2023-06-22T05:51:12.684196Z"
    },
    "papermill": {
     "duration": 79.163409,
     "end_time": "2023-06-22T06:46:45.195480",
     "exception": false,
     "start_time": "2023-06-22T06:45:26.032071",
     "status": "completed"
    },
    "tags": []
   },
   "outputs": [
    {
     "data": {
      "application/vnd.jupyter.widget-view+json": {
       "model_id": "a16d304fc4554e3aa42f1ea90dffeeb7",
       "version_major": 2,
       "version_minor": 0
      },
      "text/plain": [
       "  0%|          | 0/192 [00:00<?, ?it/s]"
      ]
     },
     "metadata": {},
     "output_type": "display_data"
    },
    {
     "name": "stdout",
     "output_type": "stream",
     "text": [
      "CPU times: user 1min 13s, sys: 5.67 s, total: 1min 18s\n",
      "Wall time: 1min 19s\n"
     ]
    }
   ],
   "source": [
    "%%time\n",
    "def read_csv(data, events):\n",
    "    x = pd.read_csv(data)\n",
    "    y = pd.read_csv(events)\n",
    "    id = '_'.join(x.iloc[0, 0].split('_')[:-1])\n",
    "    x = x.iloc[:,1:].values\n",
    "    y = y.iloc[:,1:].values\n",
    "    return x, y\n",
    "    \n",
    "\n",
    "trainset = []\n",
    "gt = []\n",
    "for filename in tqdm(os.listdir('./train')):\n",
    "    if 'data' in filename:\n",
    "        data_file_name = os.path.join('./train', filename)\n",
    "        id = filename.split('.')[0]\n",
    "        events_file_name = os.path.join('./train', '_'.join(id.split('_')[:-1]) + '_events.csv')\n",
    "        x, y = read_csv(data_file_name, events_file_name)\n",
    "        trainset.append(x.T.astype(np.float32))\n",
    "        gt.append(y.T.astype(np.float32))"
   ]
  },
  {
   "cell_type": "code",
   "execution_count": 6,
   "id": "consecutive-newman",
   "metadata": {
    "execution": {
     "iopub.execute_input": "2023-06-22T06:46:45.251888Z",
     "iopub.status.busy": "2023-06-22T06:46:45.251254Z",
     "iopub.status.idle": "2023-06-22T06:46:45.255116Z",
     "shell.execute_reply": "2023-06-22T06:46:45.254448Z",
     "shell.execute_reply.started": "2023-06-22T05:52:30.104402Z"
    },
    "papermill": {
     "duration": 0.03353,
     "end_time": "2023-06-22T06:46:45.255268",
     "exception": false,
     "start_time": "2023-06-22T06:46:45.221738",
     "status": "completed"
    },
    "tags": []
   },
   "outputs": [],
   "source": [
    "valid_dataset = trainset[-2:]\n",
    "valid_gt = gt[-2:]\n",
    "trainset = trainset[:-2]\n",
    "gt = gt[:-2]"
   ]
  },
  {
   "cell_type": "code",
   "execution_count": 7,
   "id": "mobile-nelson",
   "metadata": {
    "execution": {
     "iopub.execute_input": "2023-06-22T06:46:45.319985Z",
     "iopub.status.busy": "2023-06-22T06:46:45.319193Z",
     "iopub.status.idle": "2023-06-22T06:46:45.322584Z",
     "shell.execute_reply": "2023-06-22T06:46:45.321779Z",
     "shell.execute_reply.started": "2023-06-22T05:52:30.115656Z"
    },
    "papermill": {
     "duration": 0.039632,
     "end_time": "2023-06-22T06:46:45.322710",
     "exception": false,
     "start_time": "2023-06-22T06:46:45.283078",
     "status": "completed"
    },
    "tags": []
   },
   "outputs": [],
   "source": [
    "def resample_data(gt, chunk_size=opt.chunk):\n",
    "    \"\"\"\n",
    "    split long signals to smaller chunks, discard no-events chunks  \n",
    "    \"\"\"\n",
    "    total_discard_chunks = 0\n",
    "    mean_val = []\n",
    "    threshold = 0.01\n",
    "    index = []\n",
    "    \n",
    "    for i in range(len(gt)):\n",
    "        for j in range(0, gt[i].shape[1], chunk_size):\n",
    "            mean_val.append(np.mean(gt[i][:, j:min(gt[i].shape[1],j+chunk_size)]))\n",
    "            if mean_val[-1] < threshold and j > 0:  # discard chunks with low events time\n",
    "                total_discard_chunks += 1\n",
    "                index.extend([(i, k) for k in range(j, min(gt[i].shape[1],j+chunk_size), chunk_size//100)])\n",
    "            else:\n",
    "                index.extend([(i, k) for k in range(j, min(gt[i].shape[1],j+chunk_size))])\n",
    "\n",
    "    plt.plot([0, len(mean_val)], [threshold, threshold], color='r')\n",
    "    plt.scatter(range(len(mean_val)), mean_val, s=1)\n",
    "    plt.show()\n",
    "    print('Total number of chunks discarded: {} chunks'.format(total_discard_chunks))\n",
    "    print('{}% data'.format(total_discard_chunks/len(mean_val)))\n",
    "    del mean_val\n",
    "    gc.collect()\n",
    "    return index"
   ]
  },
  {
   "cell_type": "code",
   "execution_count": 8,
   "id": "later-payroll",
   "metadata": {
    "execution": {
     "iopub.execute_input": "2023-06-22T06:46:45.401267Z",
     "iopub.status.busy": "2023-06-22T06:46:45.386094Z",
     "iopub.status.idle": "2023-06-22T06:46:48.476110Z",
     "shell.execute_reply": "2023-06-22T06:46:48.476599Z",
     "shell.execute_reply.started": "2023-06-22T05:52:30.143270Z"
    },
    "papermill": {
     "duration": 3.128891,
     "end_time": "2023-06-22T06:46:48.476765",
     "exception": false,
     "start_time": "2023-06-22T06:46:45.347874",
     "status": "completed"
    },
    "tags": []
   },
   "outputs": [
    {
     "data": {
      "image/png": "[encoded data removed]",
      "text/plain": [
       "<Figure size 432x288 with 1 Axes>"
      ]
     },
     "metadata": {
      "needs_background": "light"
     },
     "output_type": "display_data"
    },
    {
     "name": "stdout",
     "output_type": "stream",
     "text": [
      "Total number of chunks discarded: 8666 chunks\n",
      "0.49043576683644596% data\n",
      "9866344\n",
      "CPU times: user 2.47 s, sys: 582 ms, total: 3.05 s\n",
      "Wall time: 3.09 s\n"
     ]
    }
   ],
   "source": [
    "%%time\n",
    "class EEGSignalDataset(Dataset):\n",
    "    def __init__(self, data, gt, soft_label=True, train=True):\n",
    "        self.data = data\n",
    "        self.gt = gt\n",
    "        self.train = train\n",
    "        self.soft_label = soft_label\n",
    "        if train:\n",
    "            self.index = resample_data(gt)\n",
    "        else:\n",
    "            self.index = [(i, j) for i in range(len(data)) for j in range(data[i].shape[1])]\n",
    "    \n",
    "    def __getitem__(self, i):\n",
    "        i, j = self.index[i]\n",
    "        raw_data, label = self.data[i][:,max(0, j-opt.in_len+1):j+1], \\\n",
    "                self.gt[i][:,j]\n",
    "        \n",
    "        pad = opt.in_len - raw_data.shape[1]\n",
    "        if pad:\n",
    "            raw_data = np.pad(raw_data, ((0,0),(pad,0)), 'constant',constant_values=0)\n",
    "\n",
    "        raw_data, label = torch.from_numpy(raw_data.astype(np.float32)),\\\n",
    "                            torch.from_numpy(label.astype(np.float32))\n",
    "        if self.soft_label:\n",
    "            label[label < .05] = .05\n",
    "        return raw_data, label\n",
    "            \n",
    "    \n",
    "    def __len__(self):\n",
    "        return len(self.index)\n",
    "    \n",
    "dataset = EEGSignalDataset(trainset, gt) \n",
    "dataloader = DataLoader(dataset, batch_size = opt.batch_size,\\\n",
    "                                       num_workers = opt.n_cpu, shuffle=True)\n",
    "print(len(dataset))"
   ]
  },
  {
   "cell_type": "code",
   "execution_count": 9,
   "id": "fallen-charter",
   "metadata": {
    "execution": {
     "iopub.execute_input": "2023-06-22T06:46:48.544124Z",
     "iopub.status.busy": "2023-06-22T06:46:48.543416Z",
     "iopub.status.idle": "2023-06-22T06:46:48.546138Z",
     "shell.execute_reply": "2023-06-22T06:46:48.546624Z",
     "shell.execute_reply.started": "2023-06-22T05:52:33.544373Z"
    },
    "papermill": {
     "duration": 0.042763,
     "end_time": "2023-06-22T06:46:48.546771",
     "exception": false,
     "start_time": "2023-06-22T06:46:48.504008",
     "status": "completed"
    },
    "tags": []
   },
   "outputs": [],
   "source": [
    "class NNet(nn.Module):\n",
    "    def __init__(self, in_channels=opt.in_channels, out_channels=opt.out_channels):\n",
    "        super(NNet, self).__init__()\n",
    "        self.hidden = 32\n",
    "        self.net = nn.Sequential(\n",
    "            nn.BatchNorm1d(opt.in_channels),\n",
    "            nn.Conv1d(opt.in_channels, opt.in_channels, 5, padding=2),\n",
    "            nn.Conv1d(self.hidden, self.hidden, 16, stride=16),\n",
    "            nn.LeakyReLU(0.1),\n",
    "            nn.Conv1d(self.hidden, self.hidden, 7, padding=3),\n",
    "        )\n",
    "        for i in range(2):\n",
    "            self.net.add_module('conv{}'.format(i), \\\n",
    "                                self.__block(self.hidden, self.hidden)) # 16\n",
    "        \n",
    "        self.mid = nn.Sequential(\n",
    "            self.__block(self.hidden, self.hidden),\n",
    "            self.__block(self.hidden, self.hidden)\n",
    "        ) # 4\n",
    "        self.final = nn.Sequential(\n",
    "            nn.Linear(256, 64),\n",
    "            nn.LeakyReLU(0.1),\n",
    "            nn.Linear(64, 6),\n",
    "            nn.Sigmoid()\n",
    "        )\n",
    "        \n",
    "    def __block(self, inchannels, outchannels):\n",
    "        return nn.Sequential(\n",
    "            nn.MaxPool1d(2, 2),\n",
    "            nn.Conv1d(inchannels, outchannels, 5, padding=2),\n",
    "            nn.LeakyReLU(0.1),\n",
    "            nn.BatchNorm1d(outchannels),\n",
    "            nn.Conv1d(outchannels, outchannels, 5, padding=2),\n",
    "            nn.LeakyReLU(0.1)\n",
    "        )\n",
    "    \n",
    "    def forward(self, x):\n",
    "        x = self.net(x)\n",
    "        y = self.mid(x)\n",
    "        y = torch.cat((x[..., -4:], y), dim=-1).view(x.shape[0], -1)\n",
    "        return self.final(y)"
   ]
  },
  {
   "cell_type": "code",
   "execution_count": 10,
   "id": "accepted-personal",
   "metadata": {
    "execution": {
     "iopub.execute_input": "2023-06-22T06:46:48.614379Z",
     "iopub.status.busy": "2023-06-22T06:46:48.609232Z",
     "iopub.status.idle": "2023-06-22T06:46:48.686198Z",
     "shell.execute_reply": "2023-06-22T06:46:48.685671Z",
     "shell.execute_reply.started": "2023-06-22T05:52:33.559529Z"
    },
    "papermill": {
     "duration": 0.11221,
     "end_time": "2023-06-22T06:46:48.686342",
     "exception": false,
     "start_time": "2023-06-22T06:46:48.574132",
     "status": "completed"
    },
    "tags": []
   },
   "outputs": [],
   "source": [
    "testset = EEGSignalDataset(valid_dataset, valid_gt, train=False, soft_label=False) \n",
    "testloader = DataLoader(testset, batch_size = opt.batch_size,\\\n",
    "                                       num_workers = opt.n_cpu, shuffle=False)\n",
    "valid_gt = np.concatenate(valid_gt, axis=1)"
   ]
  },
  {
   "cell_type": "markdown",
   "id": "southern-durham",
   "metadata": {
    "papermill": {
     "duration": 0.027425,
     "end_time": "2023-06-22T06:46:48.741528",
     "exception": false,
     "start_time": "2023-06-22T06:46:48.714103",
     "status": "completed"
    },
    "tags": []
   },
   "source": [
    "# Train"
   ]
  },
  {
   "cell_type": "code",
   "execution_count": 11,
   "id": "cathedral-quick",
   "metadata": {
    "execution": {
     "iopub.execute_input": "2023-06-22T06:46:48.803807Z",
     "iopub.status.busy": "2023-06-22T06:46:48.803021Z",
     "iopub.status.idle": "2023-06-22T06:46:48.805716Z",
     "shell.execute_reply": "2023-06-22T06:46:48.806157Z",
     "shell.execute_reply.started": "2023-06-22T05:52:33.637862Z"
    },
    "papermill": {
     "duration": 0.037337,
     "end_time": "2023-06-22T06:46:48.806305",
     "exception": false,
     "start_time": "2023-06-22T06:46:48.768968",
     "status": "completed"
    },
    "tags": []
   },
   "outputs": [],
   "source": [
    "def calc_valid_auc(nnet):\n",
    "    nnet.eval()\n",
    "    y_pred = []\n",
    "    with torch.no_grad():\n",
    "        for x, _ in testloader:\n",
    "            x = x.to(device)\n",
    "            pred = nnet(x).detach().cpu().numpy()\n",
    "            y_pred.append(pred)\n",
    "    \n",
    "    y_pred = np.concatenate(y_pred, axis=0)\n",
    "    return metrics.roc_auc_score(valid_gt.T, y_pred)"
   ]
  },
  {
   "cell_type": "code",
   "execution_count": 12,
   "id": "brief-representation",
   "metadata": {
    "execution": {
     "iopub.execute_input": "2023-06-22T06:46:48.873740Z",
     "iopub.status.busy": "2023-06-22T06:46:48.873152Z",
     "iopub.status.idle": "2023-06-22T07:25:22.823779Z",
     "shell.execute_reply": "2023-06-22T07:25:22.824219Z",
     "shell.execute_reply.started": "2023-06-22T05:52:33.649008Z"
    },
    "papermill": {
     "duration": 2313.990876,
     "end_time": "2023-06-22T07:25:22.824434",
     "exception": false,
     "start_time": "2023-06-22T06:46:48.833558",
     "status": "completed"
    },
    "tags": []
   },
   "outputs": [
    {
     "data": {
      "application/vnd.jupyter.widget-view+json": {
       "model_id": "34256d4970a74cbc9ebc560f873088ab",
       "version_major": 2,
       "version_minor": 0
      },
      "text/plain": [
       "  0%|          | 0/9636 [00:00<?, ?it/s]"
      ]
     },
     "metadata": {},
     "output_type": "display_data"
    },
    {
     "name": "stdout",
     "output_type": "stream",
     "text": [
      "[Epoch 1/1] [Loss: 0.23916853576898575]\n"
     ]
    }
   ],
   "source": [
    "nnet = NNet()\n",
    "nnet.to(device)\n",
    "loss_fnc = nn.BCELoss()\n",
    "adam = optim.Adam(nnet.parameters(), lr=opt.lr, betas=(opt.b1, opt.b2))\n",
    "loss_his, train_loss, valid_auc, train_auc = [], [], [], []\n",
    "nnet.train()\n",
    "for epoch in range(opt.n_epochs):\n",
    "    p_bar = tqdm(dataloader)\n",
    "    for i, (x, y) in enumerate(p_bar):\n",
    "        x, y = x.to(device), y.to(device)\n",
    "        pred = nnet(x)\n",
    "        loss = loss_fnc(pred.squeeze(dim=-1), y)\n",
    "        adam.zero_grad()\n",
    "        loss.backward()\n",
    "        nn.utils.clip_grad_value_(nnet.parameters(), 2.)\n",
    "        adam.step()\n",
    "        train_loss.append(loss.item())\n",
    "        p_bar.set_description('[Loss: {}]'.format(train_loss[-1]))\n",
    "        if i % 50 == 0:\n",
    "            loss_his.append(np.mean(train_loss))\n",
    "            train_loss.clear()\n",
    "\n",
    "    print('[Epoch {}/{}] [Loss: {}]'.format(epoch+1, opt.n_epochs, loss_his[-1]))\n",
    "    \n",
    "torch.save(nnet.state_dict(), 'model.pt')"
   ]
  },
  {
   "cell_type": "code",
   "execution_count": 13,
   "id": "varying-aurora",
   "metadata": {
    "execution": {
     "iopub.execute_input": "2023-06-22T07:25:22.903878Z",
     "iopub.status.busy": "2023-06-22T07:25:22.893605Z",
     "iopub.status.idle": "2023-06-22T07:25:23.042807Z",
     "shell.execute_reply": "2023-06-22T07:25:23.043285Z",
     "shell.execute_reply.started": "2023-06-22T06:31:02.270264Z"
    },
    "papermill": {
     "duration": 0.190551,
     "end_time": "2023-06-22T07:25:23.043483",
     "exception": false,
     "start_time": "2023-06-22T07:25:22.852932",
     "status": "completed"
    },
    "tags": []
   },
   "outputs": [
    {
     "data": {
      "image/png": "[encoded data removed]",
      "text/plain": [
       "<Figure size 432x288 with 1 Axes>"
      ]
     },
     "metadata": {
      "needs_background": "light"
     },
     "output_type": "display_data"
    }
   ],
   "source": [
    "plt.plot(range(len(loss_his)), loss_his, label='loss')\n",
    "plt.legend()\n",
    "plt.show()"
   ]
  },
  {
   "cell_type": "markdown",
   "id": "circular-houston",
   "metadata": {
    "papermill": {
     "duration": 0.028808,
     "end_time": "2023-06-22T07:25:23.101601",
     "exception": false,
     "start_time": "2023-06-22T07:25:23.072793",
     "status": "completed"
    },
    "tags": []
   },
   "source": [
    "# Test on validset"
   ]
  },
  {
   "cell_type": "code",
   "execution_count": 14,
   "id": "referenced-roads",
   "metadata": {
    "execution": {
     "iopub.execute_input": "2023-06-22T07:25:23.195439Z",
     "iopub.status.busy": "2023-06-22T07:25:23.194263Z",
     "iopub.status.idle": "2023-06-22T07:26:22.862097Z",
     "shell.execute_reply": "2023-06-22T07:26:22.862603Z",
     "shell.execute_reply.started": "2023-06-22T06:31:02.422956Z"
    },
    "papermill": {
     "duration": 59.728737,
     "end_time": "2023-06-22T07:26:22.862788",
     "exception": false,
     "start_time": "2023-06-22T07:25:23.134051",
     "status": "completed"
    },
    "tags": []
   },
   "outputs": [
    {
     "data": {
      "application/vnd.jupyter.widget-view+json": {
       "model_id": "d8c294cfab25488ab86bf2e62d5ee4e6",
       "version_major": 2,
       "version_minor": 0
      },
      "text/plain": [
       "  0%|          | 0/351 [00:00<?, ?it/s]"
      ]
     },
     "metadata": {},
     "output_type": "display_data"
    }
   ],
   "source": [
    "nnet.eval()\n",
    "y_pred = []\n",
    "with torch.no_grad():\n",
    "    for x, _ in tqdm(testloader):\n",
    "        x = x.to(device)\n",
    "        pred = nnet(x).detach().cpu().numpy()\n",
    "        y_pred.append(pred)\n",
    "        "
   ]
  },
  {
   "cell_type": "code",
   "execution_count": 15,
   "id": "prospective-luther",
   "metadata": {
    "execution": {
     "iopub.execute_input": "2023-06-22T07:26:22.931165Z",
     "iopub.status.busy": "2023-06-22T07:26:22.929833Z",
     "iopub.status.idle": "2023-06-22T07:26:24.668633Z",
     "shell.execute_reply": "2023-06-22T07:26:24.668064Z",
     "shell.execute_reply.started": "2023-06-22T06:31:52.137466Z"
    },
    "papermill": {
     "duration": 1.776404,
     "end_time": "2023-06-22T07:26:24.668779",
     "exception": false,
     "start_time": "2023-06-22T07:26:22.892375",
     "status": "completed"
    },
    "tags": []
   },
   "outputs": [
    {
     "data": {
      "image/png": "[encoded data removed]",
      "text/plain": [
       "<Figure size 1080x936 with 6 Axes>"
      ]
     },
     "metadata": {
      "needs_background": "light"
     },
     "output_type": "display_data"
    },
    {
     "name": "stdout",
     "output_type": "stream",
     "text": [
      "auc roc:  0.9223282276756178\n"
     ]
    }
   ],
   "source": [
    "def plot_roc(y_true, y_pred):\n",
    "    fig, axs = plt.subplots(3, 2, figsize=(15,13))\n",
    "    for i, label in enumerate(labels):\n",
    "        fpr, tpr, _ = metrics.roc_curve(y_true[i], y_pred[i])\n",
    "        ax = axs[i//2, i%2]\n",
    "        ax.plot(fpr, tpr)\n",
    "        ax.set_title(label+\" ROC\")\n",
    "        ax.plot([0, 1], [0, 1], 'k--')\n",
    "\n",
    "    plt.show()\n",
    "    \n",
    "y_pred = np.concatenate(y_pred, axis=0)\n",
    "plot_roc(valid_gt, y_pred.T)\n",
    "print('auc roc: ', metrics.roc_auc_score(valid_gt.T, y_pred))"
   ]
  },
  {
   "cell_type": "code",
   "execution_count": 16,
   "id": "proved-brunswick",
   "metadata": {
    "execution": {
     "iopub.execute_input": "2023-06-22T07:26:25.045458Z",
     "iopub.status.busy": "2023-06-22T07:26:25.044573Z",
     "iopub.status.idle": "2023-06-22T07:26:25.048701Z",
     "shell.execute_reply": "2023-06-22T07:26:25.048185Z",
     "shell.execute_reply.started": "2023-06-22T06:31:53.705001Z"
    },
    "papermill": {
     "duration": 0.347593,
     "end_time": "2023-06-22T07:26:25.048849",
     "exception": false,
     "start_time": "2023-06-22T07:26:24.701256",
     "status": "completed"
    },
    "tags": []
   },
   "outputs": [
    {
     "data": {
      "text/plain": [
       "21109"
      ]
     },
     "execution_count": 16,
     "metadata": {},
     "output_type": "execute_result"
    }
   ],
   "source": [
    "del y_pred\n",
    "del testset\n",
    "del testloader\n",
    "del valid_dataset\n",
    "del valid_gt\n",
    "gc.collect()"
   ]
  },
  {
   "cell_type": "code",
   "execution_count": 17,
   "id": "ecological-shanghai",
   "metadata": {
    "execution": {
     "iopub.execute_input": "2023-06-22T07:26:25.122320Z",
     "iopub.status.busy": "2023-06-22T07:26:25.121740Z",
     "iopub.status.idle": "2023-06-22T07:26:25.168087Z",
     "shell.execute_reply": "2023-06-22T07:26:25.168551Z",
     "shell.execute_reply.started": "2023-06-22T06:31:54.022166Z"
    },
    "papermill": {
     "duration": 0.087277,
     "end_time": "2023-06-22T07:26:25.168716",
     "exception": false,
     "start_time": "2023-06-22T07:26:25.081439",
     "status": "completed"
    },
    "tags": []
   },
   "outputs": [
    {
     "name": "stdout",
     "output_type": "stream",
     "text": [
      "tensor([[0.1881, 0.0458, 0.0433, 0.0501, 0.0471, 0.0568]], device='cuda:0')\n",
      "tensor([1.0000, 0.0500, 0.0500, 0.0500, 0.0500, 0.0500])\n"
     ]
    }
   ],
   "source": [
    "i = 1231\n",
    "with torch.no_grad():\n",
    "    input = dataset[i][0].unsqueeze(dim=0)\n",
    "    print(nnet(input.to(device)))\n",
    "    print(dataset[i][1])"
   ]
  },
  {
   "cell_type": "code",
   "execution_count": 18,
   "id": "severe-dating",
   "metadata": {
    "execution": {
     "iopub.execute_input": "2023-06-22T07:26:25.506333Z",
     "iopub.status.busy": "2023-06-22T07:26:25.505372Z",
     "iopub.status.idle": "2023-06-22T07:26:25.510763Z",
     "shell.execute_reply": "2023-06-22T07:26:25.509804Z",
     "shell.execute_reply.started": "2023-06-22T06:31:54.079128Z"
    },
    "papermill": {
     "duration": 0.309566,
     "end_time": "2023-06-22T07:26:25.510909",
     "exception": false,
     "start_time": "2023-06-22T07:26:25.201343",
     "status": "completed"
    },
    "tags": []
   },
   "outputs": [
    {
     "data": {
      "text/plain": [
       "40"
      ]
     },
     "execution_count": 18,
     "metadata": {},
     "output_type": "execute_result"
    }
   ],
   "source": [
    "del dataset\n",
    "del dataloader\n",
    "del trainset\n",
    "del gt\n",
    "gc.collect()"
   ]
  },
  {
   "cell_type": "markdown",
   "id": "fourth-typing",
   "metadata": {
    "papermill": {
     "duration": 0.032737,
     "end_time": "2023-06-22T07:26:25.576928",
     "exception": false,
     "start_time": "2023-06-22T07:26:25.544191",
     "status": "completed"
    },
    "tags": []
   },
   "source": [
    "# Create submission"
   ]
  },
  {
   "cell_type": "code",
   "execution_count": 19,
   "id": "focal-bhutan",
   "metadata": {
    "execution": {
     "iopub.execute_input": "2023-06-22T07:26:25.650981Z",
     "iopub.status.busy": "2023-06-22T07:26:25.650081Z",
     "iopub.status.idle": "2023-06-22T07:26:25.653577Z",
     "shell.execute_reply": "2023-06-22T07:26:25.653079Z",
     "shell.execute_reply.started": "2023-06-22T06:31:54.361219Z"
    },
    "papermill": {
     "duration": 0.044125,
     "end_time": "2023-06-22T07:26:25.653704",
     "exception": false,
     "start_time": "2023-06-22T07:26:25.609579",
     "status": "completed"
    },
    "tags": []
   },
   "outputs": [],
   "source": [
    "class EEGSignalTestset(Dataset):\n",
    "    def __init__(self, data):\n",
    "        self.data = data\n",
    "        self.index = [(i, j) for i in range(len(data)) for j in range(data[i].shape[1])]\n",
    "    \n",
    "    def __getitem__(self, i):\n",
    "        i, j = self.index[i]\n",
    "        raw_data = self.data[i][:,max(0, j-opt.in_len+1):j+1]\n",
    "        \n",
    "        pad = opt.in_len - raw_data.shape[1]\n",
    "        if pad:\n",
    "            raw_data = np.pad(raw_data, ((0,0),(pad,0)), 'constant',constant_values=0)\n",
    "\n",
    "        raw_data = torch.from_numpy(raw_data.astype(np.float32))\n",
    "        return raw_data\n",
    "            \n",
    "    \n",
    "    def __len__(self):\n",
    "        return len(self.index)\n"
   ]
  },
  {
   "cell_type": "code",
   "execution_count": 20,
   "id": "featured-cedar",
   "metadata": {
    "execution": {
     "iopub.execute_input": "2023-06-22T07:26:25.724956Z",
     "iopub.status.busy": "2023-06-22T07:26:25.724369Z",
     "iopub.status.idle": "2023-06-22T07:26:37.333949Z",
     "shell.execute_reply": "2023-06-22T07:26:37.334469Z",
     "shell.execute_reply.started": "2023-06-22T06:31:54.373073Z"
    },
    "papermill": {
     "duration": 11.647928,
     "end_time": "2023-06-22T07:26:37.334647",
     "exception": false,
     "start_time": "2023-06-22T07:26:25.686719",
     "status": "completed"
    },
    "tags": []
   },
   "outputs": [
    {
     "name": "stdout",
     "output_type": "stream",
     "text": [
      "CPU times: user 10.4 s, sys: 523 ms, total: 10.9 s\n",
      "Wall time: 11.6 s\n"
     ]
    }
   ],
   "source": [
    "%%time\n",
    "testset = []\n",
    "trial_len = {}\n",
    "FNAME = \"./test/subj{}_series{}_{}.csv\"\n",
    "\n",
    "for subj in range(1,13):\n",
    "    for series in [9, 10]:\n",
    "        data_file_name = FNAME.format(subj, series, 'data')\n",
    "        x = pd.read_csv(data_file_name).iloc[:,1:].values\n",
    "        testset.append(x.T.astype(np.float32))\n",
    "        trial_len['{}_{}'.format(subj, series)] = testset[-1].shape[-1]\n",
    "        "
   ]
  },
  {
   "cell_type": "code",
   "execution_count": 21,
   "id": "declared-magic",
   "metadata": {
    "execution": {
     "iopub.execute_input": "2023-06-22T07:26:37.420584Z",
     "iopub.status.busy": "2023-06-22T07:26:37.416253Z",
     "iopub.status.idle": "2023-06-22T07:26:37.960353Z",
     "shell.execute_reply": "2023-06-22T07:26:37.959784Z",
     "shell.execute_reply.started": "2023-06-22T06:32:06.095896Z"
    },
    "papermill": {
     "duration": 0.591681,
     "end_time": "2023-06-22T07:26:37.960531",
     "exception": false,
     "start_time": "2023-06-22T07:26:37.368850",
     "status": "completed"
    },
    "tags": []
   },
   "outputs": [],
   "source": [
    "testset = EEGSignalTestset(testset)\n",
    "dataloader = DataLoader(testset, batch_size = opt.batch_size,\\\n",
    "                                       num_workers = opt.n_cpu, shuffle=False)"
   ]
  },
  {
   "cell_type": "code",
   "execution_count": 22,
   "id": "northern-science",
   "metadata": {
    "execution": {
     "iopub.execute_input": "2023-06-22T07:26:38.038234Z",
     "iopub.status.busy": "2023-06-22T07:26:38.037362Z",
     "iopub.status.idle": "2023-06-22T07:36:15.060920Z",
     "shell.execute_reply": "2023-06-22T07:36:15.060289Z",
     "shell.execute_reply.started": "2023-06-22T06:32:06.723232Z"
    },
    "papermill": {
     "duration": 577.065172,
     "end_time": "2023-06-22T07:36:15.061079",
     "exception": false,
     "start_time": "2023-06-22T07:26:37.995907",
     "status": "completed"
    },
    "tags": []
   },
   "outputs": [
    {
     "data": {
      "application/vnd.jupyter.widget-view+json": {
       "model_id": "09140a7ad50540f286cae000a5035f10",
       "version_major": 2,
       "version_minor": 0
      },
      "text/plain": [
       "  0%|          | 0/3071 [00:00<?, ?it/s]"
      ]
     },
     "metadata": {},
     "output_type": "display_data"
    }
   ],
   "source": [
    "y_pred = []\n",
    "with torch.no_grad():\n",
    "    for x in tqdm(dataloader):\n",
    "        x = x.to(device)\n",
    "        pred = nnet(x).detach().cpu().numpy()\n",
    "        y_pred.append(pred)\n",
    "        \n",
    "y_pred = np.concatenate(y_pred, axis=0)"
   ]
  },
  {
   "cell_type": "code",
   "execution_count": 23,
   "id": "absolute-finding",
   "metadata": {
    "execution": {
     "iopub.execute_input": "2023-06-22T07:36:15.163559Z",
     "iopub.status.busy": "2023-06-22T07:36:15.148225Z",
     "iopub.status.idle": "2023-06-22T07:37:03.784794Z",
     "shell.execute_reply": "2023-06-22T07:37:03.785268Z",
     "shell.execute_reply.started": "2023-06-22T06:41:47.736594Z"
    },
    "papermill": {
     "duration": 48.689538,
     "end_time": "2023-06-22T07:37:03.785442",
     "exception": false,
     "start_time": "2023-06-22T07:36:15.095904",
     "status": "completed"
    },
    "tags": []
   },
   "outputs": [
    {
     "name": "stdout",
     "output_type": "stream",
     "text": [
      "CPU times: user 47.5 s, sys: 923 ms, total: 48.4 s\n",
      "Wall time: 48.6 s\n"
     ]
    }
   ],
   "source": [
    "%%time\n",
    "submission = pd.DataFrame(y_pred, index=\\\n",
    "    ['subj{}_series{}_{}'.format(sbj, i, j) for sbj in range(1,13) for i in [9,10] for j in range(trial_len['{}_{}'.format(sbj, i)])],\\\n",
    "                         columns=labels)\n",
    "submission.to_csv('Submission.csv',index_label='id',float_format='%.3f')"
   ]
  },
  {
   "cell_type": "code",
   "execution_count": 24,
   "id": "reported-professional",
   "metadata": {
    "execution": {
     "iopub.execute_input": "2023-06-22T07:37:03.859368Z",
     "iopub.status.busy": "2023-06-22T07:37:03.858578Z",
     "iopub.status.idle": "2023-06-22T07:37:07.218956Z",
     "shell.execute_reply": "2023-06-22T07:37:07.218389Z",
     "shell.execute_reply.started": "2023-06-22T06:42:35.171604Z"
    },
    "papermill": {
     "duration": 3.399284,
     "end_time": "2023-06-22T07:37:07.219098",
     "exception": false,
     "start_time": "2023-06-22T07:37:03.819814",
     "status": "completed"
    },
    "tags": []
   },
   "outputs": [
    {
     "data": {
      "text/html": [
       "<div>\n",
       "<style scoped>\n",
       "    .dataframe tbody tr th:only-of-type {\n",
       "        vertical-align: middle;\n",
       "    }\n",
       "\n",
       "    .dataframe tbody tr th {\n",
       "        vertical-align: top;\n",
       "    }\n",
       "\n",
       "    .dataframe thead th {\n",
       "        text-align: right;\n",
       "    }\n",
       "</style>\n",
       "<table border=\"1\" class=\"dataframe\">\n",
       "  <thead>\n",
       "    <tr style=\"text-align: right;\">\n",
       "      <th></th>\n",
       "      <th>id</th>\n",
       "      <th>HandStart</th>\n",
       "      <th>FirstDigitTouch</th>\n",
       "      <th>BothStartLoadPhase</th>\n",
       "      <th>LiftOff</th>\n",
       "      <th>Replace</th>\n",
       "      <th>BothReleased</th>\n",
       "    </tr>\n",
       "  </thead>\n",
       "  <tbody>\n",
       "    <tr>\n",
       "      <th>3144166</th>\n",
       "      <td>subj12_series10_142195</td>\n",
       "      <td>0.206</td>\n",
       "      <td>0.038</td>\n",
       "      <td>0.037</td>\n",
       "      <td>0.042</td>\n",
       "      <td>0.036</td>\n",
       "      <td>0.041</td>\n",
       "    </tr>\n",
       "    <tr>\n",
       "      <th>3144167</th>\n",
       "      <td>subj12_series10_142196</td>\n",
       "      <td>0.225</td>\n",
       "      <td>0.038</td>\n",
       "      <td>0.036</td>\n",
       "      <td>0.042</td>\n",
       "      <td>0.036</td>\n",
       "      <td>0.041</td>\n",
       "    </tr>\n",
       "    <tr>\n",
       "      <th>3144168</th>\n",
       "      <td>subj12_series10_142197</td>\n",
       "      <td>0.247</td>\n",
       "      <td>0.037</td>\n",
       "      <td>0.037</td>\n",
       "      <td>0.042</td>\n",
       "      <td>0.036</td>\n",
       "      <td>0.040</td>\n",
       "    </tr>\n",
       "    <tr>\n",
       "      <th>3144169</th>\n",
       "      <td>subj12_series10_142198</td>\n",
       "      <td>0.255</td>\n",
       "      <td>0.037</td>\n",
       "      <td>0.037</td>\n",
       "      <td>0.041</td>\n",
       "      <td>0.036</td>\n",
       "      <td>0.040</td>\n",
       "    </tr>\n",
       "    <tr>\n",
       "      <th>3144170</th>\n",
       "      <td>subj12_series10_142199</td>\n",
       "      <td>0.279</td>\n",
       "      <td>0.037</td>\n",
       "      <td>0.037</td>\n",
       "      <td>0.041</td>\n",
       "      <td>0.035</td>\n",
       "      <td>0.039</td>\n",
       "    </tr>\n",
       "  </tbody>\n",
       "</table>\n",
       "</div>"
      ],
      "text/plain": [
       "                             id  HandStart  FirstDigitTouch  \\\n",
       "3144166  subj12_series10_142195      0.206            0.038   \n",
       "3144167  subj12_series10_142196      0.225            0.038   \n",
       "3144168  subj12_series10_142197      0.247            0.037   \n",
       "3144169  subj12_series10_142198      0.255            0.037   \n",
       "3144170  subj12_series10_142199      0.279            0.037   \n",
       "\n",
       "         BothStartLoadPhase  LiftOff  Replace  BothReleased  \n",
       "3144166               0.037    0.042    0.036         0.041  \n",
       "3144167               0.036    0.042    0.036         0.041  \n",
       "3144168               0.037    0.042    0.036         0.040  \n",
       "3144169               0.037    0.041    0.036         0.040  \n",
       "3144170               0.037    0.041    0.035         0.039  "
      ]
     },
     "execution_count": 24,
     "metadata": {},
     "output_type": "execute_result"
    }
   ],
   "source": [
    "a = pd.read_csv('Submission.csv')\n",
    "a.tail()"
   ]
  },
  {
   "cell_type": "code",
   "execution_count": 25,
   "id": "greenhouse-holocaust",
   "metadata": {
    "execution": {
     "iopub.execute_input": "2023-06-22T07:37:07.293738Z",
     "iopub.status.busy": "2023-06-22T07:37:07.292946Z",
     "iopub.status.idle": "2023-06-22T07:37:07.453499Z",
     "shell.execute_reply": "2023-06-22T07:37:07.452890Z",
     "shell.execute_reply.started": "2023-06-22T06:42:38.631207Z"
    },
    "papermill": {
     "duration": 0.199584,
     "end_time": "2023-06-22T07:37:07.453661",
     "exception": false,
     "start_time": "2023-06-22T07:37:07.254077",
     "status": "completed"
    },
    "tags": []
   },
   "outputs": [],
   "source": [
    "try:\n",
    "    shutil.rmtree('./train')\n",
    "    shutil.rmtree('./test')\n",
    "    os.remove('sample_submission.csv')\n",
    "except:\n",
    "    pass"
   ]
  },
  {
   "cell_type": "code",
   "execution_count": 26,
   "id": "controlling-experience",
   "metadata": {
    "execution": {
     "iopub.execute_input": "2023-06-22T07:37:07.530780Z",
     "iopub.status.busy": "2023-06-22T07:37:07.529984Z",
     "iopub.status.idle": "2023-06-22T07:37:45.007449Z",
     "shell.execute_reply": "2023-06-22T07:37:45.008959Z",
     "shell.execute_reply.started": "2023-06-22T06:42:38.794603Z"
    },
    "papermill": {
     "duration": 37.519683,
     "end_time": "2023-06-22T07:37:45.009275",
     "exception": false,
     "start_time": "2023-06-22T07:37:07.489592",
     "status": "completed"
    },
    "tags": []
   },
   "outputs": [],
   "source": [
    "df=pd.read_csv('/kaggle/working/Submission.csv')\n",
    "df.to_csv('Submission.csv',index = False)"
   ]
  }
 ],
 "metadata": {
  "kernelspec": {
   "display_name": "Python 3",
   "language": "python",
   "name": "python3"
  },
  "language_info": {
   "codemirror_mode": {
    "name": "ipython",
    "version": 3
   },
   "file_extension": ".py",
   "mimetype": "text/x-python",
   "name": "python",
   "nbconvert_exporter": "python",
   "pygments_lexer": "ipython3",
   "version": "3.7.9"
  },
  "papermill": {
   "default_parameters": {},
   "duration": 3186.988679,
   "end_time": "2023-06-22T07:37:48.267455",
   "environment_variables": {},
   "exception": null,
   "input_path": "__notebook__.ipynb",
   "output_path": "__notebook__.ipynb",
   "parameters": {},
   "start_time": "2023-06-22T06:44:41.278776",
   "version": "2.3.2"
  },
  "widgets": {
   "application/vnd.jupyter.widget-state+json": {
    "state": {
     "09140a7ad50540f286cae000a5035f10": {
      "model_module": "@jupyter-widgets/controls",
      "model_module_version": "1.5.0",
      "model_name": "HBoxModel",
      "state": {
       "_dom_classes": [],
       "_model_module": "@jupyter-widgets/controls",
       "_model_module_version": "1.5.0",
       "_model_name": "HBoxModel",
       "_view_count": null,
       "_view_module": "@jupyter-widgets/controls",
       "_view_module_version": "1.5.0",
       "_view_name": "HBoxView",
       "box_style": "",
       "children": [
        "IPY_MODEL_2a30512ba3154eb292be325eeee2677b",
        "IPY_MODEL_f6a68ca29d5c4026864b86cee6153176",
        "IPY_MODEL_f366c1650fc1489fa54f1b48311312ff"
       ],
       "layout": "IPY_MODEL_ebae3a98f30245c7a2dda3818f083de0"
      }
     },
     "095ae1f3bcbe4722b4bba5e45050b8c6": {
      "model_module": "@jupyter-widgets/controls",
      "model_module_version": "1.5.0",
      "model_name": "DescriptionStyleModel",
      "state": {
       "_model_module": "@jupyter-widgets/controls",
       "_model_module_version": "1.5.0",
       "_model_name": "DescriptionStyleModel",
       "_view_count": null,
       "_view_module": "@jupyter-widgets/base",
       "_view_module_version": "1.2.0",
       "_view_name": "StyleView",
       "description_width": ""
      }
     },
     "0e0cea0f2e994dc2ad240d393b5fc8e4": {
      "model_module": "@jupyter-widgets/controls",
      "model_module_version": "1.5.0",
      "model_name": "FloatProgressModel",
      "state": {
       "_dom_classes": [],
       "_model_module": "@jupyter-widgets/controls",
       "_model_module_version": "1.5.0",
       "_model_name": "FloatProgressModel",
       "_view_count": null,
       "_view_module": "@jupyter-widgets/controls",
       "_view_module_version": "1.5.0",
       "_view_name": "ProgressView",
       "bar_style": "success",
       "description": "",
       "description_tooltip": null,
       "layout": "IPY_MODEL_1c42b4fbdd6e40bf81e6cf19f9e2be63",
       "max": 351.0,
       "min": 0.0,
       "orientation": "horizontal",
       "style": "IPY_MODEL_f30aa99e3cb540e4ab32ea2fb7b5bc5a",
       "value": 351.0
      }
     },
     "115f6b88458a4378ba61acb417f4d968": {
      "model_module": "@jupyter-widgets/controls",
      "model_module_version": "1.5.0",
      "model_name": "DescriptionStyleModel",
      "state": {
       "_model_module": "@jupyter-widgets/controls",
       "_model_module_version": "1.5.0",
       "_model_name": "DescriptionStyleModel",
       "_view_count": null,
       "_view_module": "@jupyter-widgets/base",
       "_view_module_version": "1.2.0",
       "_view_name": "StyleView",
       "description_width": ""
      }
     },
     "167893e88bce43839f87851f5ac84f18": {
      "model_module": "@jupyter-widgets/controls",
      "model_module_version": "1.5.0",
      "model_name": "DescriptionStyleModel",
      "state": {
       "_model_module": "@jupyter-widgets/controls",
       "_model_module_version": "1.5.0",
       "_model_name": "DescriptionStyleModel",
       "_view_count": null,
       "_view_module": "@jupyter-widgets/base",
       "_view_module_version": "1.2.0",
       "_view_name": "StyleView",
       "description_width": ""
      }
     },
     "1c42b4fbdd6e40bf81e6cf19f9e2be63": {
      "model_module": "@jupyter-widgets/base",
      "model_module_version": "1.2.0",
      "model_name": "LayoutModel",
      "state": {
       "_model_module": "@jupyter-widgets/base",
       "_model_module_version": "1.2.0",
       "_model_name": "LayoutModel",
       "_view_count": null,
       "_view_module": "@jupyter-widgets/base",
       "_view_module_version": "1.2.0",
       "_view_name": "LayoutView",
       "align_content": null,
       "align_items": null,
       "align_self": null,
       "border": null,
       "bottom": null,
       "display": null,
       "flex": null,
       "flex_flow": null,
       "grid_area": null,
       "grid_auto_columns": null,
       "grid_auto_flow": null,
       "grid_auto_rows": null,
       "grid_column": null,
       "grid_gap": null,
       "grid_row": null,
       "grid_template_areas": null,
       "grid_template_columns": null,
       "grid_template_rows": null,
       "height": null,
       "justify_content": null,
       "justify_items": null,
       "left": null,
       "margin": null,
       "max_height": null,
       "max_width": null,
       "min_height": null,
       "min_width": null,
       "object_fit": null,
       "object_position": null,
       "order": null,
       "overflow": null,
       "overflow_x": null,
       "overflow_y": null,
       "padding": null,
       "right": null,
       "top": null,
       "visibility": null,
       "width": null
      }
     },
     "1edec4c8812c42489ccb7bde0626609a": {
      "model_module": "@jupyter-widgets/controls",
      "model_module_version": "1.5.0",
      "model_name": "DescriptionStyleModel",
      "state": {
       "_model_module": "@jupyter-widgets/controls",
       "_model_module_version": "1.5.0",
       "_model_name": "DescriptionStyleModel",
       "_view_count": null,
       "_view_module": "@jupyter-widgets/base",
       "_view_module_version": "1.2.0",
       "_view_name": "StyleView",
       "description_width": ""
      }
     },
     "225bb234c6844cfe8e2f14831b059b8b": {
      "model_module": "@jupyter-widgets/base",
      "model_module_version": "1.2.0",
      "model_name": "LayoutModel",
      "state": {
       "_model_module": "@jupyter-widgets/base",
       "_model_module_version": "1.2.0",
       "_model_name": "LayoutModel",
       "_view_count": null,
       "_view_module": "@jupyter-widgets/base",
       "_view_module_version": "1.2.0",
       "_view_name": "LayoutView",
       "align_content": null,
       "align_items": null,
       "align_self": null,
       "border": null,
       "bottom": null,
       "display": null,
       "flex": null,
       "flex_flow": null,
       "grid_area": null,
       "grid_auto_columns": null,
       "grid_auto_flow": null,
       "grid_auto_rows": null,
       "grid_column": null,
       "grid_gap": null,
       "grid_row": null,
       "grid_template_areas": null,
       "grid_template_columns": null,
       "grid_template_rows": null,
       "height": null,
       "justify_content": null,
       "justify_items": null,
       "left": null,
       "margin": null,
       "max_height": null,
       "max_width": null,
       "min_height": null,
       "min_width": null,
       "object_fit": null,
       "object_position": null,
       "order": null,
       "overflow": null,
       "overflow_x": null,
       "overflow_y": null,
       "padding": null,
       "right": null,
       "top": null,
       "visibility": null,
       "width": null
      }
     },
     "2a30512ba3154eb292be325eeee2677b": {
      "model_module": "@jupyter-widgets/controls",
      "model_module_version": "1.5.0",
      "model_name": "HTMLModel",
      "state": {
       "_dom_classes": [],
       "_model_module": "@jupyter-widgets/controls",
       "_model_module_version": "1.5.0",
       "_model_name": "HTMLModel",
       "_view_count": null,
       "_view_module": "@jupyter-widgets/controls",
       "_view_module_version": "1.5.0",
       "_view_name": "HTMLView",
       "description": "",
       "description_tooltip": null,
       "layout": "IPY_MODEL_4836be34bf614573800ef0ff12dc29c0",
       "placeholder": "​",
       "style": "IPY_MODEL_9af075e4ad544036bf41c249420d3025",
       "value": "100%"
      }
     },
     "2ec0f26d78324a42861c9990fb51d4d2": {
      "model_module": "@jupyter-widgets/controls",
      "model_module_version": "1.5.0",
      "model_name": "ProgressStyleModel",
      "state": {
       "_model_module": "@jupyter-widgets/controls",
       "_model_module_version": "1.5.0",
       "_model_name": "ProgressStyleModel",
       "_view_count": null,
       "_view_module": "@jupyter-widgets/base",
       "_view_module_version": "1.2.0",
       "_view_name": "StyleView",
       "bar_color": null,
       "description_width": ""
      }
     },
     "31c9d1f2e8a7461ba8906fb066134112": {
      "model_module": "@jupyter-widgets/base",
      "model_module_version": "1.2.0",
      "model_name": "LayoutModel",
      "state": {
       "_model_module": "@jupyter-widgets/base",
       "_model_module_version": "1.2.0",
       "_model_name": "LayoutModel",
       "_view_count": null,
       "_view_module": "@jupyter-widgets/base",
       "_view_module_version": "1.2.0",
       "_view_name": "LayoutView",
       "align_content": null,
       "align_items": null,
       "align_self": null,
       "border": null,
       "bottom": null,
       "display": null,
       "flex": null,
       "flex_flow": null,
       "grid_area": null,
       "grid_auto_columns": null,
       "grid_auto_flow": null,
       "grid_auto_rows": null,
       "grid_column": null,
       "grid_gap": null,
       "grid_row": null,
       "grid_template_areas": null,
       "grid_template_columns": null,
       "grid_template_rows": null,
       "height": null,
       "justify_content": null,
       "justify_items": null,
       "left": null,
       "margin": null,
       "max_height": null,
       "max_width": null,
       "min_height": null,
       "min_width": null,
       "object_fit": null,
       "object_position": null,
       "order": null,
       "overflow": null,
       "overflow_x": null,
       "overflow_y": null,
       "padding": null,
       "right": null,
       "top": null,
       "visibility": null,
       "width": null
      }
     },
     "34256d4970a74cbc9ebc560f873088ab": {
      "model_module": "@jupyter-widgets/controls",
      "model_module_version": "1.5.0",
      "model_name": "HBoxModel",
      "state": {
       "_dom_classes": [],
       "_model_module": "@jupyter-widgets/controls",
       "_model_module_version": "1.5.0",
       "_model_name": "HBoxModel",
       "_view_count": null,
       "_view_module": "@jupyter-widgets/controls",
       "_view_module_version": "1.5.0",
       "_view_name": "HBoxView",
       "box_style": "",
       "children": [
        "IPY_MODEL_e256adb84a3a49768c2c15c0b242f4e5",
        "IPY_MODEL_f23543c0589a4878a630502df8ce4edc",
        "IPY_MODEL_fee248816bf84919b6ac0657773e52d1"
       ],
       "layout": "IPY_MODEL_225bb234c6844cfe8e2f14831b059b8b"
      }
     },
     "45fd8f112f094138a1aaaecaa845590b": {
      "model_module": "@jupyter-widgets/base",
      "model_module_version": "1.2.0",
      "model_name": "LayoutModel",
      "state": {
       "_model_module": "@jupyter-widgets/base",
       "_model_module_version": "1.2.0",
       "_model_name": "LayoutModel",
       "_view_count": null,
       "_view_module": "@jupyter-widgets/base",
       "_view_module_version": "1.2.0",
       "_view_name": "LayoutView",
       "align_content": null,
       "align_items": null,
       "align_self": null,
       "border": null,
       "bottom": null,
       "display": null,
       "flex": null,
       "flex_flow": null,
       "grid_area": null,
       "grid_auto_columns": null,
       "grid_auto_flow": null,
       "grid_auto_rows": null,
       "grid_column": null,
       "grid_gap": null,
       "grid_row": null,
       "grid_template_areas": null,
       "grid_template_columns": null,
       "grid_template_rows": null,
       "height": null,
       "justify_content": null,
       "justify_items": null,
       "left": null,
       "margin": null,
       "max_height": null,
       "max_width": null,
       "min_height": null,
       "min_width": null,
       "object_fit": null,
       "object_position": null,
       "order": null,
       "overflow": null,
       "overflow_x": null,
       "overflow_y": null,
       "padding": null,
       "right": null,
       "top": null,
       "visibility": null,
       "width": null
      }
     },
     "4836be34bf614573800ef0ff12dc29c0": {
      "model_module": "@jupyter-widgets/base",
      "model_module_version": "1.2.0",
      "model_name": "LayoutModel",
      "state": {
       "_model_module": "@jupyter-widgets/base",
       "_model_module_version": "1.2.0",
       "_model_name": "LayoutModel",
       "_view_count": null,
       "_view_module": "@jupyter-widgets/base",
       "_view_module_version": "1.2.0",
       "_view_name": "LayoutView",
       "align_content": null,
       "align_items": null,
       "align_self": null,
       "border": null,
       "bottom": null,
       "display": null,
       "flex": null,
       "flex_flow": null,
       "grid_area": null,
       "grid_auto_columns": null,
       "grid_auto_flow": null,
       "grid_auto_rows": null,
       "grid_column": null,
       "grid_gap": null,
       "grid_row": null,
       "grid_template_areas": null,
       "grid_template_columns": null,
       "grid_template_rows": null,
       "height": null,
       "justify_content": null,
       "justify_items": null,
       "left": null,
       "margin": null,
       "max_height": null,
       "max_width": null,
       "min_height": null,
       "min_width": null,
       "object_fit": null,
       "object_position": null,
       "order": null,
       "overflow": null,
       "overflow_x": null,
       "overflow_y": null,
       "padding": null,
       "right": null,
       "top": null,
       "visibility": null,
       "width": null
      }
     },
     "4c2df0e79f4f4ae1a89172cb3ad29f34": {
      "model_module": "@jupyter-widgets/base",
      "model_module_version": "1.2.0",
      "model_name": "LayoutModel",
      "state": {
       "_model_module": "@jupyter-widgets/base",
       "_model_module_version": "1.2.0",
       "_model_name": "LayoutModel",
       "_view_count": null,
       "_view_module": "@jupyter-widgets/base",
       "_view_module_version": "1.2.0",
       "_view_name": "LayoutView",
       "align_content": null,
       "align_items": null,
       "align_self": null,
       "border": null,
       "bottom": null,
       "display": null,
       "flex": null,
       "flex_flow": null,
       "grid_area": null,
       "grid_auto_columns": null,
       "grid_auto_flow": null,
       "grid_auto_rows": null,
       "grid_column": null,
       "grid_gap": null,
       "grid_row": null,
       "grid_template_areas": null,
       "grid_template_columns": null,
       "grid_template_rows": null,
       "height": null,
       "justify_content": null,
       "justify_items": null,
       "left": null,
       "margin": null,
       "max_height": null,
       "max_width": null,
       "min_height": null,
       "min_width": null,
       "object_fit": null,
       "object_position": null,
       "order": null,
       "overflow": null,
       "overflow_x": null,
       "overflow_y": null,
       "padding": null,
       "right": null,
       "top": null,
       "visibility": null,
       "width": null
      }
     },
     "7a54d5f62058445983aac3309552c54a": {
      "model_module": "@jupyter-widgets/controls",
      "model_module_version": "1.5.0",
      "model_name": "HTMLModel",
      "state": {
       "_dom_classes": [],
       "_model_module": "@jupyter-widgets/controls",
       "_model_module_version": "1.5.0",
       "_model_name": "HTMLModel",
       "_view_count": null,
       "_view_module": "@jupyter-widgets/controls",
       "_view_module_version": "1.5.0",
       "_view_name": "HTMLView",
       "description": "",
       "description_tooltip": null,
       "layout": "IPY_MODEL_4c2df0e79f4f4ae1a89172cb3ad29f34",
       "placeholder": "​",
       "style": "IPY_MODEL_1edec4c8812c42489ccb7bde0626609a",
       "value": " 192/192 [01:19&lt;00:00,  2.45it/s]"
      }
     },
     "824cee60a7ff4e06ba1d6700a06662df": {
      "model_module": "@jupyter-widgets/base",
      "model_module_version": "1.2.0",
      "model_name": "LayoutModel",
      "state": {
       "_model_module": "@jupyter-widgets/base",
       "_model_module_version": "1.2.0",
       "_model_name": "LayoutModel",
       "_view_count": null,
       "_view_module": "@jupyter-widgets/base",
       "_view_module_version": "1.2.0",
       "_view_name": "LayoutView",
       "align_content": null,
       "align_items": null,
       "align_self": null,
       "border": null,
       "bottom": null,
       "display": null,
       "flex": null,
       "flex_flow": null,
       "grid_area": null,
       "grid_auto_columns": null,
       "grid_auto_flow": null,
       "grid_auto_rows": null,
       "grid_column": null,
       "grid_gap": null,
       "grid_row": null,
       "grid_template_areas": null,
       "grid_template_columns": null,
       "grid_template_rows": null,
       "height": null,
       "justify_content": null,
       "justify_items": null,
       "left": null,
       "margin": null,
       "max_height": null,
       "max_width": null,
       "min_height": null,
       "min_width": null,
       "object_fit": null,
       "object_position": null,
       "order": null,
       "overflow": null,
       "overflow_x": null,
       "overflow_y": null,
       "padding": null,
       "right": null,
       "top": null,
       "visibility": null,
       "width": null
      }
     },
     "841afb3c69f64fb59a58aed50aecd220": {
      "model_module": "@jupyter-widgets/controls",
      "model_module_version": "1.5.0",
      "model_name": "ProgressStyleModel",
      "state": {
       "_model_module": "@jupyter-widgets/controls",
       "_model_module_version": "1.5.0",
       "_model_name": "ProgressStyleModel",
       "_view_count": null,
       "_view_module": "@jupyter-widgets/base",
       "_view_module_version": "1.2.0",
       "_view_name": "StyleView",
       "bar_color": null,
       "description_width": ""
      }
     },
     "8e2ff775350245af9db7cb489cfaa0f6": {
      "model_module": "@jupyter-widgets/controls",
      "model_module_version": "1.5.0",
      "model_name": "HTMLModel",
      "state": {
       "_dom_classes": [],
       "_model_module": "@jupyter-widgets/controls",
       "_model_module_version": "1.5.0",
       "_model_name": "HTMLModel",
       "_view_count": null,
       "_view_module": "@jupyter-widgets/controls",
       "_view_module_version": "1.5.0",
       "_view_name": "HTMLView",
       "description": "",
       "description_tooltip": null,
       "layout": "IPY_MODEL_d2bb466f8bf34b37a5ec72783f12dd40",
       "placeholder": "​",
       "style": "IPY_MODEL_095ae1f3bcbe4722b4bba5e45050b8c6",
       "value": "100%"
      }
     },
     "91f9e4c3b8cf415a8747505c57dd67ae": {
      "model_module": "@jupyter-widgets/base",
      "model_module_version": "1.2.0",
      "model_name": "LayoutModel",
      "state": {
       "_model_module": "@jupyter-widgets/base",
       "_model_module_version": "1.2.0",
       "_model_name": "LayoutModel",
       "_view_count": null,
       "_view_module": "@jupyter-widgets/base",
       "_view_module_version": "1.2.0",
       "_view_name": "LayoutView",
       "align_content": null,
       "align_items": null,
       "align_self": null,
       "border": null,
       "bottom": null,
       "display": null,
       "flex": null,
       "flex_flow": null,
       "grid_area": null,
       "grid_auto_columns": null,
       "grid_auto_flow": null,
       "grid_auto_rows": null,
       "grid_column": null,
       "grid_gap": null,
       "grid_row": null,
       "grid_template_areas": null,
       "grid_template_columns": null,
       "grid_template_rows": null,
       "height": null,
       "justify_content": null,
       "justify_items": null,
       "left": null,
       "margin": null,
       "max_height": null,
       "max_width": null,
       "min_height": null,
       "min_width": null,
       "object_fit": null,
       "object_position": null,
       "order": null,
       "overflow": null,
       "overflow_x": null,
       "overflow_y": null,
       "padding": null,
       "right": null,
       "top": null,
       "visibility": null,
       "width": null
      }
     },
     "9af075e4ad544036bf41c249420d3025": {
      "model_module": "@jupyter-widgets/controls",
      "model_module_version": "1.5.0",
      "model_name": "DescriptionStyleModel",
      "state": {
       "_model_module": "@jupyter-widgets/controls",
       "_model_module_version": "1.5.0",
       "_model_name": "DescriptionStyleModel",
       "_view_count": null,
       "_view_module": "@jupyter-widgets/base",
       "_view_module_version": "1.2.0",
       "_view_name": "StyleView",
       "description_width": ""
      }
     },
     "9c568ee1daf6436c83c338eb04ab58b3": {
      "model_module": "@jupyter-widgets/controls",
      "model_module_version": "1.5.0",
      "model_name": "HTMLModel",
      "state": {
       "_dom_classes": [],
       "_model_module": "@jupyter-widgets/controls",
       "_model_module_version": "1.5.0",
       "_model_name": "HTMLModel",
       "_view_count": null,
       "_view_module": "@jupyter-widgets/controls",
       "_view_module_version": "1.5.0",
       "_view_name": "HTMLView",
       "description": "",
       "description_tooltip": null,
       "layout": "IPY_MODEL_824cee60a7ff4e06ba1d6700a06662df",
       "placeholder": "​",
       "style": "IPY_MODEL_c2b487ee9a5745a299143e12929c11d4",
       "value": "100%"
      }
     },
     "a16d304fc4554e3aa42f1ea90dffeeb7": {
      "model_module": "@jupyter-widgets/controls",
      "model_module_version": "1.5.0",
      "model_name": "HBoxModel",
      "state": {
       "_dom_classes": [],
       "_model_module": "@jupyter-widgets/controls",
       "_model_module_version": "1.5.0",
       "_model_name": "HBoxModel",
       "_view_count": null,
       "_view_module": "@jupyter-widgets/controls",
       "_view_module_version": "1.5.0",
       "_view_name": "HBoxView",
       "box_style": "",
       "children": [
        "IPY_MODEL_8e2ff775350245af9db7cb489cfaa0f6",
        "IPY_MODEL_c052e5fee54043f083b7941caab96e3f",
        "IPY_MODEL_7a54d5f62058445983aac3309552c54a"
       ],
       "layout": "IPY_MODEL_91f9e4c3b8cf415a8747505c57dd67ae"
      }
     },
     "b07a1e0dd49c46ae8f89a01b5553b4a3": {
      "model_module": "@jupyter-widgets/base",
      "model_module_version": "1.2.0",
      "model_name": "LayoutModel",
      "state": {
       "_model_module": "@jupyter-widgets/base",
       "_model_module_version": "1.2.0",
       "_model_name": "LayoutModel",
       "_view_count": null,
       "_view_module": "@jupyter-widgets/base",
       "_view_module_version": "1.2.0",
       "_view_name": "LayoutView",
       "align_content": null,
       "align_items": null,
       "align_self": null,
       "border": null,
       "bottom": null,
       "display": null,
       "flex": null,
       "flex_flow": null,
       "grid_area": null,
       "grid_auto_columns": null,
       "grid_auto_flow": null,
       "grid_auto_rows": null,
       "grid_column": null,
       "grid_gap": null,
       "grid_row": null,
       "grid_template_areas": null,
       "grid_template_columns": null,
       "grid_template_rows": null,
       "height": null,
       "justify_content": null,
       "justify_items": null,
       "left": null,
       "margin": null,
       "max_height": null,
       "max_width": null,
       "min_height": null,
       "min_width": null,
       "object_fit": null,
       "object_position": null,
       "order": null,
       "overflow": null,
       "overflow_x": null,
       "overflow_y": null,
       "padding": null,
       "right": null,
       "top": null,
       "visibility": null,
       "width": null
      }
     },
     "c052e5fee54043f083b7941caab96e3f": {
      "model_module": "@jupyter-widgets/controls",
      "model_module_version": "1.5.0",
      "model_name": "FloatProgressModel",
      "state": {
       "_dom_classes": [],
       "_model_module": "@jupyter-widgets/controls",
       "_model_module_version": "1.5.0",
       "_model_name": "FloatProgressModel",
       "_view_count": null,
       "_view_module": "@jupyter-widgets/controls",
       "_view_module_version": "1.5.0",
       "_view_name": "ProgressView",
       "bar_style": "success",
       "description": "",
       "description_tooltip": null,
       "layout": "IPY_MODEL_cd9e1a41b32f4aa8a378ce33083281a7",
       "max": 192.0,
       "min": 0.0,
       "orientation": "horizontal",
       "style": "IPY_MODEL_2ec0f26d78324a42861c9990fb51d4d2",
       "value": 192.0
      }
     },
     "c15c439176334014b29b68e28f7f668d": {
      "model_module": "@jupyter-widgets/controls",
      "model_module_version": "1.5.0",
      "model_name": "HTMLModel",
      "state": {
       "_dom_classes": [],
       "_model_module": "@jupyter-widgets/controls",
       "_model_module_version": "1.5.0",
       "_model_name": "HTMLModel",
       "_view_count": null,
       "_view_module": "@jupyter-widgets/controls",
       "_view_module_version": "1.5.0",
       "_view_name": "HTMLView",
       "description": "",
       "description_tooltip": null,
       "layout": "IPY_MODEL_b07a1e0dd49c46ae8f89a01b5553b4a3",
       "placeholder": "​",
       "style": "IPY_MODEL_167893e88bce43839f87851f5ac84f18",
       "value": " 351/351 [00:59&lt;00:00, 11.59it/s]"
      }
     },
     "c1afc65d1a3040db9dadeb4735434c71": {
      "model_module": "@jupyter-widgets/base",
      "model_module_version": "1.2.0",
      "model_name": "LayoutModel",
      "state": {
       "_model_module": "@jupyter-widgets/base",
       "_model_module_version": "1.2.0",
       "_model_name": "LayoutModel",
       "_view_count": null,
       "_view_module": "@jupyter-widgets/base",
       "_view_module_version": "1.2.0",
       "_view_name": "LayoutView",
       "align_content": null,
       "align_items": null,
       "align_self": null,
       "border": null,
       "bottom": null,
       "display": null,
       "flex": null,
       "flex_flow": null,
       "grid_area": null,
       "grid_auto_columns": null,
       "grid_auto_flow": null,
       "grid_auto_rows": null,
       "grid_column": null,
       "grid_gap": null,
       "grid_row": null,
       "grid_template_areas": null,
       "grid_template_columns": null,
       "grid_template_rows": null,
       "height": null,
       "justify_content": null,
       "justify_items": null,
       "left": null,
       "margin": null,
       "max_height": null,
       "max_width": null,
       "min_height": null,
       "min_width": null,
       "object_fit": null,
       "object_position": null,
       "order": null,
       "overflow": null,
       "overflow_x": null,
       "overflow_y": null,
       "padding": null,
       "right": null,
       "top": null,
       "visibility": null,
       "width": null
      }
     },
     "c2b487ee9a5745a299143e12929c11d4": {
      "model_module": "@jupyter-widgets/controls",
      "model_module_version": "1.5.0",
      "model_name": "DescriptionStyleModel",
      "state": {
       "_model_module": "@jupyter-widgets/controls",
       "_model_module_version": "1.5.0",
       "_model_name": "DescriptionStyleModel",
       "_view_count": null,
       "_view_module": "@jupyter-widgets/base",
       "_view_module_version": "1.2.0",
       "_view_name": "StyleView",
       "description_width": ""
      }
     },
     "c43c624593e549a09c68953e1f17890d": {
      "model_module": "@jupyter-widgets/controls",
      "model_module_version": "1.5.0",
      "model_name": "ProgressStyleModel",
      "state": {
       "_model_module": "@jupyter-widgets/controls",
       "_model_module_version": "1.5.0",
       "_model_name": "ProgressStyleModel",
       "_view_count": null,
       "_view_module": "@jupyter-widgets/base",
       "_view_module_version": "1.2.0",
       "_view_name": "StyleView",
       "bar_color": null,
       "description_width": ""
      }
     },
     "cd9e1a41b32f4aa8a378ce33083281a7": {
      "model_module": "@jupyter-widgets/base",
      "model_module_version": "1.2.0",
      "model_name": "LayoutModel",
      "state": {
       "_model_module": "@jupyter-widgets/base",
       "_model_module_version": "1.2.0",
       "_model_name": "LayoutModel",
       "_view_count": null,
       "_view_module": "@jupyter-widgets/base",
       "_view_module_version": "1.2.0",
       "_view_name": "LayoutView",
       "align_content": null,
       "align_items": null,
       "align_self": null,
       "border": null,
       "bottom": null,
       "display": null,
       "flex": null,
       "flex_flow": null,
       "grid_area": null,
       "grid_auto_columns": null,
       "grid_auto_flow": null,
       "grid_auto_rows": null,
       "grid_column": null,
       "grid_gap": null,
       "grid_row": null,
       "grid_template_areas": null,
       "grid_template_columns": null,
       "grid_template_rows": null,
       "height": null,
       "justify_content": null,
       "justify_items": null,
       "left": null,
       "margin": null,
       "max_height": null,
       "max_width": null,
       "min_height": null,
       "min_width": null,
       "object_fit": null,
       "object_position": null,
       "order": null,
       "overflow": null,
       "overflow_x": null,
       "overflow_y": null,
       "padding": null,
       "right": null,
       "top": null,
       "visibility": null,
       "width": null
      }
     },
     "d2bb466f8bf34b37a5ec72783f12dd40": {
      "model_module": "@jupyter-widgets/base",
      "model_module_version": "1.2.0",
      "model_name": "LayoutModel",
      "state": {
       "_model_module": "@jupyter-widgets/base",
       "_model_module_version": "1.2.0",
       "_model_name": "LayoutModel",
       "_view_count": null,
       "_view_module": "@jupyter-widgets/base",
       "_view_module_version": "1.2.0",
       "_view_name": "LayoutView",
       "align_content": null,
       "align_items": null,
       "align_self": null,
       "border": null,
       "bottom": null,
       "display": null,
       "flex": null,
       "flex_flow": null,
       "grid_area": null,
       "grid_auto_columns": null,
       "grid_auto_flow": null,
       "grid_auto_rows": null,
       "grid_column": null,
       "grid_gap": null,
       "grid_row": null,
       "grid_template_areas": null,
       "grid_template_columns": null,
       "grid_template_rows": null,
       "height": null,
       "justify_content": null,
       "justify_items": null,
       "left": null,
       "margin": null,
       "max_height": null,
       "max_width": null,
       "min_height": null,
       "min_width": null,
       "object_fit": null,
       "object_position": null,
       "order": null,
       "overflow": null,
       "overflow_x": null,
       "overflow_y": null,
       "padding": null,
       "right": null,
       "top": null,
       "visibility": null,
       "width": null
      }
     },
     "d8c294cfab25488ab86bf2e62d5ee4e6": {
      "model_module": "@jupyter-widgets/controls",
      "model_module_version": "1.5.0",
      "model_name": "HBoxModel",
      "state": {
       "_dom_classes": [],
       "_model_module": "@jupyter-widgets/controls",
       "_model_module_version": "1.5.0",
       "_model_name": "HBoxModel",
       "_view_count": null,
       "_view_module": "@jupyter-widgets/controls",
       "_view_module_version": "1.5.0",
       "_view_name": "HBoxView",
       "box_style": "",
       "children": [
        "IPY_MODEL_9c568ee1daf6436c83c338eb04ab58b3",
        "IPY_MODEL_0e0cea0f2e994dc2ad240d393b5fc8e4",
        "IPY_MODEL_c15c439176334014b29b68e28f7f668d"
       ],
       "layout": "IPY_MODEL_e30eea196b1c41518abd75e4c52dab5c"
      }
     },
     "dd686e1b289e4d988966ebd29a2036e7": {
      "model_module": "@jupyter-widgets/base",
      "model_module_version": "1.2.0",
      "model_name": "LayoutModel",
      "state": {
       "_model_module": "@jupyter-widgets/base",
       "_model_module_version": "1.2.0",
       "_model_name": "LayoutModel",
       "_view_count": null,
       "_view_module": "@jupyter-widgets/base",
       "_view_module_version": "1.2.0",
       "_view_name": "LayoutView",
       "align_content": null,
       "align_items": null,
       "align_self": null,
       "border": null,
       "bottom": null,
       "display": null,
       "flex": null,
       "flex_flow": null,
       "grid_area": null,
       "grid_auto_columns": null,
       "grid_auto_flow": null,
       "grid_auto_rows": null,
       "grid_column": null,
       "grid_gap": null,
       "grid_row": null,
       "grid_template_areas": null,
       "grid_template_columns": null,
       "grid_template_rows": null,
       "height": null,
       "justify_content": null,
       "justify_items": null,
       "left": null,
       "margin": null,
       "max_height": null,
       "max_width": null,
       "min_height": null,
       "min_width": null,
       "object_fit": null,
       "object_position": null,
       "order": null,
       "overflow": null,
       "overflow_x": null,
       "overflow_y": null,
       "padding": null,
       "right": null,
       "top": null,
       "visibility": null,
       "width": null
      }
     },
     "e256adb84a3a49768c2c15c0b242f4e5": {
      "model_module": "@jupyter-widgets/controls",
      "model_module_version": "1.5.0",
      "model_name": "HTMLModel",
      "state": {
       "_dom_classes": [],
       "_model_module": "@jupyter-widgets/controls",
       "_model_module_version": "1.5.0",
       "_model_name": "HTMLModel",
       "_view_count": null,
       "_view_module": "@jupyter-widgets/controls",
       "_view_module_version": "1.5.0",
       "_view_name": "HTMLView",
       "description": "",
       "description_tooltip": null,
       "layout": "IPY_MODEL_45fd8f112f094138a1aaaecaa845590b",
       "placeholder": "​",
       "style": "IPY_MODEL_115f6b88458a4378ba61acb417f4d968",
       "value": "[Loss: 0.23392948508262634]: 100%"
      }
     },
     "e30eea196b1c41518abd75e4c52dab5c": {
      "model_module": "@jupyter-widgets/base",
      "model_module_version": "1.2.0",
      "model_name": "LayoutModel",
      "state": {
       "_model_module": "@jupyter-widgets/base",
       "_model_module_version": "1.2.0",
       "_model_name": "LayoutModel",
       "_view_count": null,
       "_view_module": "@jupyter-widgets/base",
       "_view_module_version": "1.2.0",
       "_view_name": "LayoutView",
       "align_content": null,
       "align_items": null,
       "align_self": null,
       "border": null,
       "bottom": null,
       "display": null,
       "flex": null,
       "flex_flow": null,
       "grid_area": null,
       "grid_auto_columns": null,
       "grid_auto_flow": null,
       "grid_auto_rows": null,
       "grid_column": null,
       "grid_gap": null,
       "grid_row": null,
       "grid_template_areas": null,
       "grid_template_columns": null,
       "grid_template_rows": null,
       "height": null,
       "justify_content": null,
       "justify_items": null,
       "left": null,
       "margin": null,
       "max_height": null,
       "max_width": null,
       "min_height": null,
       "min_width": null,
       "object_fit": null,
       "object_position": null,
       "order": null,
       "overflow": null,
       "overflow_x": null,
       "overflow_y": null,
       "padding": null,
       "right": null,
       "top": null,
       "visibility": null,
       "width": null
      }
     },
     "e370562836644c1a83629576ccd65727": {
      "model_module": "@jupyter-widgets/base",
      "model_module_version": "1.2.0",
      "model_name": "LayoutModel",
      "state": {
       "_model_module": "@jupyter-widgets/base",
       "_model_module_version": "1.2.0",
       "_model_name": "LayoutModel",
       "_view_count": null,
       "_view_module": "@jupyter-widgets/base",
       "_view_module_version": "1.2.0",
       "_view_name": "LayoutView",
       "align_content": null,
       "align_items": null,
       "align_self": null,
       "border": null,
       "bottom": null,
       "display": null,
       "flex": null,
       "flex_flow": null,
       "grid_area": null,
       "grid_auto_columns": null,
       "grid_auto_flow": null,
       "grid_auto_rows": null,
       "grid_column": null,
       "grid_gap": null,
       "grid_row": null,
       "grid_template_areas": null,
       "grid_template_columns": null,
       "grid_template_rows": null,
       "height": null,
       "justify_content": null,
       "justify_items": null,
       "left": null,
       "margin": null,
       "max_height": null,
       "max_width": null,
       "min_height": null,
       "min_width": null,
       "object_fit": null,
       "object_position": null,
       "order": null,
       "overflow": null,
       "overflow_x": null,
       "overflow_y": null,
       "padding": null,
       "right": null,
       "top": null,
       "visibility": null,
       "width": null
      }
     },
     "ebae3a98f30245c7a2dda3818f083de0": {
      "model_module": "@jupyter-widgets/base",
      "model_module_version": "1.2.0",
      "model_name": "LayoutModel",
      "state": {
       "_model_module": "@jupyter-widgets/base",
       "_model_module_version": "1.2.0",
       "_model_name": "LayoutModel",
       "_view_count": null,
       "_view_module": "@jupyter-widgets/base",
       "_view_module_version": "1.2.0",
       "_view_name": "LayoutView",
       "align_content": null,
       "align_items": null,
       "align_self": null,
       "border": null,
       "bottom": null,
       "display": null,
       "flex": null,
       "flex_flow": null,
       "grid_area": null,
       "grid_auto_columns": null,
       "grid_auto_flow": null,
       "grid_auto_rows": null,
       "grid_column": null,
       "grid_gap": null,
       "grid_row": null,
       "grid_template_areas": null,
       "grid_template_columns": null,
       "grid_template_rows": null,
       "height": null,
       "justify_content": null,
       "justify_items": null,
       "left": null,
       "margin": null,
       "max_height": null,
       "max_width": null,
       "min_height": null,
       "min_width": null,
       "object_fit": null,
       "object_position": null,
       "order": null,
       "overflow": null,
       "overflow_x": null,
       "overflow_y": null,
       "padding": null,
       "right": null,
       "top": null,
       "visibility": null,
       "width": null
      }
     },
     "f0195d420af34328814417475a949739": {
      "model_module": "@jupyter-widgets/controls",
      "model_module_version": "1.5.0",
      "model_name": "DescriptionStyleModel",
      "state": {
       "_model_module": "@jupyter-widgets/controls",
       "_model_module_version": "1.5.0",
       "_model_name": "DescriptionStyleModel",
       "_view_count": null,
       "_view_module": "@jupyter-widgets/base",
       "_view_module_version": "1.2.0",
       "_view_name": "StyleView",
       "description_width": ""
      }
     },
     "f23543c0589a4878a630502df8ce4edc": {
      "model_module": "@jupyter-widgets/controls",
      "model_module_version": "1.5.0",
      "model_name": "FloatProgressModel",
      "state": {
       "_dom_classes": [],
       "_model_module": "@jupyter-widgets/controls",
       "_model_module_version": "1.5.0",
       "_model_name": "FloatProgressModel",
       "_view_count": null,
       "_view_module": "@jupyter-widgets/controls",
       "_view_module_version": "1.5.0",
       "_view_name": "ProgressView",
       "bar_style": "success",
       "description": "",
       "description_tooltip": null,
       "layout": "IPY_MODEL_31c9d1f2e8a7461ba8906fb066134112",
       "max": 9636.0,
       "min": 0.0,
       "orientation": "horizontal",
       "style": "IPY_MODEL_c43c624593e549a09c68953e1f17890d",
       "value": 9636.0
      }
     },
     "f30aa99e3cb540e4ab32ea2fb7b5bc5a": {
      "model_module": "@jupyter-widgets/controls",
      "model_module_version": "1.5.0",
      "model_name": "ProgressStyleModel",
      "state": {
       "_model_module": "@jupyter-widgets/controls",
       "_model_module_version": "1.5.0",
       "_model_name": "ProgressStyleModel",
       "_view_count": null,
       "_view_module": "@jupyter-widgets/base",
       "_view_module_version": "1.2.0",
       "_view_name": "StyleView",
       "bar_color": null,
       "description_width": ""
      }
     },
     "f366c1650fc1489fa54f1b48311312ff": {
      "model_module": "@jupyter-widgets/controls",
      "model_module_version": "1.5.0",
      "model_name": "HTMLModel",
      "state": {
       "_dom_classes": [],
       "_model_module": "@jupyter-widgets/controls",
       "_model_module_version": "1.5.0",
       "_model_name": "HTMLModel",
       "_view_count": null,
       "_view_module": "@jupyter-widgets/controls",
       "_view_module_version": "1.5.0",
       "_view_name": "HTMLView",
       "description": "",
       "description_tooltip": null,
       "layout": "IPY_MODEL_c1afc65d1a3040db9dadeb4735434c71",
       "placeholder": "​",
       "style": "IPY_MODEL_f0195d420af34328814417475a949739",
       "value": " 3071/3071 [09:36&lt;00:00, 11.17it/s]"
      }
     },
     "f6a68ca29d5c4026864b86cee6153176": {
      "model_module": "@jupyter-widgets/controls",
      "model_module_version": "1.5.0",
      "model_name": "FloatProgressModel",
      "state": {
       "_dom_classes": [],
       "_model_module": "@jupyter-widgets/controls",
       "_model_module_version": "1.5.0",
       "_model_name": "FloatProgressModel",
       "_view_count": null,
       "_view_module": "@jupyter-widgets/controls",
       "_view_module_version": "1.5.0",
       "_view_name": "ProgressView",
       "bar_style": "success",
       "description": "",
       "description_tooltip": null,
       "layout": "IPY_MODEL_e370562836644c1a83629576ccd65727",
       "max": 3071.0,
       "min": 0.0,
       "orientation": "horizontal",
       "style": "IPY_MODEL_841afb3c69f64fb59a58aed50aecd220",
       "value": 3071.0
      }
     },
     "f85bd8ce95a1470abb3e935b5e962894": {
      "model_module": "@jupyter-widgets/controls",
      "model_module_version": "1.5.0",
      "model_name": "DescriptionStyleModel",
      "state": {
       "_model_module": "@jupyter-widgets/controls",
       "_model_module_version": "1.5.0",
       "_model_name": "DescriptionStyleModel",
       "_view_count": null,
       "_view_module": "@jupyter-widgets/base",
       "_view_module_version": "1.2.0",
       "_view_name": "StyleView",
       "description_width": ""
      }
     },
     "fee248816bf84919b6ac0657773e52d1": {
      "model_module": "@jupyter-widgets/controls",
      "model_module_version": "1.5.0",
      "model_name": "HTMLModel",
      "state": {
       "_dom_classes": [],
       "_model_module": "@jupyter-widgets/controls",
       "_model_module_version": "1.5.0",
       "_model_name": "HTMLModel",
       "_view_count": null,
       "_view_module": "@jupyter-widgets/controls",
       "_view_module_version": "1.5.0",
       "_view_name": "HTMLView",
       "description": "",
       "description_tooltip": null,
       "layout": "IPY_MODEL_dd686e1b289e4d988966ebd29a2036e7",
       "placeholder": "​",
       "style": "IPY_MODEL_f85bd8ce95a1470abb3e935b5e962894",
       "value": " 9636/9636 [38:29&lt;00:00,  7.15it/s]"
      }
     }
    },
    "version_major": 2,
    "version_minor": 0
   }
  }
 },
 "nbformat": 4,
 "nbformat_minor": 5
}
