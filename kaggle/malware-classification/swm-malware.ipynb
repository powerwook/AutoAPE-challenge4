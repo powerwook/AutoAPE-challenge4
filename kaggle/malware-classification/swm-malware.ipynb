{
 "cells": [
  {
   "cell_type": "code",
   "execution_count": 1,
   "id": "c424321b",
   "metadata": {
    "execution": {
     "iopub.execute_input": "2023-06-29T02:26:18.779526Z",
     "iopub.status.busy": "2023-06-29T02:26:18.778622Z",
     "iopub.status.idle": "2023-06-29T02:26:20.946103Z",
     "shell.execute_reply": "2023-06-29T02:26:20.945404Z",
     "shell.execute_reply.started": "2023-06-29T01:27:16.351803Z"
    },
    "papermill": {
     "duration": 2.189918,
     "end_time": "2023-06-29T02:26:20.946291",
     "exception": false,
     "start_time": "2023-06-29T02:26:18.756373",
     "status": "completed"
    },
    "tags": []
   },
   "outputs": [
    {
     "data": {
      "text/html": [
       "<style type='text/css'>\n",
       ".datatable table.frame { margin-bottom: 0; }\n",
       ".datatable table.frame thead { border-bottom: none; }\n",
       ".datatable table.frame tr.coltypes td {  color: #FFFFFF;  line-height: 6px;  padding: 0 0.5em;}\n",
       ".datatable .bool    { background: #DDDD99; }\n",
       ".datatable .object  { background: #565656; }\n",
       ".datatable .int     { background: #5D9E5D; }\n",
       ".datatable .float   { background: #4040CC; }\n",
       ".datatable .str     { background: #CC4040; }\n",
       ".datatable .time    { background: #40CC40; }\n",
       ".datatable .row_index {  background: var(--jp-border-color3);  border-right: 1px solid var(--jp-border-color0);  color: var(--jp-ui-font-color3);  font-size: 9px;}\n",
       ".datatable .frame tbody td { text-align: left; }\n",
       ".datatable .frame tr.coltypes .row_index {  background: var(--jp-border-color0);}\n",
       ".datatable th:nth-child(2) { padding-left: 12px; }\n",
       ".datatable .hellipsis {  color: var(--jp-cell-editor-border-color);}\n",
       ".datatable .vellipsis {  background: var(--jp-layout-color0);  color: var(--jp-cell-editor-border-color);}\n",
       ".datatable .na {  color: var(--jp-cell-editor-border-color);  font-size: 80%;}\n",
       ".datatable .sp {  opacity: 0.25;}\n",
       ".datatable .footer { font-size: 9px; }\n",
       ".datatable .frame_dimensions {  background: var(--jp-border-color3);  border-top: 1px solid var(--jp-border-color0);  color: var(--jp-ui-font-color3);  display: inline-block;  opacity: 0.6;  padding: 1px 10px 1px 5px;}\n",
       "</style>\n"
      ],
      "text/plain": [
       "<IPython.core.display.HTML object>"
      ]
     },
     "metadata": {},
     "output_type": "display_data"
    }
   ],
   "source": [
    "import pandas as pd\n",
    "import numpy as np\n",
    "from tqdm import tqdm\n",
    "import os\n",
    "import warnings\n",
    "warnings.filterwarnings(\"ignore\")\n",
    "from sklearn.model_selection import StratifiedKFold\n",
    "fold = StratifiedKFold(n_splits=5, shuffle = True, random_state=62)\n",
    "\n",
    "from lightgbm import LGBMClassifier\n",
    "from xgboost import XGBClassifier\n",
    "from catboost import CatBoostClassifier"
   ]
  },
  {
   "cell_type": "code",
   "execution_count": 2,
   "id": "82cb173c",
   "metadata": {
    "execution": {
     "iopub.execute_input": "2023-06-29T02:26:21.064616Z",
     "iopub.status.busy": "2023-06-29T02:26:21.064007Z",
     "iopub.status.idle": "2023-06-29T02:26:21.141830Z",
     "shell.execute_reply": "2023-06-29T02:26:21.142271Z",
     "shell.execute_reply.started": "2023-06-29T01:27:19.208271Z"
    },
    "papermill": {
     "duration": 0.101827,
     "end_time": "2023-06-29T02:26:21.142426",
     "exception": false,
     "start_time": "2023-06-29T02:26:21.040599",
     "status": "completed"
    },
    "tags": []
   },
   "outputs": [],
   "source": [
    "train_labels=pd.read_csv(\"../input/malware-classification/trainLabels.csv\")\n",
    "sample = pd.read_csv(\"../input/malware-classification/sampleSubmission.csv\",index_col=\"Id\")\n",
    "a = '\"0\",\"1\",\"2\",\"3\",\"4\",\"5\",\"6\",\"7\",\"8\",\"9\",\"0a\",\"0b\",\"0c\",\"0d\",\"0e\",\"0f\",\"10\",\"11\",\"12\",\"13\",\"14\",\"15\",\"16\",\"17\",\"18\",\"19\",\"1a\",\"1b\",\"1c\",\"1d\",\"1e\",\"1f\",\"20\",\"21\",\"22\",\"23\",\"24\",\"25\",\"26\",\"27\",\"28\",\"29\",\"2a\",\"2b\",\"2c\",\"2d\",\"2e\",\"2f\",\"30\",\"31\",\"32\",\"33\",\"34\",\"35\",\"36\",\"37\",\"38\",\"39\",\"3a\",\"3b\",\"3c\",\"3d\",\"3e\",\"3f\",\"40\",\"41\",\"42\",\"43\",\"44\",\"45\",\"46\",\"47\",\"48\",\"49\",\"4a\",\"4b\",\"4c\",\"4d\",\"4e\",\"4f\",\"50\",\"51\",\"52\",\"53\",\"54\",\"55\",\"56\",\"57\",\"58\",\"59\",\"5a\",\"5b\",\"5c\",\"5d\",\"5e\",\"5f\",\"60\",\"61\",\"62\",\"63\",\"64\",\"65\",\"66\",\"67\",\"68\",\"69\",\"6a\",\"6b\",\"6c\",\"6d\",\"6e\",\"6f\",\"70\",\"71\",\"72\",\"73\",\"74\",\"75\",\"76\",\"77\",\"78\",\"79\",\"7a\",\"7b\",\"7c\",\"7d\",\"7e\",\"7f\",\"80\",\"81\",\"82\",\"83\",\"84\",\"85\",\"86\",\"87\",\"88\",\"89\",\"8a\",\"8b\",\"8c\",\"8d\",\"8e\",\"8f\",\"90\",\"91\",\"92\",\"93\",\"94\",\"95\",\"96\",\"97\",\"98\",\"99\",\"9a\",\"9b\",\"9c\",\"9d\",\"9e\",\"9f\",\"a0\",\"a1\",\"a2\",\"a3\",\"a4\",\"a5\",\"a6\",\"a7\",\"a8\",\"a9\",\"aa\",\"ab\",\"ac\",\"ad\",\"ae\",\"af\",\"b0\",\"b1\",\"b2\",\"b3\",\"b4\",\"b5\",\"b6\",\"b7\",\"b8\",\"b9\",\"ba\",\"bb\",\"bc\",\"bd\",\"be\",\"bf\",\"c0\",\"c1\",\"c2\",\"c3\",\"c4\",\"c5\",\"c6\",\"c7\",\"c8\",\"c9\",\"ca\",\"cb\",\"cc\",\"cd\",\"ce\",\"cf\",\"d0\",\"d1\",\"d2\",\"d3\",\"d4\",\"d5\",\"d6\",\"d7\",\"d8\",\"d9\",\"da\",\"db\",\"dc\",\"dd\",\"de\",\"df\",\"e0\",\"e1\",\"e2\",\"e3\",\"e4\",\"e5\",\"e6\",\"e7\",\"e8\",\"e9\",\"ea\",\"eb\",\"ec\",\"ed\",\"ee\",\"ef\",\"f0\",\"f1\",\"f2\",\"f3\",\"f4\",\"f5\",\"f6\",\"f7\",\"f8\",\"f9\",\"fa\",\"fb\",\"fc\",\"fd\",\"fe\",\"ff\",\"??\",\"size\",\"Class\"'"
   ]
  },
  {
   "attachments": {},
   "cell_type": "markdown",
   "id": "0854a4e6",
   "metadata": {
    "papermill": {
     "duration": 0.018322,
     "end_time": "2023-06-29T02:26:21.216050",
     "exception": false,
     "start_time": "2023-06-29T02:26:21.197728",
     "status": "completed"
    },
    "tags": []
   },
   "source": [
    "```python\n",
    "train_np = np.zeros((len(files),len(a.split(\",\"))))\n",
    "files = os.listdir(\"../input/malware-only-byte/only_byte\")\n",
    "files.sort()\n",
    "k=0\n",
    "for file in tqdm(files):\n",
    "    statinfo=os.stat(\"../input/malware-only-byte/only_byte/\"+file)\n",
    "    with open(\"../input/malware-only-byte/only_byte/\"+file,\"r\") as fp:\n",
    "        for lines in fp.readlines():\n",
    "            line=lines.rstrip().split(\" \")[1:]\n",
    "            for hex_code in line:\n",
    "                if hex_code=='??':\n",
    "                    train_np[k][256]+=1\n",
    "                else:\n",
    "                    train_np[k][int(hex_code,16)]+=1\n",
    "        train_np[k][257]=statinfo.st_size/(1024*1024)\n",
    "        train_np[k][258]=train_labels[train_labels[\"Id\"]==file.split('.')[0]][\"Class\"].tolist()[0]\n",
    "    fp.close()\n",
    "    k += 1\n",
    "train=pd.DataFrame(train_np, columns=a[1:-1].split('\",\"'))\n",
    "train.to_csv(\"train_data.csv\",index=False)\n",
    "train.head()\n",
    "```"
   ]
  },
  {
   "cell_type": "code",
   "execution_count": 3,
   "id": "71c163a0",
   "metadata": {
    "execution": {
     "iopub.execute_input": "2023-06-29T02:26:21.334202Z",
     "iopub.status.busy": "2023-06-29T02:26:21.333582Z",
     "iopub.status.idle": "2023-06-29T02:26:21.766094Z",
     "shell.execute_reply": "2023-06-29T02:26:21.765627Z",
     "shell.execute_reply.started": "2023-06-29T01:27:19.328845Z"
    },
    "papermill": {
     "duration": 0.455189,
     "end_time": "2023-06-29T02:26:21.766229",
     "exception": false,
     "start_time": "2023-06-29T02:26:21.311040",
     "status": "completed"
    },
    "tags": []
   },
   "outputs": [],
   "source": [
    "train=pd.read_csv(\"../input/malware-only-byte/train_data.csv\")"
   ]
  },
  {
   "attachments": {},
   "cell_type": "markdown",
   "id": "d3d16901",
   "metadata": {
    "papermill": {
     "duration": 0.018637,
     "end_time": "2023-06-29T02:26:21.803633",
     "exception": false,
     "start_time": "2023-06-29T02:26:21.784996",
     "status": "completed"
    },
    "tags": []
   },
   "source": [
    "```python\n",
    "file2=[]\n",
    "for file in files:\n",
    "    file2.append(file.split(\".\")[0])\n",
    "test_np = np.zeros((len(files),len(a.split(\",\"))))\n",
    "files = os.listdir(\"../input/malware-only-byte/test\")\n",
    "files.sort()\n",
    "k=0\n",
    "for file in tqdm(files):\n",
    "    statinfo=os.stat(\"../input/malware-only-byte/test/\"+file)\n",
    "    with open(\"../input/malware-only-byte/test/\"+file,\"r\") as fp:\n",
    "        for lines in fp.readlines():\n",
    "            line=lines.rstrip().split(\" \")[1:]\n",
    "            for hex_code in line:\n",
    "                if hex_code=='??':\n",
    "                    test_np[k][256]+=1\n",
    "                else:\n",
    "                    test_np[k][int(hex_code,16)]+=1\n",
    "        test_np[k][257]=statinfo.st_size/(1024*1024)\n",
    "    fp.close()\n",
    "    k += 1\n",
    "test=pd.DataFrame(test_np, columns=a[1:-1].split('\",\"'))\n",
    "test[\"Id\"] = file2\n",
    "test.to_csv(\"test_data.csv\",index=False)\n",
    "test.head()\n",
    "```"
   ]
  },
  {
   "cell_type": "code",
   "execution_count": 4,
   "id": "d5bf2191",
   "metadata": {
    "execution": {
     "iopub.execute_input": "2023-06-29T02:26:21.884086Z",
     "iopub.status.busy": "2023-06-29T02:26:21.883503Z",
     "iopub.status.idle": "2023-06-29T02:26:22.301566Z",
     "shell.execute_reply": "2023-06-29T02:26:22.301945Z",
     "shell.execute_reply.started": "2023-06-29T01:27:20.079469Z"
    },
    "papermill": {
     "duration": 0.441498,
     "end_time": "2023-06-29T02:26:22.302099",
     "exception": false,
     "start_time": "2023-06-29T02:26:21.860601",
     "status": "completed"
    },
    "tags": []
   },
   "outputs": [],
   "source": [
    "test=pd.read_csv(\"../input/malware-only-byte/test_data.csv\")"
   ]
  },
  {
   "cell_type": "code",
   "execution_count": 5,
   "id": "5c4017bb",
   "metadata": {
    "execution": {
     "iopub.execute_input": "2023-06-29T02:26:22.381664Z",
     "iopub.status.busy": "2023-06-29T02:26:22.380939Z",
     "iopub.status.idle": "2023-06-29T02:26:22.395397Z",
     "shell.execute_reply": "2023-06-29T02:26:22.395826Z",
     "shell.execute_reply.started": "2023-06-29T01:27:20.828437Z"
    },
    "papermill": {
     "duration": 0.036783,
     "end_time": "2023-06-29T02:26:22.395977",
     "exception": false,
     "start_time": "2023-06-29T02:26:22.359194",
     "status": "completed"
    },
    "tags": []
   },
   "outputs": [],
   "source": [
    "X = train.drop(['Class'], axis=1)\n",
    "y = train['Class']"
   ]
  },
  {
   "cell_type": "code",
   "execution_count": 6,
   "id": "ec142f9d",
   "metadata": {
    "execution": {
     "iopub.execute_input": "2023-06-29T02:26:22.554341Z",
     "iopub.status.busy": "2023-06-29T02:26:22.553584Z",
     "iopub.status.idle": "2023-06-29T02:30:21.069395Z",
     "shell.execute_reply": "2023-06-29T02:30:21.069830Z",
     "shell.execute_reply.started": "2023-06-29T01:27:20.854306Z"
    },
    "papermill": {
     "duration": 238.544377,
     "end_time": "2023-06-29T02:30:21.069970",
     "exception": false,
     "start_time": "2023-06-29T02:26:22.525593",
     "status": "completed"
    },
    "tags": []
   },
   "outputs": [],
   "source": [
    "stack_df = pd.read_csv(\"../input/malware-only-byte/train_data.csv\")\n",
    "for i,j in enumerate(fold.split(X,y)):\n",
    "    stack_train_X = X.iloc[j[0]]\n",
    "    stack_train_y = y.iloc[j[0]]\n",
    "    stack_test_X = X.iloc[j[1]]\n",
    "    stack_test_y = y.iloc[j[1]]\n",
    "    model = LGBMClassifier(learning_rate= 0.025, n_estimators = 850, min_child_weight = 1, boosting_type = \"gbdt\", min_child_samples=68,random_state = 62,objective = \"multi-class\",metric = \"multi_logloss\")\n",
    "    model.fit(stack_train_X,stack_train_y)\n",
    "    preds = model.predict_proba(stack_test_X)\n",
    "    preds = pd.DataFrame(preds)\n",
    "    stack_df[\"0\"].iloc[j[1]] = preds[0]\n",
    "    stack_df[\"1\"].iloc[j[1]] = preds[1]\n",
    "    stack_df[\"2\"].iloc[j[1]] = preds[2]\n",
    "    stack_df[\"3\"].iloc[j[1]] = preds[3]\n",
    "    stack_df[\"4\"].iloc[j[1]] = preds[4]\n",
    "    stack_df[\"5\"].iloc[j[1]] = preds[5]\n",
    "    stack_df[\"6\"].iloc[j[1]] = preds[6]\n",
    "    stack_df[\"7\"].iloc[j[1]] = preds[7]\n",
    "    stack_df[\"8\"].iloc[j[1]] = preds[8]\n",
    "lgbm_stack = stack_df[[\"0\",\"1\",\"2\",\"3\",\"4\",\"5\",\"6\",\"7\",\"8\"]]\n",
    "lgbm_stack.columns = [\"lgbm_Prediction1\",\"lgbm_Prediction2\",\"lgbm_Prediction3\",\"lgbm_Prediction4\",\"lgbm_Prediction5\",\"lgbm_Prediction6\",\"lgbm_Prediction7\",\"lgbm_Prediction8\",\"lgbm_Prediction9\"]"
   ]
  },
  {
   "cell_type": "code",
   "execution_count": 7,
   "id": "81db7297",
   "metadata": {
    "execution": {
     "iopub.execute_input": "2023-06-29T02:30:21.109651Z",
     "iopub.status.busy": "2023-06-29T02:30:21.108996Z",
     "iopub.status.idle": "2023-06-29T02:34:40.987717Z",
     "shell.execute_reply": "2023-06-29T02:34:40.987120Z",
     "shell.execute_reply.started": "2023-06-29T01:32:13.123207Z"
    },
    "papermill": {
     "duration": 259.899397,
     "end_time": "2023-06-29T02:34:40.987835",
     "exception": false,
     "start_time": "2023-06-29T02:30:21.088438",
     "status": "completed"
    },
    "tags": []
   },
   "outputs": [],
   "source": [
    "stack_df = pd.read_csv(\"../input/malware-only-byte/train_data.csv\")\n",
    "for i,j in enumerate(fold.split(X,y)):\n",
    "    stack_train_X = X.iloc[j[0]]\n",
    "    stack_train_y = y.iloc[j[0]]\n",
    "    stack_test_X = X.iloc[j[1]]\n",
    "    stack_test_y = y.iloc[j[1]]\n",
    "    model = XGBClassifier(booster=\"gbtree\",eta = 0.0975, min_child_weight = 2,random_state = 62, objective = \"multi:softmax\",eval_metric=\"logloss\")\n",
    "    model.fit(stack_train_X,stack_train_y)\n",
    "    preds = model.predict_proba(stack_test_X)\n",
    "    preds = pd.DataFrame(preds)\n",
    "    stack_df[\"0\"].iloc[j[1]] = preds[0]\n",
    "    stack_df[\"1\"].iloc[j[1]] = preds[1]\n",
    "    stack_df[\"2\"].iloc[j[1]] = preds[2]\n",
    "    stack_df[\"3\"].iloc[j[1]] = preds[3]\n",
    "    stack_df[\"4\"].iloc[j[1]] = preds[4]\n",
    "    stack_df[\"5\"].iloc[j[1]] = preds[5]\n",
    "    stack_df[\"6\"].iloc[j[1]] = preds[6]\n",
    "    stack_df[\"7\"].iloc[j[1]] = preds[7]\n",
    "    stack_df[\"8\"].iloc[j[1]] = preds[8]\n",
    "xgb_stack = stack_df[[\"0\",\"1\",\"2\",\"3\",\"4\",\"5\",\"6\",\"7\",\"8\"]]\n",
    "xgb_stack.columns = [\"xgb_Prediction1\",\"xgb_Prediction2\",\"xgb_Prediction3\",\"xgb_Prediction4\",\"xgb_Prediction5\",\"xgb_Prediction6\",\"xgb_Prediction7\",\"xgb_Prediction8\",\"xgb_Prediction9\"]"
   ]
  },
  {
   "cell_type": "code",
   "execution_count": 8,
   "id": "c6dd2aae",
   "metadata": {
    "execution": {
     "iopub.execute_input": "2023-06-29T02:34:41.034540Z",
     "iopub.status.busy": "2023-06-29T02:34:41.034013Z",
     "iopub.status.idle": "2023-06-29T02:51:01.773373Z",
     "shell.execute_reply": "2023-06-29T02:51:01.773822Z",
     "shell.execute_reply.started": "2023-06-29T01:38:51.083661Z"
    },
    "papermill": {
     "duration": 980.767403,
     "end_time": "2023-06-29T02:51:01.773998",
     "exception": false,
     "start_time": "2023-06-29T02:34:41.006595",
     "status": "completed"
    },
    "tags": []
   },
   "outputs": [],
   "source": [
    "stack_df = pd.read_csv(\"../input/malware-only-byte/train_data.csv\")\n",
    "for i,j in enumerate(fold.split(X,y)):\n",
    "    stack_train_X = X.iloc[j[0]]\n",
    "    stack_train_y = y.iloc[j[0]]\n",
    "    stack_test_X = X.iloc[j[1]]\n",
    "    stack_test_y = y.iloc[j[1]]\n",
    "    model = CatBoostClassifier(verbose=0)\n",
    "    model.fit(stack_train_X,stack_train_y)\n",
    "    preds = model.predict_proba(stack_test_X)\n",
    "    preds = pd.DataFrame(preds)\n",
    "    stack_df[\"0\"].iloc[j[1]] = preds[0]\n",
    "    stack_df[\"1\"].iloc[j[1]] = preds[1]\n",
    "    stack_df[\"2\"].iloc[j[1]] = preds[2]\n",
    "    stack_df[\"3\"].iloc[j[1]] = preds[3]\n",
    "    stack_df[\"4\"].iloc[j[1]] = preds[4]\n",
    "    stack_df[\"5\"].iloc[j[1]] = preds[5]\n",
    "    stack_df[\"6\"].iloc[j[1]] = preds[6]\n",
    "    stack_df[\"7\"].iloc[j[1]] = preds[7]\n",
    "    stack_df[\"8\"].iloc[j[1]] = preds[8]\n",
    "cat_stack = stack_df[[\"0\",\"1\",\"2\",\"3\",\"4\",\"5\",\"6\",\"7\",\"8\"]]\n",
    "cat_stack.columns = [\"cat_Prediction1\",\"cat_Prediction2\",\"cat_Prediction3\",\"cat_Prediction4\",\"cat_Prediction5\",\"cat_Prediction6\",\"cat_Prediction7\",\"cat_Prediction8\",\"cat_Prediction9\"]"
   ]
  },
  {
   "cell_type": "code",
   "execution_count": 9,
   "id": "63295c38",
   "metadata": {
    "execution": {
     "iopub.execute_input": "2023-06-29T02:51:01.818626Z",
     "iopub.status.busy": "2023-06-29T02:51:01.818026Z",
     "iopub.status.idle": "2023-06-29T02:51:01.821005Z",
     "shell.execute_reply": "2023-06-29T02:51:01.820608Z",
     "shell.execute_reply.started": "2023-06-29T02:01:43.592418Z"
    },
    "papermill": {
     "duration": 0.027774,
     "end_time": "2023-06-29T02:51:01.821113",
     "exception": false,
     "start_time": "2023-06-29T02:51:01.793339",
     "status": "completed"
    },
    "tags": []
   },
   "outputs": [],
   "source": [
    "stacking_X = pd.concat([xgb_stack,lgbm_stack,cat_stack],axis=1)"
   ]
  },
  {
   "cell_type": "code",
   "execution_count": 10,
   "id": "63b7094c",
   "metadata": {
    "execution": {
     "iopub.execute_input": "2023-06-29T02:51:01.903152Z",
     "iopub.status.busy": "2023-06-29T02:51:01.902484Z",
     "iopub.status.idle": "2023-06-29T02:51:59.960345Z",
     "shell.execute_reply": "2023-06-29T02:51:59.960780Z",
     "shell.execute_reply.started": "2023-06-29T02:10:49.054483Z"
    },
    "papermill": {
     "duration": 58.083623,
     "end_time": "2023-06-29T02:51:59.960921",
     "exception": false,
     "start_time": "2023-06-29T02:51:01.877298",
     "status": "completed"
    },
    "tags": []
   },
   "outputs": [],
   "source": [
    "model = LGBMClassifier(learning_rate= 0.025, n_estimators = 850, min_child_weight = 1, boosting_type = \"gbdt\", min_child_samples=68,random_state = 62,objective = \"multi-class\",metric = \"multi_logloss\")\n",
    "model.fit(X,y)\n",
    "lgbm_pred = model.predict_proba(test.drop(\"Id\",axis=1))\n",
    "lgbm_pred = pd.DataFrame(lgbm_pred)\n",
    "lgbm_pred.columns = [\"lgbm_Prediction1\",\"lgbm_Prediction2\",\"lgbm_Prediction3\",\"lgbm_Prediction4\",\"lgbm_Prediction5\",\"lgbm_Prediction6\",\"lgbm_Prediction7\",\"lgbm_Prediction8\",\"lgbm_Prediction9\"]"
   ]
  },
  {
   "cell_type": "code",
   "execution_count": 11,
   "id": "b275a19f",
   "metadata": {
    "execution": {
     "iopub.execute_input": "2023-06-29T02:52:00.003514Z",
     "iopub.status.busy": "2023-06-29T02:52:00.000780Z",
     "iopub.status.idle": "2023-06-29T02:53:03.831387Z",
     "shell.execute_reply": "2023-06-29T02:53:03.831839Z",
     "shell.execute_reply.started": "2023-06-29T02:12:33.295846Z"
    },
    "papermill": {
     "duration": 63.852342,
     "end_time": "2023-06-29T02:53:03.831989",
     "exception": false,
     "start_time": "2023-06-29T02:51:59.979647",
     "status": "completed"
    },
    "tags": []
   },
   "outputs": [],
   "source": [
    "model = XGBClassifier(booster=\"gbtree\",eta = 0.0975, min_child_weight = 2,random_state = 62, objective = \"multi:softmax\",eval_metric=\"logloss\")\n",
    "model.fit(X,y)\n",
    "xgb_pred = model.predict_proba(test.drop(\"Id\",axis=1))\n",
    "xgb_pred = pd.DataFrame(xgb_pred)\n",
    "xgb_pred.columns = [\"xgb_Prediction1\",\"xgb_Prediction2\",\"xgb_Prediction3\",\"xgb_Prediction4\",\"xgb_Prediction5\",\"xgb_Prediction6\",\"xgb_Prediction7\",\"xgb_Prediction8\",\"xgb_Prediction9\"]"
   ]
  },
  {
   "cell_type": "code",
   "execution_count": 12,
   "id": "1a464e38",
   "metadata": {
    "execution": {
     "iopub.execute_input": "2023-06-29T02:53:03.872239Z",
     "iopub.status.busy": "2023-06-29T02:53:03.871712Z",
     "iopub.status.idle": "2023-06-29T02:56:32.465025Z",
     "shell.execute_reply": "2023-06-29T02:56:32.465470Z",
     "shell.execute_reply.started": "2023-06-29T02:14:45.013261Z"
    },
    "papermill": {
     "duration": 208.614921,
     "end_time": "2023-06-29T02:56:32.465634",
     "exception": false,
     "start_time": "2023-06-29T02:53:03.850713",
     "status": "completed"
    },
    "tags": []
   },
   "outputs": [],
   "source": [
    "model = CatBoostClassifier(verbose=0)\n",
    "model.fit(X,y)\n",
    "cat_pred = model.predict_proba(test.drop(\"Id\",axis=1))\n",
    "cat_pred = pd.DataFrame(cat_pred)\n",
    "cat_pred.columns = [\"cat_Prediction1\",\"cat_Prediction2\",\"cat_Prediction3\",\"cat_Prediction4\",\"cat_Prediction5\",\"cat_Prediction6\",\"cat_Prediction7\",\"cat_Prediction8\",\"cat_Prediction9\"]"
   ]
  },
  {
   "cell_type": "code",
   "execution_count": 13,
   "id": "f650af44",
   "metadata": {
    "execution": {
     "iopub.execute_input": "2023-06-29T02:56:32.505874Z",
     "iopub.status.busy": "2023-06-29T02:56:32.505377Z",
     "iopub.status.idle": "2023-06-29T02:56:32.509432Z",
     "shell.execute_reply": "2023-06-29T02:56:32.509806Z",
     "shell.execute_reply.started": "2023-06-29T02:19:45.801809Z"
    },
    "papermill": {
     "duration": 0.025522,
     "end_time": "2023-06-29T02:56:32.509936",
     "exception": false,
     "start_time": "2023-06-29T02:56:32.484414",
     "status": "completed"
    },
    "tags": []
   },
   "outputs": [],
   "source": [
    "test_X = pd.concat([xgb_pred,lgbm_pred,cat_pred],axis=1)"
   ]
  },
  {
   "cell_type": "code",
   "execution_count": 14,
   "id": "6fdb04e1",
   "metadata": {
    "execution": {
     "iopub.execute_input": "2023-06-29T02:56:32.588361Z",
     "iopub.status.busy": "2023-06-29T02:56:32.587816Z",
     "iopub.status.idle": "2023-06-29T02:56:57.813979Z",
     "shell.execute_reply": "2023-06-29T02:56:57.814418Z",
     "shell.execute_reply.started": "2023-06-29T02:19:48.046548Z"
    },
    "papermill": {
     "duration": 25.247966,
     "end_time": "2023-06-29T02:56:57.814580",
     "exception": false,
     "start_time": "2023-06-29T02:56:32.566614",
     "status": "completed"
    },
    "tags": []
   },
   "outputs": [],
   "source": [
    "model = CatBoostClassifier(verbose=0)\n",
    "model.fit(stacking_X,y)\n",
    "pred = model.predict_proba(test_X)\n",
    "imsi_df = pd.DataFrame(pred)\n",
    "imsi_df = imsi_df.set_index(test[\"Id\"])\n",
    "submission = pd.concat([sample,imsi_df],axis=1)\n",
    "submission = submission.drop([\"Prediction1\",\"Prediction2\",\"Prediction3\",\"Prediction4\",\"Prediction5\",\"Prediction6\",\"Prediction7\",\"Prediction8\",\"Prediction9\"],axis=1)\n",
    "submission.columns = [\"Prediction1\",\"Prediction2\",\"Prediction3\",\"Prediction4\",\"Prediction5\",\"Prediction6\",\"Prediction7\",\"Prediction8\",\"Prediction9\"]\n",
    "submission.to_csv(\"submission.csv\")"
   ]
  }
 ],
 "metadata": {
  "kernelspec": {
   "display_name": "Python 3",
   "language": "python",
   "name": "python3"
  },
  "language_info": {
   "codemirror_mode": {
    "name": "ipython",
    "version": 3
   },
   "file_extension": ".py",
   "mimetype": "text/x-python",
   "name": "python",
   "nbconvert_exporter": "python",
   "pygments_lexer": "ipython3",
   "version": "3.7.12"
  },
  "papermill": {
   "default_parameters": {},
   "duration": 1848.193065,
   "end_time": "2023-06-29T02:56:58.583077",
   "environment_variables": {},
   "exception": null,
   "input_path": "__notebook__.ipynb",
   "output_path": "__notebook__.ipynb",
   "parameters": {},
   "start_time": "2023-06-29T02:26:10.390012",
   "version": "2.3.3"
  }
 },
 "nbformat": 4,
 "nbformat_minor": 5
}
