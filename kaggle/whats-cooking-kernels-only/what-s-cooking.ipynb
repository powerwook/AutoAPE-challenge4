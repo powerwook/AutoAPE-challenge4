{
 "cells": [
  {
   "cell_type": "code",
   "execution_count": 1,
   "id": "d98f70bb",
   "metadata": {
    "_cell_guid": "b1076dfc-b9ad-4769-8c92-a6c4dae69d19",
    "_uuid": "8f2839f25d086af736a60e9eeb907d3b93b6e0e5",
    "execution": {
     "iopub.execute_input": "2023-04-23T13:52:52.182720Z",
     "iopub.status.busy": "2023-04-23T13:52:52.182332Z",
     "iopub.status.idle": "2023-04-23T13:52:52.196416Z",
     "shell.execute_reply": "2023-04-23T13:52:52.195391Z"
    },
    "papermill": {
     "duration": 0.022741,
     "end_time": "2023-04-23T13:52:52.199335",
     "exception": false,
     "start_time": "2023-04-23T13:52:52.176594",
     "status": "completed"
    },
    "tags": []
   },
   "outputs": [
    {
     "name": "stdout",
     "output_type": "stream",
     "text": [
      "/kaggle/input/whats-cooking-kernels-only/sample_submission.csv.zip\n",
      "/kaggle/input/whats-cooking-kernels-only/train.json\n",
      "/kaggle/input/whats-cooking-kernels-only/test.json\n"
     ]
    }
   ],
   "source": [
    "# This Python 3 environment comes with many helpful analytics libraries installed\n",
    "# It is defined by the kaggle/python Docker image: https://github.com/kaggle/docker-python\n",
    "# For example, here's several helpful packages to load\n",
    "\n",
    "import numpy as np # linear algebra\n",
    "import pandas as pd # data processing, CSV file I/O (e.g. pd.read_csv)\n",
    "\n",
    "# Input data files are available in the read-only \"../input/\" directory\n",
    "# For example, running this (by clicking run or pressing Shift+Enter) will list all files under the input directory\n",
    "\n",
    "import os\n",
    "for dirname, _, filenames in os.walk('/kaggle/input'):\n",
    "    for filename in filenames:\n",
    "        print(os.path.join(dirname, filename))\n",
    "\n",
    "# You can write up to 20GB to the current directory (/kaggle/working/) that gets preserved as output when you create a version using \"Save & Run All\" \n",
    "# You can also write temporary files to /kaggle/temp/, but they won't be saved outside of the current session"
   ]
  },
  {
   "cell_type": "code",
   "execution_count": 2,
   "id": "874e0720",
   "metadata": {
    "execution": {
     "iopub.execute_input": "2023-04-23T13:52:52.212645Z",
     "iopub.status.busy": "2023-04-23T13:52:52.211442Z",
     "iopub.status.idle": "2023-04-23T13:52:53.714658Z",
     "shell.execute_reply": "2023-04-23T13:52:53.713283Z"
    },
    "papermill": {
     "duration": 1.515206,
     "end_time": "2023-04-23T13:52:53.717812",
     "exception": false,
     "start_time": "2023-04-23T13:52:52.202606",
     "status": "completed"
    },
    "tags": []
   },
   "outputs": [],
   "source": [
    "import json\n",
    "import pandas as pd\n",
    "import matplotlib.pyplot as plt\n",
    "import seaborn as sns\n",
    "from collections import Counter\n",
    "from sklearn.preprocessing import LabelEncoder\n",
    "from sklearn.feature_extraction.text import TfidfVectorizer\n",
    "from sklearn.svm import SVC\n",
    "from sklearn.multiclass import OneVsRestClassifier"
   ]
  },
  {
   "cell_type": "code",
   "execution_count": 3,
   "id": "26cc38ee",
   "metadata": {
    "execution": {
     "iopub.execute_input": "2023-04-23T13:52:53.726419Z",
     "iopub.status.busy": "2023-04-23T13:52:53.725163Z",
     "iopub.status.idle": "2023-04-23T13:52:54.381973Z",
     "shell.execute_reply": "2023-04-23T13:52:54.381126Z"
    },
    "papermill": {
     "duration": 0.663144,
     "end_time": "2023-04-23T13:52:54.384219",
     "exception": false,
     "start_time": "2023-04-23T13:52:53.721075",
     "status": "completed"
    },
    "tags": []
   },
   "outputs": [
    {
     "data": {
      "text/plain": [
       "array([ 6, 16,  4, ...,  8,  3, 13])"
      ]
     },
     "execution_count": 3,
     "metadata": {},
     "output_type": "execute_result"
    }
   ],
   "source": [
    "train = json.load(open('/kaggle/input/whats-cooking-kernels-only/train.json'))\n",
    "test = json.load(open('/kaggle/input/whats-cooking-kernels-only/test.json'))\n",
    "train_doc = [\" \".join(doc['ingredients']).lower() for doc in train]\n",
    "test_doc = [\" \".join(doc['ingredients']).lower() for doc in test]\n",
    "\n",
    "# Label Encoding of y - the target kinds of cuisine\n",
    "y_train = [doc['cuisine'] for doc in train]\n",
    "lb = LabelEncoder()\n",
    "y_train = lb.fit_transform(y_train)\n",
    "y_train"
   ]
  },
  {
   "cell_type": "code",
   "execution_count": 4,
   "id": "0816d474",
   "metadata": {
    "execution": {
     "iopub.execute_input": "2023-04-23T13:52:54.392187Z",
     "iopub.status.busy": "2023-04-23T13:52:54.391319Z",
     "iopub.status.idle": "2023-04-23T13:52:55.363402Z",
     "shell.execute_reply": "2023-04-23T13:52:55.362047Z"
    },
    "papermill": {
     "duration": 0.980162,
     "end_time": "2023-04-23T13:52:55.367477",
     "exception": false,
     "start_time": "2023-04-23T13:52:54.387315",
     "status": "completed"
    },
    "tags": []
   },
   "outputs": [
    {
     "data": {
      "text/plain": [
       "<39774x3010 sparse matrix of type '<class 'numpy.float64'>'\n",
       "\twith 761951 stored elements in Compressed Sparse Row format>"
      ]
     },
     "execution_count": 4,
     "metadata": {},
     "output_type": "execute_result"
    }
   ],
   "source": [
    "# TFIDF statiscic applying to the data - resulting in sparse matrix\n",
    "tfidf = TfidfVectorizer(binary=True)\n",
    "X_train = tfidf.fit_transform(train_doc)\n",
    "X_test = tfidf.transform(test_doc)\n",
    "X_train"
   ]
  },
  {
   "cell_type": "code",
   "execution_count": 5,
   "id": "bede476d",
   "metadata": {
    "execution": {
     "iopub.execute_input": "2023-04-23T13:52:55.376042Z",
     "iopub.status.busy": "2023-04-23T13:52:55.375641Z",
     "iopub.status.idle": "2023-04-23T14:49:45.001152Z",
     "shell.execute_reply": "2023-04-23T14:49:45.000242Z"
    },
    "papermill": {
     "duration": 3409.634503,
     "end_time": "2023-04-23T14:49:45.005514",
     "exception": false,
     "start_time": "2023-04-23T13:52:55.371011",
     "status": "completed"
    },
    "tags": []
   },
   "outputs": [
    {
     "data": {
      "text/plain": [
       "OneVsRestClassifier(estimator=SVC(C=100, coef0=1, gamma=0.9), n_jobs=1)"
      ]
     },
     "execution_count": 5,
     "metadata": {},
     "output_type": "execute_result"
    }
   ],
   "source": [
    "#Support Vector Machine\n",
    "svc = SVC(C=100, gamma=0.9, coef0=1, tol=0.001, decision_function_shape='ovr')\n",
    "model_svc = OneVsRestClassifier(svc, n_jobs=1)\n",
    "model_svc.fit(X_train, y_train)"
   ]
  },
  {
   "cell_type": "code",
   "execution_count": 6,
   "id": "314e0af7",
   "metadata": {
    "execution": {
     "iopub.execute_input": "2023-04-23T14:49:45.014027Z",
     "iopub.status.busy": "2023-04-23T14:49:45.013023Z",
     "iopub.status.idle": "2023-04-23T14:53:36.346113Z",
     "shell.execute_reply": "2023-04-23T14:53:36.344749Z"
    },
    "papermill": {
     "duration": 231.342641,
     "end_time": "2023-04-23T14:53:36.351318",
     "exception": false,
     "start_time": "2023-04-23T14:49:45.008677",
     "status": "completed"
    },
    "tags": []
   },
   "outputs": [
    {
     "name": "stdout",
     "output_type": "stream",
     "text": [
      "[ 8 16  9 ...  9 16 13]\n",
      "['irish' 'southern_us' 'italian' ... 'italian' 'southern_us' 'mexican']\n"
     ]
    }
   ],
   "source": [
    "# Predictions based on supported vector machine\n",
    "y_test = model_svc.predict(X_test)\n",
    "print(y_test)\n",
    "y_pred = lb.inverse_transform(y_test)\n",
    "print(y_pred)"
   ]
  },
  {
   "cell_type": "code",
   "execution_count": 7,
   "id": "5284cd03",
   "metadata": {
    "execution": {
     "iopub.execute_input": "2023-04-23T14:53:36.360246Z",
     "iopub.status.busy": "2023-04-23T14:53:36.359522Z",
     "iopub.status.idle": "2023-04-23T14:53:36.395932Z",
     "shell.execute_reply": "2023-04-23T14:53:36.394578Z"
    },
    "papermill": {
     "duration": 0.044225,
     "end_time": "2023-04-23T14:53:36.398784",
     "exception": false,
     "start_time": "2023-04-23T14:53:36.354559",
     "status": "completed"
    },
    "tags": []
   },
   "outputs": [],
   "source": [
    "# Saving results to file\n",
    "test_id = [doc['id'] for doc in test]\n",
    "sub = pd.DataFrame({'id': test_id, 'cuisine': y_pred}, columns=['id', 'cuisine'])\n",
    "sub.to_csv('submission.csv', index=False)"
   ]
  }
 ],
 "metadata": {
  "kernelspec": {
   "display_name": "Python 3",
   "language": "python",
   "name": "python3"
  },
  "language_info": {
   "codemirror_mode": {
    "name": "ipython",
    "version": 3
   },
   "file_extension": ".py",
   "mimetype": "text/x-python",
   "name": "python",
   "nbconvert_exporter": "python",
   "pygments_lexer": "ipython3",
   "version": "3.7.12"
  },
  "papermill": {
   "default_parameters": {},
   "duration": 3655.644226,
   "end_time": "2023-04-23T14:53:37.433636",
   "environment_variables": {},
   "exception": null,
   "input_path": "__notebook__.ipynb",
   "output_path": "__notebook__.ipynb",
   "parameters": {},
   "start_time": "2023-04-23T13:52:41.789410",
   "version": "2.4.0"
  }
 },
 "nbformat": 4,
 "nbformat_minor": 5
}
