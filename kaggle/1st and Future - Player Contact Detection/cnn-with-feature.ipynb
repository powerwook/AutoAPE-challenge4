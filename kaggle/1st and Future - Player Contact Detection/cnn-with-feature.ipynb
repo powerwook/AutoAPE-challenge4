{
 "cells": [
  {
   "cell_type": "code",
   "execution_count": 1,
   "id": "a49eae7c",
   "metadata": {
    "_cell_guid": "b1076dfc-b9ad-4769-8c92-a6c4dae69d19",
    "_uuid": "8f2839f25d086af736a60e9eeb907d3b93b6e0e5",
    "execution": {
     "iopub.execute_input": "2023-05-16T14:59:44.377548Z",
     "iopub.status.busy": "2023-05-16T14:59:44.376929Z",
     "iopub.status.idle": "2023-05-16T14:59:50.232530Z",
     "shell.execute_reply": "2023-05-16T14:59:50.231447Z"
    },
    "papermill": {
     "duration": 5.872602,
     "end_time": "2023-05-16T14:59:50.235288",
     "exception": false,
     "start_time": "2023-05-16T14:59:44.362686",
     "status": "completed"
    },
    "tags": []
   },
   "outputs": [],
   "source": [
    "import os\n",
    "import sys\n",
    "sys.path.append('/kaggle/input/timm-0-6-9/pytorch-image-models-master')\n",
    "import glob\n",
    "import numpy as np\n",
    "import pandas as pd\n",
    "import random\n",
    "import math\n",
    "import gc\n",
    "import cv2\n",
    "from tqdm import tqdm\n",
    "import time\n",
    "from functools import lru_cache\n",
    "import torch\n",
    "from torch import nn\n",
    "from torch.nn import functional as F\n",
    "from torch.utils.data import Dataset, DataLoader\n",
    "from torch.cuda.amp import autocast, GradScaler\n",
    "import timm\n",
    "import albumentations as A\n",
    "from albumentations.pytorch import ToTensorV2\n",
    "import matplotlib.pyplot as plt\n",
    "from sklearn.metrics import matthews_corrcoef"
   ]
  },
  {
   "cell_type": "code",
   "execution_count": 2,
   "id": "839886a0",
   "metadata": {
    "execution": {
     "iopub.execute_input": "2023-05-16T14:59:50.261402Z",
     "iopub.status.busy": "2023-05-16T14:59:50.259435Z",
     "iopub.status.idle": "2023-05-16T14:59:50.265782Z",
     "shell.execute_reply": "2023-05-16T14:59:50.264850Z"
    },
    "papermill": {
     "duration": 0.021381,
     "end_time": "2023-05-16T14:59:50.268159",
     "exception": false,
     "start_time": "2023-05-16T14:59:50.246778",
     "status": "completed"
    },
    "tags": []
   },
   "outputs": [],
   "source": [
    "CFG = {\n",
    "    'seed': 42,\n",
    "    'model': 'resnet50',\n",
    "    'img_size': 256,\n",
    "    'epochs': 10,\n",
    "    'train_bs': 100, \n",
    "    'valid_bs': 64,\n",
    "    'lr': 1e-3, \n",
    "    'weight_decay': 1e-6,\n",
    "    'num_workers': 2\n",
    "}"
   ]
  },
  {
   "cell_type": "code",
   "execution_count": 3,
   "id": "da5461ed",
   "metadata": {
    "execution": {
     "iopub.execute_input": "2023-05-16T14:59:50.291858Z",
     "iopub.status.busy": "2023-05-16T14:59:50.291069Z",
     "iopub.status.idle": "2023-05-16T14:59:50.358297Z",
     "shell.execute_reply": "2023-05-16T14:59:50.357314Z"
    },
    "papermill": {
     "duration": 0.081385,
     "end_time": "2023-05-16T14:59:50.360700",
     "exception": false,
     "start_time": "2023-05-16T14:59:50.279315",
     "status": "completed"
    },
    "tags": []
   },
   "outputs": [],
   "source": [
    "def seed_everything(seed):\n",
    "    random.seed(seed)\n",
    "    os.environ['PYTHONHASHSEED'] = str(seed)\n",
    "    np.random.seed(seed)\n",
    "    torch.manual_seed(seed)\n",
    "    torch.cuda.manual_seed(seed)\n",
    "    torch.cuda.manual_seed_all(seed)\n",
    "    torch.backends.cudnn.deterministic = True\n",
    "    torch.backends.cudnn.benchmark = False\n",
    "\n",
    "seed_everything(CFG['seed'])\n",
    "device = torch.device('cuda' if torch.cuda.is_available() else 'cpu')"
   ]
  },
  {
   "cell_type": "code",
   "execution_count": 4,
   "id": "0ed8b3f9",
   "metadata": {
    "execution": {
     "iopub.execute_input": "2023-05-16T14:59:50.384537Z",
     "iopub.status.busy": "2023-05-16T14:59:50.383741Z",
     "iopub.status.idle": "2023-05-16T14:59:51.178984Z",
     "shell.execute_reply": "2023-05-16T14:59:51.177893Z"
    },
    "papermill": {
     "duration": 0.809795,
     "end_time": "2023-05-16T14:59:51.181667",
     "exception": false,
     "start_time": "2023-05-16T14:59:50.371872",
     "status": "completed"
    },
    "tags": []
   },
   "outputs": [],
   "source": [
    "def expand_contact_id(df):\n",
    "    \"\"\"\n",
    "    Splits out contact_id into seperate columns.\n",
    "    \"\"\"\n",
    "    df[\"game_play\"] = df[\"contact_id\"].str[:12]\n",
    "    df[\"step\"] = df[\"contact_id\"].str.split(\"_\").str[-3].astype(\"int\")\n",
    "    df[\"nfl_player_id_1\"] = df[\"contact_id\"].str.split(\"_\").str[-2]\n",
    "    df[\"nfl_player_id_2\"] = df[\"contact_id\"].str.split(\"_\").str[-1]\n",
    "    return df\n",
    "\n",
    "labels = expand_contact_id(pd.read_csv(\"/kaggle/input/nfl-player-contact-detection/sample_submission.csv\"))\n",
    "\n",
    "test_tracking = pd.read_csv(\"/kaggle/input/nfl-player-contact-detection/test_player_tracking.csv\")\n",
    "\n",
    "test_helmets = pd.read_csv(\"/kaggle/input/nfl-player-contact-detection/test_baseline_helmets.csv\")\n",
    "\n",
    "test_video_metadata = pd.read_csv(\"/kaggle/input/nfl-player-contact-detection/test_video_metadata.csv\")"
   ]
  },
  {
   "cell_type": "code",
   "execution_count": 5,
   "id": "1aef0ddf",
   "metadata": {
    "execution": {
     "iopub.execute_input": "2023-05-16T14:59:51.205605Z",
     "iopub.status.busy": "2023-05-16T14:59:51.204961Z",
     "iopub.status.idle": "2023-05-16T15:00:37.839095Z",
     "shell.execute_reply": "2023-05-16T15:00:37.837231Z"
    },
    "papermill": {
     "duration": 46.648381,
     "end_time": "2023-05-16T15:00:37.841406",
     "exception": false,
     "start_time": "2023-05-16T14:59:51.193025",
     "status": "completed"
    },
    "tags": []
   },
   "outputs": [
    {
     "name": "stderr",
     "output_type": "stream",
     "text": [
      "100%|██████████| 4/4 [00:45<00:00, 11.41s/it]\n"
     ]
    }
   ],
   "source": [
    "!mkdir -p ../work/frames\n",
    "\n",
    "for video in tqdm(test_helmets.video.unique()):\n",
    "    if 'Endzone2' not in video:\n",
    "        !ffmpeg -i /kaggle/input/nfl-player-contact-detection/test/{video} -q:v 2 -f image2 /kaggle/work/frames/{video}_%04d.jpg -hide_banner -loglevel error"
   ]
  },
  {
   "cell_type": "code",
   "execution_count": 6,
   "id": "a4adc8f3",
   "metadata": {
    "execution": {
     "iopub.execute_input": "2023-05-16T15:00:37.867331Z",
     "iopub.status.busy": "2023-05-16T15:00:37.866916Z",
     "iopub.status.idle": "2023-05-16T15:00:38.269801Z",
     "shell.execute_reply": "2023-05-16T15:00:38.268751Z"
    },
    "papermill": {
     "duration": 0.418689,
     "end_time": "2023-05-16T15:00:38.272395",
     "exception": false,
     "start_time": "2023-05-16T15:00:37.853706",
     "status": "completed"
    },
    "tags": []
   },
   "outputs": [
    {
     "data": {
      "text/html": [
       "<div>\n",
       "<style scoped>\n",
       "    .dataframe tbody tr th:only-of-type {\n",
       "        vertical-align: middle;\n",
       "    }\n",
       "\n",
       "    .dataframe tbody tr th {\n",
       "        vertical-align: top;\n",
       "    }\n",
       "\n",
       "    .dataframe thead th {\n",
       "        text-align: right;\n",
       "    }\n",
       "</style>\n",
       "<table border=\"1\" class=\"dataframe\">\n",
       "  <thead>\n",
       "    <tr style=\"text-align: right;\">\n",
       "      <th></th>\n",
       "      <th>contact_id</th>\n",
       "      <th>contact</th>\n",
       "      <th>game_play</th>\n",
       "      <th>step</th>\n",
       "      <th>nfl_player_id_1</th>\n",
       "      <th>nfl_player_id_2</th>\n",
       "      <th>x_position_1</th>\n",
       "      <th>y_position_1</th>\n",
       "      <th>speed_1</th>\n",
       "      <th>distance_1</th>\n",
       "      <th>...</th>\n",
       "      <th>x_position_2</th>\n",
       "      <th>y_position_2</th>\n",
       "      <th>speed_2</th>\n",
       "      <th>distance_2</th>\n",
       "      <th>direction_2</th>\n",
       "      <th>orientation_2</th>\n",
       "      <th>acceleration_2</th>\n",
       "      <th>sa_2</th>\n",
       "      <th>distance</th>\n",
       "      <th>G_flug</th>\n",
       "    </tr>\n",
       "  </thead>\n",
       "  <tbody>\n",
       "    <tr>\n",
       "      <th>0</th>\n",
       "      <td>58168_003392_0_37084_37211</td>\n",
       "      <td>0</td>\n",
       "      <td>58168_003392</td>\n",
       "      <td>0</td>\n",
       "      <td>37084</td>\n",
       "      <td>37211</td>\n",
       "      <td>41.90</td>\n",
       "      <td>20.08</td>\n",
       "      <td>0.54</td>\n",
       "      <td>0.06</td>\n",
       "      <td>...</td>\n",
       "      <td>39.59</td>\n",
       "      <td>17.07</td>\n",
       "      <td>0.53</td>\n",
       "      <td>0.05</td>\n",
       "      <td>134.84</td>\n",
       "      <td>84.73</td>\n",
       "      <td>1.43</td>\n",
       "      <td>1.42</td>\n",
       "      <td>3.794232</td>\n",
       "      <td>False</td>\n",
       "    </tr>\n",
       "    <tr>\n",
       "      <th>1</th>\n",
       "      <td>58168_003392_0_37084_38556</td>\n",
       "      <td>0</td>\n",
       "      <td>58168_003392</td>\n",
       "      <td>0</td>\n",
       "      <td>37084</td>\n",
       "      <td>38556</td>\n",
       "      <td>41.90</td>\n",
       "      <td>20.08</td>\n",
       "      <td>0.54</td>\n",
       "      <td>0.06</td>\n",
       "      <td>...</td>\n",
       "      <td>41.93</td>\n",
       "      <td>30.61</td>\n",
       "      <td>0.67</td>\n",
       "      <td>0.05</td>\n",
       "      <td>232.50</td>\n",
       "      <td>227.00</td>\n",
       "      <td>1.82</td>\n",
       "      <td>1.61</td>\n",
       "      <td>10.530043</td>\n",
       "      <td>False</td>\n",
       "    </tr>\n",
       "    <tr>\n",
       "      <th>2</th>\n",
       "      <td>58168_003392_0_37084_38567</td>\n",
       "      <td>0</td>\n",
       "      <td>58168_003392</td>\n",
       "      <td>0</td>\n",
       "      <td>37084</td>\n",
       "      <td>38567</td>\n",
       "      <td>41.90</td>\n",
       "      <td>20.08</td>\n",
       "      <td>0.54</td>\n",
       "      <td>0.06</td>\n",
       "      <td>...</td>\n",
       "      <td>40.37</td>\n",
       "      <td>19.88</td>\n",
       "      <td>0.66</td>\n",
       "      <td>0.07</td>\n",
       "      <td>136.70</td>\n",
       "      <td>88.92</td>\n",
       "      <td>0.90</td>\n",
       "      <td>0.89</td>\n",
       "      <td>1.543017</td>\n",
       "      <td>False</td>\n",
       "    </tr>\n",
       "    <tr>\n",
       "      <th>3</th>\n",
       "      <td>58168_003392_0_37084_38590</td>\n",
       "      <td>0</td>\n",
       "      <td>58168_003392</td>\n",
       "      <td>0</td>\n",
       "      <td>37084</td>\n",
       "      <td>38590</td>\n",
       "      <td>41.90</td>\n",
       "      <td>20.08</td>\n",
       "      <td>0.54</td>\n",
       "      <td>0.06</td>\n",
       "      <td>...</td>\n",
       "      <td>40.33</td>\n",
       "      <td>25.28</td>\n",
       "      <td>0.52</td>\n",
       "      <td>0.06</td>\n",
       "      <td>141.08</td>\n",
       "      <td>100.37</td>\n",
       "      <td>0.59</td>\n",
       "      <td>0.58</td>\n",
       "      <td>5.431841</td>\n",
       "      <td>False</td>\n",
       "    </tr>\n",
       "    <tr>\n",
       "      <th>4</th>\n",
       "      <td>58168_003392_0_37084_39947</td>\n",
       "      <td>0</td>\n",
       "      <td>58168_003392</td>\n",
       "      <td>0</td>\n",
       "      <td>37084</td>\n",
       "      <td>39947</td>\n",
       "      <td>41.90</td>\n",
       "      <td>20.08</td>\n",
       "      <td>0.54</td>\n",
       "      <td>0.06</td>\n",
       "      <td>...</td>\n",
       "      <td>40.11</td>\n",
       "      <td>26.73</td>\n",
       "      <td>0.99</td>\n",
       "      <td>0.09</td>\n",
       "      <td>163.38</td>\n",
       "      <td>90.69</td>\n",
       "      <td>1.68</td>\n",
       "      <td>1.64</td>\n",
       "      <td>6.886697</td>\n",
       "      <td>False</td>\n",
       "    </tr>\n",
       "    <tr>\n",
       "      <th>...</th>\n",
       "      <td>...</td>\n",
       "      <td>...</td>\n",
       "      <td>...</td>\n",
       "      <td>...</td>\n",
       "      <td>...</td>\n",
       "      <td>...</td>\n",
       "      <td>...</td>\n",
       "      <td>...</td>\n",
       "      <td>...</td>\n",
       "      <td>...</td>\n",
       "      <td>...</td>\n",
       "      <td>...</td>\n",
       "      <td>...</td>\n",
       "      <td>...</td>\n",
       "      <td>...</td>\n",
       "      <td>...</td>\n",
       "      <td>...</td>\n",
       "      <td>...</td>\n",
       "      <td>...</td>\n",
       "      <td>...</td>\n",
       "      <td>...</td>\n",
       "    </tr>\n",
       "    <tr>\n",
       "      <th>49583</th>\n",
       "      <td>58172_003247_125_52521_52939</td>\n",
       "      <td>0</td>\n",
       "      <td>58172_003247</td>\n",
       "      <td>125</td>\n",
       "      <td>52521</td>\n",
       "      <td>52939</td>\n",
       "      <td>23.44</td>\n",
       "      <td>4.04</td>\n",
       "      <td>1.41</td>\n",
       "      <td>0.15</td>\n",
       "      <td>...</td>\n",
       "      <td>37.94</td>\n",
       "      <td>2.10</td>\n",
       "      <td>2.29</td>\n",
       "      <td>0.24</td>\n",
       "      <td>211.73</td>\n",
       "      <td>215.11</td>\n",
       "      <td>2.43</td>\n",
       "      <td>-2.43</td>\n",
       "      <td>14.629204</td>\n",
       "      <td>False</td>\n",
       "    </tr>\n",
       "    <tr>\n",
       "      <th>49584</th>\n",
       "      <td>58172_003247_125_52521_G</td>\n",
       "      <td>0</td>\n",
       "      <td>58172_003247</td>\n",
       "      <td>125</td>\n",
       "      <td>52521</td>\n",
       "      <td>G</td>\n",
       "      <td>23.44</td>\n",
       "      <td>4.04</td>\n",
       "      <td>1.41</td>\n",
       "      <td>0.15</td>\n",
       "      <td>...</td>\n",
       "      <td>NaN</td>\n",
       "      <td>NaN</td>\n",
       "      <td>NaN</td>\n",
       "      <td>NaN</td>\n",
       "      <td>NaN</td>\n",
       "      <td>NaN</td>\n",
       "      <td>NaN</td>\n",
       "      <td>NaN</td>\n",
       "      <td>NaN</td>\n",
       "      <td>True</td>\n",
       "    </tr>\n",
       "    <tr>\n",
       "      <th>49585</th>\n",
       "      <td>58172_003247_125_52852_52939</td>\n",
       "      <td>0</td>\n",
       "      <td>58172_003247</td>\n",
       "      <td>125</td>\n",
       "      <td>52852</td>\n",
       "      <td>52939</td>\n",
       "      <td>32.67</td>\n",
       "      <td>2.18</td>\n",
       "      <td>2.34</td>\n",
       "      <td>0.24</td>\n",
       "      <td>...</td>\n",
       "      <td>37.94</td>\n",
       "      <td>2.10</td>\n",
       "      <td>2.29</td>\n",
       "      <td>0.24</td>\n",
       "      <td>211.73</td>\n",
       "      <td>215.11</td>\n",
       "      <td>2.43</td>\n",
       "      <td>-2.43</td>\n",
       "      <td>5.270607</td>\n",
       "      <td>False</td>\n",
       "    </tr>\n",
       "    <tr>\n",
       "      <th>49586</th>\n",
       "      <td>58172_003247_125_52852_G</td>\n",
       "      <td>0</td>\n",
       "      <td>58172_003247</td>\n",
       "      <td>125</td>\n",
       "      <td>52852</td>\n",
       "      <td>G</td>\n",
       "      <td>32.67</td>\n",
       "      <td>2.18</td>\n",
       "      <td>2.34</td>\n",
       "      <td>0.24</td>\n",
       "      <td>...</td>\n",
       "      <td>NaN</td>\n",
       "      <td>NaN</td>\n",
       "      <td>NaN</td>\n",
       "      <td>NaN</td>\n",
       "      <td>NaN</td>\n",
       "      <td>NaN</td>\n",
       "      <td>NaN</td>\n",
       "      <td>NaN</td>\n",
       "      <td>NaN</td>\n",
       "      <td>True</td>\n",
       "    </tr>\n",
       "    <tr>\n",
       "      <th>49587</th>\n",
       "      <td>58172_003247_125_52939_G</td>\n",
       "      <td>0</td>\n",
       "      <td>58172_003247</td>\n",
       "      <td>125</td>\n",
       "      <td>52939</td>\n",
       "      <td>G</td>\n",
       "      <td>37.94</td>\n",
       "      <td>2.10</td>\n",
       "      <td>2.29</td>\n",
       "      <td>0.24</td>\n",
       "      <td>...</td>\n",
       "      <td>NaN</td>\n",
       "      <td>NaN</td>\n",
       "      <td>NaN</td>\n",
       "      <td>NaN</td>\n",
       "      <td>NaN</td>\n",
       "      <td>NaN</td>\n",
       "      <td>NaN</td>\n",
       "      <td>NaN</td>\n",
       "      <td>NaN</td>\n",
       "      <td>True</td>\n",
       "    </tr>\n",
       "  </tbody>\n",
       "</table>\n",
       "<p>49588 rows × 24 columns</p>\n",
       "</div>"
      ],
      "text/plain": [
       "                         contact_id  contact     game_play  step  \\\n",
       "0        58168_003392_0_37084_37211        0  58168_003392     0   \n",
       "1        58168_003392_0_37084_38556        0  58168_003392     0   \n",
       "2        58168_003392_0_37084_38567        0  58168_003392     0   \n",
       "3        58168_003392_0_37084_38590        0  58168_003392     0   \n",
       "4        58168_003392_0_37084_39947        0  58168_003392     0   \n",
       "...                             ...      ...           ...   ...   \n",
       "49583  58172_003247_125_52521_52939        0  58172_003247   125   \n",
       "49584      58172_003247_125_52521_G        0  58172_003247   125   \n",
       "49585  58172_003247_125_52852_52939        0  58172_003247   125   \n",
       "49586      58172_003247_125_52852_G        0  58172_003247   125   \n",
       "49587      58172_003247_125_52939_G        0  58172_003247   125   \n",
       "\n",
       "      nfl_player_id_1 nfl_player_id_2  x_position_1  y_position_1  speed_1  \\\n",
       "0               37084           37211         41.90         20.08     0.54   \n",
       "1               37084           38556         41.90         20.08     0.54   \n",
       "2               37084           38567         41.90         20.08     0.54   \n",
       "3               37084           38590         41.90         20.08     0.54   \n",
       "4               37084           39947         41.90         20.08     0.54   \n",
       "...               ...             ...           ...           ...      ...   \n",
       "49583           52521           52939         23.44          4.04     1.41   \n",
       "49584           52521               G         23.44          4.04     1.41   \n",
       "49585           52852           52939         32.67          2.18     2.34   \n",
       "49586           52852               G         32.67          2.18     2.34   \n",
       "49587           52939               G         37.94          2.10     2.29   \n",
       "\n",
       "       distance_1  ...  x_position_2  y_position_2  speed_2  distance_2  \\\n",
       "0            0.06  ...         39.59         17.07     0.53        0.05   \n",
       "1            0.06  ...         41.93         30.61     0.67        0.05   \n",
       "2            0.06  ...         40.37         19.88     0.66        0.07   \n",
       "3            0.06  ...         40.33         25.28     0.52        0.06   \n",
       "4            0.06  ...         40.11         26.73     0.99        0.09   \n",
       "...           ...  ...           ...           ...      ...         ...   \n",
       "49583        0.15  ...         37.94          2.10     2.29        0.24   \n",
       "49584        0.15  ...           NaN           NaN      NaN         NaN   \n",
       "49585        0.24  ...         37.94          2.10     2.29        0.24   \n",
       "49586        0.24  ...           NaN           NaN      NaN         NaN   \n",
       "49587        0.24  ...           NaN           NaN      NaN         NaN   \n",
       "\n",
       "       direction_2  orientation_2  acceleration_2  sa_2   distance  G_flug  \n",
       "0           134.84          84.73            1.43  1.42   3.794232   False  \n",
       "1           232.50         227.00            1.82  1.61  10.530043   False  \n",
       "2           136.70          88.92            0.90  0.89   1.543017   False  \n",
       "3           141.08         100.37            0.59  0.58   5.431841   False  \n",
       "4           163.38          90.69            1.68  1.64   6.886697   False  \n",
       "...            ...            ...             ...   ...        ...     ...  \n",
       "49583       211.73         215.11            2.43 -2.43  14.629204   False  \n",
       "49584          NaN            NaN             NaN   NaN        NaN    True  \n",
       "49585       211.73         215.11            2.43 -2.43   5.270607   False  \n",
       "49586          NaN            NaN             NaN   NaN        NaN    True  \n",
       "49587          NaN            NaN             NaN   NaN        NaN    True  \n",
       "\n",
       "[49588 rows x 24 columns]"
      ]
     },
     "execution_count": 6,
     "metadata": {},
     "output_type": "execute_result"
    }
   ],
   "source": [
    "def create_features(df, tr_tracking, merge_col=\"step\", use_cols=[\"x_position\", \"y_position\"]):\n",
    "    output_cols = []\n",
    "    df_combo = (\n",
    "        df.astype({\"nfl_player_id_1\": \"str\"})\n",
    "        .merge(\n",
    "            tr_tracking.astype({\"nfl_player_id\": \"str\"})[\n",
    "                [\"game_play\", merge_col, \"nfl_player_id\",] + use_cols\n",
    "            ],\n",
    "            left_on=[\"game_play\", merge_col, \"nfl_player_id_1\"],\n",
    "            right_on=[\"game_play\", merge_col, \"nfl_player_id\"],\n",
    "            how=\"left\",\n",
    "        )\n",
    "        .rename(columns={c: c+\"_1\" for c in use_cols})\n",
    "        .drop(\"nfl_player_id\", axis=1)\n",
    "        .merge(\n",
    "            tr_tracking.astype({\"nfl_player_id\": \"str\"})[\n",
    "                [\"game_play\", merge_col, \"nfl_player_id\"] + use_cols\n",
    "            ],\n",
    "            left_on=[\"game_play\", merge_col, \"nfl_player_id_2\"],\n",
    "            right_on=[\"game_play\", merge_col, \"nfl_player_id\"],\n",
    "            how=\"left\",\n",
    "        )\n",
    "        .drop(\"nfl_player_id\", axis=1)\n",
    "        .rename(columns={c: c+\"_2\" for c in use_cols})\n",
    "        .sort_values([\"game_play\", merge_col, \"nfl_player_id_1\", \"nfl_player_id_2\"])\n",
    "        .reset_index(drop=True)\n",
    "    )\n",
    "    output_cols += [c+\"_1\" for c in use_cols]\n",
    "    output_cols += [c+\"_2\" for c in use_cols]\n",
    "    \n",
    "    if (\"x_position\" in use_cols) & (\"y_position\" in use_cols):\n",
    "        index = df_combo['x_position_2'].notnull()\n",
    "        \n",
    "        distance_arr = np.full(len(index), np.nan)\n",
    "        tmp_distance_arr = np.sqrt(\n",
    "            np.square(df_combo.loc[index, \"x_position_1\"] - df_combo.loc[index, \"x_position_2\"])\n",
    "            + np.square(df_combo.loc[index, \"y_position_1\"]- df_combo.loc[index, \"y_position_2\"])\n",
    "        )\n",
    "        \n",
    "        distance_arr[index] = tmp_distance_arr\n",
    "        df_combo['distance'] = distance_arr\n",
    "        output_cols += [\"distance\"]\n",
    "        \n",
    "    df_combo['G_flug'] = (df_combo['nfl_player_id_2']==\"G\")\n",
    "    output_cols += [\"G_flug\"]\n",
    "    return df_combo, output_cols\n",
    "\n",
    "\n",
    "use_cols = [\n",
    "    'x_position', 'y_position', 'speed', 'distance',\n",
    "    'direction', 'orientation', 'acceleration', 'sa'\n",
    "]\n",
    "\n",
    "test, feature_cols = create_features(labels, test_tracking, use_cols=use_cols)\n",
    "test"
   ]
  },
  {
   "cell_type": "code",
   "execution_count": 7,
   "id": "b2f0dac8",
   "metadata": {
    "execution": {
     "iopub.execute_input": "2023-05-16T15:00:38.301763Z",
     "iopub.status.busy": "2023-05-16T15:00:38.300825Z",
     "iopub.status.idle": "2023-05-16T15:00:38.356090Z",
     "shell.execute_reply": "2023-05-16T15:00:38.355183Z"
    },
    "papermill": {
     "duration": 0.070657,
     "end_time": "2023-05-16T15:00:38.358291",
     "exception": false,
     "start_time": "2023-05-16T15:00:38.287634",
     "status": "completed"
    },
    "tags": []
   },
   "outputs": [
    {
     "data": {
      "text/html": [
       "<div>\n",
       "<style scoped>\n",
       "    .dataframe tbody tr th:only-of-type {\n",
       "        vertical-align: middle;\n",
       "    }\n",
       "\n",
       "    .dataframe tbody tr th {\n",
       "        vertical-align: top;\n",
       "    }\n",
       "\n",
       "    .dataframe thead th {\n",
       "        text-align: right;\n",
       "    }\n",
       "</style>\n",
       "<table border=\"1\" class=\"dataframe\">\n",
       "  <thead>\n",
       "    <tr style=\"text-align: right;\">\n",
       "      <th></th>\n",
       "      <th>contact_id</th>\n",
       "      <th>contact</th>\n",
       "      <th>game_play</th>\n",
       "      <th>step</th>\n",
       "      <th>nfl_player_id_1</th>\n",
       "      <th>nfl_player_id_2</th>\n",
       "      <th>x_position_1</th>\n",
       "      <th>y_position_1</th>\n",
       "      <th>speed_1</th>\n",
       "      <th>distance_1</th>\n",
       "      <th>...</th>\n",
       "      <th>y_position_2</th>\n",
       "      <th>speed_2</th>\n",
       "      <th>distance_2</th>\n",
       "      <th>direction_2</th>\n",
       "      <th>orientation_2</th>\n",
       "      <th>acceleration_2</th>\n",
       "      <th>sa_2</th>\n",
       "      <th>distance</th>\n",
       "      <th>G_flug</th>\n",
       "      <th>frame</th>\n",
       "    </tr>\n",
       "  </thead>\n",
       "  <tbody>\n",
       "    <tr>\n",
       "      <th>0</th>\n",
       "      <td>58168_003392_0_37084_38567</td>\n",
       "      <td>0</td>\n",
       "      <td>58168_003392</td>\n",
       "      <td>0</td>\n",
       "      <td>37084</td>\n",
       "      <td>38567</td>\n",
       "      <td>41.90</td>\n",
       "      <td>20.08</td>\n",
       "      <td>0.54</td>\n",
       "      <td>0.06</td>\n",
       "      <td>...</td>\n",
       "      <td>19.88</td>\n",
       "      <td>0.66</td>\n",
       "      <td>0.07</td>\n",
       "      <td>136.70</td>\n",
       "      <td>88.92</td>\n",
       "      <td>0.90</td>\n",
       "      <td>0.89</td>\n",
       "      <td>1.543017</td>\n",
       "      <td>False</td>\n",
       "      <td>300</td>\n",
       "    </tr>\n",
       "    <tr>\n",
       "      <th>1</th>\n",
       "      <td>58168_003392_0_37084_G</td>\n",
       "      <td>0</td>\n",
       "      <td>58168_003392</td>\n",
       "      <td>0</td>\n",
       "      <td>37084</td>\n",
       "      <td>G</td>\n",
       "      <td>41.90</td>\n",
       "      <td>20.08</td>\n",
       "      <td>0.54</td>\n",
       "      <td>0.06</td>\n",
       "      <td>...</td>\n",
       "      <td>NaN</td>\n",
       "      <td>NaN</td>\n",
       "      <td>NaN</td>\n",
       "      <td>NaN</td>\n",
       "      <td>NaN</td>\n",
       "      <td>NaN</td>\n",
       "      <td>NaN</td>\n",
       "      <td>NaN</td>\n",
       "      <td>True</td>\n",
       "      <td>300</td>\n",
       "    </tr>\n",
       "    <tr>\n",
       "      <th>2</th>\n",
       "      <td>58168_003392_0_37211_46445</td>\n",
       "      <td>0</td>\n",
       "      <td>58168_003392</td>\n",
       "      <td>0</td>\n",
       "      <td>37211</td>\n",
       "      <td>46445</td>\n",
       "      <td>39.59</td>\n",
       "      <td>17.07</td>\n",
       "      <td>0.53</td>\n",
       "      <td>0.05</td>\n",
       "      <td>...</td>\n",
       "      <td>18.08</td>\n",
       "      <td>1.10</td>\n",
       "      <td>0.10</td>\n",
       "      <td>148.93</td>\n",
       "      <td>92.39</td>\n",
       "      <td>2.03</td>\n",
       "      <td>2.03</td>\n",
       "      <td>1.258014</td>\n",
       "      <td>False</td>\n",
       "      <td>300</td>\n",
       "    </tr>\n",
       "    <tr>\n",
       "      <th>3</th>\n",
       "      <td>58168_003392_0_37211_G</td>\n",
       "      <td>0</td>\n",
       "      <td>58168_003392</td>\n",
       "      <td>0</td>\n",
       "      <td>37211</td>\n",
       "      <td>G</td>\n",
       "      <td>39.59</td>\n",
       "      <td>17.07</td>\n",
       "      <td>0.53</td>\n",
       "      <td>0.05</td>\n",
       "      <td>...</td>\n",
       "      <td>NaN</td>\n",
       "      <td>NaN</td>\n",
       "      <td>NaN</td>\n",
       "      <td>NaN</td>\n",
       "      <td>NaN</td>\n",
       "      <td>NaN</td>\n",
       "      <td>NaN</td>\n",
       "      <td>NaN</td>\n",
       "      <td>True</td>\n",
       "      <td>300</td>\n",
       "    </tr>\n",
       "    <tr>\n",
       "      <th>4</th>\n",
       "      <td>58168_003392_0_38556_G</td>\n",
       "      <td>0</td>\n",
       "      <td>58168_003392</td>\n",
       "      <td>0</td>\n",
       "      <td>38556</td>\n",
       "      <td>G</td>\n",
       "      <td>41.93</td>\n",
       "      <td>30.61</td>\n",
       "      <td>0.67</td>\n",
       "      <td>0.05</td>\n",
       "      <td>...</td>\n",
       "      <td>NaN</td>\n",
       "      <td>NaN</td>\n",
       "      <td>NaN</td>\n",
       "      <td>NaN</td>\n",
       "      <td>NaN</td>\n",
       "      <td>NaN</td>\n",
       "      <td>NaN</td>\n",
       "      <td>NaN</td>\n",
       "      <td>True</td>\n",
       "      <td>300</td>\n",
       "    </tr>\n",
       "    <tr>\n",
       "      <th>...</th>\n",
       "      <td>...</td>\n",
       "      <td>...</td>\n",
       "      <td>...</td>\n",
       "      <td>...</td>\n",
       "      <td>...</td>\n",
       "      <td>...</td>\n",
       "      <td>...</td>\n",
       "      <td>...</td>\n",
       "      <td>...</td>\n",
       "      <td>...</td>\n",
       "      <td>...</td>\n",
       "      <td>...</td>\n",
       "      <td>...</td>\n",
       "      <td>...</td>\n",
       "      <td>...</td>\n",
       "      <td>...</td>\n",
       "      <td>...</td>\n",
       "      <td>...</td>\n",
       "      <td>...</td>\n",
       "      <td>...</td>\n",
       "      <td>...</td>\n",
       "    </tr>\n",
       "    <tr>\n",
       "      <th>6626</th>\n",
       "      <td>58172_003247_125_48241_G</td>\n",
       "      <td>0</td>\n",
       "      <td>58172_003247</td>\n",
       "      <td>125</td>\n",
       "      <td>48241</td>\n",
       "      <td>G</td>\n",
       "      <td>33.86</td>\n",
       "      <td>-1.28</td>\n",
       "      <td>0.79</td>\n",
       "      <td>0.08</td>\n",
       "      <td>...</td>\n",
       "      <td>NaN</td>\n",
       "      <td>NaN</td>\n",
       "      <td>NaN</td>\n",
       "      <td>NaN</td>\n",
       "      <td>NaN</td>\n",
       "      <td>NaN</td>\n",
       "      <td>NaN</td>\n",
       "      <td>NaN</td>\n",
       "      <td>True</td>\n",
       "      <td>1049</td>\n",
       "    </tr>\n",
       "    <tr>\n",
       "      <th>6627</th>\n",
       "      <td>58172_003247_125_48335_G</td>\n",
       "      <td>0</td>\n",
       "      <td>58172_003247</td>\n",
       "      <td>125</td>\n",
       "      <td>48335</td>\n",
       "      <td>G</td>\n",
       "      <td>44.74</td>\n",
       "      <td>3.16</td>\n",
       "      <td>4.72</td>\n",
       "      <td>0.48</td>\n",
       "      <td>...</td>\n",
       "      <td>NaN</td>\n",
       "      <td>NaN</td>\n",
       "      <td>NaN</td>\n",
       "      <td>NaN</td>\n",
       "      <td>NaN</td>\n",
       "      <td>NaN</td>\n",
       "      <td>NaN</td>\n",
       "      <td>NaN</td>\n",
       "      <td>True</td>\n",
       "      <td>1049</td>\n",
       "    </tr>\n",
       "    <tr>\n",
       "      <th>6628</th>\n",
       "      <td>58172_003247_125_52521_G</td>\n",
       "      <td>0</td>\n",
       "      <td>58172_003247</td>\n",
       "      <td>125</td>\n",
       "      <td>52521</td>\n",
       "      <td>G</td>\n",
       "      <td>23.44</td>\n",
       "      <td>4.04</td>\n",
       "      <td>1.41</td>\n",
       "      <td>0.15</td>\n",
       "      <td>...</td>\n",
       "      <td>NaN</td>\n",
       "      <td>NaN</td>\n",
       "      <td>NaN</td>\n",
       "      <td>NaN</td>\n",
       "      <td>NaN</td>\n",
       "      <td>NaN</td>\n",
       "      <td>NaN</td>\n",
       "      <td>NaN</td>\n",
       "      <td>True</td>\n",
       "      <td>1049</td>\n",
       "    </tr>\n",
       "    <tr>\n",
       "      <th>6629</th>\n",
       "      <td>58172_003247_125_52852_G</td>\n",
       "      <td>0</td>\n",
       "      <td>58172_003247</td>\n",
       "      <td>125</td>\n",
       "      <td>52852</td>\n",
       "      <td>G</td>\n",
       "      <td>32.67</td>\n",
       "      <td>2.18</td>\n",
       "      <td>2.34</td>\n",
       "      <td>0.24</td>\n",
       "      <td>...</td>\n",
       "      <td>NaN</td>\n",
       "      <td>NaN</td>\n",
       "      <td>NaN</td>\n",
       "      <td>NaN</td>\n",
       "      <td>NaN</td>\n",
       "      <td>NaN</td>\n",
       "      <td>NaN</td>\n",
       "      <td>NaN</td>\n",
       "      <td>True</td>\n",
       "      <td>1049</td>\n",
       "    </tr>\n",
       "    <tr>\n",
       "      <th>6630</th>\n",
       "      <td>58172_003247_125_52939_G</td>\n",
       "      <td>0</td>\n",
       "      <td>58172_003247</td>\n",
       "      <td>125</td>\n",
       "      <td>52939</td>\n",
       "      <td>G</td>\n",
       "      <td>37.94</td>\n",
       "      <td>2.10</td>\n",
       "      <td>2.29</td>\n",
       "      <td>0.24</td>\n",
       "      <td>...</td>\n",
       "      <td>NaN</td>\n",
       "      <td>NaN</td>\n",
       "      <td>NaN</td>\n",
       "      <td>NaN</td>\n",
       "      <td>NaN</td>\n",
       "      <td>NaN</td>\n",
       "      <td>NaN</td>\n",
       "      <td>NaN</td>\n",
       "      <td>True</td>\n",
       "      <td>1049</td>\n",
       "    </tr>\n",
       "  </tbody>\n",
       "</table>\n",
       "<p>6631 rows × 25 columns</p>\n",
       "</div>"
      ],
      "text/plain": [
       "                      contact_id  contact     game_play  step nfl_player_id_1  \\\n",
       "0     58168_003392_0_37084_38567        0  58168_003392     0           37084   \n",
       "1         58168_003392_0_37084_G        0  58168_003392     0           37084   \n",
       "2     58168_003392_0_37211_46445        0  58168_003392     0           37211   \n",
       "3         58168_003392_0_37211_G        0  58168_003392     0           37211   \n",
       "4         58168_003392_0_38556_G        0  58168_003392     0           38556   \n",
       "...                          ...      ...           ...   ...             ...   \n",
       "6626    58172_003247_125_48241_G        0  58172_003247   125           48241   \n",
       "6627    58172_003247_125_48335_G        0  58172_003247   125           48335   \n",
       "6628    58172_003247_125_52521_G        0  58172_003247   125           52521   \n",
       "6629    58172_003247_125_52852_G        0  58172_003247   125           52852   \n",
       "6630    58172_003247_125_52939_G        0  58172_003247   125           52939   \n",
       "\n",
       "     nfl_player_id_2  x_position_1  y_position_1  speed_1  distance_1  ...  \\\n",
       "0              38567         41.90         20.08     0.54        0.06  ...   \n",
       "1                  G         41.90         20.08     0.54        0.06  ...   \n",
       "2              46445         39.59         17.07     0.53        0.05  ...   \n",
       "3                  G         39.59         17.07     0.53        0.05  ...   \n",
       "4                  G         41.93         30.61     0.67        0.05  ...   \n",
       "...              ...           ...           ...      ...         ...  ...   \n",
       "6626               G         33.86         -1.28     0.79        0.08  ...   \n",
       "6627               G         44.74          3.16     4.72        0.48  ...   \n",
       "6628               G         23.44          4.04     1.41        0.15  ...   \n",
       "6629               G         32.67          2.18     2.34        0.24  ...   \n",
       "6630               G         37.94          2.10     2.29        0.24  ...   \n",
       "\n",
       "      y_position_2  speed_2  distance_2  direction_2  orientation_2  \\\n",
       "0            19.88     0.66        0.07       136.70          88.92   \n",
       "1              NaN      NaN         NaN          NaN            NaN   \n",
       "2            18.08     1.10        0.10       148.93          92.39   \n",
       "3              NaN      NaN         NaN          NaN            NaN   \n",
       "4              NaN      NaN         NaN          NaN            NaN   \n",
       "...            ...      ...         ...          ...            ...   \n",
       "6626           NaN      NaN         NaN          NaN            NaN   \n",
       "6627           NaN      NaN         NaN          NaN            NaN   \n",
       "6628           NaN      NaN         NaN          NaN            NaN   \n",
       "6629           NaN      NaN         NaN          NaN            NaN   \n",
       "6630           NaN      NaN         NaN          NaN            NaN   \n",
       "\n",
       "      acceleration_2  sa_2  distance  G_flug  frame  \n",
       "0               0.90  0.89  1.543017   False    300  \n",
       "1                NaN   NaN       NaN    True    300  \n",
       "2               2.03  2.03  1.258014   False    300  \n",
       "3                NaN   NaN       NaN    True    300  \n",
       "4                NaN   NaN       NaN    True    300  \n",
       "...              ...   ...       ...     ...    ...  \n",
       "6626             NaN   NaN       NaN    True   1049  \n",
       "6627             NaN   NaN       NaN    True   1049  \n",
       "6628             NaN   NaN       NaN    True   1049  \n",
       "6629             NaN   NaN       NaN    True   1049  \n",
       "6630             NaN   NaN       NaN    True   1049  \n",
       "\n",
       "[6631 rows x 25 columns]"
      ]
     },
     "execution_count": 7,
     "metadata": {},
     "output_type": "execute_result"
    }
   ],
   "source": [
    "test_filtered = test.query('not distance>2').reset_index(drop=True)\n",
    "test_filtered['frame'] = (test_filtered['step']/10*59.94+5*59.94).astype('int')+1\n",
    "test_filtered"
   ]
  },
  {
   "cell_type": "code",
   "execution_count": 8,
   "id": "4ab9d1cd",
   "metadata": {
    "execution": {
     "iopub.execute_input": "2023-05-16T15:00:38.385631Z",
     "iopub.status.busy": "2023-05-16T15:00:38.384748Z",
     "iopub.status.idle": "2023-05-16T15:00:38.564272Z",
     "shell.execute_reply": "2023-05-16T15:00:38.563213Z"
    },
    "papermill": {
     "duration": 0.195503,
     "end_time": "2023-05-16T15:00:38.566615",
     "exception": false,
     "start_time": "2023-05-16T15:00:38.371112",
     "status": "completed"
    },
    "tags": []
   },
   "outputs": [
    {
     "data": {
      "text/plain": [
       "53"
      ]
     },
     "execution_count": 8,
     "metadata": {},
     "output_type": "execute_result"
    }
   ],
   "source": [
    "del test, labels, test_tracking\n",
    "gc.collect()"
   ]
  },
  {
   "cell_type": "code",
   "execution_count": 9,
   "id": "36bf8511",
   "metadata": {
    "execution": {
     "iopub.execute_input": "2023-05-16T15:00:38.594220Z",
     "iopub.status.busy": "2023-05-16T15:00:38.593901Z",
     "iopub.status.idle": "2023-05-16T15:00:38.602117Z",
     "shell.execute_reply": "2023-05-16T15:00:38.601270Z"
    },
    "papermill": {
     "duration": 0.024554,
     "end_time": "2023-05-16T15:00:38.604304",
     "exception": false,
     "start_time": "2023-05-16T15:00:38.579750",
     "status": "completed"
    },
    "tags": []
   },
   "outputs": [],
   "source": [
    "train_aug = A.Compose([\n",
    "    A.HorizontalFlip(p=0.5),\n",
    "    A.ShiftScaleRotate(p=0.5),\n",
    "    A.RandomBrightnessContrast(brightness_limit=(-0.1, 0.1), contrast_limit=(-0.1, 0.1), p=0.5),\n",
    "    A.Normalize(mean=[0.], std=[1.]),\n",
    "    ToTensorV2()\n",
    "])\n",
    "\n",
    "valid_aug = A.Compose([\n",
    "    A.Normalize(mean=[0.], std=[1.]),\n",
    "    ToTensorV2()\n",
    "])"
   ]
  },
  {
   "cell_type": "code",
   "execution_count": 10,
   "id": "d18ea5a9",
   "metadata": {
    "execution": {
     "iopub.execute_input": "2023-05-16T15:00:38.632035Z",
     "iopub.status.busy": "2023-05-16T15:00:38.630572Z",
     "iopub.status.idle": "2023-05-16T15:00:38.809768Z",
     "shell.execute_reply": "2023-05-16T15:00:38.808846Z"
    },
    "papermill": {
     "duration": 0.194842,
     "end_time": "2023-05-16T15:00:38.811967",
     "exception": false,
     "start_time": "2023-05-16T15:00:38.617125",
     "status": "completed"
    },
    "tags": []
   },
   "outputs": [
    {
     "name": "stderr",
     "output_type": "stream",
     "text": [
      "100%|██████████| 4/4 [00:00<00:00, 178.04it/s]\n"
     ]
    },
    {
     "data": {
      "text/plain": [
       "21"
      ]
     },
     "execution_count": 10,
     "metadata": {},
     "output_type": "execute_result"
    }
   ],
   "source": [
    "video2helmets = {}\n",
    "test_helmets_new = test_helmets.set_index('video')\n",
    "for video in tqdm(test_helmets.video.unique()):\n",
    "    video2helmets[video] = test_helmets_new.loc[video].reset_index(drop=True)\n",
    "    \n",
    "del test_helmets, test_helmets_new\n",
    "gc.collect()"
   ]
  },
  {
   "cell_type": "code",
   "execution_count": 11,
   "id": "0457b379",
   "metadata": {
    "execution": {
     "iopub.execute_input": "2023-05-16T15:00:38.841237Z",
     "iopub.status.busy": "2023-05-16T15:00:38.839749Z",
     "iopub.status.idle": "2023-05-16T15:00:38.889929Z",
     "shell.execute_reply": "2023-05-16T15:00:38.888868Z"
    },
    "papermill": {
     "duration": 0.066833,
     "end_time": "2023-05-16T15:00:38.892487",
     "exception": false,
     "start_time": "2023-05-16T15:00:38.825654",
     "status": "completed"
    },
    "tags": []
   },
   "outputs": [
    {
     "name": "stderr",
     "output_type": "stream",
     "text": [
      "100%|██████████| 2/2 [00:00<00:00, 51.83it/s]\n"
     ]
    }
   ],
   "source": [
    "video2frames = {}\n",
    "\n",
    "for game_play in tqdm(test_video_metadata.game_play.unique()):\n",
    "    for view in ['Endzone', 'Sideline']:\n",
    "        video = game_play + f'_{view}.mp4'\n",
    "        video2frames[video] = max(list(map(lambda x:int(x.split('_')[-1].split('.')[0]), \\\n",
    "                                           glob.glob(f'/kaggle/work/frames/{video}*'))))"
   ]
  },
  {
   "cell_type": "code",
   "execution_count": 12,
   "id": "e343c0b5",
   "metadata": {
    "execution": {
     "iopub.execute_input": "2023-05-16T15:00:38.921098Z",
     "iopub.status.busy": "2023-05-16T15:00:38.920359Z",
     "iopub.status.idle": "2023-05-16T15:00:38.941565Z",
     "shell.execute_reply": "2023-05-16T15:00:38.940683Z"
    },
    "papermill": {
     "duration": 0.038113,
     "end_time": "2023-05-16T15:00:38.943911",
     "exception": false,
     "start_time": "2023-05-16T15:00:38.905798",
     "status": "completed"
    },
    "tags": []
   },
   "outputs": [],
   "source": [
    "class MyDataset(Dataset):\n",
    "    def __init__(self, df, aug=valid_aug, mode='train'):\n",
    "        self.df = df\n",
    "        self.frame = df.frame.values\n",
    "        self.feature = df[feature_cols].fillna(-1).values\n",
    "        self.players = df[['nfl_player_id_1','nfl_player_id_2']].values\n",
    "        self.game_play = df.game_play.values\n",
    "        self.aug = aug\n",
    "        self.mode = mode\n",
    "        \n",
    "    def __len__(self):\n",
    "        return len(self.df)\n",
    "    \n",
    "    # @lru_cache(1024)\n",
    "    # def read_img(self, path):\n",
    "    #     return cv2.imread(path, 0)\n",
    "   \n",
    "    def __getitem__(self, idx):   \n",
    "        window = 24\n",
    "        frame = self.frame[idx]\n",
    "        \n",
    "        if self.mode == 'train':\n",
    "            frame = frame + random.randint(-6, 6)\n",
    "\n",
    "        players = []\n",
    "        for p in self.players[idx]:\n",
    "            if p == 'G':\n",
    "                players.append(p)\n",
    "            else:\n",
    "                players.append(int(p))\n",
    "        \n",
    "        imgs = []\n",
    "        for view in ['Endzone', 'Sideline']:\n",
    "            video = self.game_play[idx] + f'_{view}.mp4'\n",
    "\n",
    "            tmp = video2helmets[video]\n",
    "#             tmp = tmp.query('@frame-@window<=frame<=@frame+@window')\n",
    "            tmp[tmp['frame'].between(frame-window, frame+window)]\n",
    "            tmp = tmp[tmp.nfl_player_id.isin(players)]#.sort_values(['nfl_player_id', 'frame'])\n",
    "            tmp_frames = tmp.frame.values\n",
    "            tmp = tmp.groupby('frame')[['left','width','top','height']].mean()\n",
    "#0.002s\n",
    "\n",
    "            bboxes = []\n",
    "            for f in range(frame-window, frame+window+1, 1):\n",
    "                if f in tmp_frames:\n",
    "                    x, w, y, h = tmp.loc[f][['left','width','top','height']]\n",
    "                    bboxes.append([x, w, y, h])\n",
    "                else:\n",
    "                    bboxes.append([np.nan, np.nan, np.nan, np.nan])\n",
    "            bboxes = pd.DataFrame(bboxes).interpolate(limit_direction='both').values\n",
    "            bboxes = bboxes[::4]\n",
    "\n",
    "            if bboxes.sum() > 0:\n",
    "                flag = 1\n",
    "            else:\n",
    "                flag = 0\n",
    "#0.03s\n",
    "                    \n",
    "            for i, f in enumerate(range(frame-window, frame+window+1, 4)):\n",
    "                img_new = np.zeros((256, 256), dtype=np.float32)\n",
    "\n",
    "                if flag == 1 and f <= video2frames[video]:\n",
    "                    img = cv2.imread(f'/kaggle/work/frames/{video}_{f:04d}.jpg', 0)\n",
    "\n",
    "                    x, w, y, h = bboxes[i]\n",
    "\n",
    "                    img = img[int(y+h/2)-128:int(y+h/2)+128,int(x+w/2)-128:int(x+w/2)+128].copy()\n",
    "                    img_new[:img.shape[0], :img.shape[1]] = img\n",
    "                    \n",
    "                imgs.append(img_new)\n",
    "#0.06s\n",
    "                \n",
    "        feature = np.float32(self.feature[idx])\n",
    "\n",
    "        img = np.array(imgs).transpose(1, 2, 0)    \n",
    "        img = self.aug(image=img)[\"image\"]\n",
    "        label = np.float32(self.df.contact.values[idx])\n",
    "\n",
    "        return img, feature, label"
   ]
  },
  {
   "cell_type": "code",
   "execution_count": 13,
   "id": "43e751a4",
   "metadata": {
    "execution": {
     "iopub.execute_input": "2023-05-16T15:00:38.971807Z",
     "iopub.status.busy": "2023-05-16T15:00:38.971024Z",
     "iopub.status.idle": "2023-05-16T15:00:39.423578Z",
     "shell.execute_reply": "2023-05-16T15:00:39.422554Z"
    },
    "papermill": {
     "duration": 0.469742,
     "end_time": "2023-05-16T15:00:39.426788",
     "exception": false,
     "start_time": "2023-05-16T15:00:38.957046",
     "status": "completed"
    },
    "tags": []
   },
   "outputs": [
    {
     "data": {
      "image/png": "[encoded data removed]",
      "text/plain": [
       "<Figure size 432x288 with 1 Axes>"
      ]
     },
     "metadata": {
      "needs_background": "light"
     },
     "output_type": "display_data"
    },
    {
     "data": {
      "text/plain": [
       "(torch.Size([26, 256, 256]),\n",
       " array([4.1900002e+01, 2.0080000e+01, 5.4000002e-01, 5.9999999e-02,\n",
       "        2.5269000e+02, 2.6231000e+02, 9.2000002e-01, 8.9999998e-01,\n",
       "        4.0369999e+01, 1.9879999e+01, 6.6000003e-01, 7.0000000e-02,\n",
       "        1.3670000e+02, 8.8919998e+01, 8.9999998e-01, 8.8999999e-01,\n",
       "        1.5430166e+00, 0.0000000e+00], dtype=float32),\n",
       " 0.0)"
      ]
     },
     "execution_count": 13,
     "metadata": {},
     "output_type": "execute_result"
    }
   ],
   "source": [
    "img, feature, label = MyDataset(test_filtered, valid_aug, 'test')[0]\n",
    "plt.imshow(img.permute(1,2,0)[:,:,7])\n",
    "plt.show()\n",
    "img.shape, feature, label"
   ]
  },
  {
   "cell_type": "code",
   "execution_count": 14,
   "id": "1919659c",
   "metadata": {
    "execution": {
     "iopub.execute_input": "2023-05-16T15:00:39.457542Z",
     "iopub.status.busy": "2023-05-16T15:00:39.457251Z",
     "iopub.status.idle": "2023-05-16T15:00:39.468318Z",
     "shell.execute_reply": "2023-05-16T15:00:39.467434Z"
    },
    "papermill": {
     "duration": 0.028705,
     "end_time": "2023-05-16T15:00:39.470452",
     "exception": false,
     "start_time": "2023-05-16T15:00:39.441747",
     "status": "completed"
    },
    "tags": []
   },
   "outputs": [],
   "source": [
    "class Model(nn.Module):\n",
    "    def __init__(self):\n",
    "        super(Model, self).__init__()\n",
    "        self.backbone = timm.create_model(CFG['model'], pretrained=False, num_classes=500, in_chans=13)\n",
    "        self.mlp = nn.Sequential(\n",
    "            nn.Linear(18, 64),\n",
    "            nn.LayerNorm(64),\n",
    "            nn.ReLU(),\n",
    "            nn.Dropout(0.2),\n",
    "            # nn.Linear(64, 64),\n",
    "            # nn.LayerNorm(64),\n",
    "            # nn.ReLU(),\n",
    "            # nn.Dropout(0.2)\n",
    "        )\n",
    "        self.fc = nn.Linear(64+500*2, 1)\n",
    "\n",
    "    def forward(self, img, feature):\n",
    "        b, c, h, w = img.shape\n",
    "        img = img.reshape(b*2, c//2, h, w)\n",
    "        img = self.backbone(img).reshape(b, -1)\n",
    "        feature = self.mlp(feature)\n",
    "        y = self.fc(torch.cat([img, feature], dim=1))\n",
    "        return y"
   ]
  },
  {
   "cell_type": "code",
   "execution_count": 15,
   "id": "de6bff4d",
   "metadata": {
    "execution": {
     "iopub.execute_input": "2023-05-16T15:00:39.500441Z",
     "iopub.status.busy": "2023-05-16T15:00:39.499880Z",
     "iopub.status.idle": "2023-05-16T15:17:45.508288Z",
     "shell.execute_reply": "2023-05-16T15:17:45.506457Z"
    },
    "papermill": {
     "duration": 1026.025802,
     "end_time": "2023-05-16T15:17:45.510602",
     "exception": false,
     "start_time": "2023-05-16T15:00:39.484800",
     "status": "completed"
    },
    "tags": []
   },
   "outputs": [
    {
     "name": "stderr",
     "output_type": "stream",
     "text": [
      "100%|██████████| 104/104 [17:00<00:00,  9.82s/it]\n"
     ]
    }
   ],
   "source": [
    "test_set = MyDataset(test_filtered, valid_aug, 'test')\n",
    "test_loader = DataLoader(test_set, batch_size=CFG['valid_bs'], shuffle=False, num_workers=CFG['num_workers'], pin_memory=True)\n",
    "\n",
    "model = Model().to(device)\n",
    "model.load_state_dict(torch.load('/kaggle/input/nfl-exp1/resnet50_fold0.pt'))\n",
    "\n",
    "model.eval()\n",
    "    \n",
    "y_pred = []\n",
    "with torch.no_grad():\n",
    "    tk = tqdm(test_loader, total=len(test_loader))\n",
    "    for step, batch in enumerate(tk):\n",
    "        if(step % 4 != 3):\n",
    "            img, feature, label = [x.to(device) for x in batch]\n",
    "            output1 = model(img, feature).squeeze(-1)\n",
    "            output2 = model(img.flip(-1), feature).squeeze(-1)\n",
    "            \n",
    "            y_pred.extend(0.15*(output1.sigmoid().cpu().numpy()) + 0.85*(output2.sigmoid().cpu().numpy()))\n",
    "        else:\n",
    "            img, feature, label = [x.to(device) for x in batch]\n",
    "            output = model(img.flip(-1), feature).squeeze(-1)\n",
    "            y_pred.extend(output.sigmoid().cpu().numpy())    \n",
    "\n",
    "y_pred = np.array(y_pred)"
   ]
  },
  {
   "cell_type": "code",
   "execution_count": 16,
   "id": "0929e1b5",
   "metadata": {
    "execution": {
     "iopub.execute_input": "2023-05-16T15:17:45.557550Z",
     "iopub.status.busy": "2023-05-16T15:17:45.556767Z",
     "iopub.status.idle": "2023-05-16T15:17:45.765393Z",
     "shell.execute_reply": "2023-05-16T15:17:45.764175Z"
    },
    "papermill": {
     "duration": 0.234636,
     "end_time": "2023-05-16T15:17:45.767866",
     "exception": false,
     "start_time": "2023-05-16T15:17:45.533230",
     "status": "completed"
    },
    "tags": []
   },
   "outputs": [
    {
     "data": {
      "text/html": [
       "<div>\n",
       "<style scoped>\n",
       "    .dataframe tbody tr th:only-of-type {\n",
       "        vertical-align: middle;\n",
       "    }\n",
       "\n",
       "    .dataframe tbody tr th {\n",
       "        vertical-align: top;\n",
       "    }\n",
       "\n",
       "    .dataframe thead th {\n",
       "        text-align: right;\n",
       "    }\n",
       "</style>\n",
       "<table border=\"1\" class=\"dataframe\">\n",
       "  <thead>\n",
       "    <tr style=\"text-align: right;\">\n",
       "      <th></th>\n",
       "      <th>contact_id</th>\n",
       "      <th>contact</th>\n",
       "    </tr>\n",
       "  </thead>\n",
       "  <tbody>\n",
       "    <tr>\n",
       "      <th>0</th>\n",
       "      <td>58168_003392_0_38590_43854</td>\n",
       "      <td>0.0</td>\n",
       "    </tr>\n",
       "    <tr>\n",
       "      <th>1</th>\n",
       "      <td>58168_003392_0_38590_41257</td>\n",
       "      <td>0.0</td>\n",
       "    </tr>\n",
       "    <tr>\n",
       "      <th>2</th>\n",
       "      <td>58168_003392_0_38590_41944</td>\n",
       "      <td>0.0</td>\n",
       "    </tr>\n",
       "    <tr>\n",
       "      <th>3</th>\n",
       "      <td>58168_003392_0_38590_42386</td>\n",
       "      <td>0.0</td>\n",
       "    </tr>\n",
       "    <tr>\n",
       "      <th>4</th>\n",
       "      <td>58168_003392_0_38590_47944</td>\n",
       "      <td>0.0</td>\n",
       "    </tr>\n",
       "  </tbody>\n",
       "</table>\n",
       "</div>"
      ],
      "text/plain": [
       "                   contact_id  contact\n",
       "0  58168_003392_0_38590_43854      0.0\n",
       "1  58168_003392_0_38590_41257      0.0\n",
       "2  58168_003392_0_38590_41944      0.0\n",
       "3  58168_003392_0_38590_42386      0.0\n",
       "4  58168_003392_0_38590_47944      0.0"
      ]
     },
     "execution_count": 16,
     "metadata": {},
     "output_type": "execute_result"
    }
   ],
   "source": [
    "test_filtered['contact'] = y_pred\n",
    "\n",
    "sub = pd.read_csv('/kaggle/input/nfl-player-contact-detection/sample_submission.csv')\n",
    "\n",
    "sub = sub.drop(\"contact\", axis=1).merge(test_filtered[['contact_id', 'contact']], how='left', on='contact_id')\n",
    "sub['contact'] = sub['contact'].fillna(0)#.astype('int')\n",
    "\n",
    "sub[[\"contact_id\", \"contact\"]].to_csv(\"cnn_output.csv\", index=False)\n",
    "\n",
    "sub.head()"
   ]
  },
  {
   "cell_type": "code",
   "execution_count": 17,
   "id": "86726dde",
   "metadata": {
    "execution": {
     "iopub.execute_input": "2023-05-16T15:17:45.814897Z",
     "iopub.status.busy": "2023-05-16T15:17:45.813977Z",
     "iopub.status.idle": "2023-05-16T15:17:47.366043Z",
     "shell.execute_reply": "2023-05-16T15:17:47.364399Z"
    },
    "papermill": {
     "duration": 1.578046,
     "end_time": "2023-05-16T15:17:47.368625",
     "exception": false,
     "start_time": "2023-05-16T15:17:45.790579",
     "status": "completed"
    },
    "tags": []
   },
   "outputs": [
    {
     "name": "stdout",
     "output_type": "stream",
     "text": [
      "2926.08984375\n"
     ]
    }
   ],
   "source": [
    "a=list(globals().keys())\n",
    "for key in a:\n",
    "    if not key.startswith(\"__\"):\n",
    "        globals().pop(key)\n",
    "\n",
    "import gc,psutil,os\n",
    "from numba import cuda\n",
    "cuda.select_device(0)\n",
    "cuda.close()\n",
    "_ = gc.collect(2)\n",
    "print(psutil.Process(os.getpid()).memory_info().rss/1024/1024)"
   ]
  },
  {
   "cell_type": "code",
   "execution_count": 18,
   "id": "2bfdc201",
   "metadata": {
    "execution": {
     "iopub.execute_input": "2023-05-16T15:17:47.417064Z",
     "iopub.status.busy": "2023-05-16T15:17:47.416207Z",
     "iopub.status.idle": "2023-05-16T15:17:49.574653Z",
     "shell.execute_reply": "2023-05-16T15:17:49.573660Z"
    },
    "papermill": {
     "duration": 2.184576,
     "end_time": "2023-05-16T15:17:49.577335",
     "exception": false,
     "start_time": "2023-05-16T15:17:47.392759",
     "status": "completed"
    },
    "tags": []
   },
   "outputs": [],
   "source": [
    "import psutil\n",
    "import os\n",
    "import gc\n",
    "import subprocess\n",
    "\n",
    "import numpy as np\n",
    "import pandas as pd\n",
    "import matplotlib.pyplot as plt\n",
    "import matplotlib.patches as patches\n",
    "from IPython.display import Video, display\n",
    "\n",
    "from scipy.optimize import minimize\n",
    "import cv2\n",
    "from glob import glob\n",
    "from tqdm import tqdm\n",
    "\n",
    "from sklearn.model_selection import GroupKFold\n",
    "from sklearn.metrics import (\n",
    "    roc_auc_score,\n",
    "    matthews_corrcoef,\n",
    ")\n",
    "\n",
    "import xgboost as xgb\n",
    "\n",
    "import torch\n",
    "\n",
    "if torch.cuda.is_available():\n",
    "    import cupy \n",
    "    import cudf\n",
    "    from cuml import ForestInference\n",
    "\n",
    "def setup(cfg):\n",
    "    cfg.device = torch.device('cuda' if torch.cuda.is_available() else 'cpu')\n",
    "    \n",
    "    # set dirs\n",
    "    cfg.INPUT = f'../input/{cfg.COMPETITION}'\n",
    "    cfg.EXP = cfg.NAME\n",
    "    cfg.OUTPUT_EXP = cfg.NAME\n",
    "    cfg.SUBMISSION = './'\n",
    "    cfg.DATASET = '../input/'\n",
    "\n",
    "    cfg.EXP_MODEL = os.path.join(cfg.EXP, 'model')\n",
    "    cfg.EXP_FIG = os.path.join(cfg.EXP, 'fig')\n",
    "    cfg.EXP_PREDS = os.path.join(cfg.EXP, 'preds')\n",
    "\n",
    "    # make dirs\n",
    "    for d in [cfg.EXP_MODEL, cfg.EXP_FIG, cfg.EXP_PREDS]:\n",
    "        os.makedirs(d, exist_ok=True)\n",
    "        \n",
    "    return cfg\n",
    "\n",
    "class Config:\n",
    "    AUTHOR = \"colum2131\"\n",
    "\n",
    "    NAME = \"NFLC-\" + \"Exp001-simple-xgb-baseline\"\n",
    "\n",
    "    COMPETITION = \"nfl-player-contact-detection\"\n",
    "\n",
    "    seed = 42\n",
    "    num_fold = 5\n",
    "    \n",
    "    xgb_params = {\n",
    "        'objective': 'binary:logistic',\n",
    "        'eval_metric': 'auc',\n",
    "        'learning_rate':0.03,\n",
    "        'tree_method':'hist' if not torch.cuda.is_available() else 'gpu_hist',\n",
    "        \"max_depth\":10,\n",
    "        \"subsample\":0.7,\n",
    "        \"colsample_bytree\":0.8,\n",
    "        \"lambda\":10,\n",
    "        #\"gamma\":5, \n",
    "        \"max_delta_step\":1,\n",
    "        \"max_bin\":512,\n",
    "    }\n",
    "cfg = setup(Config)"
   ]
  },
  {
   "cell_type": "code",
   "execution_count": 19,
   "id": "e8a6398c",
   "metadata": {
    "execution": {
     "iopub.execute_input": "2023-05-16T15:17:49.623731Z",
     "iopub.status.busy": "2023-05-16T15:17:49.623431Z",
     "iopub.status.idle": "2023-05-16T15:17:49.646109Z",
     "shell.execute_reply": "2023-05-16T15:17:49.645073Z"
    },
    "papermill": {
     "duration": 0.04833,
     "end_time": "2023-05-16T15:17:49.648171",
     "exception": false,
     "start_time": "2023-05-16T15:17:49.599841",
     "status": "completed"
    },
    "tags": []
   },
   "outputs": [],
   "source": [
    "# ==============================\n",
    "# function\n",
    "# ==============================\n",
    "# ref: https://www.kaggle.com/code/robikscube/nfl-player-contact-detection-getting-started\n",
    "def add_contact_id(df):\n",
    "    # Create contact ids\n",
    "    df[\"contact_id\"] = (\n",
    "        df[\"game_play\"]\n",
    "        + \"_\"\n",
    "        + df[\"step\"].astype(\"str\")\n",
    "        + \"_\"\n",
    "        + df[\"nfl_player_id_1\"].astype(\"str\")\n",
    "        + \"_\"\n",
    "        + df[\"nfl_player_id_2\"].astype(\"str\")\n",
    "    )\n",
    "    return df\n",
    "\n",
    "def expand_contact_id(df):\n",
    "    \"\"\"\n",
    "    Splits out contact_id into seperate columns.\n",
    "    \"\"\"\n",
    "    df[\"game_play\"] = df[\"contact_id\"].str[:12]\n",
    "    df[\"step\"] = df[\"contact_id\"].str.split(\"_\").str[-3].astype(\"int\")\n",
    "    df[\"nfl_player_id_1\"] = df[\"contact_id\"].str.split(\"_\").str[-2]\n",
    "    df[\"nfl_player_id_2\"] = df[\"contact_id\"].str.split(\"_\").str[-1]\n",
    "    return df\n",
    "\n",
    "# cross validation\n",
    "def get_groupkfold(train, target_col, group_col, n_splits):\n",
    "    kf = GroupKFold(n_splits=n_splits)\n",
    "    generator = kf.split(train, train[target_col], train[group_col])\n",
    "    fold_series = []\n",
    "    for fold, (idx_train, idx_valid) in enumerate(generator):\n",
    "        fold_series.append(pd.Series(fold, index=idx_valid))\n",
    "    fold_series = pd.concat(fold_series).sort_index()\n",
    "    return fold_series\n",
    "\n",
    "# xgboost code\n",
    "def fit_xgboost(cfg, X, y, params, add_suffix=''):\n",
    "    \"\"\"\n",
    "    xgb_params = {\n",
    "        'objective': 'binary:logistic',\n",
    "        'eval_metric': 'auc',\n",
    "        'learning_rate':0.01,\n",
    "        'tree_method':'gpu_hist'\n",
    "    }\n",
    "    \"\"\"\n",
    "    oof_pred = np.zeros(len(y), dtype=np.float32)\n",
    "    for fold in sorted(cfg.folds.unique()):\n",
    "        if fold == -1: continue\n",
    "        idx_train = (cfg.folds!=fold)\n",
    "        idx_valid = (cfg.folds==fold)\n",
    "        x_train, y_train = X[idx_train], y[idx_train]\n",
    "        x_valid, y_valid = X[idx_valid], y[idx_valid]\n",
    "        #input(len(x_train.groupby(\"game_play\")))\n",
    "        \n",
    "        display(pd.Series(y_valid).value_counts())\n",
    "\n",
    "        xgb_train = xgb.DMatrix(x_train, label=y_train)\n",
    "        xgb_valid = xgb.DMatrix(x_valid, label=y_valid)\n",
    "        evals = [(xgb_train,'train'),(xgb_valid,'eval')]\n",
    "\n",
    "        model = xgb.train(\n",
    "            params,\n",
    "            xgb_train,\n",
    "            num_boost_round=10_000,\n",
    "            early_stopping_rounds=100,\n",
    "            evals=evals,\n",
    "            verbose_eval=100,\n",
    "        )\n",
    "\n",
    "        model_path = os.path.join(cfg.EXP_MODEL, f'xgb_fold{fold}{add_suffix}.model')\n",
    "        model.save_model(model_path)\n",
    "        if not torch.cuda.is_available():\n",
    "            model = xgb.Booster().load_model(model_path)\n",
    "        else:\n",
    "            model = ForestInference.load(model_path, output_class=True, model_type='xgboost')\n",
    "        pred_i = model.predict_proba(x_valid)[:, 1]\n",
    "        oof_pred[x_valid.index] = pred_i\n",
    "        score = round(roc_auc_score(y_valid, pred_i), 5)\n",
    "        print(f'Performance of the prediction: {score}\\n')\n",
    "        del model; gc.collect(2)\n",
    "\n",
    "    np.save(os.path.join(cfg.EXP_PREDS, f'oof_pred{add_suffix}'), oof_pred)\n",
    "    score = round(roc_auc_score(y, oof_pred), 5)\n",
    "    print(f'All Performance of the prediction: {score}')\n",
    "    return oof_pred\n",
    "\n",
    "def pred_xgboost(X, data_dir, add_suffix=''):\n",
    "    models = glob(os.path.join(data_dir, f'xgb_fold*{add_suffix}.model'))\n",
    "    if not torch.cuda.is_available():\n",
    "         models = [xgb.Booster().load_model(model_path) for model in models]\n",
    "    else:\n",
    "        models = [ForestInference.load(model, output_class=True, model_type='xgboost') for model in models]\n",
    "    preds = np.array([model.predict_proba(X)[:, 1] for model in models])\n",
    "    preds = np.mean(preds, axis=0)\n",
    "    return preds"
   ]
  },
  {
   "cell_type": "code",
   "execution_count": 20,
   "id": "aacbc500",
   "metadata": {
    "execution": {
     "iopub.execute_input": "2023-05-16T15:17:49.694186Z",
     "iopub.status.busy": "2023-05-16T15:17:49.693877Z",
     "iopub.status.idle": "2023-05-16T15:19:11.473916Z",
     "shell.execute_reply": "2023-05-16T15:19:11.472731Z"
    },
    "papermill": {
     "duration": 81.828003,
     "end_time": "2023-05-16T15:19:11.498471",
     "exception": false,
     "start_time": "2023-05-16T15:17:49.670468",
     "status": "completed"
    },
    "tags": []
   },
   "outputs": [
    {
     "name": "stdout",
     "output_type": "stream",
     "text": [
      "4191.2890625\n"
     ]
    }
   ],
   "source": [
    "# ==============================\n",
    "# read data\n",
    "# ==============================\n",
    "\n",
    "if not torch.cuda.is_available():\n",
    "    tr_tracking = pd.read_csv(os.path.join(cfg.INPUT, 'train_player_tracking.csv'), parse_dates=[\"datetime\"])\n",
    "    te_tracking = pd.read_csv(os.path.join(cfg.INPUT, 'test_player_tracking.csv'), parse_dates=[\"datetime\"])\n",
    "    sub = pd.read_csv(os.path.join(cfg.INPUT, 'sample_submission.csv'))\n",
    "\n",
    "    train = pd.read_csv(os.path.join(cfg.INPUT, 'train_labels.csv'), parse_dates=[\"datetime\"])\n",
    "    test = expand_contact_id(sub)\n",
    "    \n",
    "else:\n",
    "    tr_tracking = pd.read_csv(os.path.join(cfg.INPUT, 'train_player_tracking.csv'), parse_dates=[\"datetime\"]).sort_values(\"datetime\")\n",
    "    te_tracking = pd.read_csv(os.path.join(cfg.INPUT, 'test_player_tracking.csv'), parse_dates=[\"datetime\"]).sort_values(\"datetime\")\n",
    "    sub = pd.read_csv(os.path.join(cfg.INPUT, 'sample_submission.csv'))\n",
    "\n",
    "    train = cudf.read_csv(os.path.join(cfg.INPUT, 'train_labels.csv'), parse_dates=[\"datetime\"])\n",
    "    test = cudf.DataFrame(expand_contact_id(sub))\n",
    "\n",
    "train[\"is_test\"]=0\n",
    "test[\"is_test\"]=1\n",
    "test[\"contact\"]=-1\n",
    "test = add_contact_id(test)\n",
    "\n",
    "cols = ['x_position','y_position','speed','distance','direction','orientation','acceleration','sa']\n",
    "#cols = ['speed','distance','direction','orientation','acceleration','sa']\n",
    "#cols = ['speed','distance']\n",
    "feature_cols=[]\n",
    "\n",
    "main_data=[tr_tracking,te_tracking]\n",
    "for j in [0,1]:\n",
    "    data=main_data[j]\n",
    "    data[\"game_play_player_id\"]=data[\"game_play\"]+\"_\"+data[\"nfl_player_id\"].astype(\"str\")\n",
    "    a=data.groupby(\"game_play_player_id\")\n",
    "    \n",
    "    for i in [16,32]:\n",
    "        for k in cols:\n",
    "            k_name=f\"{k}_mean{i}\"\n",
    "            data[k_name]=a[k].rolling(i).mean().reset_index(0,drop=True)\n",
    "            feature_cols.append(k_name)\n",
    "            k_name=f\"{k}_std{i}\"\n",
    "            data[k_name]=a[k].rolling(i).std().reset_index(0,drop=True)\n",
    "            feature_cols.append(k_name)\n",
    "            k_name=f\"{k}_max{i}\"\n",
    "            data[k_name]=a[k].rolling(i).max().reset_index(0,drop=True)\n",
    "            feature_cols.append(k_name)\n",
    "            k_name=f\"{k}_min{i}\"\n",
    "            data[k_name]=a[k].rolling(i).min().reset_index(0,drop=True)\n",
    "            feature_cols.append(k_name)\n",
    "    main_data[j]=cudf.DataFrame.from_pandas(data)\n",
    "    \n",
    "tr_tracking,te_tracking=main_data\n",
    "del data,a,main_data\n",
    "\n",
    "\n",
    "feature_cols=list(set(feature_cols))\n",
    "tr_tracking[feature_cols]=tr_tracking[feature_cols].astype(\"float32\")\n",
    "te_tracking[feature_cols]=te_tracking[feature_cols].astype(\"float32\")\n",
    "\n",
    "#print(tr_tracking[feature_cols])\n",
    "_ = gc.collect(2)\n",
    "print(psutil.Process(os.getpid()).memory_info().rss/1024/1024)"
   ]
  },
  {
   "cell_type": "code",
   "execution_count": 21,
   "id": "4ad9787e",
   "metadata": {
    "execution": {
     "iopub.execute_input": "2023-05-16T15:19:11.545970Z",
     "iopub.status.busy": "2023-05-16T15:19:11.545647Z",
     "iopub.status.idle": "2023-05-16T15:19:14.224929Z",
     "shell.execute_reply": "2023-05-16T15:19:14.223913Z"
    },
    "papermill": {
     "duration": 2.706415,
     "end_time": "2023-05-16T15:19:14.227392",
     "exception": false,
     "start_time": "2023-05-16T15:19:11.520977",
     "status": "completed"
    },
    "tags": []
   },
   "outputs": [
    {
     "name": "stdout",
     "output_type": "stream",
     "text": [
      "4284.359375\n"
     ]
    }
   ],
   "source": [
    "# ==============================\n",
    "# feature engineering\n",
    "# ==============================\n",
    "def create_features(df, tr_tracking, merge_col=\"step\", use_cols=[\"x_position\", \"y_position\"]):\n",
    "    output_cols = []\n",
    "    df_combo = (\n",
    "        df.astype({\"nfl_player_id_1\": \"str\"})\n",
    "        .merge(\n",
    "            tr_tracking.astype({\"nfl_player_id\": \"str\"})[\n",
    "                [\"game_play\", merge_col, \"nfl_player_id\",] + use_cols\n",
    "            ],\n",
    "            left_on=[\"game_play\", merge_col, \"nfl_player_id_1\"],\n",
    "            right_on=[\"game_play\", merge_col, \"nfl_player_id\"],\n",
    "            how=\"left\",\n",
    "        )\n",
    "        .rename(columns={c: c+\"_1\" for c in use_cols})\n",
    "        .drop(\"nfl_player_id\", axis=1)\n",
    "        .merge(\n",
    "            tr_tracking.astype({\"nfl_player_id\": \"str\"})[\n",
    "                [\"game_play\", merge_col, \"nfl_player_id\"] + use_cols\n",
    "            ],\n",
    "            left_on=[\"game_play\", merge_col, \"nfl_player_id_2\"],\n",
    "            right_on=[\"game_play\", merge_col, \"nfl_player_id\"],\n",
    "            how=\"left\",\n",
    "        )\n",
    "        .drop(\"nfl_player_id\", axis=1)\n",
    "        .rename(columns={c: c+\"_2\" for c in use_cols})\n",
    "        .sort_values([\"game_play\", merge_col, \"nfl_player_id_1\", \"nfl_player_id_2\"])\n",
    "        .reset_index(drop=True)\n",
    "    )\n",
    "    output_cols += [c+\"_1\" for c in use_cols]\n",
    "    output_cols += [c+\"_2\" for c in use_cols]\n",
    "    \n",
    "    if (\"x_position\" in use_cols) & (\"y_position\" in use_cols):\n",
    "        index = df_combo['x_position_2'].notnull()\n",
    "        if torch.cuda.is_available():\n",
    "            index = index.to_array()\n",
    "        distance_arr = np.full(len(index), np.nan)\n",
    "        tmp_distance_arr = np.sqrt(\n",
    "            np.square(df_combo.loc[index, \"x_position_1\"] - df_combo.loc[index, \"x_position_2\"])\n",
    "            + np.square(df_combo.loc[index, \"y_position_1\"]- df_combo.loc[index, \"y_position_2\"])\n",
    "        )\n",
    "        if torch.cuda.is_available():\n",
    "            tmp_distance_arr = tmp_distance_arr.to_array()\n",
    "        distance_arr[index] = tmp_distance_arr\n",
    "        df_combo['distance'] = distance_arr\n",
    "        output_cols += [\"distance\"]\n",
    "        \n",
    "    df_combo['G_flug'] = (df_combo['nfl_player_id_2']==\"G\")\n",
    "    output_cols += [\"G_flug\"]\n",
    "    return df_combo, output_cols\n",
    "\n",
    "\n",
    "use_cols = [\n",
    "    'x_position', 'y_position', 'speed', 'distance',\n",
    "    'direction', 'orientation', 'acceleration', 'sa'\n",
    "]+feature_cols\n",
    "train, feature_cols = create_features(train, tr_tracking, use_cols=use_cols)\n",
    "test, feature_cols = create_features(test, te_tracking, use_cols=use_cols)\n",
    "\n",
    "del tr_tracking,te_tracking\n",
    "_ = gc.collect(2)\n",
    "print(psutil.Process(os.getpid()).memory_info().rss/1024/1024)"
   ]
  },
  {
   "cell_type": "markdown",
   "id": "b08091b3",
   "metadata": {
    "papermill": {
     "duration": 0.022932,
     "end_time": "2023-05-16T15:19:14.274520",
     "exception": false,
     "start_time": "2023-05-16T15:19:14.251588",
     "status": "completed"
    },
    "tags": []
   },
   "source": [
    "# Exclude distance > 2\n",
    "if the distance between two players is greater than 2 then the probability of contact is so low, we will consider it = 0, training data will be reduced from 4.7 M rows to 660 K"
   ]
  },
  {
   "cell_type": "code",
   "execution_count": 22,
   "id": "13fc7648",
   "metadata": {
    "execution": {
     "iopub.execute_input": "2023-05-16T15:19:14.322715Z",
     "iopub.status.busy": "2023-05-16T15:19:14.321540Z",
     "iopub.status.idle": "2023-05-16T15:19:15.589548Z",
     "shell.execute_reply": "2023-05-16T15:19:15.588360Z"
    },
    "papermill": {
     "duration": 1.295169,
     "end_time": "2023-05-16T15:19:15.592608",
     "exception": false,
     "start_time": "2023-05-16T15:19:14.297439",
     "status": "completed"
    },
    "tags": []
   },
   "outputs": [
    {
     "name": "stdout",
     "output_type": "stream",
     "text": [
      "number of train data :  660553\n",
      "4357.5\n"
     ]
    }
   ],
   "source": [
    "DISTANCE_THRESH = 2\n",
    "train=train.sort_values(\"contact_id\")\n",
    "test=test.sort_values(\"contact_id\")\n",
    "\n",
    "train_y = train['contact'].to_pandas().copy().values\n",
    "oof_pred = np.zeros(len(train))\n",
    "cond_dis_train = (train['distance'].to_pandas()<=DISTANCE_THRESH) | (train['distance'].to_pandas().isna())\n",
    "cond_dis_test = (test['distance'].to_pandas()<=DISTANCE_THRESH) | (test['distance'].to_pandas().isna())\n",
    "\n",
    "train = train[cond_dis_train]\n",
    "train.reset_index(inplace = True, drop = True)\n",
    "\n",
    "print('number of train data : ',len(train))\n",
    "\n",
    "_ = gc.collect(2)\n",
    "print(psutil.Process(os.getpid()).memory_info().rss/1024/1024)"
   ]
  },
  {
   "cell_type": "markdown",
   "id": "b7e1938e",
   "metadata": {
    "papermill": {
     "duration": 0.022318,
     "end_time": "2023-05-16T15:19:15.637956",
     "exception": false,
     "start_time": "2023-05-16T15:19:15.615638",
     "status": "completed"
    },
    "tags": []
   },
   "source": [
    "# Helmet track Features"
   ]
  },
  {
   "cell_type": "code",
   "execution_count": 23,
   "id": "2e070897",
   "metadata": {
    "execution": {
     "iopub.execute_input": "2023-05-16T15:19:15.685467Z",
     "iopub.status.busy": "2023-05-16T15:19:15.684592Z",
     "iopub.status.idle": "2023-05-16T15:22:10.437308Z",
     "shell.execute_reply": "2023-05-16T15:22:10.436219Z"
    },
    "papermill": {
     "duration": 174.802101,
     "end_time": "2023-05-16T15:22:10.462695",
     "exception": false,
     "start_time": "2023-05-16T15:19:15.660594",
     "status": "completed"
    },
    "tags": []
   },
   "outputs": [
    {
     "name": "stdout",
     "output_type": "stream",
     "text": [
      "4332.46484375\n"
     ]
    }
   ],
   "source": [
    "helmet_train = cudf.read_csv('/kaggle/input/nfl-player-contact-detection/train_baseline_helmets.csv')\n",
    "helmet_test = cudf.read_csv('/kaggle/input/nfl-player-contact-detection/test_baseline_helmets.csv')\n",
    "#CLUSTERS = [10, 50, 100, 500]\n",
    "CLUSTERS = [8,32,128,512]\n",
    "#CLUSTERS = [8,16, 32,64, 128, 256,512]\n",
    "\n",
    "def add_step_pct(df, cluster):\n",
    "    df['step_pct'] = cluster * (df['step']-min(df['step']))/(max(df['step'])-min(df['step']))\n",
    "    df['step_pct'] = df['step_pct'].apply(np.ceil).astype(np.int32)\n",
    "    return df\n",
    "\n",
    "main_data=[train,test]\n",
    "helmet_data=[helmet_train,helmet_test]\n",
    "\n",
    "for i in [0,1]:\n",
    "    data=main_data[i].to_pandas()\n",
    "    helmet=helmet_data[i].to_pandas()\n",
    "    helmet.loc[helmet['view']=='Endzone2','view'] = 'Endzone'\n",
    "    helmet.rename(columns = {'frame': 'step'}, inplace = True)\n",
    "    \n",
    "    for cluster in CLUSTERS:\n",
    "        data = data.groupby('game_play').apply(lambda x:add_step_pct(x,cluster))\n",
    "        #helmet_cache1=helmet.groupby('game_play').apply(lambda x:add_step_pct(x,cluster))\n",
    "        for helmet_view in ['Sideline', 'Endzone']:\n",
    "            #helmet_cache2=helmet_cache1[helmet_cache1['view']==helmet_view]\n",
    "            ########################\n",
    "            helmet_cache2=helmet.groupby('game_play').apply(lambda x:add_step_pct(x,cluster))\n",
    "            helmet_cache2=helmet_cache2[helmet_cache2['view']==helmet_view]\n",
    "            ########################\n",
    "            helmet_cache2['helmet_id'] = helmet_cache2['game_play'] + '_' + helmet_cache2['nfl_player_id'].astype(str) + '_' + helmet_cache2['step_pct'].astype(str)\n",
    "\n",
    "            helmet_cache2 = helmet_cache2[['helmet_id', 'left', 'width', 'top', 'height']].groupby('helmet_id').mean().reset_index()\n",
    "            \n",
    "            for player_ind in [1, 2]:\n",
    "                data['helmet_id'] = data['game_play'] + '_' + data['nfl_player_id_'+str(player_ind)].astype(str) + \\\n",
    "                                        '_' + data['step_pct'].astype(str)\n",
    "\n",
    "\n",
    "                data = data.merge(helmet_cache2, how = 'left')\n",
    "\n",
    "                data.rename(columns = {i:i+'_'+helmet_view+'_'+str(cluster)+'_'+str(player_ind) for i in ['left', 'width', 'top', 'height']}, inplace = True)\n",
    "\n",
    "                del data['helmet_id']\n",
    "\n",
    "                feature_cols += [i+'_'+helmet_view+'_'+str(cluster)+'_'+str(player_ind) for i in ['left', 'width', 'top', 'height']]\n",
    "            del helmet_cache2\n",
    "            _ = gc.collect(2)\n",
    "            \n",
    "            \n",
    "    cache=data.groupby('game_play')[\"step\"]\n",
    "    data[\"step_rate\"]=cache.apply(lambda df:(df-min(df))/(max(df)-min(df)))\n",
    "    feature_cols += [\"step_rate\"]\n",
    "    main_data[i]=cudf.DataFrame.from_pandas(data)\n",
    "\n",
    "train,test=main_data\n",
    "\n",
    "del main_data,helmet_data,data,helmet,helmet_train,helmet_test,cache\n",
    "_ = gc.collect(2)\n",
    "print(psutil.Process(os.getpid()).memory_info().rss/1024/1024)"
   ]
  },
  {
   "cell_type": "markdown",
   "id": "6a2db305",
   "metadata": {
    "papermill": {
     "duration": 0.022996,
     "end_time": "2023-05-16T15:22:10.508545",
     "exception": false,
     "start_time": "2023-05-16T15:22:10.485549",
     "status": "completed"
    },
    "tags": []
   },
   "source": [
    "# add cnn feature"
   ]
  },
  {
   "cell_type": "code",
   "execution_count": 24,
   "id": "cc5f8b13",
   "metadata": {
    "execution": {
     "iopub.execute_input": "2023-05-16T15:22:10.556975Z",
     "iopub.status.busy": "2023-05-16T15:22:10.555386Z",
     "iopub.status.idle": "2023-05-16T15:22:11.638231Z",
     "shell.execute_reply": "2023-05-16T15:22:11.637268Z"
    },
    "papermill": {
     "duration": 1.109224,
     "end_time": "2023-05-16T15:22:11.640826",
     "exception": false,
     "start_time": "2023-05-16T15:22:10.531602",
     "status": "completed"
    },
    "tags": []
   },
   "outputs": [
    {
     "name": "stdout",
     "output_type": "stream",
     "text": [
      "0.7697179293171271\n",
      "0.7438046266461408\n",
      "4333.30859375\n"
     ]
    }
   ],
   "source": [
    "train_cnn_feature = cudf.read_csv('/kaggle/input/zzy-cnn-train-output/zzy_cnn_prid_data.csv')\n",
    "train_cnn_feature.rename(columns={\"contact\":\"cnn_feature\"}, inplace = True)\n",
    "\n",
    "\n",
    "train=train.merge(train_cnn_feature, how = 'left',on=\"contact_id\").sort_values(\"contact_id\").reset_index(drop=True)\n",
    "print(np.corrcoef(train[\"cnn_feature\"].to_pandas(),train[\"contact\"].to_pandas())[0,1])\n",
    "cache=train[\"cnn_feature\"].to_pandas().to_numpy()\n",
    "cache[torch.randperm(len(train))[:int(len(train)//19)]]=0\n",
    "train[\"cnn_feature\"]=cache\n",
    "print(np.corrcoef(train[\"cnn_feature\"].to_pandas(),train[\"contact\"].to_pandas())[0,1])\n",
    "\n",
    "del train_cnn_feature\n",
    "\n",
    "if os.path.exists('/kaggle/working/cnn_output.csv'):\n",
    "    test_cnn_feature = cudf.read_csv('/kaggle/working/cnn_output.csv')\n",
    "    test_cnn_feature.rename(columns={\"contact\":\"cnn_feature\"}, inplace = True)\n",
    "    test=test.merge(test_cnn_feature, how = 'left',on=\"contact_id\").sort_values(\"contact_id\").reset_index(drop=True)\n",
    "    del test_cnn_feature\n",
    "else :\n",
    "    print(\"test_cnn_feature have not load\")\n",
    "    \n",
    "\n",
    "\n",
    "train[\"cnn_feature\"]=train[\"cnn_feature\"]>0.4\n",
    "test[\"cnn_feature\"]=test[\"cnn_feature\"]>0.29\n",
    "feature_cols += [\"cnn_feature\"]\n",
    "_ = gc.collect(2)\n",
    "print(psutil.Process(os.getpid()).memory_info().rss/1024/1024)"
   ]
  },
  {
   "cell_type": "markdown",
   "id": "83f47f88",
   "metadata": {
    "papermill": {
     "duration": 0.022793,
     "end_time": "2023-05-16T15:22:11.686803",
     "exception": false,
     "start_time": "2023-05-16T15:22:11.664010",
     "status": "completed"
    },
    "tags": []
   },
   "source": [
    "# Fill missing values for the ground"
   ]
  },
  {
   "cell_type": "code",
   "execution_count": 25,
   "id": "adb90827",
   "metadata": {
    "execution": {
     "iopub.execute_input": "2023-05-16T15:22:11.733912Z",
     "iopub.status.busy": "2023-05-16T15:22:11.733606Z",
     "iopub.status.idle": "2023-05-16T15:22:16.395959Z",
     "shell.execute_reply": "2023-05-16T15:22:16.394928Z"
    },
    "papermill": {
     "duration": 4.689391,
     "end_time": "2023-05-16T15:22:16.399215",
     "exception": false,
     "start_time": "2023-05-16T15:22:11.709824",
     "status": "completed"
    },
    "tags": []
   },
   "outputs": [],
   "source": [
    "main_data=[train,test]\n",
    "for i in [0,1]:\n",
    "    data=main_data[i].to_pandas()\n",
    "    for cluster in CLUSTERS:\n",
    "        for helmet_view in ['Sideline', 'Endzone']:\n",
    "            data.loc[data['G_flug']==True,'left_'+helmet_view+'_'+str(cluster)+'_2'] = data.loc[data['G_flug']==True,'left_'+helmet_view+'_'+str(cluster)+'_1']\n",
    "            data.loc[data['G_flug']==True,'top_'+helmet_view+'_'+str(cluster)+'_2'] = data.loc[data['G_flug']==True,'top_'+helmet_view+'_'+str(cluster)+'_1']\n",
    "            data.loc[data['G_flug']==True,'width_'+helmet_view+'_'+str(cluster)+'_2'] = 0\n",
    "            data.loc[data['G_flug']==True,'height_'+helmet_view+'_'+str(cluster)+'_2'] = 0\n",
    "    main_data[i]=cudf.DataFrame.from_pandas(data)\n",
    "train,test=main_data"
   ]
  },
  {
   "cell_type": "markdown",
   "id": "55390b02",
   "metadata": {
    "papermill": {
     "duration": 0.031996,
     "end_time": "2023-05-16T15:22:16.465717",
     "exception": false,
     "start_time": "2023-05-16T15:22:16.433721",
     "status": "completed"
    },
    "tags": []
   },
   "source": [
    "# Diffrence & Product features"
   ]
  },
  {
   "cell_type": "code",
   "execution_count": 26,
   "id": "0e9a060e",
   "metadata": {
    "execution": {
     "iopub.execute_input": "2023-05-16T15:22:16.530936Z",
     "iopub.status.busy": "2023-05-16T15:22:16.530548Z",
     "iopub.status.idle": "2023-05-16T15:22:23.480677Z",
     "shell.execute_reply": "2023-05-16T15:22:23.479332Z"
    },
    "papermill": {
     "duration": 6.985929,
     "end_time": "2023-05-16T15:22:23.483246",
     "exception": false,
     "start_time": "2023-05-16T15:22:16.497317",
     "status": "completed"
    },
    "tags": []
   },
   "outputs": [
    {
     "name": "stderr",
     "output_type": "stream",
     "text": [
      "/opt/conda/lib/python3.7/site-packages/pandas/core/frame.py:3678: PerformanceWarning: DataFrame is highly fragmented.  This is usually the result of calling `frame.insert` many times, which has poor performance.  Consider joining all columns at once using pd.concat(axis=1) instead.  To get a de-fragmented frame, use `newframe = frame.copy()`\n",
      "  self[col] = igetitem(value, i)\n"
     ]
    },
    {
     "name": "stdout",
     "output_type": "stream",
     "text": [
      "number of features :  324\n",
      "number of train data :  660553\n",
      "4527.79296875\n"
     ]
    }
   ],
   "source": [
    "main_data=[train,test]\n",
    "for k in [0,1]:\n",
    "    data=main_data[k].to_pandas()\n",
    "    cols = [i[:-2] for i in train.columns if i[-2:]=='_1' and i!='nfl_player_id_1']\n",
    "    data[[i+'_diff' for i in cols]] = np.abs(data[[i+'_1' for i in cols]].values - data[[i+'_2' for i in cols]].values)\n",
    "    feature_cols += [i+'_diff' for i in cols]\n",
    "    \n",
    "    cols = ['x_position', 'y_position', 'speed', 'distance', 'direction', 'orientation', 'acceleration', 'sa']\n",
    "    data[[i+'_prod' for i in cols]] = data[[i+'_1' for i in cols]].values * data[[i+'_2' for i in cols]].values\n",
    "    feature_cols += [i+'_prod' for i in cols]\n",
    "    main_data[k]=cudf.DataFrame.from_pandas(data)\n",
    "\n",
    "train,test=main_data\n",
    "\n",
    "#train[[i+'_div' for i in cols]] = train[[i+'_1' for i in cols]].values / train[[i+'_2' for i in cols]].values\n",
    "#test[[i+'_div' for i in cols]] = test[[i+'_1' for i in cols]].values / test[[i+'_2' for i in cols]].values\n",
    "#feature_cols += [i+'_div' for i in cols]\n",
    "\n",
    "#train[[i+'_div2' for i in cols]] = train[[i+'_2' for i in cols]].values / train[[i+'_1' for i in cols]].values\n",
    "#test[[i+'_div2' for i in cols]] = test[[i+'_2' for i in cols]].values / test[[i+'_1' for i in cols]].values\n",
    "#feature_cols += [i+'_div2' for i in cols]#0.65765\n",
    "\n",
    "feature_cols=list(set(feature_cols))\n",
    "print('number of features : ',len(feature_cols))\n",
    "print('number of train data : ',len(train))\n",
    "_ = gc.collect(2)\n",
    "print(psutil.Process(os.getpid()).memory_info().rss/1024/1024)"
   ]
  },
  {
   "cell_type": "code",
   "execution_count": 27,
   "id": "efe2ade7",
   "metadata": {
    "execution": {
     "iopub.execute_input": "2023-05-16T15:22:23.532847Z",
     "iopub.status.busy": "2023-05-16T15:22:23.531234Z",
     "iopub.status.idle": "2023-05-16T15:23:21.427813Z",
     "shell.execute_reply": "2023-05-16T15:23:21.425804Z"
    },
    "papermill": {
     "duration": 57.92346,
     "end_time": "2023-05-16T15:23:21.430241",
     "exception": false,
     "start_time": "2023-05-16T15:22:23.506781",
     "status": "completed"
    },
    "tags": []
   },
   "outputs": [
    {
     "name": "stdout",
     "output_type": "stream",
     "text": [
      "20.254223\n"
     ]
    },
    {
     "name": "stderr",
     "output_type": "stream",
     "text": [
      "100%|██████████| 324/324 [00:39<00:00,  8.12it/s]\n"
     ]
    },
    {
     "name": "stdout",
     "output_type": "stream",
     "text": [
      "26.291609\n",
      "4549.2421875\n",
      "[['cnn_feature' '0.691583960033721']\n",
      " ['distance' '0.5451771844924183']\n",
      " ['y_position_diff' '0.31902659835122904']\n",
      " ['orientation_mean32_diff' '0.26898531285596305']\n",
      " ['width_Endzone_512_2' '0.264008873769464']\n",
      " ['height_Endzone_512_2' '0.2639868395277524']\n",
      " ['width_Sideline_512_2' '0.25637196843119353']\n",
      " ['height_Sideline_512_2' '0.25533307093084967']\n",
      " ['height_Endzone_128_2' '0.2536208266043178']\n",
      " ['width_Endzone_128_2' '0.2510600343485478']\n",
      " ['width_Endzone_32_2' '0.2506891066117257']\n",
      " ['width_Endzone_8_2' '0.2483446832576441']\n",
      " ['height_Endzone_32_2' '0.24752704225064595']\n",
      " ['height_Endzone_8_2' '0.24565121352386685']\n",
      " ['G_flug' '0.24393068433483814']\n",
      " ['height_Sideline_128_2' '0.23696566552015963']\n",
      " ['orientation_mean16_diff' '0.23148808146575542']\n",
      " ['y_position_mean16_diff' '0.22860718332150592']\n",
      " ['width_Sideline_128_2' '0.2255441032458971']\n",
      " ['width_Sideline_32_2' '0.22531453216184788']\n",
      " ['width_Sideline_8_2' '0.22295493383052897']\n",
      " ['height_Sideline_32_2' '0.22068827735176316']\n",
      " ['width_Sideline_512_diff' '0.21957892967290932']\n",
      " ['height_Sideline_8_2' '0.21941029975899798']\n",
      " ['y_position_min16_diff' '0.21648015754221775']\n",
      " ['width_Sideline_128_diff' '0.21559753321847333']\n",
      " ['width_Sideline_32_diff' '0.21469686605047264']\n",
      " ['y_position_max16_diff' '0.2134513616478546']\n",
      " ['width_Sideline_8_diff' '0.21238593321109006']\n",
      " ['height_Sideline_512_diff' '0.2059030263023747']]\n"
     ]
    }
   ],
   "source": [
    "main_data=cudf.concat((train,test))\n",
    "\n",
    "def normalization(x):\n",
    "    return (x-x.mean())/(x.std()+1e-9)\n",
    "\n",
    "def show(cache):\n",
    "    index=cache[:,1].astype(np.float32).argsort()\n",
    "    cache=cache[index][::-1]\n",
    "    print(cache)\n",
    "\n",
    "def get_point(train,feature_cols):\n",
    "    cache=[]\n",
    "    for key in feature_cols:\n",
    "        a=train[key].copy()\n",
    "        target=train[\"contact\"][~a.isna()]\n",
    "        a=a[~a.isna()]\n",
    "        a=np.corrcoef(a,target)[0,1]\n",
    "        cache.append([key,abs(a)])\n",
    "    cache=np.array(cache)\n",
    "    return cache\n",
    "\n",
    "def fix_distributed(a):\n",
    "    a=normalization(a)\n",
    "    skew=(a**3).mean()\n",
    "    if skew<0:\n",
    "        a=-a\n",
    "        skew=-skew\n",
    "    i=0\n",
    "    while skew>0.6:\n",
    "        a=np.log(a-a.min()+1)\n",
    "        a=normalization(a)\n",
    "        skew=(a**3).mean()\n",
    "        if i==10:\n",
    "            break\n",
    "        i+=1\n",
    "        \n",
    "    kurt=(a**4).mean()\n",
    "    i=0\n",
    "    while kurt>3:\n",
    "        a=np.tanh(a/2)\n",
    "        a=normalization(a)\n",
    "        kurt=(a**4).mean()\n",
    "        if i==10:\n",
    "            break\n",
    "        i+=1\n",
    "\n",
    "    return a\n",
    "\n",
    "\n",
    "cache=get_point(train.to_pandas(),feature_cols)\n",
    "print(cache[:,1].astype(np.float32).sum())\n",
    "\n",
    "for key in tqdm(feature_cols):\n",
    "    a=main_data[key].to_pandas()\n",
    "    main_data[key]=fix_distributed(a).astype(\"float16\")\n",
    "\n",
    "train=main_data[main_data[\"is_test\"]==0]\n",
    "test=main_data[main_data[\"is_test\"]==1]\n",
    "\n",
    "cache=get_point(train.to_pandas(),feature_cols)\n",
    "\n",
    "index=cache[:,1].astype(np.float32).argsort()\n",
    "points=cache[index][::-1]\n",
    "\n",
    "\n",
    "del main_data,a\n",
    "_ = gc.collect(2)\n",
    "print(points[:,1].astype(np.float32).sum())\n",
    "print(psutil.Process(os.getpid()).memory_info().rss/1024/1024)\n",
    "print(points[:30])"
   ]
  },
  {
   "cell_type": "code",
   "execution_count": 28,
   "id": "68e57f53",
   "metadata": {
    "execution": {
     "iopub.execute_input": "2023-05-16T15:23:21.508988Z",
     "iopub.status.busy": "2023-05-16T15:23:21.508057Z",
     "iopub.status.idle": "2023-05-16T15:23:22.587113Z",
     "shell.execute_reply": "2023-05-16T15:23:22.586191Z"
    },
    "papermill": {
     "duration": 1.120502,
     "end_time": "2023-05-16T15:23:22.589322",
     "exception": false,
     "start_time": "2023-05-16T15:23:21.468820",
     "status": "completed"
    },
    "tags": []
   },
   "outputs": [
    {
     "data": {
      "image/png": "[encoded data removed]",
      "text/plain": [
       "<Figure size 432x288 with 1 Axes>"
      ]
     },
     "metadata": {
      "needs_background": "light"
     },
     "output_type": "display_data"
    },
    {
     "data": {
      "image/png": "[encoded data removed]",
      "text/plain": [
       "<Figure size 432x288 with 1 Axes>"
      ]
     },
     "metadata": {
      "needs_background": "light"
     },
     "output_type": "display_data"
    }
   ],
   "source": [
    "#train[\"cnn_feature\"]=fix_distributed(train[\"cnn_feature\"].to_pandas()).astype(\"float16\")\n",
    "#test[\"cnn_feature\"]=fix_distributed(test[\"cnn_feature\"].to_pandas()).astype(\"float16\")\n",
    "test[\"cnn_feature\"].to_pandas().hist(bins=200)\n",
    "plt.show()\n",
    "train[\"cnn_feature\"].to_pandas().hist(bins=200)\n",
    "plt.show()"
   ]
  },
  {
   "cell_type": "markdown",
   "id": "d1451f3d",
   "metadata": {
    "papermill": {
     "duration": 0.03817,
     "end_time": "2023-05-16T15:23:22.666298",
     "exception": false,
     "start_time": "2023-05-16T15:23:22.628128",
     "status": "completed"
    },
    "tags": []
   },
   "source": [
    "# Train & Infer XGBoost model"
   ]
  },
  {
   "cell_type": "code",
   "execution_count": 29,
   "id": "c36023e9",
   "metadata": {
    "execution": {
     "iopub.execute_input": "2023-05-16T15:23:22.744110Z",
     "iopub.status.busy": "2023-05-16T15:23:22.743788Z",
     "iopub.status.idle": "2023-05-16T15:23:25.387211Z",
     "shell.execute_reply": "2023-05-16T15:23:25.385881Z"
    },
    "papermill": {
     "duration": 2.685752,
     "end_time": "2023-05-16T15:23:25.390103",
     "exception": false,
     "start_time": "2023-05-16T15:23:22.704351",
     "status": "completed"
    },
    "tags": []
   },
   "outputs": [],
   "source": [
    "train=train.to_pandas()"
   ]
  },
  {
   "cell_type": "code",
   "execution_count": 30,
   "id": "070ae5e8",
   "metadata": {
    "execution": {
     "iopub.execute_input": "2023-05-16T15:23:25.471507Z",
     "iopub.status.busy": "2023-05-16T15:23:25.471126Z",
     "iopub.status.idle": "2023-05-16T15:30:00.213816Z",
     "shell.execute_reply": "2023-05-16T15:30:00.211549Z"
    },
    "papermill": {
     "duration": 394.785807,
     "end_time": "2023-05-16T15:30:00.216684",
     "exception": false,
     "start_time": "2023-05-16T15:23:25.430877",
     "status": "completed"
    },
    "tags": []
   },
   "outputs": [
    {
     "data": {
      "text/plain": [
       "0    119036\n",
       "1     13030\n",
       "Name: contact, dtype: int64"
      ]
     },
     "metadata": {},
     "output_type": "display_data"
    },
    {
     "name": "stdout",
     "output_type": "stream",
     "text": [
      "[0]\ttrain-auc:0.84285\teval-auc:0.84449\n",
      "[100]\ttrain-auc:0.98291\teval-auc:0.96511\n",
      "[200]\ttrain-auc:0.99376\teval-auc:0.97049\n",
      "[300]\ttrain-auc:0.99655\teval-auc:0.97142\n",
      "[400]\ttrain-auc:0.99823\teval-auc:0.97187\n",
      "[500]\ttrain-auc:0.99908\teval-auc:0.97208\n",
      "[599]\ttrain-auc:0.99951\teval-auc:0.97194\n",
      "Performance of the prediction: 0.97194\n",
      "\n"
     ]
    },
    {
     "data": {
      "text/plain": [
       "0    119346\n",
       "1     12837\n",
       "Name: contact, dtype: int64"
      ]
     },
     "metadata": {},
     "output_type": "display_data"
    },
    {
     "name": "stdout",
     "output_type": "stream",
     "text": [
      "[0]\ttrain-auc:0.84740\teval-auc:0.83648\n",
      "[100]\ttrain-auc:0.98281\teval-auc:0.96591\n",
      "[200]\ttrain-auc:0.99386\teval-auc:0.97054\n",
      "[300]\ttrain-auc:0.99675\teval-auc:0.97153\n",
      "[400]\ttrain-auc:0.99834\teval-auc:0.97157\n",
      "[500]\ttrain-auc:0.99916\teval-auc:0.97157\n",
      "[543]\ttrain-auc:0.99937\teval-auc:0.97154\n",
      "Performance of the prediction: 0.97154\n",
      "\n"
     ]
    },
    {
     "data": {
      "text/plain": [
       "0    118752\n",
       "1     13412\n",
       "Name: contact, dtype: int64"
      ]
     },
     "metadata": {},
     "output_type": "display_data"
    },
    {
     "name": "stdout",
     "output_type": "stream",
     "text": [
      "[0]\ttrain-auc:0.84750\teval-auc:0.83414\n",
      "[100]\ttrain-auc:0.98323\teval-auc:0.96063\n",
      "[200]\ttrain-auc:0.99389\teval-auc:0.96607\n",
      "[300]\ttrain-auc:0.99684\teval-auc:0.96713\n",
      "[400]\ttrain-auc:0.99829\teval-auc:0.96736\n",
      "[500]\ttrain-auc:0.99912\teval-auc:0.96736\n",
      "[548]\ttrain-auc:0.99935\teval-auc:0.96724\n",
      "Performance of the prediction: 0.96724\n",
      "\n"
     ]
    },
    {
     "data": {
      "text/plain": [
       "0    119387\n",
       "1     12574\n",
       "Name: contact, dtype: int64"
      ]
     },
     "metadata": {},
     "output_type": "display_data"
    },
    {
     "name": "stdout",
     "output_type": "stream",
     "text": [
      "[0]\ttrain-auc:0.84553\teval-auc:0.82740\n",
      "[100]\ttrain-auc:0.98326\teval-auc:0.96118\n",
      "[200]\ttrain-auc:0.99392\teval-auc:0.96599\n",
      "[300]\ttrain-auc:0.99679\teval-auc:0.96664\n",
      "[400]\ttrain-auc:0.99830\teval-auc:0.96694\n",
      "[500]\ttrain-auc:0.99912\teval-auc:0.96701\n",
      "[600]\ttrain-auc:0.99953\teval-auc:0.96708\n",
      "[700]\ttrain-auc:0.99976\teval-auc:0.96698\n",
      "[712]\ttrain-auc:0.99977\teval-auc:0.96696\n",
      "Performance of the prediction: 0.96696\n",
      "\n"
     ]
    },
    {
     "data": {
      "text/plain": [
       "0    119720\n",
       "1     12459\n",
       "Name: contact, dtype: int64"
      ]
     },
     "metadata": {},
     "output_type": "display_data"
    },
    {
     "name": "stdout",
     "output_type": "stream",
     "text": [
      "[0]\ttrain-auc:0.84681\teval-auc:0.83248\n",
      "[100]\ttrain-auc:0.98372\teval-auc:0.96109\n",
      "[200]\ttrain-auc:0.99395\teval-auc:0.96586\n",
      "[300]\ttrain-auc:0.99678\teval-auc:0.96683\n",
      "[400]\ttrain-auc:0.99826\teval-auc:0.96684\n",
      "[478]\ttrain-auc:0.99896\teval-auc:0.96673\n",
      "Performance of the prediction: 0.96673\n",
      "\n",
      "All Performance of the prediction: 0.96887\n"
     ]
    }
   ],
   "source": [
    "# ==============================\n",
    "# training & inference\n",
    "# ==============================\n",
    "\n",
    "cfg.folds = get_groupkfold(train, 'contact', 'game_play', cfg.num_fold)\n",
    "cfg.folds.to_csv(os.path.join(cfg.EXP_PREDS, 'folds.csv'), index=False)\n",
    "\n",
    "oof_pred[np.where(cond_dis_train)] = fit_xgboost(cfg, train[feature_cols], train['contact'], \n",
    "                                              cfg.xgb_params, add_suffix=\"_xgb_1st\")\n",
    "np.save('oof_pred.npy',oof_pred)"
   ]
  },
  {
   "cell_type": "markdown",
   "id": "5613e29f",
   "metadata": {
    "papermill": {
     "duration": 0.079314,
     "end_time": "2023-05-16T15:30:00.379376",
     "exception": false,
     "start_time": "2023-05-16T15:30:00.300062",
     "status": "completed"
    },
    "tags": []
   },
   "source": [
    "# Submission"
   ]
  },
  {
   "cell_type": "code",
   "execution_count": 31,
   "id": "f81d734d",
   "metadata": {
    "execution": {
     "iopub.execute_input": "2023-05-16T15:30:00.470173Z",
     "iopub.status.busy": "2023-05-16T15:30:00.469776Z",
     "iopub.status.idle": "2023-05-16T15:30:42.787866Z",
     "shell.execute_reply": "2023-05-16T15:30:42.781220Z"
    },
    "papermill": {
     "duration": 42.403186,
     "end_time": "2023-05-16T15:30:42.829159",
     "exception": false,
     "start_time": "2023-05-16T15:30:00.425973",
     "status": "completed"
    },
    "tags": []
   },
   "outputs": [
    {
     "name": "stdout",
     "output_type": "stream",
     "text": [
      "score: 0.74532\n",
      "threshold 0.31855\n"
     ]
    }
   ],
   "source": [
    "# ==============================\n",
    "# optimize\n",
    "# ==============================\n",
    "def func(x_list):\n",
    "    score = matthews_corrcoef(train_y, oof_pred>x_list[0])\n",
    "    return -score\n",
    "\n",
    "x0 = [0.5]\n",
    "result = minimize(func,x0, method=\"nelder-mead\")\n",
    "cfg.threshold = result.x[0]\n",
    "print(\"score:\", round(matthews_corrcoef(train_y, oof_pred>cfg.threshold), 5))\n",
    "print(\"threshold\", round(cfg.threshold, 5))"
   ]
  },
  {
   "cell_type": "code",
   "execution_count": 32,
   "id": "c8cf0839",
   "metadata": {
    "execution": {
     "iopub.execute_input": "2023-05-16T15:30:42.915376Z",
     "iopub.status.busy": "2023-05-16T15:30:42.914622Z",
     "iopub.status.idle": "2023-05-16T15:30:43.146433Z",
     "shell.execute_reply": "2023-05-16T15:30:43.145350Z"
    },
    "papermill": {
     "duration": 0.277497,
     "end_time": "2023-05-16T15:30:43.148989",
     "exception": false,
     "start_time": "2023-05-16T15:30:42.871492",
     "status": "completed"
    },
    "tags": []
   },
   "outputs": [],
   "source": [
    "del train\n",
    "_ = gc.collect(2)"
   ]
  },
  {
   "cell_type": "code",
   "execution_count": 33,
   "id": "ed317e10",
   "metadata": {
    "execution": {
     "iopub.execute_input": "2023-05-16T15:30:43.244338Z",
     "iopub.status.busy": "2023-05-16T15:30:43.244000Z",
     "iopub.status.idle": "2023-05-16T15:30:43.880015Z",
     "shell.execute_reply": "2023-05-16T15:30:43.878743Z"
    },
    "papermill": {
     "duration": 0.691987,
     "end_time": "2023-05-16T15:30:43.883529",
     "exception": false,
     "start_time": "2023-05-16T15:30:43.191542",
     "status": "completed"
    },
    "tags": []
   },
   "outputs": [
    {
     "data": {
      "text/html": [
       "<div>\n",
       "<style scoped>\n",
       "    .dataframe tbody tr th:only-of-type {\n",
       "        vertical-align: middle;\n",
       "    }\n",
       "\n",
       "    .dataframe tbody tr th {\n",
       "        vertical-align: top;\n",
       "    }\n",
       "\n",
       "    .dataframe thead th {\n",
       "        text-align: right;\n",
       "    }\n",
       "</style>\n",
       "<table border=\"1\" class=\"dataframe\">\n",
       "  <thead>\n",
       "    <tr style=\"text-align: right;\">\n",
       "      <th></th>\n",
       "      <th>contact_id</th>\n",
       "      <th>contact</th>\n",
       "    </tr>\n",
       "  </thead>\n",
       "  <tbody>\n",
       "    <tr>\n",
       "      <th>0</th>\n",
       "      <td>58168_003392_0_37084_37211</td>\n",
       "      <td>0</td>\n",
       "    </tr>\n",
       "    <tr>\n",
       "      <th>1</th>\n",
       "      <td>58168_003392_0_37084_38556</td>\n",
       "      <td>0</td>\n",
       "    </tr>\n",
       "    <tr>\n",
       "      <th>2</th>\n",
       "      <td>58168_003392_0_37084_38567</td>\n",
       "      <td>0</td>\n",
       "    </tr>\n",
       "    <tr>\n",
       "      <th>3</th>\n",
       "      <td>58168_003392_0_37084_38590</td>\n",
       "      <td>0</td>\n",
       "    </tr>\n",
       "    <tr>\n",
       "      <th>4</th>\n",
       "      <td>58168_003392_0_37084_39947</td>\n",
       "      <td>0</td>\n",
       "    </tr>\n",
       "  </tbody>\n",
       "</table>\n",
       "</div>"
      ],
      "text/plain": [
       "                   contact_id  contact\n",
       "0  58168_003392_0_37084_37211        0\n",
       "1  58168_003392_0_37084_38556        0\n",
       "2  58168_003392_0_37084_38567        0\n",
       "3  58168_003392_0_37084_38590        0\n",
       "4  58168_003392_0_37084_39947        0"
      ]
     },
     "metadata": {},
     "output_type": "display_data"
    }
   ],
   "source": [
    "sub_pred = pred_xgboost(test.loc[cond_dis_test, feature_cols].to_pandas(), cfg.EXP_MODEL, add_suffix=\"_xgb_1st\")\n",
    "\n",
    "test['contact'] = 0\n",
    "test.loc[cond_dis_test, 'contact'] = sub_pred\n",
    "test[['contact_id', 'contact']].to_csv('xgb_output.csv', index=False)\n",
    "\n",
    "test['contact'] = (test['contact'] > cfg.threshold).astype(int)\n",
    "test[['contact_id', 'contact']].to_csv('submission.csv', index=False)\n",
    "display(test[['contact_id', 'contact']].head())"
   ]
  }
 ],
 "metadata": {
  "kernelspec": {
   "display_name": "Python 3",
   "language": "python",
   "name": "python3"
  },
  "language_info": {
   "codemirror_mode": {
    "name": "ipython",
    "version": 3
   },
   "file_extension": ".py",
   "mimetype": "text/x-python",
   "name": "python",
   "nbconvert_exporter": "python",
   "pygments_lexer": "ipython3",
   "version": "3.7.12"
  },
  "papermill": {
   "default_parameters": {},
   "duration": 1871.341117,
   "end_time": "2023-05-16T15:30:46.629698",
   "environment_variables": {},
   "exception": null,
   "input_path": "__notebook__.ipynb",
   "output_path": "__notebook__.ipynb",
   "parameters": {},
   "start_time": "2023-05-16T14:59:35.288581",
   "version": "2.3.4"
  }
 },
 "nbformat": 4,
 "nbformat_minor": 5
}
