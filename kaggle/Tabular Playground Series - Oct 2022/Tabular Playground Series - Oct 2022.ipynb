{
 "cells": [
  {
   "cell_type": "code",
   "execution_count": 1,
   "id": "b206439a",
   "metadata": {},
   "outputs": [],
   "source": [
    "from IPython.display import FileLink\n",
    "import numpy as np\n",
    "import pandas as pd \n",
    "import matplotlib.pyplot as plt\n",
    "\n",
    "import os\n",
    "import glob\n",
    "from tqdm import tqdm\n",
    "from time import time\n",
    "\n",
    "file_names = []\n",
    "for dirname, _, filenames in os.walk('E:\\\\tabular-playground-series-oct-2022\\\\'):\n",
    "    for filename in filenames:\n",
    "        file_names.append(os.path.join(dirname, filename))"
   ]
  },
  {
   "cell_type": "code",
   "execution_count": 2,
   "id": "aed99c16",
   "metadata": {},
   "outputs": [],
   "source": [
    "def reduce_mem_usage(df, keep_float16=True):\n",
    "\n",
    "    start_mem = df.memory_usage().sum() / 1024**2\n",
    "    print('Memory usage of dataframe is {:.2f} MB'.format(start_mem))\n",
    "    \n",
    "    for col in df.columns:\n",
    "        col_type = df[col].dtype\n",
    "        \n",
    "        if col_type != object:\n",
    "            c_min = df[col].min()\n",
    "            c_max = df[col].max()\n",
    "            if str(col_type)[:3] == 'int':\n",
    "                if c_min > np.iinfo(np.int8).min and c_max < np.iinfo(np.int8).max:\n",
    "                    df[col] = df[col].astype(np.int8)\n",
    "                elif c_min > np.iinfo(np.int16).min and c_max < np.iinfo(np.int16).max:\n",
    "                    df[col] = df[col].astype(np.int16)\n",
    "                elif c_min > np.iinfo(np.int32).min and c_max < np.iinfo(np.int32).max:\n",
    "                    df[col] = df[col].astype(np.int32)\n",
    "                elif c_min > np.iinfo(np.int64).min and c_max < np.iinfo(np.int64).max:\n",
    "                    df[col] = df[col].astype(np.int64)  \n",
    "            else:\n",
    "                if keep_float16:\n",
    "                    if c_min > np.finfo(np.float16).min and c_max < np.finfo(np.float16).max:\n",
    "                        df[col] = df[col].astype(np.float16)\n",
    "                    elif c_min > np.finfo(np.float32).min and c_max < np.finfo(np.float32).max:\n",
    "                        df[col] = df[col].astype(np.float32)\n",
    "                    else:\n",
    "                        df[col] = df[col].astype(np.float64)\n",
    "                else:\n",
    "                    if c_min > np.finfo(np.float16).min and c_max < np.finfo(np.float16).max:\n",
    "                        df[col] = df[col].astype(np.float32) \n",
    "                    elif c_min > np.finfo(np.float32).min and c_max < np.finfo(np.float32).max:\n",
    "                        df[col] = df[col].astype(np.float32)\n",
    "                    else:\n",
    "                        df[col] = df[col].astype(np.float64)\n",
    "        else:\n",
    "            df[col] = df[col].astype('category')\n",
    "\n",
    "    end_mem = df.memory_usage().sum() / 1024**2\n",
    "    print('Memory usage after optimization is: {:.2f} MB'.format(end_mem))\n",
    "    print('Decreased by {:.1f}%'.format(100 * (start_mem - end_mem) / start_mem))\n",
    "    \n",
    "    return df\n",
    "\n",
    "def import_data(file, keep_float16=True):\n",
    "    df = pd.read_csv(file, parse_dates=True, keep_date_col=True)\n",
    "    df = reduce_mem_usage(df, keep_float16)\n",
    "    return df"
   ]
  },
  {
   "cell_type": "code",
   "execution_count": 3,
   "id": "ee83c101",
   "metadata": {},
   "outputs": [],
   "source": [
    "def makedir_check(path):\n",
    "    exist_dir = os.path.exists(path)\n",
    "    if exist_dir:\n",
    "        print(\"The directory already exists!\")\n",
    "    else:\n",
    "        os.makedirs(path)\n",
    "        print(f\"The directory, {path}, has been created!\")"
   ]
  },
  {
   "cell_type": "code",
   "execution_count": 4,
   "id": "d5598db3",
   "metadata": {},
   "outputs": [],
   "source": [
    "def delete_files(path, removal='file'):\n",
    "    if removal=='file':\n",
    "        files = glob.glob(path)\n",
    "        for f in files:\n",
    "            os.remove(f)\n",
    "        print('Files deleted successfully.')\n",
    "    if removal=='directory':\n",
    "        os.removedirs(path)\n",
    "        print('Directory deleted successfully.')"
   ]
  },
  {
   "cell_type": "code",
   "execution_count": 5,
   "id": "e81ca09b",
   "metadata": {},
   "outputs": [
    {
     "data": {
      "text/plain": [
       "['E:\\\\tabular-playground-series-oct-2022\\\\train_0.csv',\n",
       " 'E:\\\\tabular-playground-series-oct-2022\\\\train_1.csv',\n",
       " 'E:\\\\tabular-playground-series-oct-2022\\\\train_2.csv',\n",
       " 'E:\\\\tabular-playground-series-oct-2022\\\\train_3.csv',\n",
       " 'E:\\\\tabular-playground-series-oct-2022\\\\train_4.csv',\n",
       " 'E:\\\\tabular-playground-series-oct-2022\\\\train_5.csv',\n",
       " 'E:\\\\tabular-playground-series-oct-2022\\\\train_6.csv',\n",
       " 'E:\\\\tabular-playground-series-oct-2022\\\\train_7.csv',\n",
       " 'E:\\\\tabular-playground-series-oct-2022\\\\train_8.csv',\n",
       " 'E:\\\\tabular-playground-series-oct-2022\\\\train_9.csv',\n",
       " 'E:\\\\tabular-playground-series-oct-2022\\\\feather_data\\\\train_0_compressed.ftr',\n",
       " 'E:\\\\tabular-playground-series-oct-2022\\\\feather_data\\\\train_1_compressed.ftr',\n",
       " 'E:\\\\tabular-playground-series-oct-2022\\\\feather_data\\\\train_2_compressed.ftr',\n",
       " 'E:\\\\tabular-playground-series-oct-2022\\\\feather_data\\\\train_3_compressed.ftr',\n",
       " 'E:\\\\tabular-playground-series-oct-2022\\\\feather_data\\\\train_4_compressed.ftr',\n",
       " 'E:\\\\tabular-playground-series-oct-2022\\\\feather_data\\\\train_5_compressed.ftr',\n",
       " 'E:\\\\tabular-playground-series-oct-2022\\\\feather_data\\\\train_6_compressed.ftr',\n",
       " 'E:\\\\tabular-playground-series-oct-2022\\\\feather_data\\\\train_7_compressed.ftr',\n",
       " 'E:\\\\tabular-playground-series-oct-2022\\\\feather_data\\\\train_8_compressed.ftr',\n",
       " 'E:\\\\tabular-playground-series-oct-2022\\\\feather_data\\\\train_9_compressed.ftr',\n",
       " 'E:\\\\tabular-playground-series-oct-2022\\\\parquet_data\\\\train_0_compressed.parquet',\n",
       " 'E:\\\\tabular-playground-series-oct-2022\\\\parquet_data\\\\train_1_compressed.parquet',\n",
       " 'E:\\\\tabular-playground-series-oct-2022\\\\parquet_data\\\\train_2_compressed.parquet',\n",
       " 'E:\\\\tabular-playground-series-oct-2022\\\\parquet_data\\\\train_3_compressed.parquet',\n",
       " 'E:\\\\tabular-playground-series-oct-2022\\\\parquet_data\\\\train_4_compressed.parquet',\n",
       " 'E:\\\\tabular-playground-series-oct-2022\\\\parquet_data\\\\train_5_compressed.parquet',\n",
       " 'E:\\\\tabular-playground-series-oct-2022\\\\parquet_data\\\\train_6_compressed.parquet',\n",
       " 'E:\\\\tabular-playground-series-oct-2022\\\\parquet_data\\\\train_7_compressed.parquet',\n",
       " 'E:\\\\tabular-playground-series-oct-2022\\\\parquet_data\\\\train_8_compressed.parquet',\n",
       " 'E:\\\\tabular-playground-series-oct-2022\\\\parquet_data\\\\train_9_compressed.parquet']"
      ]
     },
     "execution_count": 5,
     "metadata": {},
     "output_type": "execute_result"
    }
   ],
   "source": [
    "train_paths = []\n",
    "for k in file_names:\n",
    "    if 'train_' in k and 'dtypes' not in k:\n",
    "        train_paths.append(k)\n",
    "        \n",
    "train_paths"
   ]
  },
  {
   "cell_type": "code",
   "execution_count": 6,
   "id": "c9b95ba0",
   "metadata": {},
   "outputs": [
    {
     "name": "stdout",
     "output_type": "stream",
     "text": [
      "The directory already exists!\n",
      "The directory already exists!\n"
     ]
    }
   ],
   "source": [
    "makedir_check('feather_data')\n",
    "makedir_check('parquet_data')"
   ]
  },
  {
   "cell_type": "code",
   "execution_count": 7,
   "id": "3c372731",
   "metadata": {},
   "outputs": [
    {
     "name": "stderr",
     "output_type": "stream",
     "text": [
      "\r",
      "  0%|                                                                                           | 0/30 [00:00<?, ?it/s]"
     ]
    },
    {
     "name": "stdout",
     "output_type": "stream",
     "text": [
      "Memory usage of dataframe is 1000.31 MB\n",
      "Memory usage after optimization is: 245.98 MB\n",
      "Decreased by 75.4%\n",
      "Memory usage of dataframe is 1000.31 MB\n",
      "Memory usage after optimization is: 471.46 MB\n",
      "Decreased by 52.9%\n"
     ]
    },
    {
     "name": "stderr",
     "output_type": "stream",
     "text": [
      "\r",
      "  3%|██▊                                                                                | 1/30 [00:51<25:07, 51.97s/it]"
     ]
    },
    {
     "name": "stdout",
     "output_type": "stream",
     "text": [
      "Memory usage of dataframe is 1009.33 MB\n",
      "Memory usage after optimization is: 248.20 MB\n",
      "Decreased by 75.4%\n",
      "Memory usage of dataframe is 1009.33 MB\n",
      "Memory usage after optimization is: 475.71 MB\n",
      "Decreased by 52.9%\n"
     ]
    },
    {
     "name": "stderr",
     "output_type": "stream",
     "text": [
      "\r",
      "  7%|█████▌                                                                             | 2/30 [01:38<22:40, 48.59s/it]"
     ]
    },
    {
     "name": "stdout",
     "output_type": "stream",
     "text": [
      "Memory usage of dataframe is 989.19 MB\n",
      "Memory usage after optimization is: 243.24 MB\n",
      "Decreased by 75.4%\n",
      "Memory usage of dataframe is 989.19 MB\n",
      "Memory usage after optimization is: 466.22 MB\n",
      "Decreased by 52.9%\n"
     ]
    },
    {
     "name": "stderr",
     "output_type": "stream",
     "text": [
      "\r",
      " 10%|████████▎                                                                          | 3/30 [02:21<20:50, 46.32s/it]"
     ]
    },
    {
     "name": "stdout",
     "output_type": "stream",
     "text": [
      "Memory usage of dataframe is 984.12 MB\n",
      "Memory usage after optimization is: 242.00 MB\n",
      "Decreased by 75.4%\n",
      "Memory usage of dataframe is 984.12 MB\n",
      "Memory usage after optimization is: 463.83 MB\n",
      "Decreased by 52.9%\n"
     ]
    },
    {
     "name": "stderr",
     "output_type": "stream",
     "text": [
      "\r",
      " 13%|███████████                                                                        | 4/30 [03:05<19:37, 45.29s/it]"
     ]
    },
    {
     "name": "stdout",
     "output_type": "stream",
     "text": [
      "Memory usage of dataframe is 985.63 MB\n",
      "Memory usage after optimization is: 242.37 MB\n",
      "Decreased by 75.4%\n",
      "Memory usage of dataframe is 985.63 MB\n",
      "Memory usage after optimization is: 464.54 MB\n",
      "Decreased by 52.9%\n"
     ]
    },
    {
     "name": "stderr",
     "output_type": "stream",
     "text": [
      "\r",
      " 17%|█████████████▊                                                                     | 5/30 [03:49<18:41, 44.87s/it]"
     ]
    },
    {
     "name": "stdout",
     "output_type": "stream",
     "text": [
      "Memory usage of dataframe is 974.41 MB\n",
      "Memory usage after optimization is: 239.61 MB\n",
      "Decreased by 75.4%\n",
      "Memory usage of dataframe is 974.41 MB\n",
      "Memory usage after optimization is: 459.25 MB\n",
      "Decreased by 52.9%\n"
     ]
    },
    {
     "name": "stderr",
     "output_type": "stream",
     "text": [
      "\r",
      " 20%|████████████████▌                                                                  | 6/30 [04:32<17:41, 44.21s/it]"
     ]
    },
    {
     "name": "stdout",
     "output_type": "stream",
     "text": [
      "Memory usage of dataframe is 960.55 MB\n",
      "Memory usage after optimization is: 236.20 MB\n",
      "Decreased by 75.4%\n",
      "Memory usage of dataframe is 960.55 MB\n",
      "Memory usage after optimization is: 452.72 MB\n",
      "Decreased by 52.9%\n"
     ]
    },
    {
     "name": "stderr",
     "output_type": "stream",
     "text": [
      "\r",
      " 23%|███████████████████▎                                                               | 7/30 [05:14<16:43, 43.61s/it]"
     ]
    },
    {
     "name": "stdout",
     "output_type": "stream",
     "text": [
      "Memory usage of dataframe is 981.80 MB\n",
      "Memory usage after optimization is: 241.43 MB\n",
      "Decreased by 75.4%\n",
      "Memory usage of dataframe is 981.80 MB\n",
      "Memory usage after optimization is: 462.74 MB\n",
      "Decreased by 52.9%\n"
     ]
    },
    {
     "name": "stderr",
     "output_type": "stream",
     "text": [
      "\r",
      " 27%|██████████████████████▏                                                            | 8/30 [06:00<16:10, 44.12s/it]"
     ]
    },
    {
     "name": "stdout",
     "output_type": "stream",
     "text": [
      "Memory usage of dataframe is 1001.45 MB\n",
      "Memory usage after optimization is: 246.26 MB\n",
      "Decreased by 75.4%\n",
      "Memory usage of dataframe is 1001.45 MB\n",
      "Memory usage after optimization is: 472.00 MB\n",
      "Decreased by 52.9%\n"
     ]
    },
    {
     "name": "stderr",
     "output_type": "stream",
     "text": [
      "\r",
      " 30%|████████████████████████▉                                                          | 9/30 [06:47<15:47, 45.13s/it]"
     ]
    },
    {
     "name": "stdout",
     "output_type": "stream",
     "text": [
      "Memory usage of dataframe is 978.63 MB\n",
      "Memory usage after optimization is: 240.65 MB\n",
      "Decreased by 75.4%\n",
      "Memory usage of dataframe is 978.63 MB\n",
      "Memory usage after optimization is: 461.24 MB\n",
      "Decreased by 52.9%\n"
     ]
    },
    {
     "name": "stderr",
     "output_type": "stream",
     "text": [
      " 33%|███████████████████████████▎                                                      | 10/30 [07:34<15:09, 45.47s/it]\n"
     ]
    },
    {
     "ename": "UnicodeDecodeError",
     "evalue": "'utf-8' codec can't decode byte 0xff in position 8: invalid start byte",
     "output_type": "error",
     "traceback": [
      "\u001b[1;31m---------------------------------------------------------------------------\u001b[0m",
      "\u001b[1;31mUnicodeDecodeError\u001b[0m                        Traceback (most recent call last)",
      "Cell \u001b[1;32mIn[7], line 19\u001b[0m\n\u001b[0;32m     17\u001b[0m \u001b[38;5;66;03m#read file csv\u001b[39;00m\n\u001b[0;32m     18\u001b[0m t1 \u001b[38;5;241m=\u001b[39m time()\n\u001b[1;32m---> 19\u001b[0m df \u001b[38;5;241m=\u001b[39m \u001b[43mpd\u001b[49m\u001b[38;5;241;43m.\u001b[39;49m\u001b[43mread_csv\u001b[49m\u001b[43m(\u001b[49m\u001b[43mfile_path\u001b[49m\u001b[43m)\u001b[49m\n\u001b[0;32m     20\u001b[0m sizes[\u001b[38;5;124m'\u001b[39m\u001b[38;5;124mmemory_csv\u001b[39m\u001b[38;5;124m'\u001b[39m] \u001b[38;5;241m=\u001b[39m df\u001b[38;5;241m.\u001b[39mmemory_usage(deep\u001b[38;5;241m=\u001b[39m\u001b[38;5;28;01mTrue\u001b[39;00m)\u001b[38;5;241m.\u001b[39msum()\u001b[38;5;241m/\u001b[39m(\u001b[38;5;241m1024\u001b[39m\u001b[38;5;241m*\u001b[39m\u001b[38;5;241m*\u001b[39m\u001b[38;5;241m2\u001b[39m)\n\u001b[0;32m     21\u001b[0m times[\u001b[38;5;124m'\u001b[39m\u001b[38;5;124mread_csv\u001b[39m\u001b[38;5;124m'\u001b[39m] \u001b[38;5;241m=\u001b[39m time() \u001b[38;5;241m-\u001b[39m t1\n",
      "File \u001b[1;32mD:\\Python3.11.3\\Lib\\site-packages\\pandas\\util\\_decorators.py:211\u001b[0m, in \u001b[0;36mdeprecate_kwarg.<locals>._deprecate_kwarg.<locals>.wrapper\u001b[1;34m(*args, **kwargs)\u001b[0m\n\u001b[0;32m    209\u001b[0m     \u001b[38;5;28;01melse\u001b[39;00m:\n\u001b[0;32m    210\u001b[0m         kwargs[new_arg_name] \u001b[38;5;241m=\u001b[39m new_arg_value\n\u001b[1;32m--> 211\u001b[0m \u001b[38;5;28;01mreturn\u001b[39;00m \u001b[43mfunc\u001b[49m\u001b[43m(\u001b[49m\u001b[38;5;241;43m*\u001b[39;49m\u001b[43margs\u001b[49m\u001b[43m,\u001b[49m\u001b[43m \u001b[49m\u001b[38;5;241;43m*\u001b[39;49m\u001b[38;5;241;43m*\u001b[39;49m\u001b[43mkwargs\u001b[49m\u001b[43m)\u001b[49m\n",
      "File \u001b[1;32mD:\\Python3.11.3\\Lib\\site-packages\\pandas\\util\\_decorators.py:331\u001b[0m, in \u001b[0;36mdeprecate_nonkeyword_arguments.<locals>.decorate.<locals>.wrapper\u001b[1;34m(*args, **kwargs)\u001b[0m\n\u001b[0;32m    325\u001b[0m \u001b[38;5;28;01mif\u001b[39;00m \u001b[38;5;28mlen\u001b[39m(args) \u001b[38;5;241m>\u001b[39m num_allow_args:\n\u001b[0;32m    326\u001b[0m     warnings\u001b[38;5;241m.\u001b[39mwarn(\n\u001b[0;32m    327\u001b[0m         msg\u001b[38;5;241m.\u001b[39mformat(arguments\u001b[38;5;241m=\u001b[39m_format_argument_list(allow_args)),\n\u001b[0;32m    328\u001b[0m         \u001b[38;5;167;01mFutureWarning\u001b[39;00m,\n\u001b[0;32m    329\u001b[0m         stacklevel\u001b[38;5;241m=\u001b[39mfind_stack_level(),\n\u001b[0;32m    330\u001b[0m     )\n\u001b[1;32m--> 331\u001b[0m \u001b[38;5;28;01mreturn\u001b[39;00m \u001b[43mfunc\u001b[49m\u001b[43m(\u001b[49m\u001b[38;5;241;43m*\u001b[39;49m\u001b[43margs\u001b[49m\u001b[43m,\u001b[49m\u001b[43m \u001b[49m\u001b[38;5;241;43m*\u001b[39;49m\u001b[38;5;241;43m*\u001b[39;49m\u001b[43mkwargs\u001b[49m\u001b[43m)\u001b[49m\n",
      "File \u001b[1;32mD:\\Python3.11.3\\Lib\\site-packages\\pandas\\io\\parsers\\readers.py:950\u001b[0m, in \u001b[0;36mread_csv\u001b[1;34m(filepath_or_buffer, sep, delimiter, header, names, index_col, usecols, squeeze, prefix, mangle_dupe_cols, dtype, engine, converters, true_values, false_values, skipinitialspace, skiprows, skipfooter, nrows, na_values, keep_default_na, na_filter, verbose, skip_blank_lines, parse_dates, infer_datetime_format, keep_date_col, date_parser, dayfirst, cache_dates, iterator, chunksize, compression, thousands, decimal, lineterminator, quotechar, quoting, doublequote, escapechar, comment, encoding, encoding_errors, dialect, error_bad_lines, warn_bad_lines, on_bad_lines, delim_whitespace, low_memory, memory_map, float_precision, storage_options)\u001b[0m\n\u001b[0;32m    935\u001b[0m kwds_defaults \u001b[38;5;241m=\u001b[39m _refine_defaults_read(\n\u001b[0;32m    936\u001b[0m     dialect,\n\u001b[0;32m    937\u001b[0m     delimiter,\n\u001b[1;32m   (...)\u001b[0m\n\u001b[0;32m    946\u001b[0m     defaults\u001b[38;5;241m=\u001b[39m{\u001b[38;5;124m\"\u001b[39m\u001b[38;5;124mdelimiter\u001b[39m\u001b[38;5;124m\"\u001b[39m: \u001b[38;5;124m\"\u001b[39m\u001b[38;5;124m,\u001b[39m\u001b[38;5;124m\"\u001b[39m},\n\u001b[0;32m    947\u001b[0m )\n\u001b[0;32m    948\u001b[0m kwds\u001b[38;5;241m.\u001b[39mupdate(kwds_defaults)\n\u001b[1;32m--> 950\u001b[0m \u001b[38;5;28;01mreturn\u001b[39;00m \u001b[43m_read\u001b[49m\u001b[43m(\u001b[49m\u001b[43mfilepath_or_buffer\u001b[49m\u001b[43m,\u001b[49m\u001b[43m \u001b[49m\u001b[43mkwds\u001b[49m\u001b[43m)\u001b[49m\n",
      "File \u001b[1;32mD:\\Python3.11.3\\Lib\\site-packages\\pandas\\io\\parsers\\readers.py:605\u001b[0m, in \u001b[0;36m_read\u001b[1;34m(filepath_or_buffer, kwds)\u001b[0m\n\u001b[0;32m    602\u001b[0m _validate_names(kwds\u001b[38;5;241m.\u001b[39mget(\u001b[38;5;124m\"\u001b[39m\u001b[38;5;124mnames\u001b[39m\u001b[38;5;124m\"\u001b[39m, \u001b[38;5;28;01mNone\u001b[39;00m))\n\u001b[0;32m    604\u001b[0m \u001b[38;5;66;03m# Create the parser.\u001b[39;00m\n\u001b[1;32m--> 605\u001b[0m parser \u001b[38;5;241m=\u001b[39m \u001b[43mTextFileReader\u001b[49m\u001b[43m(\u001b[49m\u001b[43mfilepath_or_buffer\u001b[49m\u001b[43m,\u001b[49m\u001b[43m \u001b[49m\u001b[38;5;241;43m*\u001b[39;49m\u001b[38;5;241;43m*\u001b[39;49m\u001b[43mkwds\u001b[49m\u001b[43m)\u001b[49m\n\u001b[0;32m    607\u001b[0m \u001b[38;5;28;01mif\u001b[39;00m chunksize \u001b[38;5;129;01mor\u001b[39;00m iterator:\n\u001b[0;32m    608\u001b[0m     \u001b[38;5;28;01mreturn\u001b[39;00m parser\n",
      "File \u001b[1;32mD:\\Python3.11.3\\Lib\\site-packages\\pandas\\io\\parsers\\readers.py:1442\u001b[0m, in \u001b[0;36mTextFileReader.__init__\u001b[1;34m(self, f, engine, **kwds)\u001b[0m\n\u001b[0;32m   1439\u001b[0m     \u001b[38;5;28mself\u001b[39m\u001b[38;5;241m.\u001b[39moptions[\u001b[38;5;124m\"\u001b[39m\u001b[38;5;124mhas_index_names\u001b[39m\u001b[38;5;124m\"\u001b[39m] \u001b[38;5;241m=\u001b[39m kwds[\u001b[38;5;124m\"\u001b[39m\u001b[38;5;124mhas_index_names\u001b[39m\u001b[38;5;124m\"\u001b[39m]\n\u001b[0;32m   1441\u001b[0m \u001b[38;5;28mself\u001b[39m\u001b[38;5;241m.\u001b[39mhandles: IOHandles \u001b[38;5;241m|\u001b[39m \u001b[38;5;28;01mNone\u001b[39;00m \u001b[38;5;241m=\u001b[39m \u001b[38;5;28;01mNone\u001b[39;00m\n\u001b[1;32m-> 1442\u001b[0m \u001b[38;5;28mself\u001b[39m\u001b[38;5;241m.\u001b[39m_engine \u001b[38;5;241m=\u001b[39m \u001b[38;5;28;43mself\u001b[39;49m\u001b[38;5;241;43m.\u001b[39;49m\u001b[43m_make_engine\u001b[49m\u001b[43m(\u001b[49m\u001b[43mf\u001b[49m\u001b[43m,\u001b[49m\u001b[43m \u001b[49m\u001b[38;5;28;43mself\u001b[39;49m\u001b[38;5;241;43m.\u001b[39;49m\u001b[43mengine\u001b[49m\u001b[43m)\u001b[49m\n",
      "File \u001b[1;32mD:\\Python3.11.3\\Lib\\site-packages\\pandas\\io\\parsers\\readers.py:1753\u001b[0m, in \u001b[0;36mTextFileReader._make_engine\u001b[1;34m(self, f, engine)\u001b[0m\n\u001b[0;32m   1750\u001b[0m     \u001b[38;5;28;01mraise\u001b[39;00m \u001b[38;5;167;01mValueError\u001b[39;00m(msg)\n\u001b[0;32m   1752\u001b[0m \u001b[38;5;28;01mtry\u001b[39;00m:\n\u001b[1;32m-> 1753\u001b[0m     \u001b[38;5;28;01mreturn\u001b[39;00m \u001b[43mmapping\u001b[49m\u001b[43m[\u001b[49m\u001b[43mengine\u001b[49m\u001b[43m]\u001b[49m\u001b[43m(\u001b[49m\u001b[43mf\u001b[49m\u001b[43m,\u001b[49m\u001b[43m \u001b[49m\u001b[38;5;241;43m*\u001b[39;49m\u001b[38;5;241;43m*\u001b[39;49m\u001b[38;5;28;43mself\u001b[39;49m\u001b[38;5;241;43m.\u001b[39;49m\u001b[43moptions\u001b[49m\u001b[43m)\u001b[49m\n\u001b[0;32m   1754\u001b[0m \u001b[38;5;28;01mexcept\u001b[39;00m \u001b[38;5;167;01mException\u001b[39;00m:\n\u001b[0;32m   1755\u001b[0m     \u001b[38;5;28;01mif\u001b[39;00m \u001b[38;5;28mself\u001b[39m\u001b[38;5;241m.\u001b[39mhandles \u001b[38;5;129;01mis\u001b[39;00m \u001b[38;5;129;01mnot\u001b[39;00m \u001b[38;5;28;01mNone\u001b[39;00m:\n",
      "File \u001b[1;32mD:\\Python3.11.3\\Lib\\site-packages\\pandas\\io\\parsers\\c_parser_wrapper.py:79\u001b[0m, in \u001b[0;36mCParserWrapper.__init__\u001b[1;34m(self, src, **kwds)\u001b[0m\n\u001b[0;32m     76\u001b[0m     kwds\u001b[38;5;241m.\u001b[39mpop(key, \u001b[38;5;28;01mNone\u001b[39;00m)\n\u001b[0;32m     78\u001b[0m kwds[\u001b[38;5;124m\"\u001b[39m\u001b[38;5;124mdtype\u001b[39m\u001b[38;5;124m\"\u001b[39m] \u001b[38;5;241m=\u001b[39m ensure_dtype_objs(kwds\u001b[38;5;241m.\u001b[39mget(\u001b[38;5;124m\"\u001b[39m\u001b[38;5;124mdtype\u001b[39m\u001b[38;5;124m\"\u001b[39m, \u001b[38;5;28;01mNone\u001b[39;00m))\n\u001b[1;32m---> 79\u001b[0m \u001b[38;5;28mself\u001b[39m\u001b[38;5;241m.\u001b[39m_reader \u001b[38;5;241m=\u001b[39m \u001b[43mparsers\u001b[49m\u001b[38;5;241;43m.\u001b[39;49m\u001b[43mTextReader\u001b[49m\u001b[43m(\u001b[49m\u001b[43msrc\u001b[49m\u001b[43m,\u001b[49m\u001b[43m \u001b[49m\u001b[38;5;241;43m*\u001b[39;49m\u001b[38;5;241;43m*\u001b[39;49m\u001b[43mkwds\u001b[49m\u001b[43m)\u001b[49m\n\u001b[0;32m     81\u001b[0m \u001b[38;5;28mself\u001b[39m\u001b[38;5;241m.\u001b[39munnamed_cols \u001b[38;5;241m=\u001b[39m \u001b[38;5;28mself\u001b[39m\u001b[38;5;241m.\u001b[39m_reader\u001b[38;5;241m.\u001b[39munnamed_cols\n\u001b[0;32m     83\u001b[0m \u001b[38;5;66;03m# error: Cannot determine type of 'names'\u001b[39;00m\n",
      "File \u001b[1;32mD:\\Python3.11.3\\Lib\\site-packages\\pandas\\_libs\\parsers.pyx:547\u001b[0m, in \u001b[0;36mpandas._libs.parsers.TextReader.__cinit__\u001b[1;34m()\u001b[0m\n",
      "File \u001b[1;32mD:\\Python3.11.3\\Lib\\site-packages\\pandas\\_libs\\parsers.pyx:636\u001b[0m, in \u001b[0;36mpandas._libs.parsers.TextReader._get_header\u001b[1;34m()\u001b[0m\n",
      "File \u001b[1;32mD:\\Python3.11.3\\Lib\\site-packages\\pandas\\_libs\\parsers.pyx:852\u001b[0m, in \u001b[0;36mpandas._libs.parsers.TextReader._tokenize_rows\u001b[1;34m()\u001b[0m\n",
      "File \u001b[1;32mD:\\Python3.11.3\\Lib\\site-packages\\pandas\\_libs\\parsers.pyx:1965\u001b[0m, in \u001b[0;36mpandas._libs.parsers.raise_parser_error\u001b[1;34m()\u001b[0m\n",
      "\u001b[1;31mUnicodeDecodeError\u001b[0m: 'utf-8' codec can't decode byte 0xff in position 8: invalid start byte"
     ]
    }
   ],
   "source": [
    "time_read = {}\n",
    "size_file = {}\n",
    "for file_path in tqdm(train_paths):\n",
    "    times = {}\n",
    "    sizes = {}\n",
    "\n",
    "    name_files_ftr =  (\n",
    "        file_path.split('\\\\')[-1]\n",
    "        .replace('.', '_compressed.')\n",
    "        .replace('csv','ftr')\n",
    "    )\n",
    "    name_files_parquet = name_files_ftr.replace('ftr', 'parquet')\n",
    "    file_only = name_files_ftr.split('_c')[0]\n",
    "\n",
    "    t1 = time()\n",
    "    df = pd.read_csv(file_path)\n",
    "    sizes['memory_csv'] = df.memory_usage(deep=True).sum()/(1024**2)\n",
    "    times['read_csv'] = time() - t1\n",
    "    df = reduce_mem_usage(df)\n",
    "\n",
    "    df.to_feather(\"feather_data\\\\\"+name_files_ftr)\n",
    "    t1 = time()\n",
    "    df = pd.read_feather(\"feather_data\\\\\"+name_files_ftr)\n",
    "    sizes['memory_feather'] = df.memory_usage(deep=True).sum()/(1024**2)\n",
    "    times['read_feather'] = time() - t1\n",
    "\n",
    "    os.makedirs(\"parquet_data\", exist_ok=True)\n",
    "\n",
    "    df = pd.read_csv(file_path)\n",
    "    df= reduce_mem_usage(df, keep_float16=False)\n",
    "    df.to_parquet(\"parquet_data\\\\\"+name_files_parquet)\n",
    "\n",
    "    t1 = time()\n",
    "    df = pd.read_parquet(\"parquet_data\\\\\"+name_files_parquet)\n",
    "    times['read_parquet'] = time() - t1\n",
    "    sizes['memory_parquet'] = df.memory_usage(deep=True).sum()/(1024**2)\n",
    "\n",
    "    time_read[file_only] = times\n",
    "    size_file[file_only] = sizes"
   ]
  },
  {
   "cell_type": "code",
   "execution_count": 8,
   "id": "f827ce4f",
   "metadata": {},
   "outputs": [
    {
     "name": "stdout",
     "output_type": "stream",
     "text": [
      "Memory usage of dataframe is 294.21 MB\n",
      "Memory usage after optimization is: 74.89 MB\n",
      "Decreased by 74.5%\n",
      "Memory usage of dataframe is 294.21 MB\n",
      "Memory usage after optimization is: 147.11 MB\n",
      "Decreased by 50.0%\n"
     ]
    }
   ],
   "source": [
    "df_test_feather = import_data('E:\\\\tabular-playground-series-oct-2022\\\\test.csv')\n",
    "df_test_parquet = import_data('E:\\\\tabular-playground-series-oct-2022\\\\test.csv',keep_float16=False)\n",
    "\n",
    "df_test_feather.to_feather('feather_data\\\\test_compressed.ftr')\n",
    "df_test_parquet.to_parquet('parquet_data\\\\test_compressed.parquet')"
   ]
  },
  {
   "cell_type": "code",
   "execution_count": 9,
   "id": "9b45758a",
   "metadata": {},
   "outputs": [],
   "source": [
    "time_taken_read = pd.DataFrame(time_read).T\n",
    "\n",
    "time_taken_read = time_taken_read.apply(lambda x: x.round(3))\n",
    "time_taken_read.columns = ['time_to_read_csv(seconds)', 'time_to_read_feather(seconds)', 'time_to_read_parquet(seconds)']"
   ]
  },
  {
   "cell_type": "code",
   "execution_count": 10,
   "id": "da97829a",
   "metadata": {},
   "outputs": [
    {
     "data": {
      "text/html": [
       "<div>\n",
       "<style scoped>\n",
       "    .dataframe tbody tr th:only-of-type {\n",
       "        vertical-align: middle;\n",
       "    }\n",
       "\n",
       "    .dataframe tbody tr th {\n",
       "        vertical-align: top;\n",
       "    }\n",
       "\n",
       "    .dataframe thead th {\n",
       "        text-align: right;\n",
       "    }\n",
       "</style>\n",
       "<table border=\"1\" class=\"dataframe\">\n",
       "  <thead>\n",
       "    <tr style=\"text-align: right;\">\n",
       "      <th></th>\n",
       "      <th>time_to_read_csv(seconds)</th>\n",
       "      <th>time_to_read_feather(seconds)</th>\n",
       "      <th>time_to_read_parquet(seconds)</th>\n",
       "    </tr>\n",
       "  </thead>\n",
       "  <tbody>\n",
       "    <tr>\n",
       "      <th>train_0</th>\n",
       "      <td>16.526</td>\n",
       "      <td>0.296</td>\n",
       "      <td>1.329</td>\n",
       "    </tr>\n",
       "    <tr>\n",
       "      <th>train_1</th>\n",
       "      <td>14.396</td>\n",
       "      <td>0.256</td>\n",
       "      <td>0.469</td>\n",
       "    </tr>\n",
       "    <tr>\n",
       "      <th>train_2</th>\n",
       "      <td>12.607</td>\n",
       "      <td>0.243</td>\n",
       "      <td>0.453</td>\n",
       "    </tr>\n",
       "    <tr>\n",
       "      <th>train_3</th>\n",
       "      <td>13.546</td>\n",
       "      <td>0.252</td>\n",
       "      <td>0.453</td>\n",
       "    </tr>\n",
       "    <tr>\n",
       "      <th>train_4</th>\n",
       "      <td>13.464</td>\n",
       "      <td>0.281</td>\n",
       "      <td>0.462</td>\n",
       "    </tr>\n",
       "    <tr>\n",
       "      <th>train_5</th>\n",
       "      <td>12.940</td>\n",
       "      <td>0.259</td>\n",
       "      <td>0.406</td>\n",
       "    </tr>\n",
       "    <tr>\n",
       "      <th>train_6</th>\n",
       "      <td>12.929</td>\n",
       "      <td>0.234</td>\n",
       "      <td>0.406</td>\n",
       "    </tr>\n",
       "    <tr>\n",
       "      <th>train_7</th>\n",
       "      <td>12.855</td>\n",
       "      <td>0.242</td>\n",
       "      <td>0.484</td>\n",
       "    </tr>\n",
       "    <tr>\n",
       "      <th>train_8</th>\n",
       "      <td>13.633</td>\n",
       "      <td>0.301</td>\n",
       "      <td>0.578</td>\n",
       "    </tr>\n",
       "    <tr>\n",
       "      <th>train_9</th>\n",
       "      <td>13.837</td>\n",
       "      <td>0.325</td>\n",
       "      <td>0.560</td>\n",
       "    </tr>\n",
       "  </tbody>\n",
       "</table>\n",
       "</div>"
      ],
      "text/plain": [
       "         time_to_read_csv(seconds)  time_to_read_feather(seconds)  \\\n",
       "train_0                     16.526                          0.296   \n",
       "train_1                     14.396                          0.256   \n",
       "train_2                     12.607                          0.243   \n",
       "train_3                     13.546                          0.252   \n",
       "train_4                     13.464                          0.281   \n",
       "train_5                     12.940                          0.259   \n",
       "train_6                     12.929                          0.234   \n",
       "train_7                     12.855                          0.242   \n",
       "train_8                     13.633                          0.301   \n",
       "train_9                     13.837                          0.325   \n",
       "\n",
       "         time_to_read_parquet(seconds)  \n",
       "train_0                          1.329  \n",
       "train_1                          0.469  \n",
       "train_2                          0.453  \n",
       "train_3                          0.453  \n",
       "train_4                          0.462  \n",
       "train_5                          0.406  \n",
       "train_6                          0.406  \n",
       "train_7                          0.484  \n",
       "train_8                          0.578  \n",
       "train_9                          0.560  "
      ]
     },
     "execution_count": 10,
     "metadata": {},
     "output_type": "execute_result"
    }
   ],
   "source": [
    "time_taken_read"
   ]
  },
  {
   "cell_type": "code",
   "execution_count": 11,
   "id": "8da9cfd3",
   "metadata": {},
   "outputs": [
    {
     "data": {
      "text/html": [
       "<div>\n",
       "<style scoped>\n",
       "    .dataframe tbody tr th:only-of-type {\n",
       "        vertical-align: middle;\n",
       "    }\n",
       "\n",
       "    .dataframe tbody tr th {\n",
       "        vertical-align: top;\n",
       "    }\n",
       "\n",
       "    .dataframe thead th {\n",
       "        text-align: right;\n",
       "    }\n",
       "</style>\n",
       "<table border=\"1\" class=\"dataframe\">\n",
       "  <thead>\n",
       "    <tr style=\"text-align: right;\">\n",
       "      <th></th>\n",
       "      <th>memory_csv(MB)</th>\n",
       "      <th>memory_feather(MB)</th>\n",
       "      <th>memory_parquet(MB)</th>\n",
       "    </tr>\n",
       "  </thead>\n",
       "  <tbody>\n",
       "    <tr>\n",
       "      <th>train_0</th>\n",
       "      <td>1090.24</td>\n",
       "      <td>245.98</td>\n",
       "      <td>471.46</td>\n",
       "    </tr>\n",
       "    <tr>\n",
       "      <th>train_1</th>\n",
       "      <td>1100.07</td>\n",
       "      <td>248.20</td>\n",
       "      <td>475.71</td>\n",
       "    </tr>\n",
       "    <tr>\n",
       "      <th>train_2</th>\n",
       "      <td>1078.42</td>\n",
       "      <td>243.24</td>\n",
       "      <td>466.22</td>\n",
       "    </tr>\n",
       "    <tr>\n",
       "      <th>train_3</th>\n",
       "      <td>1073.71</td>\n",
       "      <td>242.00</td>\n",
       "      <td>463.83</td>\n",
       "    </tr>\n",
       "    <tr>\n",
       "      <th>train_4</th>\n",
       "      <td>1074.69</td>\n",
       "      <td>242.37</td>\n",
       "      <td>464.54</td>\n",
       "    </tr>\n",
       "    <tr>\n",
       "      <th>train_5</th>\n",
       "      <td>1062.84</td>\n",
       "      <td>239.61</td>\n",
       "      <td>459.25</td>\n",
       "    </tr>\n",
       "    <tr>\n",
       "      <th>train_6</th>\n",
       "      <td>1047.93</td>\n",
       "      <td>236.20</td>\n",
       "      <td>452.72</td>\n",
       "    </tr>\n",
       "    <tr>\n",
       "      <th>train_7</th>\n",
       "      <td>1070.73</td>\n",
       "      <td>241.43</td>\n",
       "      <td>462.74</td>\n",
       "    </tr>\n",
       "    <tr>\n",
       "      <th>train_8</th>\n",
       "      <td>1092.01</td>\n",
       "      <td>246.26</td>\n",
       "      <td>472.00</td>\n",
       "    </tr>\n",
       "    <tr>\n",
       "      <th>train_9</th>\n",
       "      <td>1066.73</td>\n",
       "      <td>240.65</td>\n",
       "      <td>461.24</td>\n",
       "    </tr>\n",
       "  </tbody>\n",
       "</table>\n",
       "</div>"
      ],
      "text/plain": [
       "         memory_csv(MB)  memory_feather(MB)  memory_parquet(MB)\n",
       "train_0         1090.24              245.98              471.46\n",
       "train_1         1100.07              248.20              475.71\n",
       "train_2         1078.42              243.24              466.22\n",
       "train_3         1073.71              242.00              463.83\n",
       "train_4         1074.69              242.37              464.54\n",
       "train_5         1062.84              239.61              459.25\n",
       "train_6         1047.93              236.20              452.72\n",
       "train_7         1070.73              241.43              462.74\n",
       "train_8         1092.01              246.26              472.00\n",
       "train_9         1066.73              240.65              461.24"
      ]
     },
     "execution_count": 11,
     "metadata": {},
     "output_type": "execute_result"
    }
   ],
   "source": [
    "size_of_files = pd.DataFrame(size_file).T\n",
    "size_of_files = size_of_files.apply(lambda x: x.round(2))\n",
    "size_of_files.columns = ['memory_csv(MB)', 'memory_feather(MB)', 'memory_parquet(MB)']\n",
    "size_of_files"
   ]
  },
  {
   "cell_type": "code",
   "execution_count": 12,
   "id": "b05961e2",
   "metadata": {},
   "outputs": [],
   "source": [
    "time_taken_read.sort_index(inplace=True)\n",
    "size_of_files.sort_index(inplace=True)"
   ]
  },
  {
   "cell_type": "code",
   "execution_count": 13,
   "id": "5494dd1c",
   "metadata": {},
   "outputs": [],
   "source": [
    "time_taken_read.reset_index(inplace=True)\n",
    "size_of_files.reset_index(inplace=True)"
   ]
  },
  {
   "cell_type": "code",
   "execution_count": 14,
   "id": "5c342de1",
   "metadata": {},
   "outputs": [],
   "source": [
    "time_taken_read.columns= ['file_name', 'time_to_read_csv(seconds)', 'time_to_read_feather(seconds)',\n",
    "       'time_to_read_parquet(seconds)']\n",
    "size_of_files.columns = ['file_name', 'memory_csv(MB)', 'memory_feather(MB)', 'memory_parquet(MB)']"
   ]
  },
  {
   "cell_type": "code",
   "execution_count": 15,
   "id": "abf4b2aa",
   "metadata": {},
   "outputs": [],
   "source": [
    "proportion_files = (size_of_files[['memory_csv(MB)', 'memory_feather(MB)','memory_parquet(MB)']]).div(size_of_files['memory_csv(MB)'], axis=0)\n",
    "proportion_files['file_name'] = size_of_files['file_name']"
   ]
  },
  {
   "cell_type": "code",
   "execution_count": 16,
   "id": "0f5c189c",
   "metadata": {},
   "outputs": [
    {
     "data": {
      "image/png": "[encoded data removed]",
      "text/plain": [
       "<Figure size 1000x600 with 1 Axes>"
      ]
     },
     "metadata": {},
     "output_type": "display_data"
    }
   ],
   "source": [
    "proportion_files.plot(x='file_name',\n",
    "                      y=['memory_csv(MB)', 'memory_feather(MB)','memory_parquet(MB)'],\n",
    "                      kind='bar',\n",
    "                     figsize=(10,6))\n",
    "plt.xlabel(\"File Name\")\n",
    "plt.ylabel(\"Size of File (Proportion)\")\n",
    "plt.xticks(rotation=45);"
   ]
  },
  {
   "cell_type": "code",
   "execution_count": 17,
   "id": "e7821c71",
   "metadata": {},
   "outputs": [
    {
     "data": {
      "text/plain": [
       "memory_feather(MB)    77.45\n",
       "memory_parquet(MB)    56.78\n",
       "dtype: float64"
      ]
     },
     "execution_count": 17,
     "metadata": {},
     "output_type": "execute_result"
    }
   ],
   "source": [
    "(\n",
    "    proportion_files[['memory_feather(MB)','memory_parquet(MB)']]\n",
    "    .apply(lambda x: round((1-x)*100,2))\n",
    "    .mean(axis=0).round(2)\n",
    ")"
   ]
  },
  {
   "cell_type": "code",
   "execution_count": 18,
   "id": "0c03bb90",
   "metadata": {},
   "outputs": [
    {
     "name": "stdout",
     "output_type": "stream",
     "text": [
      "Mean speed-up in time taken to read feather compared to csv: 51.18 times\n",
      "Mean speed-up in time taken to read feather compared to csv: 26.86 times\n"
     ]
    }
   ],
   "source": [
    "print(f\"Mean speed-up in time taken to read feather compared to csv: {round((time_taken_read['time_to_read_csv(seconds)']/time_taken_read['time_to_read_feather(seconds)']).mean(),2)} times\")\n",
    "print(f\"Mean speed-up in time taken to read feather compared to csv: {round((time_taken_read['time_to_read_csv(seconds)']/time_taken_read['time_to_read_parquet(seconds)']).mean(),2)} times\")"
   ]
  },
  {
   "cell_type": "code",
   "execution_count": 19,
   "id": "56b0884d",
   "metadata": {},
   "outputs": [
    {
     "data": {
      "image/png": "[encoded data removed]",
      "text/plain": [
       "<Figure size 1500x400 with 1 Axes>"
      ]
     },
     "metadata": {},
     "output_type": "display_data"
    }
   ],
   "source": [
    "time_taken_read.plot(x='file_name', \n",
    "                     y =  ['time_to_read_feather(seconds)',\n",
    "                          'time_to_read_parquet(seconds)'], \n",
    "                     kind='bar', figsize=(15,4))\n",
    "plt.xlabel('File Names')\n",
    "plt.ylabel('Time Taken (in seconds) to read the file')\n",
    "plt.title('Comparison of time taken to read feather and parquet files.')\n",
    "plt.xticks(rotation=90);"
   ]
  },
  {
   "cell_type": "code",
   "execution_count": 20,
   "id": "ca0685cc",
   "metadata": {
    "execution": {
     "iopub.execute_input": "2022-10-21T06:43:41.616082Z",
     "iopub.status.busy": "2022-10-21T06:43:41.615457Z",
     "iopub.status.idle": "2022-10-21T06:43:44.538903Z",
     "shell.execute_reply": "2022-10-21T06:43:44.537922Z"
    },
    "papermill": {
     "duration": 2.933204,
     "end_time": "2022-10-21T06:43:44.541710",
     "exception": false,
     "start_time": "2022-10-21T06:43:41.608506",
     "status": "completed"
    },
    "tags": []
   },
   "outputs": [],
   "source": [
    "import gc\n",
    "import random\n",
    "\n",
    "from pathlib import Path\n",
    "from fastai.tabular.all import *\n",
    "import fastai.losses as loss"
   ]
  },
  {
   "cell_type": "code",
   "execution_count": 21,
   "id": "44d26ea1",
   "metadata": {
    "execution": {
     "iopub.execute_input": "2022-10-21T06:43:44.556338Z",
     "iopub.status.busy": "2022-10-21T06:43:44.555868Z",
     "iopub.status.idle": "2022-10-21T06:43:44.562577Z",
     "shell.execute_reply": "2022-10-21T06:43:44.561553Z"
    },
    "papermill": {
     "duration": 0.016663,
     "end_time": "2022-10-21T06:43:44.565093",
     "exception": false,
     "start_time": "2022-10-21T06:43:44.548430",
     "status": "completed"
    },
    "tags": []
   },
   "outputs": [],
   "source": [
    "features = [\n",
    "    'ball_pos_x', 'ball_pos_y','ball_pos_z', 'ball_vel_x', 'ball_vel_y', 'ball_vel_z', \n",
    "    'p0_pos_x', 'p0_pos_y', 'p0_pos_z', 'p0_vel_x', 'p0_vel_y', 'p0_vel_z', 'p0_boost', 'p0_na',\n",
    "    'p1_pos_x', 'p1_pos_y', 'p1_pos_z', 'p1_vel_x', 'p1_vel_y', 'p1_vel_z', 'p1_boost', 'p1_na',\n",
    "    'p2_pos_x', 'p2_pos_y', 'p2_pos_z', 'p2_vel_x', 'p2_vel_y', 'p2_vel_z', 'p2_boost', 'p2_na',\n",
    "    'p3_pos_x', 'p3_pos_y', 'p3_pos_z', 'p3_vel_x', 'p3_vel_y', 'p3_vel_z', 'p3_boost', 'p3_na',\n",
    "    'p4_pos_x', 'p4_pos_y', 'p4_pos_z', 'p4_vel_x', 'p4_vel_y', 'p4_vel_z', 'p4_boost', 'p4_na',\n",
    "    'p5_pos_x', 'p5_pos_y', 'p5_pos_z', 'p5_vel_x', 'p5_vel_y', 'p5_vel_z', 'p5_boost', 'p5_na',\n",
    "    'boost0_timer', 'boost1_timer', \n",
    "    'boost2_timer', 'boost3_timer',\n",
    "    'boost4_timer', 'boost5_timer']"
   ]
  },
  {
   "cell_type": "code",
   "execution_count": 22,
   "id": "7e1c6458",
   "metadata": {
    "execution": {
     "iopub.execute_input": "2022-10-21T06:43:44.579880Z",
     "iopub.status.busy": "2022-10-21T06:43:44.579029Z",
     "iopub.status.idle": "2022-10-21T06:43:44.584432Z",
     "shell.execute_reply": "2022-10-21T06:43:44.583605Z"
    },
    "papermill": {
     "duration": 0.014796,
     "end_time": "2022-10-21T06:43:44.586400",
     "exception": false,
     "start_time": "2022-10-21T06:43:44.571604",
     "status": "completed"
    },
    "tags": []
   },
   "outputs": [],
   "source": [
    "features_x_pos = [pos for pos, feature in enumerate(features) if feature.endswith('_x')]\n",
    "features_y_pos = [pos for pos, feature in enumerate(features) if feature.endswith('_y')]"
   ]
  },
  {
   "cell_type": "code",
   "execution_count": 23,
   "id": "a08bdf5d",
   "metadata": {
    "execution": {
     "iopub.execute_input": "2022-10-21T06:43:44.601824Z",
     "iopub.status.busy": "2022-10-21T06:43:44.600203Z",
     "iopub.status.idle": "2022-10-21T06:43:44.605012Z",
     "shell.execute_reply": "2022-10-21T06:43:44.604182Z"
    },
    "papermill": {
     "duration": 0.014181,
     "end_time": "2022-10-21T06:43:44.606987",
     "exception": false,
     "start_time": "2022-10-21T06:43:44.592806",
     "status": "completed"
    },
    "tags": []
   },
   "outputs": [],
   "source": [
    "targets = [\n",
    "    'team_A_scoring_within_10sec',\n",
    "    'team_B_scoring_within_10sec']"
   ]
  },
  {
   "cell_type": "code",
   "execution_count": 24,
   "id": "f524937d",
   "metadata": {
    "execution": {
     "iopub.execute_input": "2022-10-21T06:43:44.622229Z",
     "iopub.status.busy": "2022-10-21T06:43:44.621440Z",
     "iopub.status.idle": "2022-10-21T06:43:44.628446Z",
     "shell.execute_reply": "2022-10-21T06:43:44.626767Z"
    },
    "papermill": {
     "duration": 0.017142,
     "end_time": "2022-10-21T06:43:44.630486",
     "exception": false,
     "start_time": "2022-10-21T06:43:44.613344",
     "status": "completed"
    },
    "tags": []
   },
   "outputs": [
    {
     "name": "stdout",
     "output_type": "stream",
     "text": [
      "CPU times: total: 0 ns\n",
      "Wall time: 0 ns\n"
     ]
    }
   ],
   "source": [
    "%%time\n",
    "DEBUG = False\n",
    "input_path = Path('E:\\\\tabular-playground-series-oct-2022\\\\feather_data')"
   ]
  },
  {
   "cell_type": "code",
   "execution_count": 25,
   "id": "bf624aec",
   "metadata": {
    "execution": {
     "iopub.execute_input": "2022-10-21T06:43:44.646998Z",
     "iopub.status.busy": "2022-10-21T06:43:44.645018Z",
     "iopub.status.idle": "2022-10-21T06:43:44.655428Z",
     "shell.execute_reply": "2022-10-21T06:43:44.654553Z"
    },
    "papermill": {
     "duration": 0.020624,
     "end_time": "2022-10-21T06:43:44.657569",
     "exception": false,
     "start_time": "2022-10-21T06:43:44.636945",
     "status": "completed"
    },
    "tags": []
   },
   "outputs": [],
   "source": [
    "def fe(x):\n",
    "    x['p0_na'] = x['p0_pos_x'].isna().astype('int8')\n",
    "    x['p1_na'] = x['p1_pos_x'].isna().astype('int8')\n",
    "    x['p2_na'] = x['p2_pos_x'].isna().astype('int8')\n",
    "    x['p3_na'] = x['p3_pos_x'].isna().astype('int8')\n",
    "    x['p4_na'] = x['p4_pos_x'].isna().astype('int8')\n",
    "    x['p5_na'] = x['p5_pos_x'].isna().astype('int8')\n",
    "    for feature in features:\n",
    "        if feature.endswith('_na'):\n",
    "            continue\n",
    "        if feature.endswith('_x'):\n",
    "            x[feature] = (x[feature] / 82).fillna(0).astype('float16')\n",
    "        if feature.endswith('_y'):\n",
    "            x[feature] = (x[feature] / 120).fillna(0).astype('float16')\n",
    "        if feature.endswith('_z'):\n",
    "            x[feature] = (x[feature] / 40).fillna(0).astype('float16')\n",
    "        if feature.endswith('_boost'):\n",
    "            x[feature] = (x[feature] / 100).fillna(0).astype('float16')\n",
    "        if feature.endswith('_timer'):\n",
    "            x[feature] = (-x[feature] / 100).astype('float16')\n",
    "    return x"
   ]
  },
  {
   "cell_type": "code",
   "execution_count": 26,
   "id": "ca77d9fe",
   "metadata": {
    "execution": {
     "iopub.execute_input": "2022-10-21T06:43:44.672050Z",
     "iopub.status.busy": "2022-10-21T06:43:44.671364Z",
     "iopub.status.idle": "2022-10-21T06:43:44.677466Z",
     "shell.execute_reply": "2022-10-21T06:43:44.676547Z"
    },
    "papermill": {
     "duration": 0.01542,
     "end_time": "2022-10-21T06:43:44.679451",
     "exception": false,
     "start_time": "2022-10-21T06:43:44.664031",
     "status": "completed"
    },
    "tags": []
   },
   "outputs": [],
   "source": [
    "def read_train():\n",
    "    dfs = []\n",
    "    for i in range(10):\n",
    "        dfs.append(fe(pd.read_feather(input_path / f'train_{i}_compressed.ftr')))\n",
    "    result = pd.concat(dfs)\n",
    "    if DEBUG:\n",
    "        result = result.sample(frac=0.05)\n",
    "    return result"
   ]
  },
  {
   "cell_type": "code",
   "execution_count": 27,
   "id": "ec713bd0",
   "metadata": {
    "execution": {
     "iopub.execute_input": "2022-10-21T06:43:44.694823Z",
     "iopub.status.busy": "2022-10-21T06:43:44.693224Z",
     "iopub.status.idle": "2022-10-21T06:43:44.698382Z",
     "shell.execute_reply": "2022-10-21T06:43:44.697397Z"
    },
    "papermill": {
     "duration": 0.014516,
     "end_time": "2022-10-21T06:43:44.700335",
     "exception": false,
     "start_time": "2022-10-21T06:43:44.685819",
     "status": "completed"
    },
    "tags": []
   },
   "outputs": [],
   "source": [
    "def read_test():\n",
    "    return fe(pd.read_feather(input_path / 'test_compressed.ftr'))"
   ]
  },
  {
   "cell_type": "code",
   "execution_count": 28,
   "id": "e3529910",
   "metadata": {
    "execution": {
     "iopub.execute_input": "2022-10-21T06:43:44.715054Z",
     "iopub.status.busy": "2022-10-21T06:43:44.714167Z",
     "iopub.status.idle": "2022-10-21T06:44:30.246603Z",
     "shell.execute_reply": "2022-10-21T06:44:30.245620Z"
    },
    "papermill": {
     "duration": 45.548511,
     "end_time": "2022-10-21T06:44:30.255374",
     "exception": false,
     "start_time": "2022-10-21T06:43:44.706863",
     "status": "completed"
    },
    "tags": []
   },
   "outputs": [
    {
     "data": {
      "text/plain": [
       "0"
      ]
     },
     "execution_count": 28,
     "metadata": {},
     "output_type": "execute_result"
    }
   ],
   "source": [
    "df_train = read_train()\n",
    "gc.collect()"
   ]
  },
  {
   "cell_type": "code",
   "execution_count": 29,
   "id": "8be64632",
   "metadata": {
    "execution": {
     "iopub.execute_input": "2022-10-21T06:44:30.270722Z",
     "iopub.status.busy": "2022-10-21T06:44:30.269830Z",
     "iopub.status.idle": "2022-10-21T06:44:30.280028Z",
     "shell.execute_reply": "2022-10-21T06:44:30.278998Z"
    },
    "papermill": {
     "duration": 0.021124,
     "end_time": "2022-10-21T06:44:30.283160",
     "exception": false,
     "start_time": "2022-10-21T06:44:30.262036",
     "status": "completed"
    },
    "tags": []
   },
   "outputs": [
    {
     "name": "stdout",
     "output_type": "stream",
     "text": [
      "Train Rows = 21,198,036  Memory Usage = 2708.9 Mb\n",
      "\n"
     ]
    }
   ],
   "source": [
    "print(f'Train Rows = {len(df_train):,}  ' \n",
    "      f'Memory Usage = {df_train.memory_usage(deep=True).sum() / (1024 * 1024):4.1f} Mb' '\\n')"
   ]
  },
  {
   "cell_type": "code",
   "execution_count": 30,
   "id": "8f3252a3",
   "metadata": {
    "execution": {
     "iopub.execute_input": "2022-10-21T06:44:30.299007Z",
     "iopub.status.busy": "2022-10-21T06:44:30.298677Z",
     "iopub.status.idle": "2022-10-21T06:44:30.457670Z",
     "shell.execute_reply": "2022-10-21T06:44:30.456647Z"
    },
    "papermill": {
     "duration": 0.169321,
     "end_time": "2022-10-21T06:44:30.460139",
     "exception": false,
     "start_time": "2022-10-21T06:44:30.290818",
     "status": "completed"
    },
    "tags": []
   },
   "outputs": [],
   "source": [
    "game_nums = df_train['game_num'].unique()\n",
    "train_game_nums = random.sample(list(game_nums), int(len(game_nums) * 0.80))"
   ]
  },
  {
   "cell_type": "code",
   "execution_count": 31,
   "id": "3ff8611c",
   "metadata": {
    "execution": {
     "iopub.execute_input": "2022-10-21T06:44:30.475800Z",
     "iopub.status.busy": "2022-10-21T06:44:30.475079Z",
     "iopub.status.idle": "2022-10-21T06:44:53.727136Z",
     "shell.execute_reply": "2022-10-21T06:44:53.726098Z"
    },
    "papermill": {
     "duration": 23.262497,
     "end_time": "2022-10-21T06:44:53.729616",
     "exception": false,
     "start_time": "2022-10-21T06:44:30.467119",
     "status": "completed"
    },
    "tags": []
   },
   "outputs": [],
   "source": [
    "train_feature_tensor = torch.tensor(\n",
    "    df_train.query(\"game_num in @train_game_nums\")[features].to_numpy())\n",
    "train_target_tensor  = torch.tensor(\n",
    "    df_train.query(\"game_num in @train_game_nums\")[targets].to_numpy())"
   ]
  },
  {
   "cell_type": "code",
   "execution_count": 32,
   "id": "f1b95ce9",
   "metadata": {
    "execution": {
     "iopub.execute_input": "2022-10-21T06:44:53.746779Z",
     "iopub.status.busy": "2022-10-21T06:44:53.745001Z",
     "iopub.status.idle": "2022-10-21T06:44:59.679675Z",
     "shell.execute_reply": "2022-10-21T06:44:59.678668Z"
    },
    "papermill": {
     "duration": 5.945866,
     "end_time": "2022-10-21T06:44:59.682865",
     "exception": false,
     "start_time": "2022-10-21T06:44:53.736999",
     "status": "completed"
    },
    "tags": []
   },
   "outputs": [],
   "source": [
    "valid_feature_tensor = torch.tensor(\n",
    "    df_train.query(\"game_num not in @train_game_nums\")[features].to_numpy())\n",
    "valid_target_tensor  = torch.tensor(\n",
    "    df_train.query(\"game_num not in @train_game_nums\")[targets].to_numpy())"
   ]
  },
  {
   "cell_type": "code",
   "execution_count": 33,
   "id": "f843631f",
   "metadata": {
    "execution": {
     "iopub.execute_input": "2022-10-21T06:44:59.705386Z",
     "iopub.status.busy": "2022-10-21T06:44:59.705000Z",
     "iopub.status.idle": "2022-10-21T06:44:59.870503Z",
     "shell.execute_reply": "2022-10-21T06:44:59.869598Z"
    },
    "papermill": {
     "duration": 0.179063,
     "end_time": "2022-10-21T06:44:59.873128",
     "exception": false,
     "start_time": "2022-10-21T06:44:59.694065",
     "status": "completed"
    },
    "tags": []
   },
   "outputs": [
    {
     "data": {
      "text/plain": [
       "6"
      ]
     },
     "execution_count": 33,
     "metadata": {},
     "output_type": "execute_result"
    }
   ],
   "source": [
    "gc.collect()"
   ]
  },
  {
   "cell_type": "code",
   "execution_count": 34,
   "id": "62bff38f",
   "metadata": {
    "execution": {
     "iopub.execute_input": "2022-10-21T06:44:59.895405Z",
     "iopub.status.busy": "2022-10-21T06:44:59.894959Z",
     "iopub.status.idle": "2022-10-21T06:45:03.629641Z",
     "shell.execute_reply": "2022-10-21T06:45:03.628646Z"
    },
    "papermill": {
     "duration": 3.748769,
     "end_time": "2022-10-21T06:45:03.632449",
     "exception": false,
     "start_time": "2022-10-21T06:44:59.883680",
     "status": "completed"
    },
    "tags": []
   },
   "outputs": [],
   "source": [
    "if torch.cuda.is_available():\n",
    "    train_feature_tensor = train_feature_tensor.cuda()\n",
    "    train_target_tensor  = train_target_tensor.cuda()\n",
    "    valid_feature_tensor = valid_feature_tensor.cuda()\n",
    "    valid_target_tensor  = valid_target_tensor.cuda()"
   ]
  },
  {
   "cell_type": "code",
   "execution_count": 35,
   "id": "a86edd68",
   "metadata": {
    "execution": {
     "iopub.execute_input": "2022-10-21T06:45:03.648169Z",
     "iopub.status.busy": "2022-10-21T06:45:03.647819Z",
     "iopub.status.idle": "2022-10-21T06:45:03.779221Z",
     "shell.execute_reply": "2022-10-21T06:45:03.778272Z"
    },
    "papermill": {
     "duration": 0.141833,
     "end_time": "2022-10-21T06:45:03.781553",
     "exception": false,
     "start_time": "2022-10-21T06:45:03.639720",
     "status": "completed"
    },
    "tags": []
   },
   "outputs": [
    {
     "data": {
      "text/plain": [
       "0"
      ]
     },
     "execution_count": 35,
     "metadata": {},
     "output_type": "execute_result"
    }
   ],
   "source": [
    "del df_train\n",
    "gc.collect()"
   ]
  },
  {
   "cell_type": "code",
   "execution_count": 36,
   "id": "59eb8eda",
   "metadata": {
    "execution": {
     "iopub.execute_input": "2022-10-21T06:45:03.796981Z",
     "iopub.status.busy": "2022-10-21T06:45:03.796672Z",
     "iopub.status.idle": "2022-10-21T06:45:03.810528Z",
     "shell.execute_reply": "2022-10-21T06:45:03.809707Z"
    },
    "papermill": {
     "duration": 0.023986,
     "end_time": "2022-10-21T06:45:03.812608",
     "exception": false,
     "start_time": "2022-10-21T06:45:03.788622",
     "status": "completed"
    },
    "tags": []
   },
   "outputs": [],
   "source": [
    "def fe_goal_distance(ball):\n",
    "    dist_a = ((ball[:,0:1] - 0) ** 2 + (ball[:,1:2] - 1) ** 2 + (ball[:,2:3] - 0) ** 2) ** 0.5 / 2\n",
    "    dist_b = ((ball[:,0:1] - 0) ** 2 + (ball[:,1:2] + 1) ** 2 + (ball[:,2:3] - 0) ** 2) ** 0.5 / 2 \n",
    "    return dist_a, dist_b\n",
    "    \n",
    "def fe_dist_ball_player(ball, player):\n",
    "    dist = ((\n",
    "        (ball[:,0:1] - player[:,0:1]) ** 2 + \n",
    "        (ball[:,1:2] - player[:,1:2]) ** 2 + \n",
    "        (ball[:,2:3] - player[:,2:3]) ** 2) ** 0.5) / 12\n",
    "    return dist\n",
    "\n",
    "def fe_speed_of_thing(thing):\n",
    "    return (thing[:, 3:4] ** 2 + thing[:, 4:5] ** 2 + thing[:, 5:6] ** 2) ** 0.5\n",
    "\n",
    "def augment_fe(empty, X, Y):\n",
    "    ball = X[:, :6]\n",
    "    p0 = X[:,  6:14]\n",
    "    p1 = X[:, 14:22]\n",
    "    p2 = X[:, 22:30]\n",
    "    p3 = X[:, 30:38]\n",
    "    p4 = X[:, 38:46]\n",
    "    p5 = X[:, 46:54]\n",
    "    boosts = X[:, 54:]\n",
    "    \n",
    "    goal_a, goal_b = fe_goal_distance(ball)\n",
    "    \n",
    "    p0d = fe_dist_ball_player(ball, p0)\n",
    "    p1d = fe_dist_ball_player(ball, p1)\n",
    "    p2d = fe_dist_ball_player(ball, p2)\n",
    "    p3d = fe_dist_ball_player(ball, p3)\n",
    "    p4d = fe_dist_ball_player(ball, p4)\n",
    "    p5d = fe_dist_ball_player(ball, p5)\n",
    "    \n",
    "    ball_s = fe_speed_of_thing(ball)\n",
    "    p0s = fe_speed_of_thing(p0)\n",
    "    p1s = fe_speed_of_thing(p1)\n",
    "    p2s = fe_speed_of_thing(p2)\n",
    "    p3s = fe_speed_of_thing(p3)\n",
    "    p4s = fe_speed_of_thing(p4)\n",
    "    p5s = fe_speed_of_thing(p5)\n",
    "    \n",
    "    new_X = torch.cat([\n",
    "        ball, p0, p1, p2, p3, p4, p5, boosts,\n",
    "        goal_a, goal_b,\n",
    "        ball_s,\n",
    "        p0d, p1d, p2d, p3d, p4d, p5d,\n",
    "        p0s, p1s, p2s, p3s, p4s, p5s\n",
    "    ], dim=1)\n",
    "    \n",
    "    return empty, new_X, Y"
   ]
  },
  {
   "cell_type": "code",
   "execution_count": 37,
   "id": "c9356139",
   "metadata": {
    "execution": {
     "iopub.execute_input": "2022-10-21T06:45:03.827897Z",
     "iopub.status.busy": "2022-10-21T06:45:03.827267Z",
     "iopub.status.idle": "2022-10-21T06:45:03.835408Z",
     "shell.execute_reply": "2022-10-21T06:45:03.834427Z"
    },
    "papermill": {
     "duration": 0.017859,
     "end_time": "2022-10-21T06:45:03.837328",
     "exception": false,
     "start_time": "2022-10-21T06:45:03.819469",
     "status": "completed"
    },
    "tags": []
   },
   "outputs": [],
   "source": [
    "def augment_mirror(empty, X, Y):\n",
    "    positions = X[:,:54]\n",
    "    positions[:, features_x_pos] = -positions[:, features_x_pos]\n",
    "    positions[:, features_y_pos] = -positions[:, features_y_pos]\n",
    "    \n",
    "    ball = positions[:, :6]\n",
    "    p0 = positions[:,  6:14]\n",
    "    p1 = positions[:, 14:22]\n",
    "    p2 = positions[:, 22:30]\n",
    "    p3 = positions[:, 30:38]\n",
    "    p4 = positions[:, 38:46]\n",
    "    p5 = positions[:, 46:54]\n",
    "    \n",
    "    players = torch.cat([p3, p4, p5, p0, p1, p2], dim=1)\n",
    "    boosts = X[:, [59, 58, 57, 56, 55, 54]]\n",
    "    \n",
    "    flip_X = torch.cat([ball, players, boosts], dim=1)\n",
    "    flip_Y = Y[:, :, [1,0]]\n",
    "    \n",
    "    return empty, flip_X, flip_Y"
   ]
  },
  {
   "cell_type": "code",
   "execution_count": 38,
   "id": "41ef68e8",
   "metadata": {
    "execution": {
     "iopub.execute_input": "2022-10-21T06:45:03.852847Z",
     "iopub.status.busy": "2022-10-21T06:45:03.852005Z",
     "iopub.status.idle": "2022-10-21T06:45:03.858141Z",
     "shell.execute_reply": "2022-10-21T06:45:03.857303Z"
    },
    "papermill": {
     "duration": 0.015902,
     "end_time": "2022-10-21T06:45:03.860100",
     "exception": false,
     "start_time": "2022-10-21T06:45:03.844198",
     "status": "completed"
    },
    "tags": []
   },
   "outputs": [],
   "source": [
    "def augment_flip_x(empty, X, Y):\n",
    "    positions = X[:,:54]\n",
    "    positions[:, features_x_pos] = -positions[:, features_x_pos]\n",
    "    boosts = X[:, [55, 54, 57, 56, 59, 58]]\n",
    "    \n",
    "    flip_X = torch.cat([positions, boosts], dim=1)\n",
    "    \n",
    "    return empty, flip_X, Y"
   ]
  },
  {
   "cell_type": "code",
   "execution_count": 39,
   "id": "1bee7428",
   "metadata": {
    "execution": {
     "iopub.execute_input": "2022-10-21T06:45:03.875568Z",
     "iopub.status.busy": "2022-10-21T06:45:03.874676Z",
     "iopub.status.idle": "2022-10-21T06:45:03.886769Z",
     "shell.execute_reply": "2022-10-21T06:45:03.885942Z"
    },
    "papermill": {
     "duration": 0.021758,
     "end_time": "2022-10-21T06:45:03.888724",
     "exception": false,
     "start_time": "2022-10-21T06:45:03.866966",
     "status": "completed"
    },
    "tags": []
   },
   "outputs": [],
   "source": [
    "def augment_shuffle(empty, X, Y):\n",
    "    ball = X[:, :6]\n",
    "    p0 = X[:,  6:14]\n",
    "    p1 = X[:, 14:22]\n",
    "    p2 = X[:, 22:30]\n",
    "    p3 = X[:, 30:38]\n",
    "    p4 = X[:, 38:46]\n",
    "    p5 = X[:, 46:54]\n",
    "    boosts = X[:, 54:]\n",
    "    \n",
    "    pA = torch.cat(random.sample([p0, p1, p2], 3), dim=1)\n",
    "    pB = torch.cat(random.sample([p3, p4, p5], 3), dim=1)\n",
    "    \n",
    "    shuffled_X = torch.cat([ball, pA, pB, boosts], dim=1)\n",
    "    \n",
    "    return empty, shuffled_X, Y\n",
    " \n",
    "class BespokeDataset:\n",
    "    def __init__(self, feature_tensor, targets, augment=False):\n",
    "        store_attr()\n",
    "        self.n_inp = 2\n",
    "    def __getitem__(self, idx):\n",
    "        batch = torch.empty(0), self.feature_tensor[idx].float(), self.targets[idx, None]\n",
    "        if self.augment:\n",
    "            batch = augment_shuffle(*batch)\n",
    "            if random.random() > 0.5:\n",
    "                batch = augment_mirror(*batch)\n",
    "            if random.random() > 0.5:\n",
    "                batch = augment_flip_x(*batch)\n",
    "        batch = augment_fe(*batch)\n",
    "        return batch\n",
    "    \n",
    "    def __len__(self):\n",
    "        return len(self.feature_tensor)\n",
    "    \n",
    "class BespokeDL(DataLoader):\n",
    "    def __iter__(self):\n",
    "        if self.shuffle:\n",
    "            self.__idxs = torch.tensor(np.random.permutation(range(0,self.n)))\n",
    "        else:\n",
    "            self.__idxs = torch.tensor(range(0,self.n))\n",
    "        for batch_start in range(0, self.n, self.bs):\n",
    "            if batch_start + self.bs > self.n and self.drop_last:\n",
    "                return \n",
    "            indices = self.__idxs[batch_start:batch_start+self.bs]\n",
    "            yield self.dataset[indices]"
   ]
  },
  {
   "cell_type": "code",
   "execution_count": 40,
   "id": "cbbf0515",
   "metadata": {
    "execution": {
     "iopub.execute_input": "2022-10-21T06:45:03.904386Z",
     "iopub.status.busy": "2022-10-21T06:45:03.903476Z",
     "iopub.status.idle": "2022-10-21T06:45:03.909581Z",
     "shell.execute_reply": "2022-10-21T06:45:03.908745Z"
    },
    "papermill": {
     "duration": 0.015698,
     "end_time": "2022-10-21T06:45:03.911569",
     "exception": false,
     "start_time": "2022-10-21T06:45:03.895871",
     "status": "completed"
    },
    "tags": []
   },
   "outputs": [],
   "source": [
    "ds_train = BespokeDataset(train_feature_tensor, train_target_tensor, augment=True)\n",
    "ds_val   = BespokeDataset(valid_feature_tensor, valid_target_tensor, augment=True)\n",
    "\n",
    "dls = DataLoaders.from_dsets(ds_train, ds_val, bs=4096, dl_type=BespokeDL, num_workers=0, shuffle=True)"
   ]
  },
  {
   "cell_type": "code",
   "execution_count": 41,
   "id": "b11158ad",
   "metadata": {
    "execution": {
     "iopub.execute_input": "2022-10-21T06:45:03.926832Z",
     "iopub.status.busy": "2022-10-21T06:45:03.926022Z",
     "iopub.status.idle": "2022-10-21T06:45:03.932433Z",
     "shell.execute_reply": "2022-10-21T06:45:03.931492Z"
    },
    "papermill": {
     "duration": 0.01608,
     "end_time": "2022-10-21T06:45:03.934475",
     "exception": false,
     "start_time": "2022-10-21T06:45:03.918395",
     "status": "completed"
    },
    "tags": []
   },
   "outputs": [
    {
     "data": {
      "text/plain": [
       "(16938140, 4259896)"
      ]
     },
     "execution_count": 41,
     "metadata": {},
     "output_type": "execute_result"
    }
   ],
   "source": [
    "len(ds_train), len(ds_val)"
   ]
  },
  {
   "cell_type": "code",
   "execution_count": 42,
   "id": "67b75e14",
   "metadata": {
    "execution": {
     "iopub.execute_input": "2022-10-21T06:45:03.949932Z",
     "iopub.status.busy": "2022-10-21T06:45:03.949097Z",
     "iopub.status.idle": "2022-10-21T06:45:03.971226Z",
     "shell.execute_reply": "2022-10-21T06:45:03.970263Z"
    },
    "papermill": {
     "duration": 0.032047,
     "end_time": "2022-10-21T06:45:03.973411",
     "exception": false,
     "start_time": "2022-10-21T06:45:03.941364",
     "status": "completed"
    },
    "tags": []
   },
   "outputs": [
    {
     "data": {
      "text/plain": [
       "TabularModel(\n",
       "  (embeds): ModuleList()\n",
       "  (emb_drop): Dropout(p=0.0, inplace=False)\n",
       "  (bn_cont): BatchNorm1d(75, eps=1e-05, momentum=0.1, affine=True, track_running_stats=True)\n",
       "  (layers): Sequential(\n",
       "    (0): LinBnDrop(\n",
       "      (0): Linear(in_features=75, out_features=512, bias=False)\n",
       "      (1): ReLU(inplace=True)\n",
       "      (2): BatchNorm1d(512, eps=1e-05, momentum=0.1, affine=True, track_running_stats=True)\n",
       "      (3): Dropout(p=0.3, inplace=False)\n",
       "    )\n",
       "    (1): LinBnDrop(\n",
       "      (0): Linear(in_features=512, out_features=256, bias=False)\n",
       "      (1): ReLU(inplace=True)\n",
       "      (2): BatchNorm1d(256, eps=1e-05, momentum=0.1, affine=True, track_running_stats=True)\n",
       "      (3): Dropout(p=0.3, inplace=False)\n",
       "    )\n",
       "    (2): LinBnDrop(\n",
       "      (0): Linear(in_features=256, out_features=128, bias=False)\n",
       "      (1): ReLU(inplace=True)\n",
       "      (2): BatchNorm1d(128, eps=1e-05, momentum=0.1, affine=True, track_running_stats=True)\n",
       "      (3): Dropout(p=0.3, inplace=False)\n",
       "    )\n",
       "    (3): LinBnDrop(\n",
       "      (0): Linear(in_features=128, out_features=64, bias=False)\n",
       "      (1): ReLU(inplace=True)\n",
       "      (2): BatchNorm1d(64, eps=1e-05, momentum=0.1, affine=True, track_running_stats=True)\n",
       "      (3): Dropout(p=0.3, inplace=False)\n",
       "    )\n",
       "    (4): LinBnDrop(\n",
       "      (0): Linear(in_features=64, out_features=2, bias=True)\n",
       "    )\n",
       "    (5): fastai.layers.SigmoidRange(low=0, high=1)\n",
       "  )\n",
       ")"
      ]
     },
     "execution_count": 42,
     "metadata": {},
     "output_type": "execute_result"
    }
   ],
   "source": [
    "model = TabularModel(\n",
    "    emb_szs={}, \n",
    "    n_cont=len(features) + 15,\n",
    "    ps=0.3, out_sz=len(targets), \n",
    "    layers=[512, 256, 128, 64], y_range=(0,1))\n",
    "if torch.cuda.is_available():\n",
    "    model = model.cuda()\n",
    "    \n",
    "learn = Learner(dls, model, loss_func=loss.BCELossFlat())\n",
    "model"
   ]
  },
  {
   "cell_type": "code",
   "execution_count": 43,
   "id": "ce7d8d25",
   "metadata": {
    "execution": {
     "iopub.execute_input": "2022-10-21T06:45:03.989657Z",
     "iopub.status.busy": "2022-10-21T06:45:03.989297Z",
     "iopub.status.idle": "2022-10-21T08:06:53.961963Z",
     "shell.execute_reply": "2022-10-21T08:06:53.960987Z"
    },
    "papermill": {
     "duration": 4909.983873,
     "end_time": "2022-10-21T08:06:53.964700",
     "exception": false,
     "start_time": "2022-10-21T06:45:03.980827",
     "status": "completed"
    },
    "tags": []
   },
   "outputs": [
    {
     "data": {
      "text/html": [
       "\n",
       "<style>\n",
       "    /* Turns off some styling */\n",
       "    progress {\n",
       "        /* gets rid of default border in Firefox and Opera. */\n",
       "        border: none;\n",
       "        /* Needs to be in here for Safari polyfill so background images work as expected. */\n",
       "        background-size: auto;\n",
       "    }\n",
       "    progress:not([value]), progress:not([value])::-webkit-progress-bar {\n",
       "        background: repeating-linear-gradient(45deg, #7e7e7e, #7e7e7e 10px, #5c5c5c 10px, #5c5c5c 20px);\n",
       "    }\n",
       "    .progress-bar-interrupted, .progress-bar-interrupted::-webkit-progress-bar {\n",
       "        background: #F44336;\n",
       "    }\n",
       "</style>\n"
      ],
      "text/plain": [
       "<IPython.core.display.HTML object>"
      ]
     },
     "metadata": {},
     "output_type": "display_data"
    },
    {
     "data": {
      "text/html": [
       "<table border=\"1\" class=\"dataframe\">\n",
       "  <thead>\n",
       "    <tr style=\"text-align: left;\">\n",
       "      <th>epoch</th>\n",
       "      <th>train_loss</th>\n",
       "      <th>valid_loss</th>\n",
       "      <th>time</th>\n",
       "    </tr>\n",
       "  </thead>\n",
       "  <tbody>\n",
       "    <tr>\n",
       "      <td>0</td>\n",
       "      <td>0.194897</td>\n",
       "      <td>0.191461</td>\n",
       "      <td>06:14</td>\n",
       "    </tr>\n",
       "    <tr>\n",
       "      <td>1</td>\n",
       "      <td>0.191508</td>\n",
       "      <td>0.190102</td>\n",
       "      <td>05:57</td>\n",
       "    </tr>\n",
       "    <tr>\n",
       "      <td>2</td>\n",
       "      <td>0.189676</td>\n",
       "      <td>0.188891</td>\n",
       "      <td>05:59</td>\n",
       "    </tr>\n",
       "    <tr>\n",
       "      <td>3</td>\n",
       "      <td>0.189609</td>\n",
       "      <td>0.188300</td>\n",
       "      <td>05:56</td>\n",
       "    </tr>\n",
       "    <tr>\n",
       "      <td>4</td>\n",
       "      <td>0.188459</td>\n",
       "      <td>0.187856</td>\n",
       "      <td>05:56</td>\n",
       "    </tr>\n",
       "    <tr>\n",
       "      <td>5</td>\n",
       "      <td>0.188525</td>\n",
       "      <td>0.187420</td>\n",
       "      <td>05:55</td>\n",
       "    </tr>\n",
       "    <tr>\n",
       "      <td>6</td>\n",
       "      <td>0.188051</td>\n",
       "      <td>0.187300</td>\n",
       "      <td>06:03</td>\n",
       "    </tr>\n",
       "    <tr>\n",
       "      <td>7</td>\n",
       "      <td>0.189418</td>\n",
       "      <td>0.186918</td>\n",
       "      <td>05:58</td>\n",
       "    </tr>\n",
       "    <tr>\n",
       "      <td>8</td>\n",
       "      <td>0.187764</td>\n",
       "      <td>0.186907</td>\n",
       "      <td>05:57</td>\n",
       "    </tr>\n",
       "    <tr>\n",
       "      <td>9</td>\n",
       "      <td>0.188748</td>\n",
       "      <td>0.186606</td>\n",
       "      <td>05:56</td>\n",
       "    </tr>\n",
       "    <tr>\n",
       "      <td>10</td>\n",
       "      <td>0.187360</td>\n",
       "      <td>0.186404</td>\n",
       "      <td>05:56</td>\n",
       "    </tr>\n",
       "    <tr>\n",
       "      <td>11</td>\n",
       "      <td>0.187442</td>\n",
       "      <td>0.186373</td>\n",
       "      <td>05:56</td>\n",
       "    </tr>\n",
       "    <tr>\n",
       "      <td>12</td>\n",
       "      <td>0.187228</td>\n",
       "      <td>0.186325</td>\n",
       "      <td>05:55</td>\n",
       "    </tr>\n",
       "    <tr>\n",
       "      <td>13</td>\n",
       "      <td>0.187603</td>\n",
       "      <td>0.186445</td>\n",
       "      <td>05:58</td>\n",
       "    </tr>\n",
       "    <tr>\n",
       "      <td>14</td>\n",
       "      <td>0.187387</td>\n",
       "      <td>0.186298</td>\n",
       "      <td>05:58</td>\n",
       "    </tr>\n",
       "    <tr>\n",
       "      <td>15</td>\n",
       "      <td>0.187215</td>\n",
       "      <td>0.186240</td>\n",
       "      <td>05:59</td>\n",
       "    </tr>\n",
       "    <tr>\n",
       "      <td>16</td>\n",
       "      <td>0.187980</td>\n",
       "      <td>0.185971</td>\n",
       "      <td>05:58</td>\n",
       "    </tr>\n",
       "    <tr>\n",
       "      <td>17</td>\n",
       "      <td>0.188601</td>\n",
       "      <td>0.186043</td>\n",
       "      <td>05:59</td>\n",
       "    </tr>\n",
       "    <tr>\n",
       "      <td>18</td>\n",
       "      <td>0.188021</td>\n",
       "      <td>0.185848</td>\n",
       "      <td>06:00</td>\n",
       "    </tr>\n",
       "    <tr>\n",
       "      <td>19</td>\n",
       "      <td>0.187643</td>\n",
       "      <td>0.185839</td>\n",
       "      <td>06:00</td>\n",
       "    </tr>\n",
       "    <tr>\n",
       "      <td>20</td>\n",
       "      <td>0.187110</td>\n",
       "      <td>0.186068</td>\n",
       "      <td>05:59</td>\n",
       "    </tr>\n",
       "    <tr>\n",
       "      <td>21</td>\n",
       "      <td>0.188369</td>\n",
       "      <td>0.185798</td>\n",
       "      <td>05:59</td>\n",
       "    </tr>\n",
       "    <tr>\n",
       "      <td>22</td>\n",
       "      <td>0.187097</td>\n",
       "      <td>0.185695</td>\n",
       "      <td>06:00</td>\n",
       "    </tr>\n",
       "    <tr>\n",
       "      <td>23</td>\n",
       "      <td>0.187155</td>\n",
       "      <td>0.185678</td>\n",
       "      <td>06:00</td>\n",
       "    </tr>\n",
       "    <tr>\n",
       "      <td>24</td>\n",
       "      <td>0.186582</td>\n",
       "      <td>0.185702</td>\n",
       "      <td>06:00</td>\n",
       "    </tr>\n",
       "  </tbody>\n",
       "</table>"
      ],
      "text/plain": [
       "<IPython.core.display.HTML object>"
      ]
     },
     "metadata": {},
     "output_type": "display_data"
    },
    {
     "data": {
      "text/html": [
       "\n",
       "<style>\n",
       "    /* Turns off some styling */\n",
       "    progress {\n",
       "        /* gets rid of default border in Firefox and Opera. */\n",
       "        border: none;\n",
       "        /* Needs to be in here for Safari polyfill so background images work as expected. */\n",
       "        background-size: auto;\n",
       "    }\n",
       "    progress:not([value]), progress:not([value])::-webkit-progress-bar {\n",
       "        background: repeating-linear-gradient(45deg, #7e7e7e, #7e7e7e 10px, #5c5c5c 10px, #5c5c5c 20px);\n",
       "    }\n",
       "    .progress-bar-interrupted, .progress-bar-interrupted::-webkit-progress-bar {\n",
       "        background: #F44336;\n",
       "    }\n",
       "</style>\n"
      ],
      "text/plain": [
       "<IPython.core.display.HTML object>"
      ]
     },
     "metadata": {},
     "output_type": "display_data"
    },
    {
     "data": {
      "text/html": [
       "<table border=\"1\" class=\"dataframe\">\n",
       "  <thead>\n",
       "    <tr style=\"text-align: left;\">\n",
       "      <th>epoch</th>\n",
       "      <th>train_loss</th>\n",
       "      <th>valid_loss</th>\n",
       "      <th>time</th>\n",
       "    </tr>\n",
       "  </thead>\n",
       "  <tbody>\n",
       "    <tr>\n",
       "      <td>0</td>\n",
       "      <td>0.191707</td>\n",
       "      <td>0.190390</td>\n",
       "      <td>07:17</td>\n",
       "    </tr>\n",
       "    <tr>\n",
       "      <td>1</td>\n",
       "      <td>0.190389</td>\n",
       "      <td>0.188833</td>\n",
       "      <td>06:58</td>\n",
       "    </tr>\n",
       "    <tr>\n",
       "      <td>2</td>\n",
       "      <td>0.188321</td>\n",
       "      <td>0.187851</td>\n",
       "      <td>07:18</td>\n",
       "    </tr>\n",
       "    <tr>\n",
       "      <td>3</td>\n",
       "      <td>0.189780</td>\n",
       "      <td>0.187308</td>\n",
       "      <td>06:31</td>\n",
       "    </tr>\n",
       "    <tr>\n",
       "      <td>4</td>\n",
       "      <td>0.188426</td>\n",
       "      <td>0.186887</td>\n",
       "      <td>06:19</td>\n",
       "    </tr>\n",
       "    <tr>\n",
       "      <td>5</td>\n",
       "      <td>0.186871</td>\n",
       "      <td>0.186510</td>\n",
       "      <td>06:39</td>\n",
       "    </tr>\n",
       "    <tr>\n",
       "      <td>6</td>\n",
       "      <td>0.189507</td>\n",
       "      <td>0.186347</td>\n",
       "      <td>06:41</td>\n",
       "    </tr>\n",
       "    <tr>\n",
       "      <td>7</td>\n",
       "      <td>0.188098</td>\n",
       "      <td>0.186179</td>\n",
       "      <td>06:52</td>\n",
       "    </tr>\n",
       "    <tr>\n",
       "      <td>8</td>\n",
       "      <td>0.189010</td>\n",
       "      <td>0.185950</td>\n",
       "      <td>07:07</td>\n",
       "    </tr>\n",
       "    <tr>\n",
       "      <td>9</td>\n",
       "      <td>0.188297</td>\n",
       "      <td>0.185875</td>\n",
       "      <td>07:18</td>\n",
       "    </tr>\n",
       "    <tr>\n",
       "      <td>10</td>\n",
       "      <td>0.187377</td>\n",
       "      <td>0.185824</td>\n",
       "      <td>07:08</td>\n",
       "    </tr>\n",
       "    <tr>\n",
       "      <td>11</td>\n",
       "      <td>0.186945</td>\n",
       "      <td>0.185561</td>\n",
       "      <td>06:28</td>\n",
       "    </tr>\n",
       "    <tr>\n",
       "      <td>12</td>\n",
       "      <td>0.187066</td>\n",
       "      <td>0.185511</td>\n",
       "      <td>06:30</td>\n",
       "    </tr>\n",
       "    <tr>\n",
       "      <td>13</td>\n",
       "      <td>0.188333</td>\n",
       "      <td>0.185368</td>\n",
       "      <td>06:29</td>\n",
       "    </tr>\n",
       "    <tr>\n",
       "      <td>14</td>\n",
       "      <td>0.186165</td>\n",
       "      <td>0.185398</td>\n",
       "      <td>06:26</td>\n",
       "    </tr>\n",
       "    <tr>\n",
       "      <td>15</td>\n",
       "      <td>0.187934</td>\n",
       "      <td>0.185255</td>\n",
       "      <td>07:00</td>\n",
       "    </tr>\n",
       "    <tr>\n",
       "      <td>16</td>\n",
       "      <td>0.186707</td>\n",
       "      <td>0.185111</td>\n",
       "      <td>07:09</td>\n",
       "    </tr>\n",
       "    <tr>\n",
       "      <td>17</td>\n",
       "      <td>0.186411</td>\n",
       "      <td>0.185182</td>\n",
       "      <td>06:28</td>\n",
       "    </tr>\n",
       "    <tr>\n",
       "      <td>18</td>\n",
       "      <td>0.186599</td>\n",
       "      <td>0.185081</td>\n",
       "      <td>06:28</td>\n",
       "    </tr>\n",
       "    <tr>\n",
       "      <td>19</td>\n",
       "      <td>0.189314</td>\n",
       "      <td>0.185112</td>\n",
       "      <td>06:30</td>\n",
       "    </tr>\n",
       "    <tr>\n",
       "      <td>20</td>\n",
       "      <td>0.187454</td>\n",
       "      <td>0.185065</td>\n",
       "      <td>06:27</td>\n",
       "    </tr>\n",
       "    <tr>\n",
       "      <td>21</td>\n",
       "      <td>0.188170</td>\n",
       "      <td>0.185028</td>\n",
       "      <td>06:24</td>\n",
       "    </tr>\n",
       "    <tr>\n",
       "      <td>22</td>\n",
       "      <td>0.186142</td>\n",
       "      <td>0.185118</td>\n",
       "      <td>06:21</td>\n",
       "    </tr>\n",
       "    <tr>\n",
       "      <td>23</td>\n",
       "      <td>0.186588</td>\n",
       "      <td>0.184941</td>\n",
       "      <td>06:25</td>\n",
       "    </tr>\n",
       "    <tr>\n",
       "      <td>24</td>\n",
       "      <td>0.185897</td>\n",
       "      <td>0.184870</td>\n",
       "      <td>06:18</td>\n",
       "    </tr>\n",
       "    <tr>\n",
       "      <td>25</td>\n",
       "      <td>0.186845</td>\n",
       "      <td>0.184852</td>\n",
       "      <td>06:22</td>\n",
       "    </tr>\n",
       "    <tr>\n",
       "      <td>26</td>\n",
       "      <td>0.186036</td>\n",
       "      <td>0.184817</td>\n",
       "      <td>06:18</td>\n",
       "    </tr>\n",
       "    <tr>\n",
       "      <td>27</td>\n",
       "      <td>0.186537</td>\n",
       "      <td>0.184987</td>\n",
       "      <td>06:17</td>\n",
       "    </tr>\n",
       "    <tr>\n",
       "      <td>28</td>\n",
       "      <td>0.187146</td>\n",
       "      <td>0.185042</td>\n",
       "      <td>06:17</td>\n",
       "    </tr>\n",
       "    <tr>\n",
       "      <td>29</td>\n",
       "      <td>0.187757</td>\n",
       "      <td>0.184802</td>\n",
       "      <td>06:22</td>\n",
       "    </tr>\n",
       "    <tr>\n",
       "      <td>30</td>\n",
       "      <td>0.186244</td>\n",
       "      <td>0.184909</td>\n",
       "      <td>06:31</td>\n",
       "    </tr>\n",
       "    <tr>\n",
       "      <td>31</td>\n",
       "      <td>0.186902</td>\n",
       "      <td>0.184773</td>\n",
       "      <td>06:30</td>\n",
       "    </tr>\n",
       "    <tr>\n",
       "      <td>32</td>\n",
       "      <td>0.188310</td>\n",
       "      <td>0.184777</td>\n",
       "      <td>06:39</td>\n",
       "    </tr>\n",
       "    <tr>\n",
       "      <td>33</td>\n",
       "      <td>0.186684</td>\n",
       "      <td>0.184862</td>\n",
       "      <td>06:39</td>\n",
       "    </tr>\n",
       "    <tr>\n",
       "      <td>34</td>\n",
       "      <td>0.186118</td>\n",
       "      <td>0.184716</td>\n",
       "      <td>06:36</td>\n",
       "    </tr>\n",
       "    <tr>\n",
       "      <td>35</td>\n",
       "      <td>0.186821</td>\n",
       "      <td>0.184790</td>\n",
       "      <td>06:58</td>\n",
       "    </tr>\n",
       "    <tr>\n",
       "      <td>36</td>\n",
       "      <td>0.186856</td>\n",
       "      <td>0.184701</td>\n",
       "      <td>06:37</td>\n",
       "    </tr>\n",
       "    <tr>\n",
       "      <td>37</td>\n",
       "      <td>0.187104</td>\n",
       "      <td>0.184761</td>\n",
       "      <td>07:09</td>\n",
       "    </tr>\n",
       "    <tr>\n",
       "      <td>38</td>\n",
       "      <td>0.186356</td>\n",
       "      <td>0.184676</td>\n",
       "      <td>06:45</td>\n",
       "    </tr>\n",
       "    <tr>\n",
       "      <td>39</td>\n",
       "      <td>0.186654</td>\n",
       "      <td>0.184558</td>\n",
       "      <td>07:07</td>\n",
       "    </tr>\n",
       "    <tr>\n",
       "      <td>40</td>\n",
       "      <td>0.186768</td>\n",
       "      <td>0.184798</td>\n",
       "      <td>06:49</td>\n",
       "    </tr>\n",
       "    <tr>\n",
       "      <td>41</td>\n",
       "      <td>0.187461</td>\n",
       "      <td>0.184682</td>\n",
       "      <td>07:10</td>\n",
       "    </tr>\n",
       "    <tr>\n",
       "      <td>42</td>\n",
       "      <td>0.185778</td>\n",
       "      <td>0.184595</td>\n",
       "      <td>06:59</td>\n",
       "    </tr>\n",
       "    <tr>\n",
       "      <td>43</td>\n",
       "      <td>0.187719</td>\n",
       "      <td>0.184658</td>\n",
       "      <td>07:12</td>\n",
       "    </tr>\n",
       "    <tr>\n",
       "      <td>44</td>\n",
       "      <td>0.187039</td>\n",
       "      <td>0.184505</td>\n",
       "      <td>06:51</td>\n",
       "    </tr>\n",
       "    <tr>\n",
       "      <td>45</td>\n",
       "      <td>0.186015</td>\n",
       "      <td>0.184568</td>\n",
       "      <td>07:13</td>\n",
       "    </tr>\n",
       "    <tr>\n",
       "      <td>46</td>\n",
       "      <td>0.186417</td>\n",
       "      <td>0.184493</td>\n",
       "      <td>07:14</td>\n",
       "    </tr>\n",
       "    <tr>\n",
       "      <td>47</td>\n",
       "      <td>0.186948</td>\n",
       "      <td>0.184547</td>\n",
       "      <td>07:08</td>\n",
       "    </tr>\n",
       "    <tr>\n",
       "      <td>48</td>\n",
       "      <td>0.186083</td>\n",
       "      <td>0.184617</td>\n",
       "      <td>07:04</td>\n",
       "    </tr>\n",
       "    <tr>\n",
       "      <td>49</td>\n",
       "      <td>0.186478</td>\n",
       "      <td>0.184602</td>\n",
       "      <td>07:30</td>\n",
       "    </tr>\n",
       "    <tr>\n",
       "      <td>50</td>\n",
       "      <td>0.186548</td>\n",
       "      <td>0.184460</td>\n",
       "      <td>07:28</td>\n",
       "    </tr>\n",
       "    <tr>\n",
       "      <td>51</td>\n",
       "      <td>0.186642</td>\n",
       "      <td>0.184641</td>\n",
       "      <td>06:53</td>\n",
       "    </tr>\n",
       "    <tr>\n",
       "      <td>52</td>\n",
       "      <td>0.187003</td>\n",
       "      <td>0.184527</td>\n",
       "      <td>07:36</td>\n",
       "    </tr>\n",
       "    <tr>\n",
       "      <td>53</td>\n",
       "      <td>0.187118</td>\n",
       "      <td>0.184500</td>\n",
       "      <td>07:40</td>\n",
       "    </tr>\n",
       "    <tr>\n",
       "      <td>54</td>\n",
       "      <td>0.186723</td>\n",
       "      <td>0.184646</td>\n",
       "      <td>07:23</td>\n",
       "    </tr>\n",
       "    <tr>\n",
       "      <td>55</td>\n",
       "      <td>0.186565</td>\n",
       "      <td>0.184397</td>\n",
       "      <td>07:35</td>\n",
       "    </tr>\n",
       "    <tr>\n",
       "      <td>56</td>\n",
       "      <td>0.187773</td>\n",
       "      <td>0.184361</td>\n",
       "      <td>07:42</td>\n",
       "    </tr>\n",
       "    <tr>\n",
       "      <td>57</td>\n",
       "      <td>0.187285</td>\n",
       "      <td>0.184475</td>\n",
       "      <td>07:44</td>\n",
       "    </tr>\n",
       "    <tr>\n",
       "      <td>58</td>\n",
       "      <td>0.187488</td>\n",
       "      <td>0.184505</td>\n",
       "      <td>07:35</td>\n",
       "    </tr>\n",
       "    <tr>\n",
       "      <td>59</td>\n",
       "      <td>0.187439</td>\n",
       "      <td>0.184480</td>\n",
       "      <td>07:39</td>\n",
       "    </tr>\n",
       "    <tr>\n",
       "      <td>60</td>\n",
       "      <td>0.187089</td>\n",
       "      <td>0.184398</td>\n",
       "      <td>07:37</td>\n",
       "    </tr>\n",
       "    <tr>\n",
       "      <td>61</td>\n",
       "      <td>0.187130</td>\n",
       "      <td>0.184508</td>\n",
       "      <td>07:34</td>\n",
       "    </tr>\n",
       "    <tr>\n",
       "      <td>62</td>\n",
       "      <td>0.186732</td>\n",
       "      <td>0.184450</td>\n",
       "      <td>07:37</td>\n",
       "    </tr>\n",
       "    <tr>\n",
       "      <td>63</td>\n",
       "      <td>0.186516</td>\n",
       "      <td>0.184374</td>\n",
       "      <td>07:49</td>\n",
       "    </tr>\n",
       "    <tr>\n",
       "      <td>64</td>\n",
       "      <td>0.185233</td>\n",
       "      <td>0.184442</td>\n",
       "      <td>07:56</td>\n",
       "    </tr>\n",
       "    <tr>\n",
       "      <td>65</td>\n",
       "      <td>0.186007</td>\n",
       "      <td>0.184535</td>\n",
       "      <td>07:38</td>\n",
       "    </tr>\n",
       "    <tr>\n",
       "      <td>66</td>\n",
       "      <td>0.186371</td>\n",
       "      <td>0.184461</td>\n",
       "      <td>07:44</td>\n",
       "    </tr>\n",
       "    <tr>\n",
       "      <td>67</td>\n",
       "      <td>0.186695</td>\n",
       "      <td>0.184327</td>\n",
       "      <td>08:00</td>\n",
       "    </tr>\n",
       "    <tr>\n",
       "      <td>68</td>\n",
       "      <td>0.186670</td>\n",
       "      <td>0.184355</td>\n",
       "      <td>08:00</td>\n",
       "    </tr>\n",
       "    <tr>\n",
       "      <td>69</td>\n",
       "      <td>0.187099</td>\n",
       "      <td>0.184741</td>\n",
       "      <td>07:59</td>\n",
       "    </tr>\n",
       "    <tr>\n",
       "      <td>70</td>\n",
       "      <td>0.187851</td>\n",
       "      <td>0.184472</td>\n",
       "      <td>07:59</td>\n",
       "    </tr>\n",
       "    <tr>\n",
       "      <td>71</td>\n",
       "      <td>0.186985</td>\n",
       "      <td>0.184367</td>\n",
       "      <td>07:59</td>\n",
       "    </tr>\n",
       "    <tr>\n",
       "      <td>72</td>\n",
       "      <td>0.186396</td>\n",
       "      <td>0.184422</td>\n",
       "      <td>08:01</td>\n",
       "    </tr>\n",
       "    <tr>\n",
       "      <td>73</td>\n",
       "      <td>0.188233</td>\n",
       "      <td>0.184380</td>\n",
       "      <td>07:59</td>\n",
       "    </tr>\n",
       "    <tr>\n",
       "      <td>74</td>\n",
       "      <td>0.186890</td>\n",
       "      <td>0.184430</td>\n",
       "      <td>08:00</td>\n",
       "    </tr>\n",
       "  </tbody>\n",
       "</table>"
      ],
      "text/plain": [
       "<IPython.core.display.HTML object>"
      ]
     },
     "metadata": {},
     "output_type": "display_data"
    },
    {
     "name": "stdout",
     "output_type": "stream",
     "text": [
      "CPU times: total: 1d 20h 51min 47s\n",
      "Wall time: 11h 21min 15s\n"
     ]
    }
   ],
   "source": [
    "%%time\n",
    "fit = learn.fit(2 if DEBUG else 25, 1e-3)\n",
    "ds_train = BespokeDataset(\n",
    "    torch.cat([train_feature_tensor, valid_feature_tensor]), \n",
    "    torch.cat([train_target_tensor, valid_target_tensor]), augment=True)\n",
    "\n",
    "ds_val   = BespokeDataset(valid_feature_tensor, valid_target_tensor, augment=True)\n",
    "\n",
    "dls = DataLoaders.from_dsets(ds_train, ds_val, bs=4096, dl_type=BespokeDL, num_workers=0, shuffle=True)\n",
    "\n",
    "model = TabularModel(\n",
    "    emb_szs={}, n_cont=len(features) + 15, \n",
    "    ps=0.3, out_sz=len(targets), \n",
    "    layers=[512, 256, 128, 64], y_range=(0,1))\n",
    "if torch.cuda.is_available():\n",
    "    model = model.cuda()\n",
    "    \n",
    "learn = Learner(dls, model, loss_func=loss.BCELossFlat())\n",
    "\n",
    "fit = learn.fit(2 if DEBUG else 75, 1e-3)"
   ]
  },
  {
   "cell_type": "code",
   "execution_count": 44,
   "id": "b9c567da",
   "metadata": {
    "execution": {
     "iopub.execute_input": "2022-10-21T08:06:53.984048Z",
     "iopub.status.busy": "2022-10-21T08:06:53.983132Z",
     "iopub.status.idle": "2022-10-21T08:06:59.171015Z",
     "shell.execute_reply": "2022-10-21T08:06:59.170037Z"
    },
    "papermill": {
     "duration": 5.199372,
     "end_time": "2022-10-21T08:06:59.173374",
     "exception": false,
     "start_time": "2022-10-21T08:06:53.974002",
     "status": "completed"
    },
    "tags": []
   },
   "outputs": [
    {
     "data": {
      "text/html": [
       "\n",
       "<style>\n",
       "    /* Turns off some styling */\n",
       "    progress {\n",
       "        /* gets rid of default border in Firefox and Opera. */\n",
       "        border: none;\n",
       "        /* Needs to be in here for Safari polyfill so background images work as expected. */\n",
       "        background-size: auto;\n",
       "    }\n",
       "    progress:not([value]), progress:not([value])::-webkit-progress-bar {\n",
       "        background: repeating-linear-gradient(45deg, #7e7e7e, #7e7e7e 10px, #5c5c5c 10px, #5c5c5c 20px);\n",
       "    }\n",
       "    .progress-bar-interrupted, .progress-bar-interrupted::-webkit-progress-bar {\n",
       "        background: #F44336;\n",
       "    }\n",
       "</style>\n"
      ],
      "text/plain": [
       "<IPython.core.display.HTML object>"
      ]
     },
     "metadata": {},
     "output_type": "display_data"
    },
    {
     "data": {
      "text/html": [],
      "text/plain": [
       "<IPython.core.display.HTML object>"
      ]
     },
     "metadata": {},
     "output_type": "display_data"
    }
   ],
   "source": [
    "df_test = read_test()\n",
    "gc.collect()\n",
    "\n",
    "ds_test = BespokeDataset(torch.tensor(df_test[features].to_numpy()), torch.zeros(len(df_test), 2))\n",
    "test_dl = learn.dls.test_dl(ds_test)\n",
    "test_dl.augment = False\n",
    "test_dl.shuffle = False \n",
    "preds, _ = learn.get_preds(dl=test_dl)"
   ]
  },
  {
   "cell_type": "code",
   "execution_count": 45,
   "id": "333ce412",
   "metadata": {
    "execution": {
     "iopub.execute_input": "2022-10-21T08:06:59.193547Z",
     "iopub.status.busy": "2022-10-21T08:06:59.193233Z",
     "iopub.status.idle": "2022-10-21T08:07:01.778273Z",
     "shell.execute_reply": "2022-10-21T08:07:01.777380Z"
    },
    "papermill": {
     "duration": 2.597554,
     "end_time": "2022-10-21T08:07:01.780761",
     "exception": false,
     "start_time": "2022-10-21T08:06:59.183207",
     "status": "completed"
    },
    "tags": []
   },
   "outputs": [
    {
     "data": {
      "text/html": [
       "<div>\n",
       "<style scoped>\n",
       "    .dataframe tbody tr th:only-of-type {\n",
       "        vertical-align: middle;\n",
       "    }\n",
       "\n",
       "    .dataframe tbody tr th {\n",
       "        vertical-align: top;\n",
       "    }\n",
       "\n",
       "    .dataframe thead th {\n",
       "        text-align: right;\n",
       "    }\n",
       "</style>\n",
       "<table border=\"1\" class=\"dataframe\">\n",
       "  <thead>\n",
       "    <tr style=\"text-align: right;\">\n",
       "      <th></th>\n",
       "      <th>id</th>\n",
       "      <th>team_A_scoring_within_10sec</th>\n",
       "      <th>team_B_scoring_within_10sec</th>\n",
       "    </tr>\n",
       "  </thead>\n",
       "  <tbody>\n",
       "    <tr>\n",
       "      <th>0</th>\n",
       "      <td>0</td>\n",
       "      <td>0.041928</td>\n",
       "      <td>0.035123</td>\n",
       "    </tr>\n",
       "    <tr>\n",
       "      <th>1</th>\n",
       "      <td>1</td>\n",
       "      <td>0.006296</td>\n",
       "      <td>0.130213</td>\n",
       "    </tr>\n",
       "    <tr>\n",
       "      <th>2</th>\n",
       "      <td>2</td>\n",
       "      <td>0.022625</td>\n",
       "      <td>0.088081</td>\n",
       "    </tr>\n",
       "    <tr>\n",
       "      <th>3</th>\n",
       "      <td>3</td>\n",
       "      <td>0.046429</td>\n",
       "      <td>0.027339</td>\n",
       "    </tr>\n",
       "    <tr>\n",
       "      <th>4</th>\n",
       "      <td>4</td>\n",
       "      <td>0.018271</td>\n",
       "      <td>0.036721</td>\n",
       "    </tr>\n",
       "  </tbody>\n",
       "</table>\n",
       "</div>"
      ],
      "text/plain": [
       "   id  team_A_scoring_within_10sec  team_B_scoring_within_10sec\n",
       "0   0                     0.041928                     0.035123\n",
       "1   1                     0.006296                     0.130213\n",
       "2   2                     0.022625                     0.088081\n",
       "3   3                     0.046429                     0.027339\n",
       "4   4                     0.018271                     0.036721"
      ]
     },
     "execution_count": 45,
     "metadata": {},
     "output_type": "execute_result"
    }
   ],
   "source": [
    "submission = pd.read_csv('E:\\\\tabular-playground-series-oct-2022\\\\sample_submission.csv')\n",
    "submission.iloc[:, 1:] = preds.numpy()\n",
    "submission.to_csv('submission.csv', index=False)\n",
    "submission.head()"
   ]
  },
  {
   "cell_type": "code",
   "execution_count": null,
   "id": "b88ac9b2",
   "metadata": {},
   "outputs": [],
   "source": []
  }
 ],
 "metadata": {
  "kernelspec": {
   "display_name": "Python 3 (ipykernel)",
   "language": "python",
   "name": "python3"
  },
  "language_info": {
   "codemirror_mode": {
    "name": "ipython",
    "version": 3
   },
   "file_extension": ".py",
   "mimetype": "text/x-python",
   "name": "python",
   "nbconvert_exporter": "python",
   "pygments_lexer": "ipython3",
   "version": "3.11.3"
  },
  "papermill": {
   "default_parameters": {},
   "duration": 5009.989376,
   "end_time": "2022-10-21T08:07:03.239866",
   "environment_variables": {},
   "exception": null,
   "input_path": "__notebook__.ipynb",
   "output_path": "__notebook__.ipynb",
   "parameters": {},
   "start_time": "2022-10-21T06:43:33.250490",
   "version": "2.3.4"
  }
 },
 "nbformat": 4,
 "nbformat_minor": 5
}
